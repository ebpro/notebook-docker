{
 "cells": [
  {
   "cell_type": "markdown",
   "id": "6fbab0a1-fd1b-4074-9340-111d3e1c1fc6",
   "metadata": {
    "tags": [],
    "user_expressions": []
   },
   "source": [
    "## Docker pour Java\n",
    "\n",
    "Cette partie illustre les différentes approches pour générer des images docker pour des applications Java."
   ]
  },
  {
   "cell_type": "markdown",
   "id": "b54c3c78-7ddd-4973-a936-16dd0cdbfb58",
   "metadata": {
    "user_expressions": []
   },
   "source": [
    "### A partir d'une image de maven\n",
    "Le plus simple est de s'appuyer sur une image de maven, d'y copier les sources et de donner comme commande le résutat de compilation."
   ]
  },
  {
   "cell_type": "markdown",
   "id": "ddecd8d7-0bd7-43f1-b168-4c4e7d7f5600",
   "metadata": {
    "user_expressions": []
   },
   "source": [
    "```{literalinclude} sample-java/helloworld/Dockerfile.01.mavenimage\n",
    ":language: dockerfile\n",
    ":caption: sample-java/helloworld/Dockerfile.01.mavenimage\n",
    ":name: sample-java/helloworld/Dockerfile.01.mavenimage\n",
    "```"
   ]
  },
  {
   "cell_type": "code",
   "execution_count": 4,
   "id": "aaa36d42-4ff5-46dd-a93d-3a40fb5d9074",
   "metadata": {
    "tags": [
     "hide-output"
    ]
   },
   "outputs": [
    {
     "name": "stdout",
     "output_type": "stream",
     "text": [
      "sha256:dd60669ea7ed38614f6694f98c6c572001f6587094376e06b34e99ea413f67cf\n"
     ]
    }
   ],
   "source": [
    "(cd sample-java/helloworld && \\\n",
    "docker image build --quiet --tag javahello:mavenimage --file Dockerfile.01.mavenimage . )"
   ]
  },
  {
   "cell_type": "code",
   "execution_count": 5,
   "id": "20fb7683-e516-4f4e-9ddd-4a637f62ecea",
   "metadata": {
    "tags": []
   },
   "outputs": [
    {
     "name": "stdout",
     "output_type": "stream",
     "text": [
      "javahello mavenimage dd60669ea7ed 1 second ago 573MB\n"
     ]
    }
   ],
   "source": [
    "docker image ls|grep javahello|grep \"mavenimage \"|tr -s ' '"
   ]
  },
  {
   "cell_type": "code",
   "execution_count": 6,
   "id": "ad46ffc8-d528-4bec-973d-7a301cbdf748",
   "metadata": {
    "tags": []
   },
   "outputs": [
    {
     "name": "stdout",
     "output_type": "stream",
     "text": [
      "21:21:34.610 [fr.univtln.bruno.demos.docker.App.main()] INFO fr.univtln.bruno.demos.docker.App - Hello world maven + docker.\n"
     ]
    }
   ],
   "source": [
    "docker run --rm javahello:mavenimage"
   ]
  },
  {
   "cell_type": "markdown",
   "id": "99cf5e97-7313-4f26-b69b-cf18bae836f2",
   "metadata": {
    "user_expressions": []
   },
   "source": [
    "### Multistage\n",
    "\n",
    "Il est plus efficace de s'appuyer sur la fabrication multistage d'une image docker pour séparer la chaîne de compilation de l'image d'exécution.\n",
    "On utilise alors comme image finale une base de JRE (donc plus légère) dans laquelle uniquement le résultat de la compilation est copié (attention, il doit inclure les dépendances cf. uberjar). "
   ]
  },
  {
   "cell_type": "markdown",
   "id": "c8aefd49-d549-4c71-9440-e2e2b5b52c5b",
   "metadata": {
    "user_expressions": []
   },
   "source": [
    "```{literalinclude} sample-java/helloworld/Dockerfile.02.mavenimagestage\n",
    ":language: dockerfile\n",
    ":caption: sample-java/helloworld/Dockerfile.02.mavenimagestage\n",
    ":name: sample-java/helloworld/Dockerfile.02.mavenimagestage\n",
    "```"
   ]
  },
  {
   "cell_type": "code",
   "execution_count": 10,
   "id": "9c4f1cf1-13b9-44b3-a9e7-e32d3fe8f5fe",
   "metadata": {
    "tags": [
     "hide-output"
    ]
   },
   "outputs": [
    {
     "name": "stdout",
     "output_type": "stream",
     "text": [
      "sha256:0987f84ebd5796d364ef3ec6e19b1a9321eb7bd8f4e186c495d349eaee3dc3fb\n"
     ]
    }
   ],
   "source": [
    "(cd sample-java/helloworld && \\\n",
    "docker image build --quiet --tag javahello:mavenimagestage --file Dockerfile.02.mavenimagestage . )"
   ]
  },
  {
   "cell_type": "code",
   "execution_count": 11,
   "id": "74243f25-61d5-4be8-a2cb-3febe4fd100d",
   "metadata": {
    "tags": []
   },
   "outputs": [
    {
     "name": "stdout",
     "output_type": "stream",
     "text": [
      "javahello mavenimagestage 0987f84ebd57 Less than a second ago 262MB\n"
     ]
    }
   ],
   "source": [
    "docker image ls|grep javahello|grep mavenimagestage|tr -s ' '"
   ]
  },
  {
   "cell_type": "code",
   "execution_count": 12,
   "id": "2f63bc08-e04c-49cd-b283-8c9c3af4a74b",
   "metadata": {
    "tags": []
   },
   "outputs": [
    {
     "name": "stdout",
     "output_type": "stream",
     "text": [
      "21:22:39.682 [main] INFO fr.univtln.bruno.demos.docker.App - Hello world maven + docker.\n"
     ]
    }
   ],
   "source": [
    "docker run --rm javahello:mavenimagestage"
   ]
  },
  {
   "cell_type": "markdown",
   "id": "2b51bc2b-254f-425e-886b-a88866c853f9",
   "metadata": {
    "user_expressions": []
   },
   "source": [
    "### Cache docker\n",
    "\n",
    "Les versions récentes de Docker proposent un mécanisme de cache qui permet de préciser explictement un dossier à mettre en cache lors du build d'une image. Pour Java et Maven, on peut ainsi mettre en cache `~/.m2` pour éviter de retélécharger systématiquement."
   ]
  },
  {
   "cell_type": "markdown",
   "id": "6307fce8-8c0a-4a9d-9103-5f6149959483",
   "metadata": {
    "user_expressions": []
   },
   "source": [
    "```{literalinclude} sample-java/helloworld/Dockerfile.03.cache\n",
    ":language: dockerfile\n",
    ":caption: sample-java/helloworld/Dockerfile.03.cache\n",
    ":name: sample-java/helloworld/Dockerfile.03.cache\n",
    "```"
   ]
  },
  {
   "cell_type": "code",
   "execution_count": 15,
   "id": "124a53c7-9dd4-4663-a830-5f56189c22e4",
   "metadata": {
    "tags": [
     "hide-output"
    ]
   },
   "outputs": [
    {
     "name": "stdout",
     "output_type": "stream",
     "text": [
      "sha256:ce8587c004656fb519db772ea32508cdfab97753931b264ce6ece0138507f98a\n"
     ]
    }
   ],
   "source": [
    "(cd sample-java/helloworld && \\\n",
    "docker image build --quiet --tag javahello:cache --file Dockerfile.03.cache . )"
   ]
  },
  {
   "cell_type": "code",
   "execution_count": 16,
   "id": "76a00116-512b-4bf1-9cb8-efed261b3246",
   "metadata": {
    "tags": []
   },
   "outputs": [
    {
     "name": "stdout",
     "output_type": "stream",
     "text": [
      "javahello cache ce8587c00465 1 second ago 262MB\n"
     ]
    }
   ],
   "source": [
    "docker image ls|grep javahello|grep cache|tr -s ' '"
   ]
  },
  {
   "cell_type": "code",
   "execution_count": 17,
   "id": "35c09f3b-7682-4d79-a003-c0a124adfceb",
   "metadata": {
    "tags": []
   },
   "outputs": [
    {
     "name": "stdout",
     "output_type": "stream",
     "text": [
      "21:23:35.086 [main] INFO fr.univtln.bruno.demos.docker.App - Hello world maven + docker.\n"
     ]
    }
   ],
   "source": [
    "docker run --rm javahello:cache"
   ]
  },
  {
   "cell_type": "markdown",
   "id": "50d72edd-9378-4f1d-b14a-3d3aabb9f943",
   "metadata": {
    "user_expressions": []
   },
   "source": [
    "### Maven wrapper\n",
    "\n",
    "Il est aussi possible de s'appuyer simplement sur l'image d'un JDK et d'utiliser un [wrapper maven](https://maven.apache.org/wrapper/). Dans ce cas, la bonne version de maven sera téléchargée au moment de la compilation."
   ]
  },
  {
   "cell_type": "markdown",
   "id": "c9f5868f-d1e1-428e-bae1-858d3383ac71",
   "metadata": {
    "user_expressions": []
   },
   "source": [
    "```{literalinclude} sample-java/helloworld/Dockerfile.04.wrapper\n",
    ":language: dockerfile\n",
    ":caption: sample-java/helloworld/Dockerfile.04.wrapper\n",
    ":name: sample-java/helloworld/Dockerfile.04.wrapper\n",
    "```"
   ]
  },
  {
   "cell_type": "code",
   "execution_count": 20,
   "id": "8114da5d-8d57-4cfb-b029-6e25f8bcf439",
   "metadata": {
    "tags": [
     "hide-output"
    ]
   },
   "outputs": [
    {
     "name": "stdout",
     "output_type": "stream",
     "text": [
      "sha256:4febce8b3a54b3154ea0829ce8aefd875b38db587153912f12cdf0d7417fd593\n"
     ]
    }
   ],
   "source": [
    "(cd sample-java/helloworld && \\\n",
    "docker image build --quiet --tag javahello:wrapper --file Dockerfile.04.wrapper . )"
   ]
  },
  {
   "cell_type": "code",
   "execution_count": 21,
   "id": "a25e6e15-2665-4036-90df-1799d3f55af2",
   "metadata": {
    "tags": []
   },
   "outputs": [
    {
     "name": "stdout",
     "output_type": "stream",
     "text": [
      "javahello wrapper 4febce8b3a54 1 second ago 262MB\n"
     ]
    }
   ],
   "source": [
    "docker image ls|grep javahello|grep wrapper|tr -s ' '"
   ]
  },
  {
   "cell_type": "code",
   "execution_count": 23,
   "id": "34c78cc8-d701-4b0a-a881-b74087829dd5",
   "metadata": {
    "tags": []
   },
   "outputs": [
    {
     "name": "stdout",
     "output_type": "stream",
     "text": [
      "21:24:35.239 [main] INFO fr.univtln.bruno.demos.docker.App - Hello world maven + docker.\n"
     ]
    }
   ],
   "source": [
    "docker run --rm javahello:wrapper"
   ]
  },
  {
   "cell_type": "markdown",
   "id": "9ab0fbd1-4a4e-4f16-8081-b8cf5e7d717f",
   "metadata": {
    "user_expressions": []
   },
   "source": [
    "### From scratch\n",
    "Il est aussi possible réaliser une chaine de compilation personnalisée à partir de zéro par exemple avec [sdkman](https://sdkman.io/). "
   ]
  },
  {
   "cell_type": "markdown",
   "id": "4ab60071-bc21-4989-b422-3bfafd38bd6d",
   "metadata": {
    "user_expressions": []
   },
   "source": [
    "```{literalinclude} sample-java/helloworld/Dockerfile.05.scratch\n",
    ":language: dockerfile\n",
    ":caption: sample-java/helloworld/Dockerfile.05.scratch\n",
    ":name: sample-java/helloworld/Dockerfile.05.scratch\n",
    "```"
   ]
  },
  {
   "cell_type": "code",
   "execution_count": 26,
   "id": "13962912-40b6-4e5f-a4e9-e069ff65d2a9",
   "metadata": {
    "tags": [
     "hide-output"
    ]
   },
   "outputs": [
    {
     "name": "stdout",
     "output_type": "stream",
     "text": [
      "sha256:bd4891efcdd4569be845e5d084893ca4f782e14f2b765156c3c1c236b04de20d\n"
     ]
    }
   ],
   "source": [
    "(cd sample-java/helloworld && \\\n",
    "docker image build --quiet --tag javahello:scratch --file Dockerfile.05.scratch . )"
   ]
  },
  {
   "cell_type": "code",
   "execution_count": 27,
   "id": "e34b230a-14a0-4029-87e4-9ae324cfbd13",
   "metadata": {
    "tags": []
   },
   "outputs": [
    {
     "name": "stdout",
     "output_type": "stream",
     "text": [
      "javahello scratch bd4891efcdd4 Less than a second ago 262MB\n"
     ]
    }
   ],
   "source": [
    "docker image ls|grep javahello|grep scratch|tr -s ' '"
   ]
  },
  {
   "cell_type": "code",
   "execution_count": 28,
   "id": "58fa6fc4-134a-4e7c-a29e-ff301a548307",
   "metadata": {
    "tags": []
   },
   "outputs": [
    {
     "name": "stdout",
     "output_type": "stream",
     "text": [
      "21:25:51.771 [main] INFO fr.univtln.bruno.demos.docker.App - Hello world maven + docker.\n"
     ]
    }
   ],
   "source": [
    "docker run --rm javahello:scratch"
   ]
  },
  {
   "cell_type": "markdown",
   "id": "979e8343-0d1f-43fe-95a0-af4048e51bd2",
   "metadata": {
    "user_expressions": []
   },
   "source": [
    "### Avec les modules et jlink \n",
    "\n",
    "La meilleure solution est d'utiliser les modules de Java et jlink pour produire une livraison minimale du JRE et des dépendances pour le projet. \n",
    "\n",
    "**TODO**"
   ]
  }
 ],
 "metadata": {
  "kernelspec": {
   "display_name": "Z shell",
   "language": "zsh",
   "name": "zsh"
  },
  "language_info": {
   "codemirror_mode": "shell",
   "file_extension": ".zsh",
   "mimetype": "text/x-zsh",
   "name": "zsh",
   "pygments_lexer": "shell",
   "version": "5.7.1"
  }
 },
 "nbformat": 4,
 "nbformat_minor": 5
}
