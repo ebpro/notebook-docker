{
 "cells": [
  {
   "cell_type": "raw",
   "metadata": {},
   "source": [
    "---\n",
    "title: \"Conteneurs: Création d'une image\"\n",
    "jupyter: conda-root-zsh\n",
    "description: Création d'image de conteneurs, application avec Docker.\n",
    "categories:\n",
    "    - Containers\n",
    "    - Docker\n",
    "    - I211\n",
    "    - PO43\n",
    "    - Lecture\n",
    "---"
   ]
  },
  {
   "cell_type": "markdown",
   "metadata": {},
   "source": [
    "```{.dockerfile include=\"../_version.md\"}\n",
    "```"
   ]
  },
  {
   "cell_type": "code",
   "execution_count": 1,
   "metadata": {},
   "outputs": [
    {
     "name": "stdout",
     "output_type": "stream",
     "text": [
      "Deleted Images:\r\n"
     ]
    },
    {
     "name": "stdout",
     "output_type": "stream",
     "text": [
      "untagged: ubuntu:jammy\r\n"
     ]
    },
    {
     "name": "stdout",
     "output_type": "stream",
     "text": [
      "untagged: ubuntu@sha256:f9d633ff6640178c2d0525017174a688e2c1aef28f0a0130b26bd5554491f0da\r\n"
     ]
    },
    {
     "name": "stdout",
     "output_type": "stream",
     "text": [
      "deleted: sha256:a50ab9f167975489853cbffd2be3bcadab3a9da27faf390ac48603c60d5c59e7\r\n"
     ]
    },
    {
     "name": "stdout",
     "output_type": "stream",
     "text": [
      "deleted: sha256:98d1994bf6c1db82b81822e3b2f8fdb6933c44fcd9487787c41ee907368022e2\r\n"
     ]
    },
    {
     "name": "stdout",
     "output_type": "stream",
     "text": [
      "\r\n"
     ]
    },
    {
     "name": "stdout",
     "output_type": "stream",
     "text": [
      "Total reclaimed space: 69.24MB\r\n"
     ]
    }
   ],
   "source": [
    "#| output: false\n",
    "#| echo: false\n",
    "docker system prune --all --force"
   ]
  },
  {
   "cell_type": "markdown",
   "metadata": {},
   "source": [
    "Le format d'une image est défini par un [standard ouvert]( https://github.com/opencontainers/image-spec/blob/main/spec.md). En plus de différentes métadonnées comme la command par défaut, une image est composée d'un ensemble de couches qui indiquent les changements effectués à partir de la couche précédente. Cela permet de partager efficacement des bases communes entre images mais demande quelques précautions.\n",
    "\n",
    "## Manuellement\n",
    "\n",
    "La commande `history` montre les couches qui composent une image."
   ]
  },
  {
   "cell_type": "code",
   "execution_count": 2,
   "metadata": {
    "tags": []
   },
   "outputs": [
    {
     "name": "stdout",
     "output_type": "stream",
     "text": [
      "jammy: Pulling from library/ubuntu\r\n"
     ]
    },
    {
     "name": "stdout",
     "output_type": "stream",
     "text": [
      "\r\n"
     ]
    },
    {
     "name": "stdout",
     "output_type": "stream",
     "text": [
      "\u001b[1A\u001b[2K\r",
      "a4a2c7a57ed8: Pulling fs layer \r",
      "\u001b[1B\u001b[1A\u001b[2K\r",
      "a4a2c7a57ed8: Downloading  277.8kB/27.36MB\r",
      "\u001b[1B\u001b[1A\u001b[2K\r",
      "a4a2c7a57ed8: Downloading  1.391MB/27.36MB\r",
      "\u001b[1B\u001b[1A\u001b[2K\r",
      "a4a2c7a57ed8: Downloading  2.788MB/27.36MB\r",
      "\u001b[1B\u001b[1A\u001b[2K\r",
      "a4a2c7a57ed8: Downloading  4.188MB/27.36MB\r",
      "\u001b[1B\u001b[1A\u001b[2K\r",
      "a4a2c7a57ed8: Downloading  5.303MB/27.36MB\r",
      "\u001b[1B\u001b[1A\u001b[2K\r",
      "a4a2c7a57ed8: Downloading  6.417MB/27.36MB\r",
      "\u001b[1B\u001b[1A\u001b[2K\r",
      "a4a2c7a57ed8: Downloading  7.818MB/27.36MB\r",
      "\u001b[1B\u001b[1A\u001b[2K\r",
      "a4a2c7a57ed8: Downloading  8.923MB/27.36MB\r",
      "\u001b[1B\u001b[1A\u001b[2K\r",
      "a4a2c7a57ed8: Downloading  10.59MB/27.36MB\r",
      "\u001b[1B\u001b[1A\u001b[2K\r",
      "a4a2c7a57ed8: Downloading  11.98MB/27.36MB\r",
      "\u001b[1B\u001b[1A\u001b[2K\r",
      "a4a2c7a57ed8: Downloading  13.38MB/27.36MB\r",
      "\u001b[1B\u001b[1A\u001b[2K\r",
      "a4a2c7a57ed8: Downloading  14.49MB/27.36MB\r",
      "\u001b[1B\u001b[1A\u001b[2K\r",
      "a4a2c7a57ed8: Downloading  15.89MB/27.36MB\r",
      "\u001b[1B\u001b[1A\u001b[2K\r",
      "a4a2c7a57ed8: Downloading  17.28MB/27.36MB\r",
      "\u001b[1B\u001b[1A\u001b[2K\r",
      "a4a2c7a57ed8: Downloading  22.02MB/27.36MB\r",
      "\u001b[1B\u001b[1A\u001b[2K\r",
      "a4a2c7a57ed8: Downloading  23.41MB/27.36MB\r",
      "\u001b[1B\u001b[1A\u001b[2K\r",
      "a4a2c7a57ed8: Downloading  24.53MB/27.36MB\r",
      "\u001b[1B\u001b[1A\u001b[2K\r",
      "a4a2c7a57ed8: Verifying Checksum \r",
      "\u001b[1B\u001b[1A\u001b[2K\r",
      "a4a2c7a57ed8: Download complete \r",
      "\u001b[1B\u001b[1A\u001b[2K\r",
      "a4a2c7a57ed8: Extracting  294.9kB/27.36MB\r",
      "\u001b[1B\u001b[1A\u001b[2K\r",
      "a4a2c7a57ed8: Extracting  6.488MB/27.36MB\r",
      "\u001b[1B\u001b[1A\u001b[2K\r",
      "a4a2c7a57ed8: Extracting  10.91MB/27.36MB\r",
      "\u001b[1B\u001b[1A\u001b[2K\r",
      "a4a2c7a57ed8: Extracting  20.64MB/27.36MB\r",
      "\u001b[1B\u001b[1A\u001b[2K\r",
      "a4a2c7a57ed8: Extracting   23.3MB/27.36MB\r",
      "\u001b[1B\u001b[1A\u001b[2K\r",
      "a4a2c7a57ed8: Extracting  25.95MB/27.36MB\r",
      "\u001b[1B\u001b[1A\u001b[2K\r",
      "a4a2c7a57ed8: Extracting  27.13MB/27.36MB\r",
      "\u001b[1B\u001b[1A\u001b[2K\r",
      "a4a2c7a57ed8: Extracting  27.36MB/27.36MB\r",
      "\u001b[1B\u001b[1A\u001b[2K\r",
      "a4a2c7a57ed8: Pull complete \r",
      "\u001b[1BDigest: sha256:f9d633ff6640178c2d0525017174a688e2c1aef28f0a0130b26bd5554491f0da\r\n"
     ]
    },
    {
     "name": "stdout",
     "output_type": "stream",
     "text": [
      "Status: Downloaded newer image for ubuntu:jammy\r\n"
     ]
    },
    {
     "name": "stdout",
     "output_type": "stream",
     "text": [
      "docker.io/library/ubuntu:jammy\r\n"
     ]
    },
    {
     "name": "stdout",
     "output_type": "stream",
     "text": [
      "IMAGE          CREATED       CREATED BY                                      SIZE      COMMENT\r\n"
     ]
    },
    {
     "name": "stdout",
     "output_type": "stream",
     "text": [
      "a50ab9f16797   3 weeks ago   /bin/sh -c #(nop)  CMD [\"/bin/bash\"]            0B        \r\n"
     ]
    },
    {
     "name": "stdout",
     "output_type": "stream",
     "text": [
      "<missing>      3 weeks ago   /bin/sh -c #(nop) ADD file:8d91b8bd386e0cc34…   69.2MB    \r\n"
     ]
    },
    {
     "name": "stdout",
     "output_type": "stream",
     "text": [
      "<missing>      3 weeks ago   /bin/sh -c #(nop)  LABEL org.opencontainers.…   0B        \r\n"
     ]
    },
    {
     "name": "stdout",
     "output_type": "stream",
     "text": [
      "<missing>      3 weeks ago   /bin/sh -c #(nop)  LABEL org.opencontainers.…   0B        \r\n"
     ]
    },
    {
     "name": "stdout",
     "output_type": "stream",
     "text": [
      "<missing>      3 weeks ago   /bin/sh -c #(nop)  ARG LAUNCHPAD_BUILD_ARCH     0B        \r\n"
     ]
    },
    {
     "name": "stdout",
     "output_type": "stream",
     "text": [
      "<missing>      3 weeks ago   /bin/sh -c #(nop)  ARG RELEASE                  0B        \r\n"
     ]
    }
   ],
   "source": [
    "docker pull ubuntu:jammy\n",
    "docker history ubuntu:jammy"
   ]
  },
  {
   "cell_type": "markdown",
   "metadata": {},
   "source": [
    "Pour créer une image, il est possible d'exécuter un conteneur, de faire de faire des modifications manuelles puis de les valider. Cela provoque la création d'une nouvelle couche dans le système de fichier et donc d'une nouvelle image. Cette approche est déconseillée car difficile à maintenir (par exemple lors d'un simple changement de version d'un logiciel). \n",
    "\n",
    "On peut ainsi fabriquer un conteneur simple pour fournir la commande `git`.\n",
    "\n",
    "En exécutant manuellement les commandes dans un conteneur"
   ]
  },
  {
   "cell_type": "code",
   "execution_count": 3,
   "metadata": {
    "tags": []
   },
   "outputs": [],
   "source": [
    "docker run --name my-ubuntu-container --interactive ubuntu:jammy bash -  <<EOF\n",
    "apt-get update &> /dev/null\n",
    "apt-get install --yes --no-install-recommends &> /dev/null \\\n",
    "    git \n",
    "apt-get clean autoclean &> /dev/null\n",
    "apt-get autoremove --yes &> /dev/null\n",
    "rm -rf /var/lib/apt/lists/*\n",
    "EOF"
   ]
  },
  {
   "cell_type": "markdown",
   "metadata": {},
   "source": [
    "puis en validant ces modifications sous la forme d'une nouvelle couche d'une image"
   ]
  },
  {
   "cell_type": "code",
   "execution_count": 4,
   "metadata": {
    "tags": []
   },
   "outputs": [
    {
     "name": "stdout",
     "output_type": "stream",
     "text": [
      "sha256:2a6d79d6af7ae0215f2537ac5b581738d9fbce15d4c8f762a00b648b1ae3ae9a\r\n"
     ]
    }
   ],
   "source": [
    "docker commit my-ubuntu-container mygit:latest"
   ]
  },
  {
   "cell_type": "markdown",
   "metadata": {},
   "source": [
    "le conteneur modifié peut alors être supprimé"
   ]
  },
  {
   "cell_type": "code",
   "execution_count": 5,
   "metadata": {
    "tags": []
   },
   "outputs": [
    {
     "name": "stdout",
     "output_type": "stream",
     "text": [
      "my-ubuntu-container\r\n"
     ]
    }
   ],
   "source": [
    "docker rm my-ubuntu-container"
   ]
  },
  {
   "cell_type": "markdown",
   "metadata": {},
   "source": [
    "et la nouvelle image utilisée pour créer autant de conteneur que nécessaire"
   ]
  },
  {
   "cell_type": "code",
   "execution_count": 6,
   "metadata": {
    "tags": []
   },
   "outputs": [
    {
     "name": "stdout",
     "output_type": "stream",
     "text": [
      "git version 2.34.1\r\n"
     ]
    }
   ],
   "source": [
    "docker run --rm mygit git --version"
   ]
  },
  {
   "cell_type": "markdown",
   "metadata": {},
   "source": [
    "Nous pouvons voir que l'ID de l'avant-dernière couche est celui de la dernière de l'image d'ubuntu et qu'une nouvelle couche qui contient les modifications faite par les commandes précédentes a été ajoutée."
   ]
  },
  {
   "cell_type": "code",
   "execution_count": 7,
   "metadata": {
    "tags": []
   },
   "outputs": [
    {
     "name": "stdout",
     "output_type": "stream",
     "text": [
      "IMAGE          CREATED        CREATED BY                                      SIZE      COMMENT\r\n"
     ]
    },
    {
     "name": "stdout",
     "output_type": "stream",
     "text": [
      "2a6d79d6af7a   1 second ago   bash -                                          64.2MB    \r\n"
     ]
    },
    {
     "name": "stdout",
     "output_type": "stream",
     "text": [
      "a50ab9f16797   3 weeks ago    /bin/sh -c #(nop)  CMD [\"/bin/bash\"]            0B        \r\n"
     ]
    },
    {
     "name": "stdout",
     "output_type": "stream",
     "text": [
      "<missing>      3 weeks ago    /bin/sh -c #(nop) ADD file:8d91b8bd386e0cc34…   69.2MB    \r\n"
     ]
    },
    {
     "name": "stdout",
     "output_type": "stream",
     "text": [
      "<missing>      3 weeks ago    /bin/sh -c #(nop)  LABEL org.opencontainers.…   0B        \r\n"
     ]
    },
    {
     "name": "stdout",
     "output_type": "stream",
     "text": [
      "<missing>      3 weeks ago    /bin/sh -c #(nop)  LABEL org.opencontainers.…   0B        \r\n"
     ]
    },
    {
     "name": "stdout",
     "output_type": "stream",
     "text": [
      "<missing>      3 weeks ago    /bin/sh -c #(nop)  ARG LAUNCHPAD_BUILD_ARCH     0B        \r\n"
     ]
    },
    {
     "name": "stdout",
     "output_type": "stream",
     "text": [
      "<missing>      3 weeks ago    /bin/sh -c #(nop)  ARG RELEASE                  0B        \r\n"
     ]
    }
   ],
   "source": [
    "docker history mygit"
   ]
  },
  {
   "cell_type": "code",
   "execution_count": 8,
   "metadata": {
    "tags": []
   },
   "outputs": [
    {
     "name": "stdout",
     "output_type": "stream",
     "text": [
      "Untagged: mygit:latest\r\n"
     ]
    },
    {
     "name": "stdout",
     "output_type": "stream",
     "text": [
      "Deleted: sha256:2a6d79d6af7ae0215f2537ac5b581738d9fbce15d4c8f762a00b648b1ae3ae9a\r\n"
     ]
    },
    {
     "name": "stdout",
     "output_type": "stream",
     "text": [
      "Deleted: sha256:2659c1d95680d7d8d7b9ea7faed18db00b3c281f288c1d06633dd31936bd12f3\r\n"
     ]
    }
   ],
   "source": [
    "docker image rm mygit"
   ]
  },
  {
   "cell_type": "markdown",
   "metadata": {},
   "source": [
    "## Dockerfile\n",
    "\n",
    "L'approche recommandée est de créer un fichier `Dockerfile` (cf. https://docs.docker.com/engine/reference/builder/) pour automatiser la création d'une image. Ce fichier peut être édité lors des mises à jour et versionné avec git pour gérer un historique de l'infrastructure ainsi que des versions parallèles.\n",
    "\n",
    "### Structure de base\n",
    "\n",
    "Le fichier `Dockerfile` suivant illustre les concepts de base. Il s'appuie sur l'image `python:3.11-slim-bullseye` (`FROM`), ajoute les fichiers de l'application depuis le contexte (`COPY`), exécute les commandes nécessaire à la construction de l'image (`RUN`) et défini la commande par défaut de l'image (`CMD`).\n",
    "\n",
    "```{.dockerfile include=\"sample-python/helloworld/Dockerfile\" code-line-numbers=\"true\"}\n",
    "```\n",
    "\n",
    "La commande suivante construit une image tagguée à partir du Dockerfile contenu dans le répertoire courant (indiqué par le `.` à la fin).\n",
    "C'est ce dernier paramètre qui est le contexte. Les options `--build-arg` permettre de fixer les `ARG` du Dockerfile."
   ]
  },
  {
   "cell_type": "code",
   "execution_count": 9,
   "metadata": {
    "tags": [
     "remove-output"
    ]
   },
   "outputs": [
    {
     "name": "stdout",
     "output_type": "stream",
     "text": [
      "cd: no such file or directory: sample-python/helloworld\r\n"
     ]
    }
   ],
   "source": [
    "( cd sample-python/helloworld && \\\n",
    " docker image build \\\n",
    "     --quiet \\\n",
    "     --build-arg BUILD_DATE=$(date -u +'%Y-%m-%dT%H:%M:%SZ')\\\n",
    "     --tag brunoe/helloworld_python:0.1 \\\n",
    "     . \n",
    ")"
   ]
  },
  {
   "cell_type": "markdown",
   "metadata": {},
   "source": [
    "d'autres tags peuvent être appliqués pour facilier l'usage de l'image, généralement des versions plus génériques (1.2.3, 1.2 et 1) et/ou des informations sur l'image de base avec des variantes (1.2.3-ubuntu, 1.2.3-debian, ...) et/ou des variantes de constructions de l'image elle-même et toujours `latest`."
   ]
  },
  {
   "cell_type": "code",
   "execution_count": 10,
   "metadata": {
    "tags": []
   },
   "outputs": [
    {
     "name": "stdout",
     "output_type": "stream",
     "text": [
      "Error response from daemon: No such image: brunoe/helloworld_python:0.1\r\n"
     ]
    },
    {
     "name": "stdout",
     "output_type": "stream",
     "text": [
      "Error response from daemon: No such image: brunoe/helloworld_python:0.1\r\n"
     ]
    }
   ],
   "source": [
    "docker tag brunoe/helloworld_python:0.1 brunoe/helloworld_python:0\n",
    "docker tag brunoe/helloworld_python:0.1 brunoe/helloworld_python:latest"
   ]
  },
  {
   "cell_type": "markdown",
   "metadata": {},
   "source": [
    "Cette image peut alors être utilisée localement."
   ]
  },
  {
   "cell_type": "code",
   "execution_count": 11,
   "metadata": {
    "tags": []
   },
   "outputs": [
    {
     "name": "stdout",
     "output_type": "stream",
     "text": [
      "Unable to find image 'brunoe/helloworld_python:0.1' locally\r\n"
     ]
    },
    {
     "name": "stdout",
     "output_type": "stream",
     "text": [
      "docker: Error response from daemon: pull access denied for brunoe/helloworld_python, repository does not exist or may require 'docker login': denied: requested access to the resource is denied.\r\n"
     ]
    },
    {
     "name": "stdout",
     "output_type": "stream",
     "text": [
      "See 'docker run --help'.\r\n"
     ]
    }
   ],
   "source": [
    "docker run --rm brunoe/helloworld_python:0.1"
   ]
  },
  {
   "cell_type": "code",
   "execution_count": 12,
   "metadata": {
    "tags": []
   },
   "outputs": [
    {
     "name": "stdout",
     "output_type": "stream",
     "text": [
      "Unable to find image 'brunoe/helloworld_python:0.1' locally\r\n"
     ]
    },
    {
     "name": "stdout",
     "output_type": "stream",
     "text": [
      "docker: Error response from daemon: pull access denied for brunoe/helloworld_python, repository does not exist or may require 'docker login': denied: requested access to the resource is denied.\r\n"
     ]
    },
    {
     "name": "stdout",
     "output_type": "stream",
     "text": [
      "See 'docker run --help'.\r\n"
     ]
    }
   ],
   "source": [
    "docker run --env NAME=\"Pierre\" --rm brunoe/helloworld_python:0.1"
   ]
  },
  {
   "cell_type": "markdown",
   "metadata": {},
   "source": [
    "Il est intéressant de connaitre la taille d'une image et le détail des couches qui la compose. "
   ]
  },
  {
   "cell_type": "code",
   "execution_count": 13,
   "metadata": {
    "tags": []
   },
   "outputs": [],
   "source": [
    "docker image ls|grep brunoe/helloworld_python|tr -s ' '"
   ]
  },
  {
   "cell_type": "code",
   "execution_count": 14,
   "metadata": {
    "tags": []
   },
   "outputs": [
    {
     "name": "stdout",
     "output_type": "stream",
     "text": [
      "Error response from daemon: No such image: brunoe/helloworld_python:0.1\r\n"
     ]
    }
   ],
   "source": [
    "docker history brunoe/helloworld_python:0.1"
   ]
  },
  {
   "cell_type": "markdown",
   "metadata": {},
   "source": [
    "### Partage de l'image\n",
    "\n",
    "Une image peut ensuite être partagée sur un registry (dockerhub ou un autre qui peut être public ou privé). Pour cela le docker client doit s'authentifier (`docker login`) puis pousser les différents tags de l'image (`docker push <image_name>`). Attention, le nom de l'image doit généralement préciser le compte sur le repository.\n",
    "\n",
    "```bash\n",
    "docker push brunoe/helloworld_python:0.1\n",
    "docker push brunoe/helloworld_python:latest\n",
    "```\n",
    "\n",
    "## Entrypoint\n",
    "\n",
    "La directive `ENTRYPOINT` prend en paramètre une commande permet que l'image docker se comporte comme cette commande en acceptant directement les paramètres lors d'un `run`. La commande exécutée est la concaténation de `ENTRYPOINT` et des paramètre de `run` ou de `CMD`. `CMD` correspond donc aux options par défaut que l'on souhaite si aucun paramètre n'est donné. \n",
    "\n",
    "L'exemple suivant montre comment construire une commande qui crée une base de donnée sqlite dans repertoire courant.\n",
    "\n",
    "```{.dockerfile include=\"sample-sqlite/Dockerfile\" code-line-numbers=\"true\"}\n",
    "```"
   ]
  },
  {
   "cell_type": "code",
   "execution_count": 15,
   "metadata": {
    "tags": []
   },
   "outputs": [
    {
     "name": "stdout",
     "output_type": "stream",
     "text": [
      "ERROR: unable to prepare context: path \"sample-sqlite/\" not found\r\n"
     ]
    }
   ],
   "source": [
    "docker build --quiet --tag sqlite sample-sqlite/"
   ]
  },
  {
   "cell_type": "markdown",
   "metadata": {},
   "source": [
    "Le run affiche par défaut la version au lieu de l'aide."
   ]
  },
  {
   "cell_type": "code",
   "execution_count": 16,
   "metadata": {
    "tags": []
   },
   "outputs": [
    {
     "name": "stdout",
     "output_type": "stream",
     "text": [
      "Unable to find image 'sqlite:latest' locally\r\n"
     ]
    },
    {
     "name": "stdout",
     "output_type": "stream",
     "text": [
      "docker: Error response from daemon: pull access denied for sqlite, repository does not exist or may require 'docker login': denied: requested access to the resource is denied.\r\n"
     ]
    },
    {
     "name": "stdout",
     "output_type": "stream",
     "text": [
      "See 'docker run --help'.\r\n"
     ]
    }
   ],
   "source": [
    "docker run --rm sqlite"
   ]
  },
  {
   "cell_type": "markdown",
   "metadata": {},
   "source": [
    "et il n'est plus nécessaire de redonner la commande, le nom de l'image suffit. En utilisant un alias, il est donc possible de donner l'illusion qu'il s'agit d'un programme."
   ]
  },
  {
   "cell_type": "code",
   "execution_count": 17,
   "metadata": {
    "tags": []
   },
   "outputs": [
    {
     "name": "stdout",
     "output_type": "stream",
     "text": [
      "Unable to find image 'sqlite:latest' locally\r\n"
     ]
    },
    {
     "name": "stdout",
     "output_type": "stream",
     "text": [
      "docker: Error response from daemon: pull access denied for sqlite, repository does not exist or may require 'docker login': denied: requested access to the resource is denied.\r\n"
     ]
    },
    {
     "name": "stdout",
     "output_type": "stream",
     "text": [
      "See 'docker run --help'.\r\n"
     ]
    },
    {
     "name": "stdout",
     "output_type": "stream",
     "text": [
      "Unable to find image 'sqlite:latest' locally\r\n"
     ]
    },
    {
     "name": "stdout",
     "output_type": "stream",
     "text": [
      "docker: Error response from daemon: pull access denied for sqlite, repository does not exist or may require 'docker login': denied: requested access to the resource is denied.\r\n"
     ]
    },
    {
     "name": "stdout",
     "output_type": "stream",
     "text": [
      "See 'docker run --help'.\r\n"
     ]
    },
    {
     "name": "stdout",
     "output_type": "stream",
     "text": [
      "Unable to find image 'sqlite:latest' locally\r\n"
     ]
    },
    {
     "name": "stdout",
     "output_type": "stream",
     "text": [
      "docker: Error response from daemon: pull access denied for sqlite, repository does not exist or may require 'docker login': denied: requested access to the resource is denied.\r\n"
     ]
    },
    {
     "name": "stdout",
     "output_type": "stream",
     "text": [
      "See 'docker run --help'.\r\n"
     ]
    },
    {
     "name": "stdout",
     "output_type": "stream",
     "text": [
      "Unable to find image 'sqlite:latest' locally\r\n"
     ]
    },
    {
     "name": "stdout",
     "output_type": "stream",
     "text": [
      "docker: Error response from daemon: pull access denied for sqlite, repository does not exist or may require 'docker login': denied: requested access to the resource is denied.\r\n"
     ]
    },
    {
     "name": "stdout",
     "output_type": "stream",
     "text": [
      "See 'docker run --help'.\r\n"
     ]
    }
   ],
   "source": [
    "# sqlite() {docker run -v ${PWD}:/workdir --rm sqlite}\n",
    "sqlite() {docker run -v /tmp:/workdir --rm sqlite}\n",
    "    \n",
    "sqlite \"DROP TABLE IF EXISTS data;\"\n",
    "sqlite \"CREATE TABLE IF NOT EXISTS data (key TEXT PRIMARY KEY,value TEXT NOT NULL);\"\n",
    "sqlite \"INSERT INTO data values('A','10');INSERT INTO data values('B','20');\"\n",
    "sqlite \"SELECT * FROM data;\""
   ]
  },
  {
   "cell_type": "markdown",
   "metadata": {},
   "source": [
    "## Multistage\n",
    "\n",
    "Un Dockerfile dit `multistage` utilise plusieurs `FROM`. Chacun définit une image mais seule la dernière sera le résultat final. Les images précédentes peuvent être utilisées pour produire des fichiers qui seront copiés dans une étape (stage) suivant. \n",
    "\n",
    "Pour cela, chaque `FROM` peut ête nommé avec `AS` pour qu'une étape suivante puisse accéder à son système de fichier avec `COPY --from=<stage_name> <source> <destination>`. \n",
    "\n",
    "L'utilisation la plus classique est d'avoir deux stages : (1) compilation et (2) exécution. La première étape contient l'environnement de développement (gcc pour le C, JDK+Maven pour Java, ...) et les sources,  elle produit l'exécutable (un binaire pour le C, du bytecode ou un jar pour Java, ...). La seconde étape ne contient que l'environnement d'exécution (éventuelles librairies dynamiques pour le C, JRE pour Java, ...) et l'exécutable.\n",
    "\n",
    "```{.dockerfile include=\"sample-c/helloworld/Dockerfile\" code-line-numbers=\"true\"}\n",
    "```"
   ]
  },
  {
   "cell_type": "code",
   "execution_count": 18,
   "metadata": {
    "tags": []
   },
   "outputs": [
    {
     "name": "stdout",
     "output_type": "stream",
     "text": [
      "cd: no such file or directory: sample-c/helloworld/\r\n"
     ]
    }
   ],
   "source": [
    "( cd sample-c/helloworld/ && \\\n",
    " docker image build \\\n",
    "     --quiet \\\n",
    "     --tag brunoe/helloworld_c:0.1 \\\n",
    "     . )"
   ]
  },
  {
   "cell_type": "code",
   "execution_count": 19,
   "metadata": {
    "tags": []
   },
   "outputs": [
    {
     "name": "stdout",
     "output_type": "stream",
     "text": [
      "Unable to find image 'brunoe/helloworld_c:0.1' locally\r\n"
     ]
    },
    {
     "name": "stdout",
     "output_type": "stream",
     "text": [
      "docker: Error response from daemon: pull access denied for brunoe/helloworld_c, repository does not exist or may require 'docker login': denied: requested access to the resource is denied.\r\n"
     ]
    },
    {
     "name": "stdout",
     "output_type": "stream",
     "text": [
      "See 'docker run --help'.\r\n"
     ]
    }
   ],
   "source": [
    "docker run brunoe/helloworld_c:0.1 Pierre"
   ]
  },
  {
   "cell_type": "markdown",
   "metadata": {},
   "source": [
    "### Volumes et réseaux\n",
    "\n",
    "EXPOSE et VOLUME\n",
    "\n",
    "L'instruction `VOLUME <chemin dans le conteneur>` définit ce chemin comme un point de montage pour un volume. Cela signifie que les données stockées dans ce répertoire seront persistantes même si le conteneur est supprimé.\n",
    "\n",
    "L'instruction `EXPOSE <PORT>` expose le port du conteneur aux autres conteneurs.\n"
   ]
  }
 ],
 "metadata": {
  "kernelspec": {
   "display_name": "Z shell [conda env:root] *",
   "language": "zsh",
   "name": "conda-root-zsh"
  },
  "language_info": {
   "codemirror_mode": "shell",
   "file_extension": ".zsh",
   "mimetype": "text/x-zsh",
   "name": "zsh",
   "pygments_lexer": "shell",
   "version": "5.7.1"
  }
 },
 "nbformat": 4,
 "nbformat_minor": 4
}
