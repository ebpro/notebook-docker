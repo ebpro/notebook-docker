{
 "cells": [
  {
   "cell_type": "raw",
   "metadata": {},
   "source": [
    "---\n",
    "title: \"Conteneurs: Notions de base\"\n",
    "jupyter: conda-root-zsh\n",
    "description: Principes de base et utilisation de conteneurs, application avec Docker.\n",
    "categories:\n",
    "    - Containers\n",
    "    - Docker\n",
    "    - I211\n",
    "    - PO43\n",
    "    - Lecture\n",
    "---"
   ]
  },
  {
   "cell_type": "markdown",
   "metadata": {},
   "source": [
    "```{.dockerfile include=\"../_version.md\"}\n",
    "```"
   ]
  },
  {
   "cell_type": "code",
   "execution_count": 1,
   "metadata": {
    "vscode": {
     "languageId": "shellscript"
    }
   },
   "outputs": [
    {
     "name": "stdout",
     "output_type": "stream",
     "text": [
      "Deleted Images:\r\n"
     ]
    },
    {
     "name": "stdout",
     "output_type": "stream",
     "text": [
      "untagged: ubuntu:22.04\r\n"
     ]
    },
    {
     "name": "stdout",
     "output_type": "stream",
     "text": [
      "untagged: ubuntu@sha256:f9d633ff6640178c2d0525017174a688e2c1aef28f0a0130b26bd5554491f0da\r\n"
     ]
    },
    {
     "name": "stdout",
     "output_type": "stream",
     "text": [
      "deleted: sha256:a50ab9f167975489853cbffd2be3bcadab3a9da27faf390ac48603c60d5c59e7\r\n"
     ]
    },
    {
     "name": "stdout",
     "output_type": "stream",
     "text": [
      "deleted: sha256:98d1994bf6c1db82b81822e3b2f8fdb6933c44fcd9487787c41ee907368022e2\r\n"
     ]
    },
    {
     "name": "stdout",
     "output_type": "stream",
     "text": [
      "untagged: nicolaka/netshoot:latest\r\n"
     ]
    },
    {
     "name": "stdout",
     "output_type": "stream",
     "text": [
      "untagged: nicolaka/netshoot@sha256:b569665f0c32391b93f4de344f07bf6353ddff9d8c801ac3318d996db848a64c\r\n"
     ]
    },
    {
     "name": "stdout",
     "output_type": "stream",
     "text": [
      "deleted: sha256:eead9e442471db2d7fd8ccda882e99b8175b51a42a99a07fb7e1ba8065ae949a\r\n"
     ]
    },
    {
     "name": "stdout",
     "output_type": "stream",
     "text": [
      "deleted: sha256:bd7c082e7ef577302c8f13f4ae3f5e7a01ec263a825b7adaa756cdbddbaa7b40\r\n"
     ]
    },
    {
     "name": "stdout",
     "output_type": "stream",
     "text": [
      "deleted: sha256:32497f5239e880663b3893f64addcbeeb83f74cbc1f9fbb8e55733ec127cf085\r\n"
     ]
    },
    {
     "name": "stdout",
     "output_type": "stream",
     "text": [
      "deleted: sha256:58df1d3ce4a6a8f6e3a6d326e1b7ec02c9e5732ec34fed733247aebf4a1ba199\r\n"
     ]
    },
    {
     "name": "stdout",
     "output_type": "stream",
     "text": [
      "deleted: sha256:54bb1bf4fcc82500863752a62d109d31a48adf6cc42393af9b8b7f07dc0455f4\r\n"
     ]
    },
    {
     "name": "stdout",
     "output_type": "stream",
     "text": [
      "deleted: sha256:a059b72cb2e9bcb9bf691c0752a3da55db2f08d929df9aa8e37f91763ac72f1e\r\n"
     ]
    },
    {
     "name": "stdout",
     "output_type": "stream",
     "text": [
      "deleted: sha256:92d61c034f105211e0753f76ec2dbd8891a52c88273feb6c1576b2b560197e17\r\n"
     ]
    },
    {
     "name": "stdout",
     "output_type": "stream",
     "text": [
      "deleted: sha256:b92379f1f6982da5447f8b98c2fc258f3ea218beafcba981315fd9ae01c9ec23\r\n"
     ]
    },
    {
     "name": "stdout",
     "output_type": "stream",
     "text": [
      "deleted: sha256:80d1ae4f4a87c638567108caad1d9d576599e49a9141378a9df6ac5b56faa8ee\r\n"
     ]
    },
    {
     "name": "stdout",
     "output_type": "stream",
     "text": [
      "deleted: sha256:68f1090ce0248bb2247f1269eac3623fe72b64faf79f730c73519fcd719ff0be\r\n"
     ]
    },
    {
     "name": "stdout",
     "output_type": "stream",
     "text": [
      "deleted: sha256:cbf95bd8aa3ce803867e052e6847746658ef7b2dc61ad861bb11fefc746b2025\r\n"
     ]
    },
    {
     "name": "stdout",
     "output_type": "stream",
     "text": [
      "deleted: sha256:e13ef2547cef42b90bc9ec605cdb15ab737f52cfb8d99ef7a61ab9d075293920\r\n"
     ]
    },
    {
     "name": "stdout",
     "output_type": "stream",
     "text": [
      "deleted: sha256:c575260ae65971af9bed5300286ce280403189a669faa9060a0ffaf9689922d5\r\n"
     ]
    },
    {
     "name": "stdout",
     "output_type": "stream",
     "text": [
      "deleted: sha256:b35dbec0c3cc5d48dbb2b9f3efa51eb96e1b2d947bed70d3b8810f5d7887c550\r\n"
     ]
    },
    {
     "name": "stdout",
     "output_type": "stream",
     "text": [
      "deleted: sha256:837715993616b40a76edf3e57648a8dd49ed3529be816a2f93308bc7192d2362\r\n"
     ]
    },
    {
     "name": "stdout",
     "output_type": "stream",
     "text": [
      "deleted: sha256:3ce819cc49704a39ce4614b73a325ad6efff50e1754005a2a8f17834071027dc\r\n"
     ]
    },
    {
     "name": "stdout",
     "output_type": "stream",
     "text": [
      "untagged: nginx:1.22\r\n"
     ]
    },
    {
     "name": "stdout",
     "output_type": "stream",
     "text": [
      "untagged: nginx@sha256:fc5f5fb7574755c306aaf88456ebfbe0b006420a184d52b923d2f0197108f6b7\r\n"
     ]
    },
    {
     "name": "stdout",
     "output_type": "stream",
     "text": [
      "deleted: sha256:01db65c64829ae4f2a15d714719fd8b923fad92d68c656705b3afb72b99b5656\r\n"
     ]
    },
    {
     "name": "stdout",
     "output_type": "stream",
     "text": [
      "deleted: sha256:7ff3ae2dbb0a559f395dc920139d506b45448dd0667d4687689d36bc02d8532c\r\n"
     ]
    },
    {
     "name": "stdout",
     "output_type": "stream",
     "text": [
      "deleted: sha256:512c908bc28ca2d74974f1e91846196da10a0002357768b29e76f152d7850b85\r\n"
     ]
    },
    {
     "name": "stdout",
     "output_type": "stream",
     "text": [
      "deleted: sha256:f4ae6208d243c579acd129446505e45f3fb365792a1703346de6e8dd05c6b200\r\n"
     ]
    },
    {
     "name": "stdout",
     "output_type": "stream",
     "text": [
      "deleted: sha256:0bbea6dcaa8ff807c00e352e15f02aebe007b6e117f9599bc1be896f62a58960\r\n"
     ]
    },
    {
     "name": "stdout",
     "output_type": "stream",
     "text": [
      "deleted: sha256:9b617c1bbf3c5ee3b47845647a9c5d7862d4be3ecc7a96744fb3eaa7941263f8\r\n"
     ]
    },
    {
     "name": "stdout",
     "output_type": "stream",
     "text": [
      "deleted: sha256:3804935bde6232033371fe05e57419a2708f4d771ed7ce3bf83f2821db9ecbd0\r\n"
     ]
    },
    {
     "name": "stdout",
     "output_type": "stream",
     "text": [
      "untagged: nginx:1.23\r\n"
     ]
    },
    {
     "name": "stdout",
     "output_type": "stream",
     "text": [
      "untagged: nginx@sha256:f5747a42e3adcb3168049d63278d7251d91185bb5111d2563d58729a5c9179b0\r\n"
     ]
    },
    {
     "name": "stdout",
     "output_type": "stream",
     "text": [
      "deleted: sha256:b005e88565d715aa96012a41f893ab0c8f8bc0aa688f3d4bb91b503295431622\r\n"
     ]
    },
    {
     "name": "stdout",
     "output_type": "stream",
     "text": [
      "deleted: sha256:9d256b49bf2d99b5cdd95fed9e447586668e7eb0a437062444ee1fede45bfc0e\r\n"
     ]
    },
    {
     "name": "stdout",
     "output_type": "stream",
     "text": [
      "deleted: sha256:8b72a38cf295932733b4b783aa33135304954f4f2c85baad82f53ec230926bb3\r\n"
     ]
    },
    {
     "name": "stdout",
     "output_type": "stream",
     "text": [
      "deleted: sha256:e838c59737c480f6b93de9edecc18216ce58fc02037e4f638843af7552c3ed65\r\n"
     ]
    },
    {
     "name": "stdout",
     "output_type": "stream",
     "text": [
      "deleted: sha256:633696c53a7afc3786309b02bcf8f1f33f93f9e0a30bfac03843ec6d303bbadb\r\n"
     ]
    },
    {
     "name": "stdout",
     "output_type": "stream",
     "text": [
      "deleted: sha256:814778caa587a644a834e37d27aec5e227b9679a13171f33fe6ffa70245f5bec\r\n"
     ]
    },
    {
     "name": "stdout",
     "output_type": "stream",
     "text": [
      "deleted: sha256:13594e6f72105befed183626c2e1c6d7b31d7fc2c0f7e682d7fb5f2a75e5c4a2\r\n"
     ]
    },
    {
     "name": "stdout",
     "output_type": "stream",
     "text": [
      "untagged: pandoc/core:3.1\r\n"
     ]
    },
    {
     "name": "stdout",
     "output_type": "stream",
     "text": [
      "untagged: pandoc/core@sha256:222badaf55d35aa19a54294721b2669a55737e8a96e78f038b89c2b70bccd13f\r\n"
     ]
    },
    {
     "name": "stdout",
     "output_type": "stream",
     "text": [
      "deleted: sha256:85f93f2efdc53ef7effed2f7ba1f3e5c095bdab457e9919934539950083ab816\r\n"
     ]
    },
    {
     "name": "stdout",
     "output_type": "stream",
     "text": [
      "deleted: sha256:05571851b5723044a6e3d5d0386236efda078fe20f5f425937a21cbb26355cff\r\n"
     ]
    },
    {
     "name": "stdout",
     "output_type": "stream",
     "text": [
      "deleted: sha256:f9cc0cda396bcf84438b179e9b45b0fb30523e8bb9037bf17d9a12fa903067bd\r\n"
     ]
    },
    {
     "name": "stdout",
     "output_type": "stream",
     "text": [
      "deleted: sha256:90b9cae491bf47a60e4799fecd7d9770e64027f59a3cbc216ca5cc3c4678df6d\r\n"
     ]
    },
    {
     "name": "stdout",
     "output_type": "stream",
     "text": [
      "deleted: sha256:c670b7063d24107f2d6b047fae57d69514182f3075ccae002faf235934e1b01c\r\n"
     ]
    },
    {
     "name": "stdout",
     "output_type": "stream",
     "text": [
      "deleted: sha256:d0c29a3ed9f9566089a5f171e4eb4878a9d67d7961d5ec020dfbb303056d75b6\r\n"
     ]
    },
    {
     "name": "stdout",
     "output_type": "stream",
     "text": [
      "deleted: sha256:aa5968d388b8652cd305e0e037751228967839d83d0cafbde5debf0b092e7c42\r\n"
     ]
    },
    {
     "name": "stdout",
     "output_type": "stream",
     "text": [
      "untagged: curlimages/curl:7.88.1\r\n"
     ]
    },
    {
     "name": "stdout",
     "output_type": "stream",
     "text": [
      "untagged: curlimages/curl@sha256:48318407b8d98e8c7d5bd4741c88e8e1a5442de660b47f63ba656e5c910bc3da\r\n"
     ]
    },
    {
     "name": "stdout",
     "output_type": "stream",
     "text": [
      "deleted: sha256:5880c2bc66d5c2fdec926f2a8d65fee338d703f99f0d08739d2b6605b3e919de\r\n"
     ]
    },
    {
     "name": "stdout",
     "output_type": "stream",
     "text": [
      "deleted: sha256:6203975d45eb1557a9409c39cf5c8552ae6bac233dca55d0723fe9a04d692986\r\n"
     ]
    },
    {
     "name": "stdout",
     "output_type": "stream",
     "text": [
      "deleted: sha256:d7ae39bfd0b19abc08575df77eaead5fa1d803cad2725a1c614a92a8a3656eab\r\n"
     ]
    },
    {
     "name": "stdout",
     "output_type": "stream",
     "text": [
      "deleted: sha256:2db2251524aca31588b57da8646df9628f9529807b5fc367238623aaacf9b9ad\r\n"
     ]
    },
    {
     "name": "stdout",
     "output_type": "stream",
     "text": [
      "deleted: sha256:e8b87f0471d6bd75b75c1ad32b6dc718c6c01815a30df2f44137be7d67e28e88\r\n"
     ]
    },
    {
     "name": "stdout",
     "output_type": "stream",
     "text": [
      "deleted: sha256:300e90f1cfc8ce8576e95df7f2f1c60417afff984e53bdaccd0660615930880e\r\n"
     ]
    },
    {
     "name": "stdout",
     "output_type": "stream",
     "text": [
      "deleted: sha256:f709a0deaab3260cf53128a1c7ae7731444d61ff3ddd3bf3c7b1a5707193248f\r\n"
     ]
    },
    {
     "name": "stdout",
     "output_type": "stream",
     "text": [
      "deleted: sha256:8936bda6e83a89f9deb819cf46c249117ca15307c01b303a42e7497b83d03505\r\n"
     ]
    },
    {
     "name": "stdout",
     "output_type": "stream",
     "text": [
      "deleted: sha256:f213fdddd8dbbf6507ff15f67093f9b67f9673efaa7f3a0c8c0ce572d45f1571\r\n"
     ]
    },
    {
     "name": "stdout",
     "output_type": "stream",
     "text": [
      "deleted: sha256:a2724430ad9951e1269873d7d2897516916b1f660e8859dd2b9e44d303588980\r\n"
     ]
    },
    {
     "name": "stdout",
     "output_type": "stream",
     "text": [
      "deleted: sha256:871b98204213215a8459e0955815854c48cf1e73baeccf0bfc5722264f9913db\r\n"
     ]
    },
    {
     "name": "stdout",
     "output_type": "stream",
     "text": [
      "deleted: sha256:5d3e392a13a0fdfbf8806cb4a5e4b0a92b5021103a146249d8a2c999f06a9772\r\n"
     ]
    },
    {
     "name": "stdout",
     "output_type": "stream",
     "text": [
      "untagged: alpine:latest\r\n"
     ]
    },
    {
     "name": "stdout",
     "output_type": "stream",
     "text": [
      "untagged: alpine@sha256:c5b1261d6d3e43071626931fc004f70149baeba2c8ec672bd4f27761f8e1ad6b\r\n"
     ]
    },
    {
     "name": "stdout",
     "output_type": "stream",
     "text": [
      "deleted: sha256:ace17d5d883e9ea5a21138d0608d60aa2376c68f616c55b0b7e73fba6d8556a3\r\n"
     ]
    },
    {
     "name": "stdout",
     "output_type": "stream",
     "text": [
      "deleted: sha256:b09314aec293bcd9a8ee5e643539437b3846f9e5e55f79e282e5f67e3026de5e\r\n"
     ]
    },
    {
     "name": "stdout",
     "output_type": "stream",
     "text": [
      "untagged: nicolaka/netshoot:v0.9\r\n"
     ]
    },
    {
     "name": "stdout",
     "output_type": "stream",
     "text": [
      "untagged: nicolaka/netshoot@sha256:6032c4e72f58800ff13d89c801d793020d7a91bf33b39fa9a5531635a65c42ee\r\n"
     ]
    },
    {
     "name": "stdout",
     "output_type": "stream",
     "text": [
      "deleted: sha256:8dd0ad9d832b2db83c94f61ea0118d938ca1ce5445f4cdb57af2bd721cdcb30b\r\n"
     ]
    },
    {
     "name": "stdout",
     "output_type": "stream",
     "text": [
      "deleted: sha256:36090f33763ee1d4c8cf86cea460449c540b5a3fa359fa5aeafc2734d226622e\r\n"
     ]
    },
    {
     "name": "stdout",
     "output_type": "stream",
     "text": [
      "deleted: sha256:bd2b8155f348c06f52ddbff3630a53dba62a46f0a943a8dc8c3d39a66d7e0942\r\n"
     ]
    },
    {
     "name": "stdout",
     "output_type": "stream",
     "text": [
      "deleted: sha256:52d09f76bf091906d6952fab6b09816baa8809401c506d243fdbe44cf0a6e0c8\r\n"
     ]
    },
    {
     "name": "stdout",
     "output_type": "stream",
     "text": [
      "deleted: sha256:460e4dc686908ceb0de19bbece9742d1e56feba8c35f781ef9b6511b41d59371\r\n"
     ]
    },
    {
     "name": "stdout",
     "output_type": "stream",
     "text": [
      "deleted: sha256:6af4f3f62e3ef7fbc1e29fb54ed6519813e534a81e5adf19391c58aa200d940e\r\n"
     ]
    },
    {
     "name": "stdout",
     "output_type": "stream",
     "text": [
      "deleted: sha256:5d7b0b5527ba87ef6a9cf7f1b33a0fab12aa86c0e00abb87c3ce54a0a8ac1a55\r\n"
     ]
    },
    {
     "name": "stdout",
     "output_type": "stream",
     "text": [
      "deleted: sha256:4d10d8c11a69b7e057438a278f9c3403d1a3183f082c22b952d2b45e172a8f38\r\n"
     ]
    },
    {
     "name": "stdout",
     "output_type": "stream",
     "text": [
      "deleted: sha256:dc88bcc7bfb3ded72fd36819a8465da2468a910f1432ceea7e4a93533f1686cb\r\n"
     ]
    },
    {
     "name": "stdout",
     "output_type": "stream",
     "text": [
      "deleted: sha256:8a4a1810e0bc25f2b230fecfc0d0e607e09061c4bb1f85c9f98a609004c92456\r\n"
     ]
    },
    {
     "name": "stdout",
     "output_type": "stream",
     "text": [
      "deleted: sha256:9df35f59af000d041f84dbdea354d0a2d65823338fa22a7f237c3c3fc9a653af\r\n"
     ]
    },
    {
     "name": "stdout",
     "output_type": "stream",
     "text": [
      "deleted: sha256:321958587d777c594463667cffc01b61d34301e3105328c6b232a33ec5fae86f\r\n"
     ]
    },
    {
     "name": "stdout",
     "output_type": "stream",
     "text": [
      "deleted: sha256:be1d04287658ba3ea041105f396d6a99b6f98dde39d25a1ebebaf8cf4a4cc209\r\n"
     ]
    },
    {
     "name": "stdout",
     "output_type": "stream",
     "text": [
      "deleted: sha256:fdf7703ac12be6790bd668b863ecb47d22a7ea14b99de9bd2a9b2460055ba23d\r\n"
     ]
    },
    {
     "name": "stdout",
     "output_type": "stream",
     "text": [
      "deleted: sha256:0a24540c1e5a47e5a8116c43151cb45c985f7a65afe5d4d65127d9c6fea2ffcf\r\n"
     ]
    },
    {
     "name": "stdout",
     "output_type": "stream",
     "text": [
      "untagged: postgres:15.2\r\n"
     ]
    },
    {
     "name": "stdout",
     "output_type": "stream",
     "text": [
      "untagged: postgres@sha256:78a275d4c891f7b3a33d3f1a78eda9f1d744954d9e20122bfdc97cdda25cddaf\r\n"
     ]
    },
    {
     "name": "stdout",
     "output_type": "stream",
     "text": [
      "deleted: sha256:457e4fa7416c66c31e8bfdf6368be3ba09e99153c78a57a2cb1e18f8482baa57\r\n"
     ]
    },
    {
     "name": "stdout",
     "output_type": "stream",
     "text": [
      "deleted: sha256:95d397a3808e652098004d258104fcb4d1af12c5cb013a3a02aeab1de7bb1549\r\n"
     ]
    },
    {
     "name": "stdout",
     "output_type": "stream",
     "text": [
      "deleted: sha256:821e73c7436d36b84f1edb13daeed73ea4d160e0a1dbc96b6d14e3c88e427f28\r\n"
     ]
    },
    {
     "name": "stdout",
     "output_type": "stream",
     "text": [
      "deleted: sha256:3a606065eb69da185ef9a0e873cb770b5e6ab2f5fe1f92e230af49a34d62d6b3\r\n"
     ]
    },
    {
     "name": "stdout",
     "output_type": "stream",
     "text": [
      "deleted: sha256:6e4b705549a98b0c7559ea7b31f5d4e7d0e5a8740f47cad316aa92d06580e6ce\r\n"
     ]
    },
    {
     "name": "stdout",
     "output_type": "stream",
     "text": [
      "deleted: sha256:7b525354b85331b956e9c7cc8384889e92898c4448bd9d3fe23d9a6d29be2c1c\r\n"
     ]
    },
    {
     "name": "stdout",
     "output_type": "stream",
     "text": [
      "deleted: sha256:ef00245506000c9a6bdbcdac71ebbfe05ff92807900291a5b2cb0aa645c14d7a\r\n"
     ]
    },
    {
     "name": "stdout",
     "output_type": "stream",
     "text": [
      "deleted: sha256:d8338322fe90c26755ac79c6126cbd05f8e3cdb72db1114d04f7d6c6b071e35d\r\n"
     ]
    },
    {
     "name": "stdout",
     "output_type": "stream",
     "text": [
      "deleted: sha256:d2df57f6a609e3d0a1cbfd9a634f96de22102a3196c5d6b39491db9fad9d5a1b\r\n"
     ]
    },
    {
     "name": "stdout",
     "output_type": "stream",
     "text": [
      "deleted: sha256:5a72a8e4e8c6450a18a3c6bd0a0a7675284d811b79ac0ffdacd1e685b309e667\r\n"
     ]
    },
    {
     "name": "stdout",
     "output_type": "stream",
     "text": [
      "deleted: sha256:cce55d4a92e577aa800f56f3aad3207b1719ac415c7a025a0a278293eeb5d35f\r\n"
     ]
    },
    {
     "name": "stdout",
     "output_type": "stream",
     "text": [
      "deleted: sha256:9d471481a092014e559553baefc11e8179614320814355365a44b16a846d0e3f\r\n"
     ]
    },
    {
     "name": "stdout",
     "output_type": "stream",
     "text": [
      "deleted: sha256:7dcf2a42307979644c4b0824c97e98a2d046ea5c84f022235f8d1d23a886ccb1\r\n"
     ]
    },
    {
     "name": "stdout",
     "output_type": "stream",
     "text": [
      "deleted: sha256:8097870b0d19c86b38ab21c74cb3f8412ff3d872e9f864ec5b4cbec118bd4229\r\n"
     ]
    },
    {
     "name": "stdout",
     "output_type": "stream",
     "text": [
      "untagged: alpine:3.17.2\r\n"
     ]
    },
    {
     "name": "stdout",
     "output_type": "stream",
     "text": [
      "untagged: alpine@sha256:ff6bdca1701f3a8a67e328815ff2346b0e4067d32ec36b7992c1fdc001dc8517\r\n"
     ]
    },
    {
     "name": "stdout",
     "output_type": "stream",
     "text": [
      "deleted: sha256:d74e625d91152966d38fe8a62c60daadb96d4b94c1a366de01fab5f334806239\r\n"
     ]
    },
    {
     "name": "stdout",
     "output_type": "stream",
     "text": [
      "deleted: sha256:edf70074bd40c0b1216367c29c18d453b43cc69e5123268ba66dd45d86a9e8a8\r\n"
     ]
    },
    {
     "name": "stdout",
     "output_type": "stream",
     "text": [
      "\r\n"
     ]
    },
    {
     "name": "stdout",
     "output_type": "stream",
     "text": [
      "Total reclaimed space: 2.116GB\r\n"
     ]
    }
   ],
   "source": [
    "#| output: false\n",
    "#| echo: false\n",
    "docker system prune --all --force"
   ]
  },
  {
   "cell_type": "markdown",
   "metadata": {},
   "source": [
    "Ce document est une introduction à l'utilisation des conteneurs pour isoler les composants d'une application. En pratique, nous utilisons [Docker](https://www.docker.com/).\n",
    "L'objectif est de pouvoir produire des environnements de compilation et d'exécution d'applications répétables, versionnables et portables.\n",
    "\n",
    "## Vocabulaire\n",
    "\n",
    "Conteneur \n",
    ": Un conteneur est une sorte de bac à sable (sandbox) qui isole un ensemble de processus du système en utilisant les namespaces du noyau linux et leur associe une carte réseau virtuelle. Un conteneur est l'instance d'une image. Généralement, un conteneur fournit un et un seul service.\n",
    "\n",
    "Image\n",
    ": Une image est système de fichier isolé qui contient tout ce qui est nécessaire pour l'exécution d'un conteneur. Elle contient aussi d'autres informations comme des metadonnées, des variables d'environnement ou la commande par défaut à exécuter. Souvent une image s'appuie sur une autre image à laquelle elle apporte des modificiations.\n",
    "\n",
    "Container Daemon (containerd, Docker Daemon)\n",
    ": Le container daemon est un serveur qui gère les images, les conteneurs, les réseaux et les volumes de stockage. Il peut communiquer avec d'autres container daemons et offre une API standard.\n",
    "\n",
    "Docker Client\n",
    ": Le docker client est un outils en ligne de commande pour envoyer des commandes à un ou plusieurs container daemons locaux ou distants. \n",
    "\n",
    "\n",
    "> Par exemple, un docker client peut demander à un container daemon d'exécuter une image ce qui produit un conteneur. Si l'image n'est pas disponible localement, elle est téléchargée par le container daemon depuis un registry.\n",
    "\n",
    "## Installation\n",
    "\n",
    "Docker peut être installé directement sous linux, il partage alors le noyau de l'hôte. Il peut aussi être installé dans une machine virtuelle Linux (sous Linux, Windows et MacOs) par exemple via [Docker Desktop](https://docs.docker.com/get-docker/).\n",
    "\n",
    "## Exécuter un conteneur\n",
    "\n",
    "La commande `docker container run` permet d'executer la commande par défaut d'une image dans un espace isolé. Si l'image n'est pas disponible pour le docker daemon, elle est téléchargée à partir d'un registry (par défaut [Docker Hub](http://hub.docker.com)).\n",
    "\n",
    "Comme premier exemple, exécutons l'image [hello-world](https://hub.docker.com/_/hello-world) qui illustre ce fonctionnement (lire le résultat) :"
   ]
  },
  {
   "cell_type": "code",
   "execution_count": 2,
   "metadata": {
    "tags": [],
    "vscode": {
     "languageId": "shellscript"
    }
   },
   "outputs": [
    {
     "name": "stdout",
     "output_type": "stream",
     "text": [
      "Unable to find image 'hello-world:latest' locally\r\n"
     ]
    },
    {
     "name": "stdout",
     "output_type": "stream",
     "text": [
      "latest: Pulling from library/hello-world\r\n"
     ]
    },
    {
     "name": "stdout",
     "output_type": "stream",
     "text": [
      "\r\n"
     ]
    },
    {
     "name": "stdout",
     "output_type": "stream",
     "text": [
      "\u001b[1A\u001b[2K\r",
      "478afc919002: Pulling fs layer \r",
      "\u001b[1B\u001b[1A\u001b[2K\r",
      "478afc919002: Downloading     719B/3.195kB\r",
      "\u001b[1B\u001b[1A\u001b[2K\r",
      "478afc919002: Downloading  3.195kB/3.195kB\r",
      "\u001b[1B\u001b[1A\u001b[2K\r",
      "478afc919002: Verifying Checksum \r",
      "\u001b[1B\u001b[1A\u001b[2K\r",
      "478afc919002: Download complete \r",
      "\u001b[1B\u001b[1A\u001b[2K\r",
      "478afc919002: Extracting  3.195kB/3.195kB\r",
      "\u001b[1B\u001b[1A\u001b[2K\r",
      "478afc919002: Extracting  3.195kB/3.195kB\r",
      "\u001b[1B\u001b[1A\u001b[2K\r",
      "478afc919002: Pull complete \r",
      "\u001b[1BDigest: sha256:d000bc569937abbe195e20322a0bde6b2922d805332fd6d8a68b19f524b7d21d\r\n"
     ]
    },
    {
     "name": "stdout",
     "output_type": "stream",
     "text": [
      "Status: Downloaded newer image for hello-world:latest\r\n"
     ]
    },
    {
     "name": "stdout",
     "output_type": "stream",
     "text": [
      "\r\n"
     ]
    },
    {
     "name": "stdout",
     "output_type": "stream",
     "text": [
      "Hello from Docker!\r\n"
     ]
    },
    {
     "name": "stdout",
     "output_type": "stream",
     "text": [
      "This message shows that your installation appears to be working correctly.\r\n"
     ]
    },
    {
     "name": "stdout",
     "output_type": "stream",
     "text": [
      "\r\n"
     ]
    },
    {
     "name": "stdout",
     "output_type": "stream",
     "text": [
      "To generate this message, Docker took the following steps:\r\n"
     ]
    },
    {
     "name": "stdout",
     "output_type": "stream",
     "text": [
      " 1. The Docker client contacted the Docker daemon.\r\n"
     ]
    },
    {
     "name": "stdout",
     "output_type": "stream",
     "text": [
      " 2. The Docker daemon pulled the \"hello-world\" image from the Docker Hub.\r\n"
     ]
    },
    {
     "name": "stdout",
     "output_type": "stream",
     "text": [
      "    (arm64v8)\r\n"
     ]
    },
    {
     "name": "stdout",
     "output_type": "stream",
     "text": [
      " 3. The Docker daemon created a new container from that image which runs the\r\n"
     ]
    },
    {
     "name": "stdout",
     "output_type": "stream",
     "text": [
      "    executable that produces the output you are currently reading.\r\n"
     ]
    },
    {
     "name": "stdout",
     "output_type": "stream",
     "text": [
      " 4. The Docker daemon streamed that output to the Docker client, which sent it\r\n"
     ]
    },
    {
     "name": "stdout",
     "output_type": "stream",
     "text": [
      "    to your terminal.\r\n"
     ]
    },
    {
     "name": "stdout",
     "output_type": "stream",
     "text": [
      "\r\n"
     ]
    },
    {
     "name": "stdout",
     "output_type": "stream",
     "text": [
      "To try something more ambitious, you can run an Ubuntu container with:\r\n"
     ]
    },
    {
     "name": "stdout",
     "output_type": "stream",
     "text": [
      " $ docker run -it ubuntu bash\r\n"
     ]
    },
    {
     "name": "stdout",
     "output_type": "stream",
     "text": [
      "\r\n"
     ]
    },
    {
     "name": "stdout",
     "output_type": "stream",
     "text": [
      "Share images, automate workflows, and more with a free Docker ID:\r\n"
     ]
    },
    {
     "name": "stdout",
     "output_type": "stream",
     "text": [
      " https://hub.docker.com/\r\n"
     ]
    },
    {
     "name": "stdout",
     "output_type": "stream",
     "text": [
      "\r\n"
     ]
    },
    {
     "name": "stdout",
     "output_type": "stream",
     "text": [
      "For more examples and ideas, visit:\r\n"
     ]
    },
    {
     "name": "stdout",
     "output_type": "stream",
     "text": [
      " https://docs.docker.com/get-started/\r\n"
     ]
    },
    {
     "name": "stdout",
     "output_type": "stream",
     "text": [
      "\r\n"
     ]
    }
   ],
   "source": [
    "docker container run hello-world"
   ]
  },
  {
   "cell_type": "markdown",
   "metadata": {},
   "source": [
    "Une commande docker commence par le type d'objet qu'elle manipule (`container`, `image`, ...) suivi d'une sous-commande. Par exemple, il est possible de demander au docker daemon de précharger ou de mettre à jour une image avec la sous-commande `pull`.\n",
    "\n",
    "Pour télécharger ou mettre à jour [Alpine Linux](https://www.alpinelinux.org/) qui est une distribution linux très légère :"
   ]
  },
  {
   "cell_type": "code",
   "execution_count": 3,
   "metadata": {
    "tags": [],
    "vscode": {
     "languageId": "shellscript"
    }
   },
   "outputs": [
    {
     "name": "stdout",
     "output_type": "stream",
     "text": [
      "Using default tag: latest\r\n"
     ]
    },
    {
     "name": "stdout",
     "output_type": "stream",
     "text": [
      "latest: Pulling from library/alpine\r\n"
     ]
    },
    {
     "name": "stdout",
     "output_type": "stream",
     "text": [
      "\r\n"
     ]
    },
    {
     "name": "stdout",
     "output_type": "stream",
     "text": [
      "\u001b[1A\u001b[2K\r",
      "bca4290a9639: Pulling fs layer \r",
      "\u001b[1B\u001b[1A\u001b[2K\r",
      "bca4290a9639: Downloading  34.77kB/3.348MB\r",
      "\u001b[1B\u001b[1A\u001b[2K\r",
      "bca4290a9639: Downloading    802kB/3.348MB\r",
      "\u001b[1B\u001b[1A\u001b[2K\r",
      "bca4290a9639: Downloading  2.222MB/3.348MB\r",
      "\u001b[1B\u001b[1A\u001b[2K\r",
      "bca4290a9639: Downloading  3.348MB/3.348MB\r",
      "\u001b[1B\u001b[1A\u001b[2K\r",
      "bca4290a9639: Verifying Checksum \r",
      "\u001b[1B\u001b[1A\u001b[2K\r",
      "bca4290a9639: Download complete \r",
      "\u001b[1B\u001b[1A\u001b[2K\r",
      "bca4290a9639: Extracting  65.54kB/3.348MB\r",
      "\u001b[1B\u001b[1A\u001b[2K\r",
      "bca4290a9639: Extracting  3.348MB/3.348MB\r",
      "\u001b[1B\u001b[1A\u001b[2K\r",
      "bca4290a9639: Pull complete \r",
      "\u001b[1BDigest: sha256:c5b1261d6d3e43071626931fc004f70149baeba2c8ec672bd4f27761f8e1ad6b\r\n"
     ]
    },
    {
     "name": "stdout",
     "output_type": "stream",
     "text": [
      "Status: Downloaded newer image for alpine:latest\r\n"
     ]
    },
    {
     "name": "stdout",
     "output_type": "stream",
     "text": [
      "docker.io/library/alpine:latest\r\n"
     ]
    }
   ],
   "source": [
    "docker image pull alpine"
   ]
  },
  {
   "cell_type": "markdown",
   "metadata": {},
   "source": [
    "Le format du nom d'une image est `[registry_hostname[:port]][path]image_name[:tag]`. Si l'adresse du registry est omise c'est celle de dockerhub qui est utilisé (docker.io). Si l'image est \"officielle\" `path` peut-être omis et vaut `library`, sinon il s'agit généralement du compte de l'utilisateur qui fourni l'image. `tag` permet de différencier les versions d'une image, s'il est omis il vaut `latest`. \n",
    "\n",
    "Ainsi, le nom d'image `alpine` correspond en fait à `docker.io/library/alpine:latest`. La [documentation](https://hub.docker.com/_/alpine/tags) indique les tags existants. En production, pour obtenir des exécutions reproductibles il est conseillé de spécifier la version\n",
    "\n",
    "Il est possible de choisir la commande à utiliser au lancement du container en l'indiquant après le nom de l'image. Des variables d'environnement peuvent êtrée crées dans le conteneur avec l'option `--env`."
   ]
  },
  {
   "cell_type": "code",
   "execution_count": 4,
   "metadata": {
    "tags": [],
    "vscode": {
     "languageId": "shellscript"
    }
   },
   "outputs": [
    {
     "name": "stdout",
     "output_type": "stream",
     "text": [
      "Unable to find image 'alpine:3.17.2' locally\r\n"
     ]
    },
    {
     "name": "stdout",
     "output_type": "stream",
     "text": [
      "3.17.2: Pulling from library/alpine\r\n"
     ]
    },
    {
     "name": "stdout",
     "output_type": "stream",
     "text": [
      "\r\n"
     ]
    },
    {
     "name": "stdout",
     "output_type": "stream",
     "text": [
      "\u001b[1A\u001b[2K\r",
      "af6eaf76a39c: Pulling fs layer \r",
      "\u001b[1B\u001b[1A\u001b[2K\r",
      "af6eaf76a39c: Downloading  33.43kB/3.262MB\r",
      "\u001b[1B\u001b[1A\u001b[2K\r",
      "af6eaf76a39c: Downloading  645.5kB/3.262MB\r",
      "\u001b[1B\u001b[1A\u001b[2K\r",
      "af6eaf76a39c: Downloading  1.899MB/3.262MB\r",
      "\u001b[1B\u001b[1A\u001b[2K\r",
      "af6eaf76a39c: Downloading  3.095MB/3.262MB\r",
      "\u001b[1B\u001b[1A\u001b[2K\r",
      "af6eaf76a39c: Verifying Checksum \r",
      "\u001b[1B\u001b[1A\u001b[2K\r",
      "af6eaf76a39c: Download complete \r",
      "\u001b[1B\u001b[1A\u001b[2K\r",
      "af6eaf76a39c: Extracting  32.77kB/3.262MB\r",
      "\u001b[1B\u001b[1A\u001b[2K\r",
      "af6eaf76a39c: Extracting  3.262MB/3.262MB\r",
      "\u001b[1B\u001b[1A\u001b[2K\r",
      "af6eaf76a39c: Pull complete \r",
      "\u001b[1BDigest: sha256:ff6bdca1701f3a8a67e328815ff2346b0e4067d32ec36b7992c1fdc001dc8517\r\n"
     ]
    },
    {
     "name": "stdout",
     "output_type": "stream",
     "text": [
      "Status: Downloaded newer image for alpine:3.17.2\r\n"
     ]
    },
    {
     "name": "stdout",
     "output_type": "stream",
     "text": [
      "Linux af1ccdafc4cc 6.6.12-linuxkit #1 SMP Thu Feb  8 06:36:34 UTC 2024 aarch64 Linux\r\n"
     ]
    }
   ],
   "source": [
    "docker container run \\\n",
    "    alpine:3.17.2 uname -a"
   ]
  },
  {
   "cell_type": "code",
   "execution_count": 5,
   "metadata": {
    "tags": [],
    "vscode": {
     "languageId": "java"
    }
   },
   "outputs": [
    {
     "name": "stdout",
     "output_type": "stream",
     "text": [
      "PATH=/usr/local/sbin:/usr/local/bin:/usr/sbin:/usr/bin:/sbin:/bin\r\n"
     ]
    },
    {
     "name": "stdout",
     "output_type": "stream",
     "text": [
      "HOSTNAME=60da66bd5576\r\n"
     ]
    },
    {
     "name": "stdout",
     "output_type": "stream",
     "text": [
      "FIRSTNAME=John\r\n"
     ]
    },
    {
     "name": "stdout",
     "output_type": "stream",
     "text": [
      "NAME=Doe\r\n"
     ]
    },
    {
     "name": "stdout",
     "output_type": "stream",
     "text": [
      "HOME=/root\r\n"
     ]
    }
   ],
   "source": [
    "docker container run --env FIRSTNAME=\"John\" --env NAME=\"Doe\" \\\n",
    "    alpine:3.17.2 env"
   ]
  },
  {
   "cell_type": "code",
   "execution_count": 6,
   "metadata": {
    "slideshow": {
     "slide_type": "subslide"
    },
    "tags": [],
    "vscode": {
     "languageId": "shellscript"
    }
   },
   "outputs": [
    {
     "name": "stdout",
     "output_type": "stream",
     "text": [
      "Hi !\r\n"
     ]
    }
   ],
   "source": [
    "docker container run \\\n",
    "    alpine:3.17.2 sh -c \"echo 'Hi !' > hello.txt ; cat hello.txt\""
   ]
  },
  {
   "cell_type": "markdown",
   "metadata": {},
   "source": [
    "Si la commande est interactive (comme un shell bash par exemple il faut préciser `--interactive` ou `-it`) pour utiliser l'entrée et la sortie standard. \n",
    "\n",
    "Il est aussi possible de donner un nom unique à conteneur qui peut être utilisé à la place de son ID avec l'option `--name`."
   ]
  },
  {
   "cell_type": "code",
   "execution_count": 7,
   "metadata": {
    "tags": [],
    "vscode": {
     "languageId": "shellscript"
    }
   },
   "outputs": [
    {
     "name": "stdout",
     "output_type": "stream",
     "text": [
      "zsh: bad pattern: *(\\ncat \r\n"
     ]
    },
    {
     "name": "stdout",
     "output_type": "stream",
     "text": [
      "zsh: parse error near `)'\r\n"
     ]
    }
   ],
   "source": [
    "*(\n",
    "cat <<EOF\n",
    "cd /root\n",
    "ls -al\n",
    "EOF\n",
    ") | docker run --interactive --quiet --name my-bash ubuntu:22.04 bash - "
   ]
  },
  {
   "cell_type": "markdown",
   "metadata": {},
   "source": [
    "L'exécution d'un conteneur peut être faite tâche de fond avec l'option `--detach` ou `-d`.\n",
    "\n",
    "Par exemple, pour lancer [redis](https://redis.com/), une base de donnée NoSQL de type clé/valeur :"
   ]
  },
  {
   "cell_type": "code",
   "execution_count": 8,
   "metadata": {
    "tags": [],
    "vscode": {
     "languageId": "shellscript"
    }
   },
   "outputs": [
    {
     "name": "stdout",
     "output_type": "stream",
     "text": [
      "f879433ffd8f72aa9daf77200075e50f0b80af8cad2e8933867aea9acc8094b1\r\n"
     ]
    }
   ],
   "source": [
    "docker run --quiet --detach --name my-redis redis:7.0.9"
   ]
  },
  {
   "cell_type": "markdown",
   "metadata": {},
   "source": [
    "Les conteneurs produisent généralement le log du service sur la sortie standard. Quand `--detach` est utilisé la commande `logs` permet de le consulter (ajouter `-f` pour un suivi en continu)."
   ]
  },
  {
   "cell_type": "code",
   "execution_count": 9,
   "metadata": {
    "tags": [],
    "vscode": {
     "languageId": "shellscript"
    }
   },
   "outputs": [
    {
     "name": "stdout",
     "output_type": "stream",
     "text": [
      "1:C 05 Mar 2024 12:56:35.635 # oO0OoO0OoO0Oo Redis is starting oO0OoO0OoO0Oo\r\n"
     ]
    },
    {
     "name": "stdout",
     "output_type": "stream",
     "text": [
      "1:C 05 Mar 2024 12:56:35.635 # Redis version=7.0.9, bits=64, commit=00000000, modified=0, pid=1, just started\r\n"
     ]
    },
    {
     "name": "stdout",
     "output_type": "stream",
     "text": [
      "1:C 05 Mar 2024 12:56:35.635 # Warning: no config file specified, using the default config. In order to specify a config file use redis-server /path/to/redis.conf\r\n"
     ]
    },
    {
     "name": "stdout",
     "output_type": "stream",
     "text": [
      "1:M 05 Mar 2024 12:56:35.635 * monotonic clock: POSIX clock_gettime\r\n"
     ]
    },
    {
     "name": "stdout",
     "output_type": "stream",
     "text": [
      "1:M 05 Mar 2024 12:56:35.636 * Running mode=standalone, port=6379.\r\n"
     ]
    },
    {
     "name": "stdout",
     "output_type": "stream",
     "text": [
      "1:M 05 Mar 2024 12:56:35.636 # Server initialized\r\n"
     ]
    },
    {
     "name": "stdout",
     "output_type": "stream",
     "text": [
      "1:M 05 Mar 2024 12:56:35.637 * Ready to accept connections\r\n"
     ]
    }
   ],
   "source": [
    "docker logs my-redis"
   ]
  },
  {
   "cell_type": "markdown",
   "metadata": {},
   "source": [
    "La sous-commande `ls` permet d'obtenir tous les conteneurs en cours d'exécution."
   ]
  },
  {
   "cell_type": "code",
   "execution_count": 10,
   "metadata": {
    "tags": [],
    "vscode": {
     "languageId": "shellscript"
    }
   },
   "outputs": [
    {
     "name": "stdout",
     "output_type": "stream",
     "text": [
      "CONTAINER ID   IMAGE         COMMAND                  CREATED                  STATUS                  PORTS      NAMES\r\n"
     ]
    },
    {
     "name": "stdout",
     "output_type": "stream",
     "text": [
      "f879433ffd8f   redis:7.0.9   \"docker-entrypoint.s…\"   Less than a second ago   Up Less than a second   6379/tcp   my-redis\r\n"
     ]
    }
   ],
   "source": [
    "docker container ls"
   ]
  },
  {
   "cell_type": "markdown",
   "metadata": {},
   "source": [
    "La commande `ls -a` affiche aussi ceux qui se sont arrêtés."
   ]
  },
  {
   "cell_type": "code",
   "execution_count": 11,
   "metadata": {
    "slideshow": {
     "slide_type": "subslide"
    },
    "tags": [],
    "vscode": {
     "languageId": "java"
    }
   },
   "outputs": [
    {
     "name": "stdout",
     "output_type": "stream",
     "text": [
      "CONTAINER ID   IMAGE           COMMAND                  CREATED                  STATUS                      PORTS      NAMES\r\n"
     ]
    },
    {
     "name": "stdout",
     "output_type": "stream",
     "text": [
      "f879433ffd8f   redis:7.0.9     \"docker-entrypoint.s…\"   Less than a second ago   Up Less than a second       6379/tcp   my-redis\r\n"
     ]
    },
    {
     "name": "stdout",
     "output_type": "stream",
     "text": [
      "8ea1e39d3ce5   alpine:3.17.2   \"sh -c 'echo 'Hi !' …\"   7 seconds ago            Exited (0) 7 seconds ago               gallant_mirzakhani\r\n"
     ]
    },
    {
     "name": "stdout",
     "output_type": "stream",
     "text": [
      "60da66bd5576   alpine:3.17.2   \"env\"                    8 seconds ago            Exited (0) 7 seconds ago               vigorous_varahamihira\r\n"
     ]
    },
    {
     "name": "stdout",
     "output_type": "stream",
     "text": [
      "af1ccdafc4cc   alpine:3.17.2   \"uname -a\"               8 seconds ago            Exited (0) 8 seconds ago               crazy_borg\r\n"
     ]
    },
    {
     "name": "stdout",
     "output_type": "stream",
     "text": [
      "32927ac7fc2a   hello-world     \"/hello\"                 14 seconds ago           Exited (0) 14 seconds ago              angry_mestorf\r\n"
     ]
    }
   ],
   "source": [
    "docker container ls -a"
   ]
  },
  {
   "cell_type": "markdown",
   "metadata": {},
   "source": [
    "Un conteneur s'arrête quand sa commande termine. Il peut être arrêté manuellement avec la sous-commande `stop`."
   ]
  },
  {
   "cell_type": "code",
   "execution_count": 12,
   "metadata": {
    "tags": [
     "remove-output"
    ],
    "vscode": {
     "languageId": "shellscript"
    }
   },
   "outputs": [
    {
     "name": "stdout",
     "output_type": "stream",
     "text": [
      "my-redis\r\n"
     ]
    }
   ],
   "source": [
    "docker container stop my-redis"
   ]
  },
  {
   "cell_type": "markdown",
   "metadata": {},
   "source": [
    "Un conteneur arrêté peut être relancé avec les même paramètres avec la commande `start`."
   ]
  },
  {
   "cell_type": "code",
   "execution_count": 13,
   "metadata": {
    "tags": [
     "remove-output"
    ],
    "vscode": {
     "languageId": "shellscript"
    }
   },
   "outputs": [
    {
     "name": "stdout",
     "output_type": "stream",
     "text": [
      "my-redis\r\n"
     ]
    }
   ],
   "source": [
    "docker container start my-redis"
   ]
  },
  {
   "cell_type": "markdown",
   "metadata": {},
   "source": [
    "Un container arrêté peut être détruit avec la commande `rm` en indiquant son Id ou son nom."
   ]
  },
  {
   "cell_type": "code",
   "execution_count": 14,
   "metadata": {
    "tags": [
     "remove-output"
    ],
    "vscode": {
     "languageId": "shellscript"
    }
   },
   "outputs": [
    {
     "name": "stdout",
     "output_type": "stream",
     "text": [
      "Error response from daemon: No such container: my-bash\r\n"
     ]
    }
   ],
   "source": [
    "docker rm my-bash"
   ]
  },
  {
   "cell_type": "markdown",
   "metadata": {},
   "source": [
    "La commande `exec` permet d'exécuter une commande dans un conteneur en fonctionnement. Par exemple, pour utiliser l'interface en ligne de commande de redis depuis le conteneur `my-redis` (qui exécute déjà le serveur) pour ajouter une valeur de clé \"a.b@x.fr\"."
   ]
  },
  {
   "cell_type": "code",
   "execution_count": 15,
   "metadata": {
    "tags": [],
    "vscode": {
     "languageId": "shellscript"
    }
   },
   "outputs": [
    {
     "name": "stdout",
     "output_type": "stream",
     "text": [
      "OK\r\n"
     ]
    }
   ],
   "source": [
    "docker exec my-redis redis-cli SET a.b@x.fr \"Pierre,Durand,12\""
   ]
  },
  {
   "cell_type": "markdown",
   "metadata": {},
   "source": [
    "L'option `--rm` de la commande `run` provoque la suppression du conteneur dès l'arrêt.\n",
    "\n",
    "On peut alors créer un autre conteneur éphémère pour exécuter la commande de récupération d'une valeur de redis via le réseau (la partie réseau est expliquée plus tard) à partir de l'image du serveur. "
   ]
  },
  {
   "cell_type": "code",
   "execution_count": 16,
   "metadata": {
    "slideshow": {
     "slide_type": "subslide"
    },
    "tags": [],
    "vscode": {
     "languageId": "java"
    }
   },
   "outputs": [
    {
     "name": "stdout",
     "output_type": "stream",
     "text": [
      "Pierre,Durand,12\r\n"
     ]
    }
   ],
   "source": [
    "docker run --rm --link my-redis redis:7.0.9 redis-cli -h my-redis GET a.b@x.fr"
   ]
  },
  {
   "cell_type": "code",
   "execution_count": 17,
   "metadata": {
    "tags": [],
    "vscode": {
     "languageId": "shellscript"
    }
   },
   "outputs": [
    {
     "name": "stdout",
     "output_type": "stream",
     "text": [
      "CONTAINER ID   IMAGE         COMMAND                  CREATED        STATUS                  PORTS      NAMES\r\n"
     ]
    },
    {
     "name": "stdout",
     "output_type": "stream",
     "text": [
      "f879433ffd8f   redis:7.0.9   \"docker-entrypoint.s…\"   1 second ago   Up Less than a second   6379/tcp   my-redis\r\n"
     ]
    }
   ],
   "source": [
    "docker container ls "
   ]
  },
  {
   "cell_type": "code",
   "execution_count": 18,
   "metadata": {
    "tags": [
     "remove-output"
    ],
    "user_expressions": [],
    "vscode": {
     "languageId": "java"
    }
   },
   "outputs": [
    {
     "name": "stdout",
     "output_type": "stream",
     "text": [
      "my-redis\r\n"
     ]
    },
    {
     "name": "stdout",
     "output_type": "stream",
     "text": [
      "my-redis\r\n"
     ]
    }
   ],
   "source": [
    "docker container stop my-redis\n",
    "docker container rm my-redis"
   ]
  },
  {
   "cell_type": "markdown",
   "metadata": {},
   "source": [
    "Tous les containeurs arrêtés peuvent être supprimés avec la commande `container prune`."
   ]
  },
  {
   "cell_type": "code",
   "execution_count": 19,
   "metadata": {
    "tags": [],
    "vscode": {
     "languageId": "shellscript"
    }
   },
   "outputs": [
    {
     "name": "stdout",
     "output_type": "stream",
     "text": [
      "Deleted Containers:\r\n"
     ]
    },
    {
     "name": "stdout",
     "output_type": "stream",
     "text": [
      "8ea1e39d3ce55fc6ca0ccf4f2cfa64edfbe3855f9d2bc61da0e28ce79fbf8714\r\n"
     ]
    },
    {
     "name": "stdout",
     "output_type": "stream",
     "text": [
      "60da66bd5576a8b136027ecbe7c9360ebc3f888781bbb440defcefb8ac080f12\r\n"
     ]
    },
    {
     "name": "stdout",
     "output_type": "stream",
     "text": [
      "af1ccdafc4cc42730e0328bb9fe05237ca36badbc0522d8254e66d9afc41712e\r\n"
     ]
    },
    {
     "name": "stdout",
     "output_type": "stream",
     "text": [
      "32927ac7fc2a1c0ad0a52441f00275e4ab9de9ee1e3377b1284c0e44f53afff4\r\n"
     ]
    },
    {
     "name": "stdout",
     "output_type": "stream",
     "text": [
      "\r\n"
     ]
    },
    {
     "name": "stdout",
     "output_type": "stream",
     "text": [
      "Total reclaimed space: 5B\r\n"
     ]
    }
   ],
   "source": [
    "docker container prune --force"
   ]
  },
  {
   "cell_type": "code",
   "execution_count": 20,
   "metadata": {
    "slideshow": {
     "slide_type": "subslide"
    },
    "tags": [],
    "vscode": {
     "languageId": "shellscript"
    }
   },
   "outputs": [
    {
     "name": "stdout",
     "output_type": "stream",
     "text": [
      "CONTAINER ID   IMAGE     COMMAND   CREATED   STATUS    PORTS     NAMES\r\n"
     ]
    }
   ],
   "source": [
    "docker container ls -a"
   ]
  },
  {
   "cell_type": "markdown",
   "metadata": {},
   "source": [
    "## Gérer les images\n",
    "\n",
    "Il est possible de lister ou supprimer les images disponibles localement avec la commande `image` et les sous-commandes `ls` et `rm`."
   ]
  },
  {
   "cell_type": "code",
   "execution_count": 21,
   "metadata": {
    "tags": [],
    "vscode": {
     "languageId": "shellscript"
    }
   },
   "outputs": [
    {
     "name": "stdout",
     "output_type": "stream",
     "text": [
      "REPOSITORY    TAG       IMAGE ID       CREATED         SIZE\r\n"
     ]
    },
    {
     "name": "stdout",
     "output_type": "stream",
     "text": [
      "alpine        latest    ace17d5d883e   5 weeks ago     7.73MB\r\n"
     ]
    },
    {
     "name": "stdout",
     "output_type": "stream",
     "text": [
      "hello-world   latest    ee301c921b8a   10 months ago   9.14kB\r\n"
     ]
    },
    {
     "name": "stdout",
     "output_type": "stream",
     "text": [
      "redis         7.0.9     edf4b3932692   12 months ago   111MB\r\n"
     ]
    },
    {
     "name": "stdout",
     "output_type": "stream",
     "text": [
      "alpine        3.17.2    d74e625d9115   12 months ago   7.46MB\r\n"
     ]
    }
   ],
   "source": [
    "docker image ls"
   ]
  },
  {
   "cell_type": "code",
   "execution_count": 22,
   "metadata": {
    "tags": [],
    "vscode": {
     "languageId": "shellscript"
    }
   },
   "outputs": [
    {
     "name": "stdout",
     "output_type": "stream",
     "text": [
      "Untagged: hello-world:latest\r\n"
     ]
    },
    {
     "name": "stdout",
     "output_type": "stream",
     "text": [
      "Untagged: hello-world@sha256:d000bc569937abbe195e20322a0bde6b2922d805332fd6d8a68b19f524b7d21d\r\n"
     ]
    },
    {
     "name": "stdout",
     "output_type": "stream",
     "text": [
      "Deleted: sha256:ee301c921b8aadc002973b2e0c3da17d701dcd994b606769a7e6eaa100b81d44\r\n"
     ]
    },
    {
     "name": "stdout",
     "output_type": "stream",
     "text": [
      "Deleted: sha256:12660636fe55438cc3ae7424da7ac56e845cdb52493ff9cf949c47a7f57f8b43\r\n"
     ]
    },
    {
     "name": "stdout",
     "output_type": "stream",
     "text": [
      "Untagged: redis:7.0.9\r\n"
     ]
    },
    {
     "name": "stdout",
     "output_type": "stream",
     "text": [
      "Untagged: redis@sha256:e50c7e23f79ae81351beacb20e004720d4bed657415e68c2b1a2b5557c075ce0\r\n"
     ]
    },
    {
     "name": "stdout",
     "output_type": "stream",
     "text": [
      "Deleted: sha256:edf4b3932692a4fdbd04e0bdb070e95f9e6ad4b534739a74d9da1b92215314c6\r\n"
     ]
    },
    {
     "name": "stdout",
     "output_type": "stream",
     "text": [
      "Deleted: sha256:91bff5f3e5746daba37a232fb1eb74836b6475ec31bfcb35ac6e0ea4d0bfa3c4\r\n"
     ]
    },
    {
     "name": "stdout",
     "output_type": "stream",
     "text": [
      "Deleted: sha256:2666794cc78a523f303e45aad123e15c751adaff07b958e09c5a19d06b88f5f4\r\n"
     ]
    },
    {
     "name": "stdout",
     "output_type": "stream",
     "text": [
      "Deleted: sha256:1bab36e27e8fec54fe04a4087e4a653b285b5a2ffdf3fc21c51360a9917bd416\r\n"
     ]
    },
    {
     "name": "stdout",
     "output_type": "stream",
     "text": [
      "Deleted: sha256:fabe0a0282bcf61eea2d81ad3a734d7f27d93c22f9893bd70ef68f0c6d98c98c\r\n"
     ]
    },
    {
     "name": "stdout",
     "output_type": "stream",
     "text": [
      "Deleted: sha256:098e5ea0c61165e2bd555c1a9ffaccc2c8cc59d032c253d82903508dbf477b3f\r\n"
     ]
    },
    {
     "name": "stdout",
     "output_type": "stream",
     "text": [
      "Deleted: sha256:ace73ce182d142e2b77b7b617660b45f8a766cc9c5d36174f4a8b686e3af695e\r\n"
     ]
    },
    {
     "name": "stdout",
     "output_type": "stream",
     "text": [
      "Untagged: alpine:latest\r\n"
     ]
    },
    {
     "name": "stdout",
     "output_type": "stream",
     "text": [
      "Untagged: alpine@sha256:c5b1261d6d3e43071626931fc004f70149baeba2c8ec672bd4f27761f8e1ad6b\r\n"
     ]
    },
    {
     "name": "stdout",
     "output_type": "stream",
     "text": [
      "Deleted: sha256:ace17d5d883e9ea5a21138d0608d60aa2376c68f616c55b0b7e73fba6d8556a3\r\n"
     ]
    },
    {
     "name": "stdout",
     "output_type": "stream",
     "text": [
      "Deleted: sha256:b09314aec293bcd9a8ee5e643539437b3846f9e5e55f79e282e5f67e3026de5e\r\n"
     ]
    }
   ],
   "source": [
    "docker image rm hello-world redis:7.0.9 alpine"
   ]
  },
  {
   "cell_type": "code",
   "execution_count": 23,
   "metadata": {
    "tags": [],
    "vscode": {
     "languageId": "shellscript"
    }
   },
   "outputs": [
    {
     "name": "stdout",
     "output_type": "stream",
     "text": [
      "Total reclaimed space: 0B\r\n"
     ]
    }
   ],
   "source": [
    "docker image prune --force"
   ]
  },
  {
   "cell_type": "markdown",
   "metadata": {},
   "source": [
    "## Volumes\n",
    "\n",
    "Un conteneur est généralement éphémère et sans état pour pouvoir être arrêté et relancé sans perte de données. Les fichiers créés devant être persistants doivent donc l'être en dehors du conteneur. Pour cela, on utilise les montage de systeme d fichiers (bind mount) ou les volumes. \n",
    "\n",
    "Un bind volume, c'est-à-dire un montage du système de fichier de l'hôte vers un répertoire du conteneur, est définit avec l'option `-v <source>:<destination>` de la commande `run` que l'on peut uiliser plusieurs fois. Le chemin doit être absolu mais peut utiliser la variable d'environement `${PWD}` pour simuler un chemin relatif. \n",
    "\n",
    "Dans l'exemple suivant, un premier conteneur crée le fichier `text.txt` dans un volume monté de l'hôte (le répertoire `/tmp/mydata`) dans le conteneur (à l'emplacement `/data`). Le conteneur est ensuite détruit.\n",
    "Un second conteneur monte le même répertoire de l'hôte (`/tmp/mydata` dans le nouveau conteneur mais dans `/databis`) et affiche le contenu."
   ]
  },
  {
   "cell_type": "code",
   "execution_count": 24,
   "metadata": {
    "tags": [],
    "vscode": {
     "languageId": "shellscript"
    }
   },
   "outputs": [
    {
     "name": "stdout",
     "output_type": "stream",
     "text": [
      "Unable to find image 'ubuntu:22.04' locally\r\n"
     ]
    },
    {
     "name": "stdout",
     "output_type": "stream",
     "text": [
      "22.04: Pulling from library/ubuntu\r\n"
     ]
    },
    {
     "name": "stdout",
     "output_type": "stream",
     "text": [
      "\r\n"
     ]
    },
    {
     "name": "stdout",
     "output_type": "stream",
     "text": [
      "\u001b[1A\u001b[2K\r",
      "a4a2c7a57ed8: Pulling fs layer \r",
      "\u001b[1B\u001b[1A\u001b[2K\r",
      "a4a2c7a57ed8: Downloading  277.8kB/27.36MB\r",
      "\u001b[1B\u001b[1A\u001b[2K\r",
      "a4a2c7a57ed8: Downloading  1.686MB/27.36MB\r",
      "\u001b[1B\u001b[1A\u001b[2K\r",
      "a4a2c7a57ed8: Downloading  3.074MB/27.36MB\r",
      "\u001b[1B\u001b[1A\u001b[2K\r",
      "a4a2c7a57ed8: Downloading  4.467MB/27.36MB\r",
      "\u001b[1B\u001b[1A\u001b[2K\r",
      "a4a2c7a57ed8: Downloading  5.577MB/27.36MB\r",
      "\u001b[1B\u001b[1A\u001b[2K\r",
      "a4a2c7a57ed8: Downloading  8.379MB/27.36MB\r",
      "\u001b[1B\u001b[1A\u001b[2K\r",
      "a4a2c7a57ed8: Downloading  9.489MB/27.36MB\r",
      "\u001b[1B\u001b[1A\u001b[2K\r",
      "a4a2c7a57ed8: Downloading  11.16MB/27.36MB\r",
      "\u001b[1B\u001b[1A\u001b[2K\r",
      "a4a2c7a57ed8: Downloading  12.54MB/27.36MB\r",
      "\u001b[1B\u001b[1A\u001b[2K\r",
      "a4a2c7a57ed8: Downloading  14.22MB/27.36MB\r",
      "\u001b[1B\u001b[1A\u001b[2K\r",
      "a4a2c7a57ed8: Downloading  15.06MB/27.36MB\r",
      "\u001b[1B\u001b[1A\u001b[2K\r",
      "a4a2c7a57ed8: Downloading  16.72MB/27.36MB\r",
      "\u001b[1B\u001b[1A\u001b[2K\r",
      "a4a2c7a57ed8: Downloading  18.41MB/27.36MB\r",
      "\u001b[1B\u001b[1A\u001b[2K\r",
      "a4a2c7a57ed8: Downloading  20.08MB/27.36MB\r",
      "\u001b[1B\u001b[1A\u001b[2K\r",
      "a4a2c7a57ed8: Downloading  21.48MB/27.36MB\r",
      "\u001b[1B\u001b[1A\u001b[2K\r",
      "a4a2c7a57ed8: Downloading  22.87MB/27.36MB\r",
      "\u001b[1B\u001b[1A\u001b[2K\r",
      "a4a2c7a57ed8: Downloading  24.54MB/27.36MB\r",
      "\u001b[1B\u001b[1A\u001b[2K\r",
      "a4a2c7a57ed8: Downloading  26.22MB/27.36MB\r",
      "\u001b[1B\u001b[1A\u001b[2K\r",
      "a4a2c7a57ed8: Download complete \r",
      "\u001b[1B\u001b[1A\u001b[2K\r",
      "a4a2c7a57ed8: Extracting  294.9kB/27.36MB\r",
      "\u001b[1B\u001b[1A\u001b[2K\r",
      "a4a2c7a57ed8: Extracting  7.373MB/27.36MB\r",
      "\u001b[1B\u001b[1A\u001b[2K\r",
      "a4a2c7a57ed8: Extracting  14.16MB/27.36MB\r",
      "\u001b[1B\u001b[1A\u001b[2K\r",
      "a4a2c7a57ed8: Extracting     23MB/27.36MB\r",
      "\u001b[1B\u001b[1A\u001b[2K\r",
      "a4a2c7a57ed8: Extracting  23.59MB/27.36MB\r",
      "\u001b[1B\u001b[1A\u001b[2K\r",
      "a4a2c7a57ed8: Extracting  26.25MB/27.36MB\r",
      "\u001b[1B\u001b[1A\u001b[2K\r",
      "a4a2c7a57ed8: Extracting  27.36MB/27.36MB\r",
      "\u001b[1B\u001b[1A\u001b[2K\r",
      "a4a2c7a57ed8: Pull complete \r",
      "\u001b[1BDigest: sha256:f9d633ff6640178c2d0525017174a688e2c1aef28f0a0130b26bd5554491f0da\r\n"
     ]
    },
    {
     "name": "stdout",
     "output_type": "stream",
     "text": [
      "Status: Downloaded newer image for ubuntu:22.04\r\n"
     ]
    }
   ],
   "source": [
    "docker container run --rm \\\n",
    "    -v /tmp/mydata:/data \\\n",
    "    ubuntu:22.04 \\\n",
    "        bash -c \"echo 'hello'>/data/test.txt\""
   ]
  },
  {
   "cell_type": "code",
   "execution_count": 25,
   "metadata": {
    "tags": [],
    "vscode": {
     "languageId": "shellscript"
    }
   },
   "outputs": [
    {
     "name": "stdout",
     "output_type": "stream",
     "text": [
      "hello\r\n"
     ]
    }
   ],
   "source": [
    "docker container run --rm \\\n",
    "    -v /tmp/mydata:/databis \\\n",
    "    ubuntu:22.04 \\\n",
    "        cat /databis/test.txt"
   ]
  },
  {
   "cell_type": "markdown",
   "metadata": {},
   "source": [
    "un volume peut aussi être un volume nommé géré par le docker daemon de façon transparente pour l'utilisateur. Il n'est alors plus aussi simple de partager des fichiers entre l'hôte et les conteneurs mais il n'y a plus de problème d'UID du propriétaire ni de droits. Il s'agit de la meilleure solution quand le docker daemon est exécuté sur un cluster et non sur une seule machine car alors le système de fichier peut être distribué.\n",
    "\n",
    "L'exemple suivant exécute une base de données via l'image de [PostgreSQL](https://hub.docker.com/_/postgres) dans un premier conteneur. Le volume nommé `postgres-test-data` est monté dans le répertoire indiqué dans la documentation de l'image pour contenir la base de données (`/var/lib/postgresql/data`). Comme celui-ci est initialement vide, l'image est construite pour créer alors automatiquement une base de données à partir des variables d'environnement fournies. "
   ]
  },
  {
   "cell_type": "code",
   "execution_count": 26,
   "metadata": {
    "tags": [],
    "vscode": {
     "languageId": "shellscript"
    }
   },
   "outputs": [
    {
     "name": "stdout",
     "output_type": "stream",
     "text": [
      "7724441fed1038758fd1321e96320472c471898548dc2ded1c59e94c9de6c814\r\n"
     ]
    }
   ],
   "source": [
    "docker run -d --rm --quiet \\\n",
    "  --name postgres-test \\\n",
    "  --env POSTGRES_PASSWORD=mysecretpassword \\\n",
    "  -v postgres-test-data:/var/lib/postgresql/data \\\n",
    "  postgres:15.2"
   ]
  },
  {
   "cell_type": "markdown",
   "metadata": {},
   "source": [
    "Il est possible de monter le même volume et un bind volume dans une autre conteneur par exemple pour faire une sauvegarde. En pratique, on préfère `pg_dump`, mais nous l'illustrons ici avec un simple tar. Dans le cas d'une base de données relationnelles l'arrêt du conteneur (ou un snapshot) est obligatoire pour garder la cohérence. "
   ]
  },
  {
   "cell_type": "code",
   "execution_count": 27,
   "metadata": {
    "tags": [
     "remove-output"
    ],
    "vscode": {
     "languageId": "shellscript"
    }
   },
   "outputs": [
    {
     "name": "stdout",
     "output_type": "stream",
     "text": [
      "postgres-test\r\n"
     ]
    }
   ],
   "source": [
    "container_name=postgres-test\n",
    "[[ $(docker ps --filter \"name=^/$container_name$\" --format '{{.Names}}') == $name ]] ||\n",
    "    docker container stop $container_name "
   ]
  },
  {
   "cell_type": "code",
   "execution_count": 28,
   "metadata": {
    "vscode": {
     "languageId": "shellscript"
    }
   },
   "outputs": [
    {
     "name": "stdout",
     "output_type": "stream",
     "text": [
      "tar: Removing leading `/' from member names\r\n"
     ]
    }
   ],
   "source": [
    "docker run --rm \\\n",
    "    -v postgres-test-data:/var/lib/postgresql/data \\\n",
    "    -v /tmp/backup:/backup \\\n",
    "    ubuntu:22.04 \\\n",
    "        tar zcf /backup/mydb.tar.gz /var/lib/postgresql/data "
   ]
  },
  {
   "cell_type": "markdown",
   "metadata": {},
   "source": [
    "Ensuite, un autre conteneur PostgreSQL peut être lancé en utilisant la même base."
   ]
  },
  {
   "cell_type": "code",
   "execution_count": 29,
   "metadata": {
    "tags": [
     "remove-output"
    ],
    "vscode": {
     "languageId": "java"
    }
   },
   "outputs": [
    {
     "name": "stdout",
     "output_type": "stream",
     "text": [
      "8080964fd6521aa1efe0097b8d901adc8200607564d591b7d036260136b1a07a\r\n"
     ]
    }
   ],
   "source": [
    "docker run -d --rm \\\n",
    "  --name postgres-test \\\n",
    "  --env POSTGRES_PASSWORD=mysecretpassword \\\n",
    "  -v postgres-test-data:/var/lib/postgresql/data \\\n",
    "  postgres:15.2"
   ]
  },
  {
   "cell_type": "code",
   "execution_count": 30,
   "metadata": {
    "tags": [],
    "vscode": {
     "languageId": "java"
    }
   },
   "outputs": [
    {
     "name": "stdout",
     "output_type": "stream",
     "text": [
      "\r\n"
     ]
    },
    {
     "name": "stdout",
     "output_type": "stream",
     "text": [
      "PostgreSQL Database directory appears to contain a database; Skipping initialization\r\n"
     ]
    },
    {
     "name": "stdout",
     "output_type": "stream",
     "text": [
      "\r\n"
     ]
    },
    {
     "name": "stdout",
     "output_type": "stream",
     "text": [
      "2024-03-05 12:57:11.723 UTC [1] LOG:  starting PostgreSQL 15.2 (Debian 15.2-1.pgdg110+1) on aarch64-unknown-linux-gnu, compiled by gcc (Debian 10.2.1-6) 10.2.1 20210110, 64-bit\r\n"
     ]
    },
    {
     "name": "stdout",
     "output_type": "stream",
     "text": [
      "2024-03-05 12:57:11.724 UTC [1] LOG:  listening on IPv4 address \"0.0.0.0\", port 5432\r\n"
     ]
    },
    {
     "name": "stdout",
     "output_type": "stream",
     "text": [
      "2024-03-05 12:57:11.724 UTC [1] LOG:  listening on IPv6 address \"::\", port 5432\r\n"
     ]
    },
    {
     "name": "stdout",
     "output_type": "stream",
     "text": [
      "2024-03-05 12:57:11.725 UTC [1] LOG:  listening on Unix socket \"/var/run/postgresql/.s.PGSQL.5432\"\r\n"
     ]
    },
    {
     "name": "stdout",
     "output_type": "stream",
     "text": [
      "2024-03-05 12:57:11.727 UTC [29] LOG:  database system was interrupted; last known up at 2024-03-05 12:57:00 UTC\r\n"
     ]
    },
    {
     "name": "stdout",
     "output_type": "stream",
     "text": [
      "2024-03-05 12:57:11.765 UTC [29] LOG:  database system was not properly shut down; automatic recovery in progress\r\n"
     ]
    },
    {
     "name": "stdout",
     "output_type": "stream",
     "text": [
      "2024-03-05 12:57:11.766 UTC [29] LOG:  invalid record length at 0/14FE140: wanted 24, got 0\r\n"
     ]
    },
    {
     "name": "stdout",
     "output_type": "stream",
     "text": [
      "2024-03-05 12:57:11.766 UTC [29] LOG:  redo is not required\r\n"
     ]
    },
    {
     "name": "stdout",
     "output_type": "stream",
     "text": [
      "2024-03-05 12:57:11.769 UTC [27] LOG:  checkpoint starting: end-of-recovery immediate wait\r\n"
     ]
    },
    {
     "name": "stdout",
     "output_type": "stream",
     "text": [
      "2024-03-05 12:57:11.771 UTC [27] LOG:  checkpoint complete: wrote 3 buffers (0.0%); 0 WAL file(s) added, 0 removed, 0 recycled; write=0.001 s, sync=0.001 s, total=0.005 s; sync files=2, longest=0.001 s, average=0.001 s; distance=0 kB, estimate=0 kB\r\n"
     ]
    },
    {
     "name": "stdout",
     "output_type": "stream",
     "text": [
      "2024-03-05 12:57:11.773 UTC [1] LOG:  database system is ready to accept connections\r\n"
     ]
    }
   ],
   "source": [
    "docker logs postgres-test"
   ]
  },
  {
   "cell_type": "code",
   "execution_count": 31,
   "metadata": {
    "tags": [
     "remove-output"
    ],
    "vscode": {
     "languageId": "java"
    }
   },
   "outputs": [
    {
     "name": "stdout",
     "output_type": "stream",
     "text": [
      "postgres-test\r\n"
     ]
    }
   ],
   "source": [
    "docker stop postgres-test"
   ]
  },
  {
   "cell_type": "markdown",
   "metadata": {},
   "source": [
    "Il est possible de lister et de supprimer les volumes avec les commandes `ls` et `rm`. Les volumes dont les noms sont des hachés appelés volumes anonymes sont présentés plus tard. "
   ]
  },
  {
   "cell_type": "code",
   "execution_count": 32,
   "metadata": {
    "tags": [],
    "vscode": {
     "languageId": "java"
    }
   },
   "outputs": [
    {
     "name": "stdout",
     "output_type": "stream",
     "text": [
      "DRIVER    VOLUME NAME\r\n"
     ]
    },
    {
     "name": "stdout",
     "output_type": "stream",
     "text": [
      "local     e10bc368acdb2112b48bf95fbe6f94f938986f3e049ee113984f5d890a11c2be\r\n"
     ]
    },
    {
     "name": "stdout",
     "output_type": "stream",
     "text": [
      "local     fa72ee147aedb4ef6ba1f89278d46f17c7351bf31229f1612a7a900710b030e8\r\n"
     ]
    },
    {
     "name": "stdout",
     "output_type": "stream",
     "text": [
      "local     postgres-test-data\r\n"
     ]
    }
   ],
   "source": [
    "docker volume ls"
   ]
  },
  {
   "cell_type": "code",
   "execution_count": 33,
   "metadata": {
    "tags": [
     "hide-output"
    ],
    "vscode": {
     "languageId": "java"
    }
   },
   "outputs": [
    {
     "name": "stdout",
     "output_type": "stream",
     "text": [
      "postgres-test-data\r\n"
     ]
    }
   ],
   "source": [
    "docker volume rm postgres-test-data"
   ]
  },
  {
   "cell_type": "code",
   "execution_count": 34,
   "metadata": {
    "tags": [],
    "vscode": {
     "languageId": "java"
    }
   },
   "outputs": [
    {
     "name": "stdout",
     "output_type": "stream",
     "text": [
      "DRIVER    VOLUME NAME\r\n"
     ]
    },
    {
     "name": "stdout",
     "output_type": "stream",
     "text": [
      "local     e10bc368acdb2112b48bf95fbe6f94f938986f3e049ee113984f5d890a11c2be\r\n"
     ]
    },
    {
     "name": "stdout",
     "output_type": "stream",
     "text": [
      "local     fa72ee147aedb4ef6ba1f89278d46f17c7351bf31229f1612a7a900710b030e8\r\n"
     ]
    }
   ],
   "source": [
    "docker volume ls"
   ]
  },
  {
   "cell_type": "markdown",
   "metadata": {},
   "source": [
    "### Réseau\n",
    "\n",
    "Chaque conteneur dispose d'une carte réseau virtuelle et d'au moins une adresse IP. Un conteneur peut utiliser le réseau de l'hôte (`--host`) mais généralement il appartient à un ou plusieurs réseau virtuels. Si aucun n'est précisé expliciement, le conteneur appartient à un réseau par défaut. Comme les conteneurs sont éphémères et que les adresses IP changent, elles ne sont généralement pas utilisées directement. \n",
    "\n",
    "Les réseaux peuvent être créés, listés et détruits avec les commandes `network {create, ls, rm}`. \n",
    "\n",
    "Ainsi deux conteneurs qui exécutent un shell sont sur le réseau par défaut."
   ]
  },
  {
   "cell_type": "code",
   "execution_count": 35,
   "metadata": {
    "tags": [],
    "vscode": {
     "languageId": "java"
    }
   },
   "outputs": [
    {
     "name": "stdout",
     "output_type": "stream",
     "text": [
      "453b6e5b945542a47fd9f310f554fd80779390fc52c0f679ea2c8cd1b7472cf3\r\n"
     ]
    },
    {
     "name": "stdout",
     "output_type": "stream",
     "text": [
      "b57c8dc1c113929d0c3ef0bac17c25c8c3835fc6c0d5aec56b8eda467e2b6467\r\n"
     ]
    }
   ],
   "source": [
    "docker run --quiet -dit --rm --name alpine1 alpine ash\n",
    "docker run --quiet -dit --rm --name alpine2 alpine ash"
   ]
  },
  {
   "cell_type": "code",
   "execution_count": 36,
   "metadata": {
    "tags": [],
    "vscode": {
     "languageId": "java"
    }
   },
   "outputs": [
    {
     "name": "stdout",
     "output_type": "stream",
     "text": [
      "NETWORK ID     NAME      DRIVER    SCOPE\r\n"
     ]
    },
    {
     "name": "stdout",
     "output_type": "stream",
     "text": [
      "78f97fbccea7   bridge    bridge    local\r\n"
     ]
    },
    {
     "name": "stdout",
     "output_type": "stream",
     "text": [
      "12cb1be39e39   host      host      local\r\n"
     ]
    },
    {
     "name": "stdout",
     "output_type": "stream",
     "text": [
      "3c7330aaa765   none      null      local\r\n"
     ]
    }
   ],
   "source": [
    "docker network ls"
   ]
  },
  {
   "cell_type": "markdown",
   "metadata": {},
   "source": [
    "La commande `docker inspect {container, volume, network} <name|ID>` permet de consulter le détails d'un objet docker. `jq` est un outils pour traiter des documents json."
   ]
  },
  {
   "cell_type": "code",
   "execution_count": 37,
   "metadata": {
    "tags": [],
    "vscode": {
     "languageId": "java"
    }
   },
   "outputs": [
    {
     "name": "stdout",
     "output_type": "stream",
     "text": [
      "\u001b[1;39m[\r\n"
     ]
    },
    {
     "name": "stdout",
     "output_type": "stream",
     "text": [
      "  \u001b[1;39m{\r\n"
     ]
    },
    {
     "name": "stdout",
     "output_type": "stream",
     "text": [
      "    \u001b[0m\u001b[34;1m\"Name\"\u001b[0m\u001b[1;39m: \u001b[0m\u001b[0;32m\"bridge\"\u001b[0m\u001b[1;39m,\r\n"
     ]
    },
    {
     "name": "stdout",
     "output_type": "stream",
     "text": [
      "    \u001b[0m\u001b[34;1m\"Id\"\u001b[0m\u001b[1;39m: \u001b[0m\u001b[0;32m\"78f97fbccea7fa5df35b94334c3055f468f7a60e52aa7ee7d32a208d42fda992\"\u001b[0m\u001b[1;39m,\r\n"
     ]
    },
    {
     "name": "stdout",
     "output_type": "stream",
     "text": [
      "    \u001b[0m\u001b[34;1m\"Created\"\u001b[0m\u001b[1;39m: \u001b[0m\u001b[0;32m\"2024-03-04T19:14:01.314647929Z\"\u001b[0m\u001b[1;39m,\r\n"
     ]
    },
    {
     "name": "stdout",
     "output_type": "stream",
     "text": [
      "    \u001b[0m\u001b[34;1m\"Scope\"\u001b[0m\u001b[1;39m: \u001b[0m\u001b[0;32m\"local\"\u001b[0m\u001b[1;39m,\r\n"
     ]
    },
    {
     "name": "stdout",
     "output_type": "stream",
     "text": [
      "    \u001b[0m\u001b[34;1m\"Driver\"\u001b[0m\u001b[1;39m: \u001b[0m\u001b[0;32m\"bridge\"\u001b[0m\u001b[1;39m,\r\n"
     ]
    },
    {
     "name": "stdout",
     "output_type": "stream",
     "text": [
      "    \u001b[0m\u001b[34;1m\"EnableIPv6\"\u001b[0m\u001b[1;39m: \u001b[0m\u001b[0;39mfalse\u001b[0m\u001b[1;39m,\r\n"
     ]
    },
    {
     "name": "stdout",
     "output_type": "stream",
     "text": [
      "    \u001b[0m\u001b[34;1m\"IPAM\"\u001b[0m\u001b[1;39m: \u001b[0m\u001b[1;39m{\r\n"
     ]
    },
    {
     "name": "stdout",
     "output_type": "stream",
     "text": [
      "      \u001b[0m\u001b[34;1m\"Driver\"\u001b[0m\u001b[1;39m: \u001b[0m\u001b[0;32m\"default\"\u001b[0m\u001b[1;39m,\r\n"
     ]
    },
    {
     "name": "stdout",
     "output_type": "stream",
     "text": [
      "      \u001b[0m\u001b[34;1m\"Options\"\u001b[0m\u001b[1;39m: \u001b[0m\u001b[1;30mnull\u001b[0m\u001b[1;39m,\r\n"
     ]
    },
    {
     "name": "stdout",
     "output_type": "stream",
     "text": [
      "      \u001b[0m\u001b[34;1m\"Config\"\u001b[0m\u001b[1;39m: \u001b[0m\u001b[1;39m[\r\n"
     ]
    },
    {
     "name": "stdout",
     "output_type": "stream",
     "text": [
      "        \u001b[1;39m{\r\n"
     ]
    },
    {
     "name": "stdout",
     "output_type": "stream",
     "text": [
      "          \u001b[0m\u001b[34;1m\"Subnet\"\u001b[0m\u001b[1;39m: \u001b[0m\u001b[0;32m\"172.17.0.0/16\"\u001b[0m\u001b[1;39m,\r\n"
     ]
    },
    {
     "name": "stdout",
     "output_type": "stream",
     "text": [
      "          \u001b[0m\u001b[34;1m\"Gateway\"\u001b[0m\u001b[1;39m: \u001b[0m\u001b[0;32m\"172.17.0.1\"\u001b[0m\u001b[1;39m\r\n"
     ]
    },
    {
     "name": "stdout",
     "output_type": "stream",
     "text": [
      "        \u001b[1;39m}\u001b[0m\u001b[1;39m\r\n"
     ]
    },
    {
     "name": "stdout",
     "output_type": "stream",
     "text": [
      "      \u001b[1;39m]\u001b[0m\u001b[1;39m\r\n"
     ]
    },
    {
     "name": "stdout",
     "output_type": "stream",
     "text": [
      "    \u001b[1;39m}\u001b[0m\u001b[1;39m,\r\n"
     ]
    },
    {
     "name": "stdout",
     "output_type": "stream",
     "text": [
      "    \u001b[0m\u001b[34;1m\"Internal\"\u001b[0m\u001b[1;39m: \u001b[0m\u001b[0;39mfalse\u001b[0m\u001b[1;39m,\r\n"
     ]
    },
    {
     "name": "stdout",
     "output_type": "stream",
     "text": [
      "    \u001b[0m\u001b[34;1m\"Attachable\"\u001b[0m\u001b[1;39m: \u001b[0m\u001b[0;39mfalse\u001b[0m\u001b[1;39m,\r\n"
     ]
    },
    {
     "name": "stdout",
     "output_type": "stream",
     "text": [
      "    \u001b[0m\u001b[34;1m\"Ingress\"\u001b[0m\u001b[1;39m: \u001b[0m\u001b[0;39mfalse\u001b[0m\u001b[1;39m,\r\n"
     ]
    },
    {
     "name": "stdout",
     "output_type": "stream",
     "text": [
      "    \u001b[0m\u001b[34;1m\"ConfigFrom\"\u001b[0m\u001b[1;39m: \u001b[0m\u001b[1;39m{\r\n"
     ]
    },
    {
     "name": "stdout",
     "output_type": "stream",
     "text": [
      "      \u001b[0m\u001b[34;1m\"Network\"\u001b[0m\u001b[1;39m: \u001b[0m\u001b[0;32m\"\"\u001b[0m\u001b[1;39m\r\n"
     ]
    },
    {
     "name": "stdout",
     "output_type": "stream",
     "text": [
      "    \u001b[1;39m}\u001b[0m\u001b[1;39m,\r\n"
     ]
    },
    {
     "name": "stdout",
     "output_type": "stream",
     "text": [
      "    \u001b[0m\u001b[34;1m\"ConfigOnly\"\u001b[0m\u001b[1;39m: \u001b[0m\u001b[0;39mfalse\u001b[0m\u001b[1;39m,\r\n"
     ]
    },
    {
     "name": "stdout",
     "output_type": "stream",
     "text": [
      "    \u001b[0m\u001b[34;1m\"Containers\"\u001b[0m\u001b[1;39m: \u001b[0m\u001b[1;39m{\r\n"
     ]
    },
    {
     "name": "stdout",
     "output_type": "stream",
     "text": [
      "      \u001b[0m\u001b[34;1m\"453b6e5b945542a47fd9f310f554fd80779390fc52c0f679ea2c8cd1b7472cf3\"\u001b[0m\u001b[1;39m: \u001b[0m\u001b[1;39m{\r\n"
     ]
    },
    {
     "name": "stdout",
     "output_type": "stream",
     "text": [
      "        \u001b[0m\u001b[34;1m\"Name\"\u001b[0m\u001b[1;39m: \u001b[0m\u001b[0;32m\"alpine1\"\u001b[0m\u001b[1;39m,\r\n"
     ]
    },
    {
     "name": "stdout",
     "output_type": "stream",
     "text": [
      "        \u001b[0m\u001b[34;1m\"EndpointID\"\u001b[0m\u001b[1;39m: \u001b[0m\u001b[0;32m\"5bec1d2f4d1ec779b60f1bb36caed0b0b27c8d36b9dfafdf7a70590ae1c17f5c\"\u001b[0m\u001b[1;39m,\r\n"
     ]
    },
    {
     "name": "stdout",
     "output_type": "stream",
     "text": [
      "        \u001b[0m\u001b[34;1m\"MacAddress\"\u001b[0m\u001b[1;39m: \u001b[0m\u001b[0;32m\"02:42:ac:11:00:02\"\u001b[0m\u001b[1;39m,\r\n"
     ]
    },
    {
     "name": "stdout",
     "output_type": "stream",
     "text": [
      "        \u001b[0m\u001b[34;1m\"IPv4Address\"\u001b[0m\u001b[1;39m: \u001b[0m\u001b[0;32m\"172.17.0.2/16\"\u001b[0m\u001b[1;39m,\r\n"
     ]
    },
    {
     "name": "stdout",
     "output_type": "stream",
     "text": [
      "        \u001b[0m\u001b[34;1m\"IPv6Address\"\u001b[0m\u001b[1;39m: \u001b[0m\u001b[0;32m\"\"\u001b[0m\u001b[1;39m\r\n"
     ]
    },
    {
     "name": "stdout",
     "output_type": "stream",
     "text": [
      "      \u001b[1;39m}\u001b[0m\u001b[1;39m,\r\n"
     ]
    },
    {
     "name": "stdout",
     "output_type": "stream",
     "text": [
      "      \u001b[0m\u001b[34;1m\"b57c8dc1c113929d0c3ef0bac17c25c8c3835fc6c0d5aec56b8eda467e2b6467\"\u001b[0m\u001b[1;39m: \u001b[0m\u001b[1;39m{\r\n"
     ]
    },
    {
     "name": "stdout",
     "output_type": "stream",
     "text": [
      "        \u001b[0m\u001b[34;1m\"Name\"\u001b[0m\u001b[1;39m: \u001b[0m\u001b[0;32m\"alpine2\"\u001b[0m\u001b[1;39m,\r\n"
     ]
    },
    {
     "name": "stdout",
     "output_type": "stream",
     "text": [
      "        \u001b[0m\u001b[34;1m\"EndpointID\"\u001b[0m\u001b[1;39m: \u001b[0m\u001b[0;32m\"a0aeed928a7f4d5ff616c6da754c054a753ffe5fbb1d062537e350711f0aaa26\"\u001b[0m\u001b[1;39m,\r\n"
     ]
    },
    {
     "name": "stdout",
     "output_type": "stream",
     "text": [
      "        \u001b[0m\u001b[34;1m\"MacAddress\"\u001b[0m\u001b[1;39m: \u001b[0m\u001b[0;32m\"02:42:ac:11:00:03\"\u001b[0m\u001b[1;39m,\r\n"
     ]
    },
    {
     "name": "stdout",
     "output_type": "stream",
     "text": [
      "        \u001b[0m\u001b[34;1m\"IPv4Address\"\u001b[0m\u001b[1;39m: \u001b[0m\u001b[0;32m\"172.17.0.3/16\"\u001b[0m\u001b[1;39m,\r\n"
     ]
    },
    {
     "name": "stdout",
     "output_type": "stream",
     "text": [
      "        \u001b[0m\u001b[34;1m\"IPv6Address\"\u001b[0m\u001b[1;39m: \u001b[0m\u001b[0;32m\"\"\u001b[0m\u001b[1;39m\r\n"
     ]
    },
    {
     "name": "stdout",
     "output_type": "stream",
     "text": [
      "      \u001b[1;39m}\u001b[0m\u001b[1;39m\r\n"
     ]
    },
    {
     "name": "stdout",
     "output_type": "stream",
     "text": [
      "    \u001b[1;39m}\u001b[0m\u001b[1;39m,\r\n"
     ]
    },
    {
     "name": "stdout",
     "output_type": "stream",
     "text": [
      "    \u001b[0m\u001b[34;1m\"Options\"\u001b[0m\u001b[1;39m: \u001b[0m\u001b[1;39m{\r\n"
     ]
    },
    {
     "name": "stdout",
     "output_type": "stream",
     "text": [
      "      \u001b[0m\u001b[34;1m\"com.docker.network.bridge.default_bridge\"\u001b[0m\u001b[1;39m: \u001b[0m\u001b[0;32m\"true\"\u001b[0m\u001b[1;39m,\r\n"
     ]
    },
    {
     "name": "stdout",
     "output_type": "stream",
     "text": [
      "      \u001b[0m\u001b[34;1m\"com.docker.network.bridge.enable_icc\"\u001b[0m\u001b[1;39m: \u001b[0m\u001b[0;32m\"true\"\u001b[0m\u001b[1;39m,\r\n"
     ]
    },
    {
     "name": "stdout",
     "output_type": "stream",
     "text": [
      "      \u001b[0m\u001b[34;1m\"com.docker.network.bridge.enable_ip_masquerade\"\u001b[0m\u001b[1;39m: \u001b[0m\u001b[0;32m\"true\"\u001b[0m\u001b[1;39m,\r\n"
     ]
    },
    {
     "name": "stdout",
     "output_type": "stream",
     "text": [
      "      \u001b[0m\u001b[34;1m\"com.docker.network.bridge.host_binding_ipv4\"\u001b[0m\u001b[1;39m: \u001b[0m\u001b[0;32m\"0.0.0.0\"\u001b[0m\u001b[1;39m,\r\n"
     ]
    },
    {
     "name": "stdout",
     "output_type": "stream",
     "text": [
      "      \u001b[0m\u001b[34;1m\"com.docker.network.bridge.name\"\u001b[0m\u001b[1;39m: \u001b[0m\u001b[0;32m\"docker0\"\u001b[0m\u001b[1;39m,\r\n"
     ]
    },
    {
     "name": "stdout",
     "output_type": "stream",
     "text": [
      "      \u001b[0m\u001b[34;1m\"com.docker.network.driver.mtu\"\u001b[0m\u001b[1;39m: \u001b[0m\u001b[0;32m\"1500\"\u001b[0m\u001b[1;39m\r\n"
     ]
    },
    {
     "name": "stdout",
     "output_type": "stream",
     "text": [
      "    \u001b[1;39m}\u001b[0m\u001b[1;39m,\r\n"
     ]
    },
    {
     "name": "stdout",
     "output_type": "stream",
     "text": [
      "    \u001b[0m\u001b[34;1m\"Labels\"\u001b[0m\u001b[1;39m: \u001b[0m\u001b[1;39m{}\u001b[0m\u001b[1;39m\r\n"
     ]
    },
    {
     "name": "stdout",
     "output_type": "stream",
     "text": [
      "  \u001b[1;39m}\u001b[0m\u001b[1;39m\r\n"
     ]
    },
    {
     "name": "stdout",
     "output_type": "stream",
     "text": [
      "\u001b[1;39m]\u001b[0m\r\n"
     ]
    }
   ],
   "source": [
    "docker network inspect bridge|jq"
   ]
  },
  {
   "cell_type": "markdown",
   "metadata": {},
   "source": [
    "Avec l'option `--link` lors du `run`un conteneur peut utiliser le nom d'un autre conteneur comme nom d'hôte. Ici on utilise un image qui contient des utilitaires réseaux."
   ]
  },
  {
   "cell_type": "code",
   "execution_count": 38,
   "metadata": {
    "tags": [],
    "vscode": {
     "languageId": "java"
    }
   },
   "outputs": [
    {
     "name": "stdout",
     "output_type": "stream",
     "text": [
      "PING alpine1 (172.17.0.2) 56(84) bytes of data.\r\n"
     ]
    },
    {
     "name": "stdout",
     "output_type": "stream",
     "text": [
      "64 bytes from alpine1 (172.17.0.2): icmp_seq=1 ttl=64 time=0.331 ms\r\n"
     ]
    },
    {
     "name": "stdout",
     "output_type": "stream",
     "text": [
      "\r\n"
     ]
    },
    {
     "name": "stdout",
     "output_type": "stream",
     "text": [
      "--- alpine1 ping statistics ---\r\n"
     ]
    },
    {
     "name": "stdout",
     "output_type": "stream",
     "text": [
      "1 packets transmitted, 1 received, 0% packet loss, time 0ms\r\n"
     ]
    },
    {
     "name": "stdout",
     "output_type": "stream",
     "text": [
      "rtt min/avg/max/mdev = 0.331/0.331/0.331/0.000 ms\r\n"
     ]
    }
   ],
   "source": [
    "docker run --rm --quiet \\\n",
    "    --link alpine1 --link alpine2 \\\n",
    "    nicolaka/netshoot:latest \\\n",
    "        ping -c 1 alpine1 "
   ]
  },
  {
   "cell_type": "code",
   "execution_count": 39,
   "metadata": {
    "tags": [
     "remove-output"
    ],
    "vscode": {
     "languageId": "java"
    }
   },
   "outputs": [
    {
     "name": "stdout",
     "output_type": "stream",
     "text": [
      "alpine1\r\n"
     ]
    },
    {
     "name": "stdout",
     "output_type": "stream",
     "text": [
      "alpine2\r\n"
     ]
    }
   ],
   "source": [
    "docker container stop alpine1 alpine2"
   ]
  },
  {
   "cell_type": "markdown",
   "metadata": {},
   "source": [
    "#### entre conteneurs\n",
    "\n",
    "Pour que deux conteneurs puissent communiquer simplement, le mieux est qu'ils appartiennent à un même réseau et qu'ils soient nommés. Le nom du conteneur peut alors être utilisé comme un nom d'hôte sur le réseau.\n",
    "\n",
    "si aucun réseau n'est précisé, le conteneur se trouvent dans le réseau par défaut. Il est alors obligatoire d'utiliser l'option `--link` qui est dépréciée. "
   ]
  },
  {
   "cell_type": "code",
   "execution_count": 40,
   "metadata": {
    "tags": [
     "remove-output"
    ],
    "vscode": {
     "languageId": "java"
    }
   },
   "outputs": [
    {
     "name": "stdout",
     "output_type": "stream",
     "text": [
      "b0424e81065e08beebf36382ad92d5588851255652d2ce19baa91365ecb94795\r\n"
     ]
    }
   ],
   "source": [
    "docker network create mynet"
   ]
  },
  {
   "cell_type": "markdown",
   "metadata": {},
   "source": [
    "On peut alors exécuter un conteneur nommé `nginx-01` (il fournit un serveur web nginx) sur ce réseau avec l'option `--network`."
   ]
  },
  {
   "cell_type": "code",
   "execution_count": 41,
   "metadata": {
    "tags": [
     "remove-output"
    ],
    "vscode": {
     "languageId": "java"
    }
   },
   "outputs": [
    {
     "name": "stdout",
     "output_type": "stream",
     "text": [
      "e4be37d00930e2427b3cb7aba9621a02f8a2bf7db594a09a7f8aa698fbbecd7e\r\n"
     ]
    }
   ],
   "source": [
    "docker run --rm -d --name nginx-01 --quiet \\\n",
    "           --network mynet \\\n",
    "           nginx:1.23"
   ]
  },
  {
   "cell_type": "code",
   "execution_count": 42,
   "metadata": {
    "tags": [],
    "vscode": {
     "languageId": "java"
    }
   },
   "outputs": [
    {
     "name": "stdout",
     "output_type": "stream",
     "text": [
      "\u001b[1;39m[\r\n"
     ]
    },
    {
     "name": "stdout",
     "output_type": "stream",
     "text": [
      "  \u001b[1;39m{\r\n"
     ]
    },
    {
     "name": "stdout",
     "output_type": "stream",
     "text": [
      "    \u001b[0m\u001b[34;1m\"Name\"\u001b[0m\u001b[1;39m: \u001b[0m\u001b[0;32m\"mynet\"\u001b[0m\u001b[1;39m,\r\n"
     ]
    },
    {
     "name": "stdout",
     "output_type": "stream",
     "text": [
      "    \u001b[0m\u001b[34;1m\"Id\"\u001b[0m\u001b[1;39m: \u001b[0m\u001b[0;32m\"b0424e81065e08beebf36382ad92d5588851255652d2ce19baa91365ecb94795\"\u001b[0m\u001b[1;39m,\r\n"
     ]
    },
    {
     "name": "stdout",
     "output_type": "stream",
     "text": [
      "    \u001b[0m\u001b[34;1m\"Created\"\u001b[0m\u001b[1;39m: \u001b[0m\u001b[0;32m\"2024-03-05T12:57:50.882515345Z\"\u001b[0m\u001b[1;39m,\r\n"
     ]
    },
    {
     "name": "stdout",
     "output_type": "stream",
     "text": [
      "    \u001b[0m\u001b[34;1m\"Scope\"\u001b[0m\u001b[1;39m: \u001b[0m\u001b[0;32m\"local\"\u001b[0m\u001b[1;39m,\r\n"
     ]
    },
    {
     "name": "stdout",
     "output_type": "stream",
     "text": [
      "    \u001b[0m\u001b[34;1m\"Driver\"\u001b[0m\u001b[1;39m: \u001b[0m\u001b[0;32m\"bridge\"\u001b[0m\u001b[1;39m,\r\n"
     ]
    },
    {
     "name": "stdout",
     "output_type": "stream",
     "text": [
      "    \u001b[0m\u001b[34;1m\"EnableIPv6\"\u001b[0m\u001b[1;39m: \u001b[0m\u001b[0;39mfalse\u001b[0m\u001b[1;39m,\r\n"
     ]
    },
    {
     "name": "stdout",
     "output_type": "stream",
     "text": [
      "    \u001b[0m\u001b[34;1m\"IPAM\"\u001b[0m\u001b[1;39m: \u001b[0m\u001b[1;39m{\r\n"
     ]
    },
    {
     "name": "stdout",
     "output_type": "stream",
     "text": [
      "      \u001b[0m\u001b[34;1m\"Driver\"\u001b[0m\u001b[1;39m: \u001b[0m\u001b[0;32m\"default\"\u001b[0m\u001b[1;39m,\r\n"
     ]
    },
    {
     "name": "stdout",
     "output_type": "stream",
     "text": [
      "      \u001b[0m\u001b[34;1m\"Options\"\u001b[0m\u001b[1;39m: \u001b[0m\u001b[1;39m{}\u001b[0m\u001b[1;39m,\r\n"
     ]
    },
    {
     "name": "stdout",
     "output_type": "stream",
     "text": [
      "      \u001b[0m\u001b[34;1m\"Config\"\u001b[0m\u001b[1;39m: \u001b[0m\u001b[1;39m[\r\n"
     ]
    },
    {
     "name": "stdout",
     "output_type": "stream",
     "text": [
      "        \u001b[1;39m{\r\n"
     ]
    },
    {
     "name": "stdout",
     "output_type": "stream",
     "text": [
      "          \u001b[0m\u001b[34;1m\"Subnet\"\u001b[0m\u001b[1;39m: \u001b[0m\u001b[0;32m\"172.21.0.0/16\"\u001b[0m\u001b[1;39m,\r\n"
     ]
    },
    {
     "name": "stdout",
     "output_type": "stream",
     "text": [
      "          \u001b[0m\u001b[34;1m\"Gateway\"\u001b[0m\u001b[1;39m: \u001b[0m\u001b[0;32m\"172.21.0.1\"\u001b[0m\u001b[1;39m\r\n"
     ]
    },
    {
     "name": "stdout",
     "output_type": "stream",
     "text": [
      "        \u001b[1;39m}\u001b[0m\u001b[1;39m\r\n"
     ]
    },
    {
     "name": "stdout",
     "output_type": "stream",
     "text": [
      "      \u001b[1;39m]\u001b[0m\u001b[1;39m\r\n"
     ]
    },
    {
     "name": "stdout",
     "output_type": "stream",
     "text": [
      "    \u001b[1;39m}\u001b[0m\u001b[1;39m,\r\n"
     ]
    },
    {
     "name": "stdout",
     "output_type": "stream",
     "text": [
      "    \u001b[0m\u001b[34;1m\"Internal\"\u001b[0m\u001b[1;39m: \u001b[0m\u001b[0;39mfalse\u001b[0m\u001b[1;39m,\r\n"
     ]
    },
    {
     "name": "stdout",
     "output_type": "stream",
     "text": [
      "    \u001b[0m\u001b[34;1m\"Attachable\"\u001b[0m\u001b[1;39m: \u001b[0m\u001b[0;39mfalse\u001b[0m\u001b[1;39m,\r\n"
     ]
    },
    {
     "name": "stdout",
     "output_type": "stream",
     "text": [
      "    \u001b[0m\u001b[34;1m\"Ingress\"\u001b[0m\u001b[1;39m: \u001b[0m\u001b[0;39mfalse\u001b[0m\u001b[1;39m,\r\n"
     ]
    },
    {
     "name": "stdout",
     "output_type": "stream",
     "text": [
      "    \u001b[0m\u001b[34;1m\"ConfigFrom\"\u001b[0m\u001b[1;39m: \u001b[0m\u001b[1;39m{\r\n"
     ]
    },
    {
     "name": "stdout",
     "output_type": "stream",
     "text": [
      "      \u001b[0m\u001b[34;1m\"Network\"\u001b[0m\u001b[1;39m: \u001b[0m\u001b[0;32m\"\"\u001b[0m\u001b[1;39m\r\n"
     ]
    },
    {
     "name": "stdout",
     "output_type": "stream",
     "text": [
      "    \u001b[1;39m}\u001b[0m\u001b[1;39m,\r\n"
     ]
    },
    {
     "name": "stdout",
     "output_type": "stream",
     "text": [
      "    \u001b[0m\u001b[34;1m\"ConfigOnly\"\u001b[0m\u001b[1;39m: \u001b[0m\u001b[0;39mfalse\u001b[0m\u001b[1;39m,\r\n"
     ]
    },
    {
     "name": "stdout",
     "output_type": "stream",
     "text": [
      "    \u001b[0m\u001b[34;1m\"Containers\"\u001b[0m\u001b[1;39m: \u001b[0m\u001b[1;39m{\r\n"
     ]
    },
    {
     "name": "stdout",
     "output_type": "stream",
     "text": [
      "      \u001b[0m\u001b[34;1m\"e4be37d00930e2427b3cb7aba9621a02f8a2bf7db594a09a7f8aa698fbbecd7e\"\u001b[0m\u001b[1;39m: \u001b[0m\u001b[1;39m{\r\n"
     ]
    },
    {
     "name": "stdout",
     "output_type": "stream",
     "text": [
      "        \u001b[0m\u001b[34;1m\"Name\"\u001b[0m\u001b[1;39m: \u001b[0m\u001b[0;32m\"nginx-01\"\u001b[0m\u001b[1;39m,\r\n"
     ]
    },
    {
     "name": "stdout",
     "output_type": "stream",
     "text": [
      "        \u001b[0m\u001b[34;1m\"EndpointID\"\u001b[0m\u001b[1;39m: \u001b[0m\u001b[0;32m\"511db0247b82e06b682c4f720c3e2eae417442c3064517e8ca575845285edd32\"\u001b[0m\u001b[1;39m,\r\n"
     ]
    },
    {
     "name": "stdout",
     "output_type": "stream",
     "text": [
      "        \u001b[0m\u001b[34;1m\"MacAddress\"\u001b[0m\u001b[1;39m: \u001b[0m\u001b[0;32m\"02:42:ac:15:00:02\"\u001b[0m\u001b[1;39m,\r\n"
     ]
    },
    {
     "name": "stdout",
     "output_type": "stream",
     "text": [
      "        \u001b[0m\u001b[34;1m\"IPv4Address\"\u001b[0m\u001b[1;39m: \u001b[0m\u001b[0;32m\"172.21.0.2/16\"\u001b[0m\u001b[1;39m,\r\n"
     ]
    },
    {
     "name": "stdout",
     "output_type": "stream",
     "text": [
      "        \u001b[0m\u001b[34;1m\"IPv6Address\"\u001b[0m\u001b[1;39m: \u001b[0m\u001b[0;32m\"\"\u001b[0m\u001b[1;39m\r\n"
     ]
    },
    {
     "name": "stdout",
     "output_type": "stream",
     "text": [
      "      \u001b[1;39m}\u001b[0m\u001b[1;39m\r\n"
     ]
    },
    {
     "name": "stdout",
     "output_type": "stream",
     "text": [
      "    \u001b[1;39m}\u001b[0m\u001b[1;39m,\r\n"
     ]
    },
    {
     "name": "stdout",
     "output_type": "stream",
     "text": [
      "    \u001b[0m\u001b[34;1m\"Options\"\u001b[0m\u001b[1;39m: \u001b[0m\u001b[1;39m{}\u001b[0m\u001b[1;39m,\r\n"
     ]
    },
    {
     "name": "stdout",
     "output_type": "stream",
     "text": [
      "    \u001b[0m\u001b[34;1m\"Labels\"\u001b[0m\u001b[1;39m: \u001b[0m\u001b[1;39m{}\u001b[0m\u001b[1;39m\r\n"
     ]
    },
    {
     "name": "stdout",
     "output_type": "stream",
     "text": [
      "  \u001b[1;39m}\u001b[0m\u001b[1;39m\r\n"
     ]
    },
    {
     "name": "stdout",
     "output_type": "stream",
     "text": [
      "\u001b[1;39m]\u001b[0m\r\n"
     ]
    }
   ],
   "source": [
    "docker network inspect mynet|jq"
   ]
  },
  {
   "cell_type": "code",
   "execution_count": 43,
   "metadata": {
    "tags": [
     "remove-output",
     "remove"
    ],
    "vscode": {
     "languageId": "java"
    }
   },
   "outputs": [
    {
     "name": "stdout",
     "output_type": "stream",
     "text": [
      "b687572f5c12fb3e72580bbf3dd02c88a47ec08c42fb1f20b4bd532cadeff2a2\r\n"
     ]
    }
   ],
   "source": [
    "docker run --quiet --detach --rm --name my-tshark \\\n",
    "           --network container:nginx-01 \\\n",
    "           nicolaka/netshoot:v0.9 \\\n",
    "             tshark -w /tmp/capture-output.pcap"
   ]
  },
  {
   "cell_type": "markdown",
   "metadata": {},
   "source": [
    "ce serveur peut être atteint depuis un autre conteneur sur le même réseau en utilisant son nom. Ici on exécute la commande `pandoc` qui convertit un site web en texte :"
   ]
  },
  {
   "cell_type": "code",
   "execution_count": 44,
   "metadata": {
    "tags": [],
    "vscode": {
     "languageId": "java"
    }
   },
   "outputs": [
    {
     "name": "stdout",
     "output_type": "stream",
     "text": [
      "WARNING: The requested image's platform (linux/amd64) does not match the detected host platform (linux/arm64/v8) and no specific platform was requested\r\n"
     ]
    },
    {
     "name": "stdout",
     "output_type": "stream",
     "text": [
      "Welcome to nginx!\r\n"
     ]
    },
    {
     "name": "stdout",
     "output_type": "stream",
     "text": [
      "\r\n"
     ]
    },
    {
     "name": "stdout",
     "output_type": "stream",
     "text": [
      "If you see this page, the nginx web server is successfully installed and\r\n"
     ]
    },
    {
     "name": "stdout",
     "output_type": "stream",
     "text": [
      "working. Further configuration is required.\r\n"
     ]
    },
    {
     "name": "stdout",
     "output_type": "stream",
     "text": [
      "\r\n"
     ]
    },
    {
     "name": "stdout",
     "output_type": "stream",
     "text": [
      "For online documentation and support please refer to nginx.org.\r\n"
     ]
    },
    {
     "name": "stdout",
     "output_type": "stream",
     "text": [
      "Commercial support is available at nginx.com.\r\n"
     ]
    },
    {
     "name": "stdout",
     "output_type": "stream",
     "text": [
      "\r\n"
     ]
    },
    {
     "name": "stdout",
     "output_type": "stream",
     "text": [
      "Thank you for using nginx.\r\n"
     ]
    }
   ],
   "source": [
    "docker run --quiet --network mynet --rm pandoc/core:3.1 --to plain http://nginx-01"
   ]
  },
  {
   "cell_type": "code",
   "execution_count": 45,
   "metadata": {
    "tags": [
     "remove"
    ],
    "vscode": {
     "languageId": "java"
    }
   },
   "outputs": [
    {
     "name": "stdout",
     "output_type": "stream",
     "text": [
      "    6 0.003989916   172.21.0.3 → 172.21.0.2   HTTP 123 GET / HTTP/1.1 \r\n"
     ]
    },
    {
     "name": "stdout",
     "output_type": "stream",
     "text": [
      "   10 0.004329000   172.21.0.2 → 172.21.0.3   HTTP 681 HTTP/1.1 200 OK  (text/html)\r\n"
     ]
    },
    {
     "name": "stdout",
     "output_type": "stream",
     "text": [
      "my-tshark\r\n"
     ]
    }
   ],
   "source": [
    "sleep 1\n",
    "docker exec -it my-tshark \\\n",
    "  tshark -r /tmp/capture-output.pcap -Y http\n",
    "docker stop my-tshark"
   ]
  },
  {
   "cell_type": "code",
   "execution_count": 46,
   "metadata": {
    "tags": [],
    "vscode": {
     "languageId": "java"
    }
   },
   "outputs": [
    {
     "name": "stdout",
     "output_type": "stream",
     "text": [
      "NETWORK ID     NAME      DRIVER    SCOPE\r\n"
     ]
    },
    {
     "name": "stdout",
     "output_type": "stream",
     "text": [
      "78f97fbccea7   bridge    bridge    local\r\n"
     ]
    },
    {
     "name": "stdout",
     "output_type": "stream",
     "text": [
      "12cb1be39e39   host      host      local\r\n"
     ]
    },
    {
     "name": "stdout",
     "output_type": "stream",
     "text": [
      "b0424e81065e   mynet     bridge    local\r\n"
     ]
    },
    {
     "name": "stdout",
     "output_type": "stream",
     "text": [
      "3c7330aaa765   none      null      local\r\n"
     ]
    }
   ],
   "source": [
    "docker network ls"
   ]
  },
  {
   "cell_type": "code",
   "execution_count": 47,
   "metadata": {
    "tags": [
     "remove-output"
    ],
    "vscode": {
     "languageId": "java"
    }
   },
   "outputs": [
    {
     "name": "stdout",
     "output_type": "stream",
     "text": [
      "nginx-01\r\n"
     ]
    },
    {
     "name": "stdout",
     "output_type": "stream",
     "text": [
      "mynet\r\n"
     ]
    }
   ],
   "source": [
    "docker stop nginx-01\n",
    "docker network rm mynet"
   ]
  },
  {
   "cell_type": "markdown",
   "metadata": {},
   "source": [
    "### entre l'hôte et les conteneurs\n",
    "\n",
    "Il est possible de mettre en place une redirection de ports entre l'hôte et les conteneurs avec l'option `-p <port hote>:<port conteneur>` à la création. Cela permet d'accéder aux services docker depuis l'hôte ou le réseau local. \n",
    "\n",
    "On peut donc lancer deux serveur nginx de deux versions différents qui écoutent chacun sur le port 80 de leur conteneur respectif mais qui sont accessibles depuis les port 8081 et 8082 de l'hôte."
   ]
  },
  {
   "cell_type": "code",
   "execution_count": 48,
   "metadata": {
    "tags": [
     "remove-output"
    ],
    "vscode": {
     "languageId": "java"
    }
   },
   "outputs": [
    {
     "name": "stdout",
     "output_type": "stream",
     "text": [
      "e8780e557d4b64fda21ddbcdda89bc036cd1141b3b29193327d2de87bd932d72\r\n"
     ]
    },
    {
     "name": "stdout",
     "output_type": "stream",
     "text": [
      "aefeaedd325ded1040f81573f709c056262b334471d2db7360bc7de5a85cfdbb\r\n"
     ]
    }
   ],
   "source": [
    "docker run --quiet --rm -d --name nginx-01 -p 8081:80 nginx:1.22\n",
    "docker run --quiet --rm -d --name nginx-02 -p 8082:80 nginx:1.23"
   ]
  },
  {
   "cell_type": "markdown",
   "metadata": {},
   "source": [
    "Le nom `host.docker.internal` permet d'accéder à l'hôte depuis les conteneurs."
   ]
  },
  {
   "cell_type": "code",
   "execution_count": 49,
   "metadata": {
    "tags": [],
    "vscode": {
     "languageId": "java"
    }
   },
   "outputs": [
    {
     "name": "stdout",
     "output_type": "stream",
     "text": [
      "HTTP/1.1 200 OK\r",
      "\r\n"
     ]
    },
    {
     "name": "stdout",
     "output_type": "stream",
     "text": [
      "Server: nginx/1.22.1\r",
      "\r\n"
     ]
    }
   ],
   "source": [
    "docker run --rm --quiet \\\n",
    "    --add-host=host.docker.internal:host-gateway \\\n",
    "    curlimages/curl:7.88.1 --silent --head host.docker.internal:8081|head -n 2"
   ]
  },
  {
   "cell_type": "code",
   "execution_count": 50,
   "metadata": {
    "tags": [],
    "vscode": {
     "languageId": "java"
    }
   },
   "outputs": [
    {
     "name": "stdout",
     "output_type": "stream",
     "text": [
      "HTTP/1.1 200 OK\r",
      "\r\n"
     ]
    },
    {
     "name": "stdout",
     "output_type": "stream",
     "text": [
      "Server: nginx/1.23.4\r",
      "\r\n"
     ]
    }
   ],
   "source": [
    "docker run --rm --quiet \\\n",
    "    --add-host=host.docker.internal:host-gateway \\\n",
    "    curlimages/curl:7.88.1 --silent --head host.docker.internal:8082|head -n 2"
   ]
  },
  {
   "cell_type": "code",
   "execution_count": 51,
   "metadata": {
    "tags": [
     "remove-output"
    ],
    "vscode": {
     "languageId": "java"
    }
   },
   "outputs": [
    {
     "name": "stdout",
     "output_type": "stream",
     "text": [
      "nginx-01\r\n"
     ]
    },
    {
     "name": "stdout",
     "output_type": "stream",
     "text": [
      "nginx-02\r\n"
     ]
    }
   ],
   "source": [
    "docker stop nginx-01 nginx-02"
   ]
  },
  {
   "cell_type": "markdown",
   "metadata": {},
   "source": [
    "## Illustration avec une base de données relationnelles\n",
    "\n",
    "Pour illustrer les concepts précédents, nous allons créer une base de données Postgresql à partir de l'[image officielle](https://hub.docker.com/_/postgres) dans un sous-réseau `backnet` et dont les données seront persistées dans un volume nommé `postgres-01-data`."
   ]
  },
  {
   "cell_type": "code",
   "execution_count": 52,
   "metadata": {
    "tags": [
     "remove-output"
    ],
    "vscode": {
     "languageId": "java"
    }
   },
   "outputs": [
    {
     "name": "stdout",
     "output_type": "stream",
     "text": [
      "f0f3d6f2755d53377b085a1d15c729bee95892eca08710abfbbbf5caed44a52d\r\n"
     ]
    }
   ],
   "source": [
    "docker network create backnet"
   ]
  },
  {
   "cell_type": "code",
   "execution_count": 53,
   "metadata": {
    "tags": [
     "remove-output"
    ],
    "vscode": {
     "languageId": "java"
    }
   },
   "outputs": [
    {
     "name": "stdout",
     "output_type": "stream",
     "text": [
      "05f38523d5622cf1bceb11b7f8143231d0e045459827089a621ed8d9e1571b48\r\n"
     ]
    }
   ],
   "source": [
    "docker run -d --rm \\\n",
    "  --name postgres-01 \\\n",
    "  --network backnet \\\n",
    "  --env POSTGRES_USER=dba \\\n",
    "  --env POSTGRES_PASSWORD=mysecretpassword \\\n",
    "  --env POSTGRES_DB=mydb \\\n",
    "  -v postgres-01-data:/var/lib/postgresql/data \\\n",
    "  postgres:15.2"
   ]
  },
  {
   "cell_type": "markdown",
   "metadata": {},
   "source": [
    "Il est ensuite possible d'interroger cette base de données avec la commande `psql` exécutée dans un autre conteneur ephémère. "
   ]
  },
  {
   "cell_type": "code",
   "execution_count": 54,
   "metadata": {
    "tags": [],
    "vscode": {
     "languageId": "java"
    }
   },
   "outputs": [
    {
     "name": "stdout",
     "output_type": "stream",
     "text": [
      "CREATE TABLE\r\n"
     ]
    },
    {
     "name": "stdout",
     "output_type": "stream",
     "text": [
      "INSERT 0 1\r\n"
     ]
    },
    {
     "name": "stdout",
     "output_type": "stream",
     "text": [
      "INSERT 0 1\r\n"
     ]
    }
   ],
   "source": [
    "sleep 2 \n",
    "\n",
    "docker run --rm \\\n",
    "    --network backnet \\\n",
    "    --env PGPASSWORD=mysecretpassword \\\n",
    "    postgres:15.2 \\\n",
    "        psql -h postgres-01 -U dba mydb -c \\\n",
    "            \"CREATE TABLE IF NOT EXISTS \n",
    "                    PERSON(ID serial PRIMARY KEY,NAME VARCHAR NOT NULL);\n",
    "            INSERT INTO PERSON (NAME) VALUES ('Pierre');\n",
    "            INSERT INTO PERSON (NAME) VALUES ('Marie');\""
   ]
  },
  {
   "cell_type": "markdown",
   "metadata": {},
   "source": [
    "Le conteneur de la base de donnée peut être détruit (cf --rm) et un autre créé avec le même volume donc sans perte de données. "
   ]
  },
  {
   "cell_type": "code",
   "execution_count": 55,
   "metadata": {
    "tags": [
     "remove-output"
    ],
    "vscode": {
     "languageId": "java"
    }
   },
   "outputs": [
    {
     "name": "stdout",
     "output_type": "stream",
     "text": [
      "postgres-01\r\n"
     ]
    },
    {
     "name": "stdout",
     "output_type": "stream",
     "text": [
      "60e141264fef09bcec1a22bc5166df0b818b85bcb57ec955487253e2a1c5577e\r\n"
     ]
    }
   ],
   "source": [
    "docker stop postgres-01\n",
    "\n",
    "docker run -d --rm \\\n",
    "  --name postgres-01 \\\n",
    "  --network backnet \\\n",
    "  --env POSTGRES_USER=dba \\\n",
    "  --env POSTGRES_PASSWORD=mysecretpassword \\\n",
    "  --env POSTGRES_DB=mydb \\\n",
    "  -v postgres-01-data:/var/lib/postgresql/data \\\n",
    "  postgres:15.2"
   ]
  },
  {
   "cell_type": "code",
   "execution_count": 56,
   "metadata": {
    "tags": [],
    "vscode": {
     "languageId": "java"
    }
   },
   "outputs": [
    {
     "name": "stdout",
     "output_type": "stream",
     "text": [
      " id |  name  \r\n"
     ]
    },
    {
     "name": "stdout",
     "output_type": "stream",
     "text": [
      "----+--------\r\n"
     ]
    },
    {
     "name": "stdout",
     "output_type": "stream",
     "text": [
      "  1 | Pierre\r\n"
     ]
    },
    {
     "name": "stdout",
     "output_type": "stream",
     "text": [
      "  2 | Marie\r\n"
     ]
    },
    {
     "name": "stdout",
     "output_type": "stream",
     "text": [
      "(2 rows)\r\n"
     ]
    },
    {
     "name": "stdout",
     "output_type": "stream",
     "text": [
      "\r\n"
     ]
    }
   ],
   "source": [
    "sleep 2 \n",
    "\n",
    "docker run --rm \\\n",
    "    --network backnet \\\n",
    "    --env PGPASSWORD=mysecretpassword \\\n",
    "    postgres:15.2 \\\n",
    "        psql -h postgres-01 -U dba mydb -c \\\n",
    "            \"SELECT * FROM PERSON;\""
   ]
  },
  {
   "cell_type": "markdown",
   "metadata": {},
   "source": [
    "On peut aussi utiliser un bind volume pour faire une sauvegarde sur l'hôte."
   ]
  },
  {
   "cell_type": "code",
   "execution_count": 57,
   "metadata": {
    "tags": [],
    "vscode": {
     "languageId": "java"
    }
   },
   "outputs": [],
   "source": [
    "docker run --rm \\\n",
    "    -v /tmp/backup:/backup \\\n",
    "    --network backnet \\\n",
    "    --env PGPASSWORD=mysecretpassword \\\n",
    "    postgres:15.2 \\\n",
    "        sh -c \"pg_dumpall -h postgres-01 -U dba|gzip > \\\n",
    "               /backup/pg01-$(date +'%Y%m%d_%H%M%S').backup.gz\""
   ]
  },
  {
   "cell_type": "markdown",
   "metadata": {},
   "source": [
    "Pour finir, le conteneur postgres-01 est arrêté et donc détruit, ainsi que le réseau.\\\n",
    "Dans notre exemple, le volume postgres-01-data est aussi détruit mais ***attention les données perdues***. "
   ]
  },
  {
   "cell_type": "code",
   "execution_count": 58,
   "metadata": {
    "tags": [
     "remove-output"
    ],
    "vscode": {
     "languageId": "java"
    }
   },
   "outputs": [
    {
     "name": "stdout",
     "output_type": "stream",
     "text": [
      "postgres-01\r\n"
     ]
    },
    {
     "name": "stdout",
     "output_type": "stream",
     "text": [
      "backnet\r\n"
     ]
    },
    {
     "name": "stdout",
     "output_type": "stream",
     "text": [
      "postgres-01-data\r\n"
     ]
    }
   ],
   "source": [
    "docker stop postgres-01\n",
    "docker network rm backnet\n",
    "docker volume rm postgres-01-data"
   ]
  }
 ],
 "metadata": {
  "kernelspec": {
   "display_name": "Z shell [conda env:root] *",
   "language": "zsh",
   "name": "conda-root-zsh"
  },
  "language_info": {
   "codemirror_mode": "shell",
   "file_extension": ".zsh",
   "mimetype": "text/x-zsh",
   "name": "zsh",
   "pygments_lexer": "shell",
   "version": "5.7.1"
  }
 },
 "nbformat": 4,
 "nbformat_minor": 4
}
