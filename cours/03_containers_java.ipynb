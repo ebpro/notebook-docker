{
 "cells": [
  {
   "cell_type": "raw",
   "metadata": {},
   "source": [
    "---\n",
    "title: \"Conteneurs: Application à Java\"\n",
    "jupyter: conda-root-zsh  \n",
    "description: Application des conteneurs pour la langage Java.\n",
    "categories:\n",
    "    - Containers\n",
    "    - Docker\n",
    "    - Java\n",
    "    - I211\n",
    "    - PO43\n",
    "    - Lecture\n",
    "---"
   ]
  },
  {
   "cell_type": "markdown",
   "metadata": {},
   "source": [
    "```{.dockerfile include=\"../_version.md\"}\n",
    "```\n",
    "\n",
    "Cette partie illustre les différentes approches pour générer des images docker pour des applications Java."
   ]
  },
  {
   "cell_type": "code",
   "execution_count": 1,
   "metadata": {
    "jupyter": {
     "outputs_hidden": true,
     "source_hidden": true
    },
    "vscode": {
     "languageId": "zsh"
    }
   },
   "outputs": [
    {
     "name": "stdout",
     "output_type": "stream",
     "text": [
      "Total reclaimed space: 0B\r\n"
     ]
    }
   ],
   "source": [
    "#| output: false\n",
    "#| echo: false\n",
    "docker system prune --all --force"
   ]
  },
  {
   "cell_type": "markdown",
   "metadata": {},
   "source": [
    "## A partir d'une image de maven\n",
    "\n",
    "Le plus simple est de s'appuyer sur une image de maven, d'y copier les sources et de donner comme commande le résutat de compilation.\n",
    "\n",
    "```{.dockerfile include=\"sample-java/helloworld/Dockerfile.01.mavenimage\" code-line-numbers=\"true\"}\n",
    "```"
   ]
  },
  {
   "cell_type": "code",
   "execution_count": 2,
   "metadata": {
    "tags": [
     "hide-output"
    ],
    "vscode": {
     "languageId": "zsh"
    }
   },
   "outputs": [
    {
     "name": "stdout",
     "output_type": "stream",
     "text": [
      "cd: no such file or directory: sample-java/helloworld\r\n"
     ]
    }
   ],
   "source": [
    "(cd sample-java/helloworld && \\\n",
    "docker image build --quiet --tag javahello:mavenimage --file Dockerfile.01.mavenimage . )"
   ]
  },
  {
   "cell_type": "code",
   "execution_count": 3,
   "metadata": {
    "tags": [],
    "vscode": {
     "languageId": "zsh"
    }
   },
   "outputs": [],
   "source": [
    "docker image ls|grep javahello|grep \"mavenimage \"|tr -s ' '"
   ]
  },
  {
   "cell_type": "code",
   "execution_count": 4,
   "metadata": {
    "tags": [],
    "vscode": {
     "languageId": "zsh"
    }
   },
   "outputs": [
    {
     "name": "stdout",
     "output_type": "stream",
     "text": [
      "Unable to find image 'javahello:mavenimage' locally\r\n"
     ]
    },
    {
     "name": "stdout",
     "output_type": "stream",
     "text": [
      "docker: Error response from daemon: pull access denied for javahello, repository does not exist or may require 'docker login': denied: requested access to the resource is denied.\r\n"
     ]
    },
    {
     "name": "stdout",
     "output_type": "stream",
     "text": [
      "See 'docker run --help'.\r\n"
     ]
    }
   ],
   "source": [
    "docker run --rm javahello:mavenimage"
   ]
  },
  {
   "cell_type": "markdown",
   "metadata": {},
   "source": [
    "## Multistage\n",
    "\n",
    "Il est plus efficace de s'appuyer sur la fabrication multistage d'une image docker pour séparer la chaîne de compilation de l'image d'exécution.\n",
    "On utilise alors comme image finale une base de JRE (donc plus légère) dans laquelle uniquement le résultat de la compilation est copié (attention, il doit inclure les dépendances cf. uberjar). \n",
    "\n",
    "```{.dockerfile include=\"sample-java/helloworld/Dockerfile.02.mavenimagestage\" code-line-numbers=\"true\"}\n",
    "```"
   ]
  },
  {
   "cell_type": "code",
   "execution_count": 5,
   "metadata": {
    "tags": [
     "hide-output"
    ],
    "vscode": {
     "languageId": "zsh"
    }
   },
   "outputs": [
    {
     "name": "stdout",
     "output_type": "stream",
     "text": [
      "cd: no such file or directory: sample-java/helloworld\r\n"
     ]
    }
   ],
   "source": [
    "(cd sample-java/helloworld && \\\n",
    "docker image build --quiet --tag javahello:mavenimagestage --file Dockerfile.02.mavenimagestage . )"
   ]
  },
  {
   "cell_type": "code",
   "execution_count": 6,
   "metadata": {
    "tags": [],
    "vscode": {
     "languageId": "zsh"
    }
   },
   "outputs": [],
   "source": [
    "docker image ls|grep javahello|grep mavenimagestage|tr -s ' '"
   ]
  },
  {
   "cell_type": "code",
   "execution_count": 7,
   "metadata": {
    "tags": [],
    "vscode": {
     "languageId": "zsh"
    }
   },
   "outputs": [
    {
     "name": "stdout",
     "output_type": "stream",
     "text": [
      "Unable to find image 'javahello:mavenimagestage' locally\r\n"
     ]
    },
    {
     "name": "stdout",
     "output_type": "stream",
     "text": [
      "docker: Error response from daemon: pull access denied for javahello, repository does not exist or may require 'docker login': denied: requested access to the resource is denied.\r\n"
     ]
    },
    {
     "name": "stdout",
     "output_type": "stream",
     "text": [
      "See 'docker run --help'.\r\n"
     ]
    }
   ],
   "source": [
    "docker run --rm javahello:mavenimagestage"
   ]
  },
  {
   "cell_type": "markdown",
   "metadata": {},
   "source": [
    "## Cache docker\n",
    "\n",
    "Les versions récentes de Docker proposent un mécanisme de cache qui permet de préciser explictement un dossier à mettre en cache lors du build d'une image. Pour Java et Maven, on peut ainsi mettre en cache `~/.m2` pour éviter de retélécharger systématiquement.\n",
    "\n",
    "```{.dockerfile include=\"sample-java/helloworld/Dockerfile.03.cache\" code-line-numbers=\"true\"}\n",
    "```"
   ]
  },
  {
   "cell_type": "code",
   "execution_count": 8,
   "metadata": {
    "tags": [
     "hide-output"
    ],
    "vscode": {
     "languageId": "zsh"
    }
   },
   "outputs": [
    {
     "name": "stdout",
     "output_type": "stream",
     "text": [
      "cd: no such file or directory: sample-java/helloworld\r\n"
     ]
    }
   ],
   "source": [
    "(cd sample-java/helloworld && \\\n",
    "docker image build --quiet --tag javahello:cache --file Dockerfile.03.cache . )"
   ]
  },
  {
   "cell_type": "code",
   "execution_count": 9,
   "metadata": {
    "tags": [],
    "vscode": {
     "languageId": "zsh"
    }
   },
   "outputs": [],
   "source": [
    "docker image ls|grep javahello|grep cache|tr -s ' '"
   ]
  },
  {
   "cell_type": "code",
   "execution_count": 10,
   "metadata": {
    "tags": [],
    "vscode": {
     "languageId": "zsh"
    }
   },
   "outputs": [
    {
     "name": "stdout",
     "output_type": "stream",
     "text": [
      "Unable to find image 'javahello:cache' locally\r\n"
     ]
    },
    {
     "name": "stdout",
     "output_type": "stream",
     "text": [
      "docker: Error response from daemon: pull access denied for javahello, repository does not exist or may require 'docker login': denied: requested access to the resource is denied.\r\n"
     ]
    },
    {
     "name": "stdout",
     "output_type": "stream",
     "text": [
      "See 'docker run --help'.\r\n"
     ]
    }
   ],
   "source": [
    "docker run --rm javahello:cache"
   ]
  },
  {
   "cell_type": "markdown",
   "metadata": {},
   "source": [
    "## Maven wrapper\n",
    "\n",
    "Il est aussi possible de s'appuyer simplement sur l'image d'un JDK et d'utiliser un [wrapper maven](https://maven.apache.org/wrapper/). Dans ce cas, la bonne version de maven sera téléchargée au moment de la compilation.\n",
    "\n",
    "```{.dockerfile include=\"sample-java/helloworld/Dockerfile.04.wrapper\" code-line-numbers=\"true\"}\n",
    "```"
   ]
  },
  {
   "cell_type": "code",
   "execution_count": 11,
   "metadata": {
    "tags": [
     "hide-output"
    ],
    "vscode": {
     "languageId": "zsh"
    }
   },
   "outputs": [
    {
     "name": "stdout",
     "output_type": "stream",
     "text": [
      "cd: no such file or directory: sample-java/helloworld\r\n"
     ]
    }
   ],
   "source": [
    "(cd sample-java/helloworld && \\\n",
    "docker image build --quiet --tag javahello:wrapper --file Dockerfile.04.wrapper . )"
   ]
  },
  {
   "cell_type": "code",
   "execution_count": 12,
   "metadata": {
    "tags": [],
    "vscode": {
     "languageId": "zsh"
    }
   },
   "outputs": [],
   "source": [
    "docker image ls|grep javahello|grep wrapper|tr -s ' '"
   ]
  },
  {
   "cell_type": "code",
   "execution_count": 13,
   "metadata": {
    "tags": [],
    "vscode": {
     "languageId": "zsh"
    }
   },
   "outputs": [
    {
     "name": "stdout",
     "output_type": "stream",
     "text": [
      "Unable to find image 'javahello:wrapper' locally\r\n"
     ]
    },
    {
     "name": "stdout",
     "output_type": "stream",
     "text": [
      "docker: Error response from daemon: pull access denied for javahello, repository does not exist or may require 'docker login': denied: requested access to the resource is denied.\r\n"
     ]
    },
    {
     "name": "stdout",
     "output_type": "stream",
     "text": [
      "See 'docker run --help'.\r\n"
     ]
    }
   ],
   "source": [
    "docker run --rm javahello:wrapper"
   ]
  },
  {
   "cell_type": "markdown",
   "metadata": {},
   "source": [
    "## From scratch\n",
    "Il est aussi possible réaliser une chaine de compilation personnalisée à partir de zéro par exemple avec [sdkman](https://sdkman.io/). \n",
    "\n",
    "```{.dockerfile include=\"sample-java/helloworld/Dockerfile.05.scratch\" code-line-numbers=\"true\"}\n",
    "```"
   ]
  },
  {
   "cell_type": "code",
   "execution_count": 14,
   "metadata": {
    "tags": [
     "hide-output"
    ],
    "vscode": {
     "languageId": "zsh"
    }
   },
   "outputs": [
    {
     "name": "stdout",
     "output_type": "stream",
     "text": [
      "cd: no such file or directory: sample-java/helloworld\r\n"
     ]
    }
   ],
   "source": [
    "(cd sample-java/helloworld && \\\n",
    "docker image build --quiet --tag javahello:scratch --file Dockerfile.05.scratch . )"
   ]
  },
  {
   "cell_type": "code",
   "execution_count": 15,
   "metadata": {
    "tags": [],
    "vscode": {
     "languageId": "zsh"
    }
   },
   "outputs": [],
   "source": [
    "docker image ls|grep javahello|grep scratch|tr -s ' '"
   ]
  },
  {
   "cell_type": "code",
   "execution_count": 16,
   "metadata": {
    "tags": [],
    "vscode": {
     "languageId": "zsh"
    }
   },
   "outputs": [
    {
     "name": "stdout",
     "output_type": "stream",
     "text": [
      "Unable to find image 'javahello:scratch' locally\r\n"
     ]
    },
    {
     "name": "stdout",
     "output_type": "stream",
     "text": [
      "docker: Error response from daemon: pull access denied for javahello, repository does not exist or may require 'docker login': denied: requested access to the resource is denied.\r\n"
     ]
    },
    {
     "name": "stdout",
     "output_type": "stream",
     "text": [
      "See 'docker run --help'.\r\n"
     ]
    }
   ],
   "source": [
    "docker run --rm javahello:scratch"
   ]
  },
  {
   "cell_type": "markdown",
   "metadata": {},
   "source": [
    "## Avec les modules et jlink \n",
    "\n",
    "La meilleure solution est d'utiliser les modules de Java et jlink pour produire une livraison minimale du JRE et des dépendances pour le projet. \n",
    "\n",
    "**TODO**\n",
    "\n",
    "## Comparaison des images"
   ]
  },
  {
   "cell_type": "code",
   "execution_count": 17,
   "metadata": {
    "vscode": {
     "languageId": "zsh"
    }
   },
   "outputs": [],
   "source": [
    "docker image ls|grep javahello"
   ]
  }
 ],
 "metadata": {
  "kernelspec": {
   "display_name": "Z shell [conda env:root] *",
   "language": "zsh",
   "name": "conda-root-zsh"
  },
  "language_info": {
   "codemirror_mode": "shell",
   "file_extension": ".zsh",
   "mimetype": "text/x-zsh",
   "name": "zsh",
   "pygments_lexer": "shell",
   "version": "5.7.1"
  }
 },
 "nbformat": 4,
 "nbformat_minor": 4
}
