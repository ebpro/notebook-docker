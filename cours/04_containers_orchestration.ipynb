{
 "cells": [
  {
   "cell_type": "raw",
   "metadata": {},
   "source": [
    "---\n",
    "title: \"Conteneurs: Orchestration\"\n",
    "jupyter: conda-root-java\n",
    "description: Principes de base de l'Orchestration de conteneurs, application avec Docker Compose.\n",
    "categories:\n",
    "    - Containers\n",
    "    - Docker\n",
    "    - I211\n",
    "    - PO43\n",
    "    - Lecture\n",
    "---\n",
    "\n",
    "Une introduction au développement maintenable et réutilisable: Git, Le langage Java et Docker."
   ]
  },
  {
   "cell_type": "code",
   "execution_count": 1,
   "metadata": {},
   "outputs": [
    {
     "ename": "EvalException",
     "evalue": "../_version.qmd",
     "output_type": "error",
     "traceback": [
      "\u001b[1m\u001b[31m---------------------------------------------------------------------------\u001b[0m",
      "\u001b[1m\u001b[31mjava.nio.file.NoSuchFileException: ../_version.qmd\u001b[0m",
      "\u001b[1m\u001b[31m\tat java.base/sun.nio.fs.UnixException.translateToIOException(UnixException.java:92)\u001b[0m",
      "\u001b[1m\u001b[31m\tat java.base/sun.nio.fs.UnixException.rethrowAsIOException(UnixException.java:106)\u001b[0m",
      "\u001b[1m\u001b[31m\tat java.base/sun.nio.fs.UnixException.rethrowAsIOException(UnixException.java:111)\u001b[0m",
      "\u001b[1m\u001b[31m\tat java.base/sun.nio.fs.UnixFileSystemProvider.newFileChannel(UnixFileSystemProvider.java:224)\u001b[0m",
      "\u001b[1m\u001b[31m\tat java.base/java.nio.channels.FileChannel.open(FileChannel.java:309)\u001b[0m",
      "\u001b[1m\u001b[31m\tat java.base/java.nio.channels.FileChannel.open(FileChannel.java:369)\u001b[0m",
      "\u001b[1m\u001b[31m\tat java.base/java.nio.file.Files.lines(Files.java:4112)\u001b[0m",
      "\u001b[1m\u001b[31m\tat java.base/java.nio.file.Files.lines(Files.java:4207)\u001b[0m",
      "\u001b[1m\u001b[31m\tat .(#59:1)\u001b[0m"
     ]
    }
   ],
   "source": [
    "//| echo: false\n",
    "import java.util.stream.Stream;\n",
    "String path = \"../_version.qmd\";\n",
    "Stream<String> lines = Files.lines(Paths.get(path));\n",
    "String data = lines.collect(Collectors.joining(\"\\n\"));\n",
    "lines.close();\n",
    "\n",
    "render(data, \"text/markdown\")"
   ]
  },
  {
   "cell_type": "markdown",
   "metadata": {},
   "source": [
    "\n",
    "Une application utilisant des conteneurs demande d'en coordonner plusieurs c'est que l'on appelle l'orchestration.\n",
    "L'outil classique est [kubernetes](https://kubernetes.io/) de Google. Il s'agit d'un outils complexe. Une alternative simple est [docker compose](https://docs.docker.com/compose/).  \n",
    "\n",
    "Docker compose permet de manipuler une architecture logicielle basée sur des conteneurs en décrivant des `services` dans un fichier YAML (`docker-compose.yml`). Les volumes et réseaux sont aussi gérés.\n",
    "Docker compose reprend les options des commandes de docker client. Docker compose est un simple plugin de docker client à [installer](https://docs.docker.com/compose/install/)."
   ]
  },
  {
   "cell_type": "code",
   "execution_count": 2,
   "metadata": {},
   "outputs": [
    {
     "name": "stdout",
     "output_type": "stream",
     "text": [
      "Deleted Images:\n"
     ]
    },
    {
     "name": "stdout",
     "output_type": "stream",
     "text": [
      "untagged: curlimages/curl:7.88.1\n"
     ]
    },
    {
     "name": "stdout",
     "output_type": "stream",
     "text": [
      "untagged: curlimages/curl@sha256:48318407b8d98e8c7d5bd4741c88e8e1a5442de660b47f63ba656e5c910bc3da\n"
     ]
    },
    {
     "name": "stdout",
     "output_type": "stream",
     "text": [
      "deleted: sha256:5880c2bc66d5c2fdec926f2a8d65fee338d703f99f0d08739d2b6605b3e919de\n"
     ]
    },
    {
     "name": "stdout",
     "output_type": "stream",
     "text": [
      "deleted: sha256:6203975d45eb1557a9409c39cf5c8552ae6bac233dca55d0723fe9a04d692986\n"
     ]
    },
    {
     "name": "stdout",
     "output_type": "stream",
     "text": [
      "deleted: sha256:d7ae39bfd0b19abc08575df77eaead5fa1d803cad2725a1c614a92a8a3656eab\n"
     ]
    },
    {
     "name": "stdout",
     "output_type": "stream",
     "text": [
      "deleted: sha256:2db2251524aca31588b57da8646df9628f9529807b5fc367238623aaacf9b9ad\n"
     ]
    },
    {
     "name": "stdout",
     "output_type": "stream",
     "text": [
      "deleted: sha256:e8b87f0471d6bd75b75c1ad32b6dc718c6c01815a30df2f44137be7d67e28e88\n"
     ]
    },
    {
     "name": "stdout",
     "output_type": "stream",
     "text": [
      "deleted: sha256:300e90f1cfc8ce8576e95df7f2f1c60417afff984e53bdaccd0660615930880e\n"
     ]
    },
    {
     "name": "stdout",
     "output_type": "stream",
     "text": [
      "deleted: sha256:f709a0deaab3260cf53128a1c7ae7731444d61ff3ddd3bf3c7b1a5707193248f\n"
     ]
    },
    {
     "name": "stdout",
     "output_type": "stream",
     "text": [
      "deleted: sha256:8936bda6e83a89f9deb819cf46c249117ca15307c01b303a42e7497b83d03505\n"
     ]
    },
    {
     "name": "stdout",
     "output_type": "stream",
     "text": [
      "deleted: sha256:f213fdddd8dbbf6507ff15f67093f9b67f9673efaa7f3a0c8c0ce572d45f1571\n"
     ]
    },
    {
     "name": "stdout",
     "output_type": "stream",
     "text": [
      "deleted: sha256:a2724430ad9951e1269873d7d2897516916b1f660e8859dd2b9e44d303588980\n"
     ]
    },
    {
     "name": "stdout",
     "output_type": "stream",
     "text": [
      "deleted: sha256:871b98204213215a8459e0955815854c48cf1e73baeccf0bfc5722264f9913db\n"
     ]
    },
    {
     "name": "stdout",
     "output_type": "stream",
     "text": [
      "deleted: sha256:5d3e392a13a0fdfbf8806cb4a5e4b0a92b5021103a146249d8a2c999f06a9772\n"
     ]
    },
    {
     "name": "stdout",
     "output_type": "stream",
     "text": [
      "\n"
     ]
    },
    {
     "name": "stdout",
     "output_type": "stream",
     "text": [
      "Total reclaimed space: 14.42MB\n"
     ]
    },
    {
     "data": {
      "text/plain": [
       "\u001b[36mIJava.getKernelInstance().getMag...\u001b[0m: 0"
      ]
     },
     "execution_count": 2,
     "metadata": {},
     "output_type": "execute_result"
    }
   ],
   "source": [
    "//| output: false\n",
    "//| echo: false\n",
    "%printWithName false\n",
    "String script=\"\"\"\n",
    "docker system prune --all --force\"\"\";\n",
    "\n",
    "IJava.getKernelInstance().getMagics().applyCellMagic(\"shell\",List.of(\"\"),script);    "
   ]
  },
  {
   "cell_type": "markdown",
   "metadata": {},
   "source": [
    "## Un exemple simple\n",
    "\n",
    "Dans l'exemple suivant une application est composée de deux services (1) `db` une base de données relationnelles et (2) `app` une application JPA/REST écrit en Java.\n",
    "\n",
    "Le service `app` s'appuie sur l'exécution d'une image docker de PostgreSQL en lui fixant des variables d'environnements, des volumes et une configuration réseau. \n",
    "Il faut noter que les volumes et les réseaux doivent externes définis globalement (dans le cas d'une utilisation avancée il est possible de les contrôler finement). \n"
   ]
  },
  {
   "cell_type": "markdown",
   "metadata": {},
   "source": [
    "\n",
    "```{.docker-compose include=\"sample-java/restjpa/Docker-compose.yml\" code-line-numbers=\"true\"}\n",
    "```"
   ]
  },
  {
   "cell_type": "code",
   "execution_count": 3,
   "metadata": {
    "tags": [
     "remove"
    ]
   },
   "outputs": [
    {
     "name": "stdout",
     "output_type": "stream",
     "text": [
      "/home/jovyan/work/local\n"
     ]
    },
    {
     "name": "stderr",
     "output_type": "stream",
     "text": [
      "zsh:cd:2: no such file or directory: sample-java/restjpa\n"
     ]
    },
    {
     "data": {
      "text/plain": [
       "\u001b[36mIJava.getKernelInstance().getMag...\u001b[0m: 1"
      ]
     },
     "execution_count": 3,
     "metadata": {},
     "output_type": "execute_result"
    }
   ],
   "source": [
    "//| output: false\n",
    "//| echo: false\n",
    "%printWithName false\n",
    "String script=\"\"\"\n",
    "pwd\n",
    "( cd sample-java/restjpa && docker compose down --remove-orphans )\"\"\";\n",
    "\n",
    "IJava.getKernelInstance().getMagics().applyCellMagic(\"shell\",List.of(\"\"),script);   "
   ]
  },
  {
   "cell_type": "markdown",
   "metadata": {},
   "source": [
    "Il est possible de lancer explicitement un service avec la commande `docker compose up` depuis le répertoire qui contient le  l'option `-d` permet de le détacher."
   ]
  },
  {
   "cell_type": "code",
   "execution_count": 4,
   "metadata": {
    "tags": [
     "remove-output"
    ]
   },
   "outputs": [
    {
     "name": "stderr",
     "output_type": "stream",
     "text": [
      "zsh:cd:1: no such file or directory: sample-java/restjpa\n"
     ]
    },
    {
     "name": "stderr",
     "output_type": "stream",
     "text": [
      " Container local-db-1  Running\n"
     ]
    }
   ],
   "source": [
    "%%shell\n",
    "cd sample-java/restjpa\n",
    "docker compose up --quiet-pull --detach db"
   ]
  },
  {
   "cell_type": "markdown",
   "metadata": {},
   "source": [
    "la commande `ls` liste les projets en cours d'exécution."
   ]
  },
  {
   "cell_type": "code",
   "execution_count": 5,
   "metadata": {
    "tags": []
   },
   "outputs": [
    {
     "name": "stdout",
     "output_type": "stream",
     "text": [
      "NAME                STATUS              CONFIG FILES\n"
     ]
    },
    {
     "name": "stdout",
     "output_type": "stream",
     "text": [
      "local               running(3)          /home/jovyan/work/local/docker-compose.yml\n"
     ]
    }
   ],
   "source": [
    "%%shell\n",
    "docker compose ls -a"
   ]
  },
  {
   "cell_type": "markdown",
   "metadata": {},
   "source": [
    "la commande `ps` liste les conteneurs du projet courant, noter que compose nomme automatiquement le conteneur (`<nom_repertoire_parent>-<service>-<id>`). \n",
    "Il est donc simple de lancer plusieurs fois le même projet depuis des répertoires différents ou plusieurs fois le même service sans risque de conflit à condition de ne pas utiliser de bind volumes ni de mapper des ports de l'hôte. "
   ]
  },
  {
   "cell_type": "code",
   "execution_count": 6,
   "metadata": {
    "tags": []
   },
   "outputs": [
    {
     "name": "stderr",
     "output_type": "stream",
     "text": [
      "zsh:cd:1: no such file or directory: sample-java/restjpa\n"
     ]
    },
    {
     "name": "stdout",
     "output_type": "stream",
     "text": [
      "NAME               IMAGE                         COMMAND                  SERVICE    CREATED          STATUS                    PORTS\n"
     ]
    },
    {
     "name": "stdout",
     "output_type": "stream",
     "text": [
      "local-db-1         postgres:16-alpine            \"docker-entrypoint.s…\"   db         16 seconds ago   Up 15 seconds             5432/tcp\n"
     ]
    },
    {
     "name": "stdout",
     "output_type": "stream",
     "text": [
      "local-docker-1     docker:dind                   \"dockerd-entrypoint.…\"   docker     16 seconds ago   Up 15 seconds             2376/tcp, 0.0.0.0:12375->2375/tcp\n"
     ]
    },
    {
     "name": "stdout",
     "output_type": "stream",
     "text": [
      "local-notebook-1   brunoe/jupyter-java:develop   \"tini -g -- start-no…\"   notebook   16 seconds ago   Up 15 seconds (healthy)   0.0.0.0:4200->4200/tcp, 0.0.0.0:8888->8888/tcp\n"
     ]
    }
   ],
   "source": [
    "%%shell\n",
    "cd sample-java/restjpa\n",
    "docker compose ps -a"
   ]
  },
  {
   "cell_type": "markdown",
   "metadata": {},
   "source": [
    "On remarque que docker compose prend en charge la création et le nommage des réseaux et des volumes en les préfixant du nom du répertoire parent (le projet)."
   ]
  },
  {
   "cell_type": "code",
   "execution_count": 7,
   "metadata": {
    "tags": []
   },
   "outputs": [
    {
     "name": "stdout",
     "output_type": "stream",
     "text": [
      "NETWORK ID     NAME                DRIVER    SCOPE\n"
     ]
    },
    {
     "name": "stdout",
     "output_type": "stream",
     "text": [
      "78f97fbccea7   bridge              bridge    local\n"
     ]
    },
    {
     "name": "stdout",
     "output_type": "stream",
     "text": [
      "12cb1be39e39   host                host      local\n"
     ]
    },
    {
     "name": "stdout",
     "output_type": "stream",
     "text": [
      "0232a33c5df7   local_notebooknet   bridge    local\n"
     ]
    },
    {
     "name": "stdout",
     "output_type": "stream",
     "text": [
      "3c7330aaa765   none                null      local\n"
     ]
    }
   ],
   "source": [
    "%%shell\n",
    "docker network ls"
   ]
  },
  {
   "cell_type": "code",
   "execution_count": 8,
   "metadata": {
    "tags": []
   },
   "outputs": [
    {
     "name": "stdout",
     "output_type": "stream",
     "text": [
      "DRIVER    VOLUME NAME\n"
     ]
    },
    {
     "name": "stdout",
     "output_type": "stream",
     "text": [
      "local     a98b59ba53d533bab233fd762a090a1f0ebbfa874890a6d469df5ed90ef5db84\n"
     ]
    },
    {
     "name": "stdout",
     "output_type": "stream",
     "text": [
      "local     e10bc368acdb2112b48bf95fbe6f94f938986f3e049ee113984f5d890a11c2be\n"
     ]
    },
    {
     "name": "stdout",
     "output_type": "stream",
     "text": [
      "local     f3ea98831e351e69af60cc962c4e19f5b5118f373b3bd155b1cdd82e046536ad\n"
     ]
    },
    {
     "name": "stdout",
     "output_type": "stream",
     "text": [
      "local     fa72ee147aedb4ef6ba1f89278d46f17c7351bf31229f1612a7a900710b030e8\n"
     ]
    },
    {
     "name": "stdout",
     "output_type": "stream",
     "text": [
      "local     local_certs-ca\n"
     ]
    },
    {
     "name": "stdout",
     "output_type": "stream",
     "text": [
      "local     local_certs-client\n"
     ]
    },
    {
     "name": "stdout",
     "output_type": "stream",
     "text": [
      "local     local_dbhost-data\n"
     ]
    }
   ],
   "source": [
    "%%shell\n",
    "docker volume ls"
   ]
  },
  {
   "cell_type": "markdown",
   "metadata": {},
   "source": [
    "L'affichage de log d'un service ou de tous les services se fait la commande `logs` (ici limité à 5 lignes)."
   ]
  },
  {
   "cell_type": "code",
   "execution_count": 9,
   "metadata": {
    "tags": []
   },
   "outputs": [
    {
     "name": "stderr",
     "output_type": "stream",
     "text": [
      "zsh:cd:1: no such file or directory: sample-java/restjpa\n"
     ]
    },
    {
     "name": "stdout",
     "output_type": "stream",
     "text": [
      "db-1  | 2024-03-05 13:06:08.605 UTC [1] LOG:  listening on IPv4 address \"0.0.0.0\", port 5432\n"
     ]
    },
    {
     "name": "stdout",
     "output_type": "stream",
     "text": [
      "db-1  | 2024-03-05 13:06:08.605 UTC [1] LOG:  listening on IPv6 address \"::\", port 5432\n"
     ]
    },
    {
     "name": "stdout",
     "output_type": "stream",
     "text": [
      "db-1  | 2024-03-05 13:06:08.607 UTC [1] LOG:  listening on Unix socket \"/var/run/postgresql/.s.PGSQL.5432\"\n"
     ]
    },
    {
     "name": "stdout",
     "output_type": "stream",
     "text": [
      "db-1  | 2024-03-05 13:06:08.609 UTC [52] LOG:  database system was shut down at 2024-03-05 13:06:08 UTC\n"
     ]
    },
    {
     "name": "stdout",
     "output_type": "stream",
     "text": [
      "db-1  | 2024-03-05 13:06:08.611 UTC [1] LOG:  database system is ready to accept connections\n"
     ]
    },
    {
     "name": "stdout",
     "output_type": "stream",
     "text": [
      "notebook-1  |         file:///home/jovyan/.local/share/jupyter/runtime/jpserver-77-open.html\n"
     ]
    },
    {
     "name": "stdout",
     "output_type": "stream",
     "text": [
      "notebook-1  |     Or copy and paste one of these URLs:\n"
     ]
    },
    {
     "name": "stdout",
     "output_type": "stream",
     "text": [
      "notebook-1  |         http://cdf8154567f2:8888/lab/tree/local/?token=4607038a27fef50809124e62e9dbc6782bbf247b8863b77a\n"
     ]
    },
    {
     "name": "stdout",
     "output_type": "stream",
     "text": [
      "notebook-1  |         http://127.0.0.1:8888/lab/tree/local/?token=4607038a27fef50809124e62e9dbc6782bbf247b8863b77a\n"
     ]
    },
    {
     "name": "stdout",
     "output_type": "stream",
     "text": [
      "notebook-1  | [I 2024-03-05 13:06:11.395 ServerApp] Skipped non-installed server(s): bash-language-server, dockerfile-language-server-nodejs, javascript-typescript-langserver, jedi-language-server, julia-language-server, pyright, python-language-server, python-lsp-server, r-languageserver, sql-language-server, texlab, typescript-language-server, unified-language-server, vscode-css-languageserver-bin, vscode-html-languageserver-bin, vscode-json-languageserver-bin, yaml-language-server\n"
     ]
    },
    {
     "name": "stdout",
     "output_type": "stream",
     "text": [
      "docker-1    | time=\"2024-03-05T13:06:09.882870382Z\" level=info msg=\"Loading containers: done.\"\n"
     ]
    },
    {
     "name": "stdout",
     "output_type": "stream",
     "text": [
      "docker-1    | time=\"2024-03-05T13:06:09.890941673Z\" level=info msg=\"Docker daemon\" commit=f417435 containerd-snapshotter=false storage-driver=overlay2 version=25.0.3\n"
     ]
    },
    {
     "name": "stdout",
     "output_type": "stream",
     "text": [
      "docker-1    | time=\"2024-03-05T13:06:09.891286298Z\" level=info msg=\"Daemon has completed initialization\"\n"
     ]
    },
    {
     "name": "stdout",
     "output_type": "stream",
     "text": [
      "docker-1    | time=\"2024-03-05T13:06:09.922259132Z\" level=info msg=\"API listen on [::]:2376\"\n"
     ]
    },
    {
     "name": "stdout",
     "output_type": "stream",
     "text": [
      "docker-1    | time=\"2024-03-05T13:06:09.922260715Z\" level=info msg=\"API listen on /var/run/docker.sock\"\n"
     ]
    }
   ],
   "source": [
    "%%shell\n",
    "cd sample-java/restjpa\n",
    "docker compose logs --tail 5"
   ]
  },
  {
   "cell_type": "markdown",
   "metadata": {},
   "source": [
    "On peut stopper, détruite ou relancer un service avec `stop`, `rm` et `restart`. \n",
    "La commande `down` détruit tous les containeurs et les réseaux. Attention, l'option `-v` supprime les volumes associés nommés ou non. "
   ]
  },
  {
   "cell_type": "code",
   "execution_count": 10,
   "metadata": {
    "tags": []
   },
   "outputs": [
    {
     "name": "stderr",
     "output_type": "stream",
     "text": [
      "zsh:cd:1: no such file or directory: sample-java/restjpa\n"
     ]
    },
    {
     "name": "stderr",
     "output_type": "stream",
     "text": [
      " Container local-db-1  Stopping\n"
     ]
    },
    {
     "name": "stderr",
     "output_type": "stream",
     "text": [
      " Container local-notebook-1  Stopping\n"
     ]
    },
    {
     "name": "stderr",
     "output_type": "stream",
     "text": [
      " Container local-db-1  Stopped\n"
     ]
    },
    {
     "name": "stderr",
     "output_type": "stream",
     "text": [
      " Container local-db-1  Removing\n"
     ]
    },
    {
     "name": "stderr",
     "output_type": "stream",
     "text": [
      " Container local-db-1  Removed\n"
     ]
    },
    {
     "name": "stderr",
     "output_type": "stream",
     "text": [
      " Container local-notebook-1  Stopped\n"
     ]
    },
    {
     "name": "stderr",
     "output_type": "stream",
     "text": [
      " Container local-notebook-1  Removing\n"
     ]
    },
    {
     "name": "stderr",
     "output_type": "stream",
     "text": [
      " Container local-notebook-1  Removed\n"
     ]
    },
    {
     "name": "stderr",
     "output_type": "stream",
     "text": [
      " Container local-docker-1  Stopping\n"
     ]
    },
    {
     "name": "stderr",
     "output_type": "stream",
     "text": [
      " Container local-docker-1  Stopped\n"
     ]
    },
    {
     "name": "stderr",
     "output_type": "stream",
     "text": [
      " Container local-docker-1  Removing\n"
     ]
    },
    {
     "name": "stderr",
     "output_type": "stream",
     "text": [
      " Container local-docker-1  Removed\n"
     ]
    },
    {
     "name": "stderr",
     "output_type": "stream",
     "text": [
      " Volume local_certs-ca  Removing\n"
     ]
    },
    {
     "name": "stderr",
     "output_type": "stream",
     "text": [
      " Volume local_certs-client  Removing\n"
     ]
    },
    {
     "name": "stderr",
     "output_type": "stream",
     "text": [
      " Volume local_dbhost-data  Removing\n"
     ]
    },
    {
     "name": "stderr",
     "output_type": "stream",
     "text": [
      " Volume local_certs-ca  Removed\n"
     ]
    },
    {
     "name": "stderr",
     "output_type": "stream",
     "text": [
      " Volume local_certs-client  Removed\n"
     ]
    },
    {
     "name": "stderr",
     "output_type": "stream",
     "text": [
      " Network local_notebooknet  Removing\n"
     ]
    },
    {
     "name": "stderr",
     "output_type": "stream",
     "text": [
      " Volume local_dbhost-data  Removed\n"
     ]
    },
    {
     "name": "stderr",
     "output_type": "stream",
     "text": [
      " Network local_notebooknet  Removed\n"
     ]
    }
   ],
   "source": [
    "%%shell\n",
    "cd sample-java/restjpa\n",
    "docker compose down -v"
   ]
  },
  {
   "cell_type": "markdown",
   "metadata": {},
   "source": [
    "L'autre service `app` est une application JPA/REST Java dont l'image docker est produite par `sample-java/restjpa/Dockerfile`.\n",
    "L'option `build` dans `docker-compose.yml` indique qu'il faut fabriquer l'image à partir du contexte courant (`image` sera alors son tag).\n",
    "La fabrication de l'image sera automatique au démarrage au besoin elle peut être faite manuellement avec `docker compose build`. "
   ]
  },
  {
   "cell_type": "code",
   "execution_count": 11,
   "metadata": {
    "tags": []
   },
   "outputs": [
    {
     "name": "stderr",
     "output_type": "stream",
     "text": [
      "zsh:cd:1: no such file or directory: sample-java/restjpa\n"
     ]
    },
    {
     "name": "stderr",
     "output_type": "stream",
     "text": [
      " Network local_notebooknet  Creating\n"
     ]
    },
    {
     "name": "stderr",
     "output_type": "stream",
     "text": [
      " Network local_notebooknet  Created\n"
     ]
    },
    {
     "name": "stderr",
     "output_type": "stream",
     "text": [
      " Volume \"local_certs-ca\"  Creating\n"
     ]
    },
    {
     "name": "stderr",
     "output_type": "stream",
     "text": [
      " Volume \"local_certs-ca\"  Created\n"
     ]
    },
    {
     "name": "stderr",
     "output_type": "stream",
     "text": [
      " Volume \"local_certs-client\"  Creating\n"
     ]
    },
    {
     "name": "stderr",
     "output_type": "stream",
     "text": [
      " Volume \"local_certs-client\"  Created\n"
     ]
    },
    {
     "name": "stderr",
     "output_type": "stream",
     "text": [
      " Volume \"local_dbhost-data\"  Creating\n"
     ]
    },
    {
     "name": "stderr",
     "output_type": "stream",
     "text": [
      " Volume \"local_dbhost-data\"  Created\n"
     ]
    },
    {
     "name": "stderr",
     "output_type": "stream",
     "text": [
      " Container local-docker-1  Creating\n"
     ]
    },
    {
     "name": "stderr",
     "output_type": "stream",
     "text": [
      " Container local-db-1  Creating\n"
     ]
    },
    {
     "name": "stderr",
     "output_type": "stream",
     "text": [
      " Container local-db-1  Created\n"
     ]
    },
    {
     "name": "stderr",
     "output_type": "stream",
     "text": [
      " Container local-docker-1  Created\n"
     ]
    },
    {
     "name": "stderr",
     "output_type": "stream",
     "text": [
      " Container local-notebook-1  Creating\n"
     ]
    },
    {
     "name": "stderr",
     "output_type": "stream",
     "text": [
      " Container local-notebook-1  Created\n"
     ]
    },
    {
     "name": "stderr",
     "output_type": "stream",
     "text": [
      " Container local-docker-1  Starting\n"
     ]
    },
    {
     "name": "stderr",
     "output_type": "stream",
     "text": [
      " Container local-db-1  Starting\n"
     ]
    },
    {
     "name": "stderr",
     "output_type": "stream",
     "text": [
      " Container local-docker-1  Started\n"
     ]
    },
    {
     "name": "stderr",
     "output_type": "stream",
     "text": [
      " Container local-notebook-1  Starting\n"
     ]
    },
    {
     "name": "stderr",
     "output_type": "stream",
     "text": [
      " Container local-db-1  Started\n"
     ]
    },
    {
     "name": "stderr",
     "output_type": "stream",
     "text": [
      " Container local-notebook-1  Started\n"
     ]
    }
   ],
   "source": [
    "%%shell\n",
    "cd sample-java/restjpa\n",
    "docker compose --progress=quiet build\n",
    "docker compose up --quiet-pull --detach"
   ]
  },
  {
   "cell_type": "markdown",
   "metadata": {},
   "source": [
    "Il est possible de contrôler l'ordre d'exécution des conteneurs avec la directive `depends_on` dans `docker-compose.yml` pour indiquer quels services doivent être démarrés avant un service. Dans l'exemple, la base de données doit être démarrée avant l'application."
   ]
  },
  {
   "cell_type": "code",
   "execution_count": 12,
   "metadata": {
    "tags": []
   },
   "outputs": [
    {
     "name": "stderr",
     "output_type": "stream",
     "text": [
      "docker: Error response from daemon: network restjpa_frontend not found.\n"
     ]
    }
   ],
   "source": [
    "%%shell\n",
    "\n",
    "sleep 5\n",
    "    \n",
    "docker run --network restjpa_frontend \\\n",
    "           --rm --quiet curlimages/curl:7.88.1 \\\n",
    "               curl --verbose --silent \\\n",
    "                 -H \"Accept: application/json\" \\\n",
    "                 http://restjpa-app-1:8080/restjpa/persons"
   ]
  },
  {
   "cell_type": "markdown",
   "metadata": {},
   "source": [
    "### Un exemple avancé\n",
    "\n",
    "L'exemple ci-dessous présente un exemple un peu plus avancé en ajoutant un reverse proxy (https://traefik.io) pour gérer les points d'entrées de l'application (sécurité, répartition de charges, ...).\n",
    "\n",
    "```{.dockerfile include=\"sample-java/restjpa/Docker-compose-proxy.yml\" code-line-numbers=\"true\"}\n",
    "```\n",
    "\n",
    "La directive `healthcheck` de docker compose (qui existe dans le client) permet d'indique une commande à exécuter pour vérifier l'état de santé du conteneur (s'il fonctionne correctement et pas seulement s'il a démarré). Cela peut être utilisé comme condition pour `depends_on`pour ne pas simple lancer un autre service mais attendre qu'il soit fonctionnel."
   ]
  },
  {
   "cell_type": "code",
   "execution_count": 13,
   "metadata": {
    "tags": []
   },
   "outputs": [
    {
     "name": "stderr",
     "output_type": "stream",
     "text": [
      "zsh:cd:1: no such file or directory: sample-java/restjpa\n"
     ]
    },
    {
     "name": "stderr",
     "output_type": "stream",
     "text": [
      " Container local-docker-1  Running\n"
     ]
    },
    {
     "name": "stderr",
     "output_type": "stream",
     "text": [
      " Container local-notebook-1  Running\n"
     ]
    },
    {
     "name": "stderr",
     "output_type": "stream",
     "text": [
      " Container local-db-1  Running\n"
     ]
    }
   ],
   "source": [
    "%%shell\n",
    "cd sample-java/restjpa\n",
    "docker compose --file Docker-compose.yml up --quiet-pull --detach"
   ]
  }
 ],
 "metadata": {
  "kernelspec": {
   "display_name": "Java [conda env:root] *",
   "language": "java",
   "name": "conda-root-java"
  },
  "language_info": {
   "codemirror_mode": "java",
   "file_extension": ".jshell",
   "mimetype": "text/x-java-source",
   "name": "Java",
   "pygments_lexer": "java",
   "version": "21.0.2+13-LTS"
  }
 },
 "nbformat": 4,
 "nbformat_minor": 4
}
