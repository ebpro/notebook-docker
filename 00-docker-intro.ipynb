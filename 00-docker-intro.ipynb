{
 "cells": [
  {
   "cell_type": "markdown",
   "id": "5d514b74-05e7-4f9a-a90a-d80c5bfe9f79",
   "metadata": {
    "user_expressions": []
   },
   "source": [
    "## Introduction"
   ]
  },
  {
   "cell_type": "code",
   "execution_count": 2,
   "id": "5e05aed7-1f60-414f-ad69-6eb4a007d8d7",
   "metadata": {
    "tags": [
     "hide",
     "hide-input"
    ]
   },
   "outputs": [
    {
     "name": "stdout",
     "output_type": "stream",
     "text": [
      "2023-03-10 develop-3384558\n"
     ]
    }
   ],
   "source": [
    "git config --global --add safe.directory /booksrc\n",
    "echo $(date +'%Y-%m-%d') $(git rev-parse --abbrev-ref HEAD)-$(git rev-parse --short HEAD)"
   ]
  },
  {
   "cell_type": "markdown",
   "id": "127e2136-a069-4df5-b6fe-61504363497f",
   "metadata": {
    "user_expressions": []
   },
   "source": [
    "Ce document est une introduction à l'utilisation des conteneurs pour isoler les composants d'une application. En pratique, nous utilisons [Docker](https://www.docker.com/).\n",
    "L'objectif est de pouvoir produire des environnements de compilation et d'exécution d'applications répétables, versionnables et portables."
   ]
  },
  {
   "cell_type": "markdown",
   "id": "fed64c53-077d-4745-9d5a-b2bb70f39298",
   "metadata": {
    "user_expressions": []
   },
   "source": [
    "Les exemples ci-dessous sont donnés avec la version suivante de docker : "
   ]
  },
  {
   "cell_type": "code",
   "execution_count": 8,
   "id": "84f0278e-8b2b-490d-93d0-de4a17aaccca",
   "metadata": {
    "tags": [
     "hide-input"
    ]
   },
   "outputs": [
    {
     "name": "stdout",
     "output_type": "stream",
     "text": [
      "Docker client: 23.0.1\n",
      "Docker server: 23.0.1\n",
      "Docker Compose version v2.16.0\n",
      "github.com/docker/buildx v0.10.4 c513d34049e499c53468deac6c4267ee72948f02\n"
     ]
    }
   ],
   "source": [
    "echo Docker client: $(docker version --format '{{.Client.Version}}')\n",
    "echo Docker server: $(docker version --format '{{.Server.Version}}')\n",
    "docker compose version\n",
    "docker buildx version"
   ]
  },
  {
   "cell_type": "code",
   "execution_count": null,
   "id": "74d70251-2644-4b89-92c8-23304a28d785",
   "metadata": {},
   "outputs": [],
   "source": []
  }
 ],
 "metadata": {
  "kernelspec": {
   "display_name": "Z shell",
   "language": "zsh",
   "name": "zsh"
  },
  "language_info": {
   "codemirror_mode": "shell",
   "file_extension": ".zsh",
   "mimetype": "text/x-zsh",
   "name": "zsh",
   "pygments_lexer": "shell",
   "version": "5.7.1"
  }
 },
 "nbformat": 4,
 "nbformat_minor": 5
}
