{
 "cells": [
  {
   "cell_type": "markdown",
   "id": "fc5dee8c-7359-4446-b6c4-4bac7d7e7118",
   "metadata": {
    "tags": [],
    "user_expressions": []
   },
   "source": [
    "## Notions de base\n",
    "\n",
    "### Vocabulaire\n",
    "\n",
    "Conteneur \n",
    ": Un conteneur est une sorte de bac à sable (sandbox) qui isole un ensemble de processus du système en utilisant les namespaces du noyau linux et leur associe une carte réseau virtuelle. Un conteneur est l'instance d'une image. Généralement, un conteneur fournit un et un seul service.\n",
    "\n",
    "Image\n",
    ": Une image est système de fichier isolé qui contient tout ce qui est nécessaire pour l'exécution d'un conteneur. Elle contient aussi d'autres informations comme des metadonnées, des variables d'environnement ou la commande par défaut à exécuter. Souvent une image s'appuie sur une autre image à laquelle elle apporte des modificiations.\n",
    "\n",
    "Docker Daemon\n",
    ": Le docker daemon est un serveur qui gère les images, les conteneurs, les réseaux et les volumes de stockage. Il peut communiquer avec d'autres docker daemons et offre une API standard.\n",
    "\n",
    "Docker Client\n",
    ": Le docker client est un outils en ligne de commande pour envoyer des commandes à un ou plusieurs docker daemons locaux ou distants. \n",
    "\n",
    "\n",
    "> Par exemple, un docker client peut demander à un docker daemon d'exécuter une image ce qui produit un conteneur. Si l'image n'est pas disponible localement, elle est téléchargée par le docker daemon depuis un registry.\n",
    "\n",
    "### Installation\n",
    "\n",
    "Docker peut être installé directement sous linux, il partage alors le noyau de l'hôte. Il peut aussi être installé dans une machine virtuelle Linux (sous Linux, Windows et MacOs) par exemple via [Docker Desktop](https://docs.docker.com/get-docker/)."
   ]
  },
  {
   "cell_type": "markdown",
   "id": "b4f86918-a9ab-4ca9-a535-c26d6ee9bdae",
   "metadata": {
    "slideshow": {
     "slide_type": "slide"
    },
    "tags": [],
    "user_expressions": []
   },
   "source": [
    "### Exécuter un conteneur\n",
    "\n",
    "La commande `docker container run` permet d'executer la commande par défaut d'une image dans un espace isolé. Si l'image n'est pas disponible pour le docker daemon, elle est téléchargée à partir d'un registry (par défaut [Docker Hub](http://hub.docker.com))."
   ]
  },
  {
   "cell_type": "markdown",
   "id": "c9ac6806-7b30-429e-ae44-a88ccabf0f95",
   "metadata": {
    "user_expressions": []
   },
   "source": [
    "Comme premier exemple, exécutons l'image [hello-world](https://hub.docker.com/_/hello-world) qui illustre ce fonctionnement (lire le résultat) :"
   ]
  },
  {
   "cell_type": "code",
   "execution_count": 7,
   "id": "dbbf1f93-d830-455f-93a3-6e60413a2b0b",
   "metadata": {
    "tags": []
   },
   "outputs": [
    {
     "name": "stdout",
     "output_type": "stream",
     "text": [
      "\n",
      "Hello from Docker!\n",
      "This message shows that your installation appears to be working correctly.\n",
      "\n",
      "To generate this message, Docker took the following steps:\n",
      " 1. The Docker client contacted the Docker daemon.\n",
      " 2. The Docker daemon pulled the \"hello-world\" image from the Docker Hub.\n",
      "    (arm64v8)\n",
      " 3. The Docker daemon created a new container from that image which runs the\n",
      "    executable that produces the output you are currently reading.\n",
      " 4. The Docker daemon streamed that output to the Docker client, which sent it\n",
      "    to your terminal.\n",
      "\n",
      "To try something more ambitious, you can run an Ubuntu container with:\n",
      " $ docker run -it ubuntu bash\n",
      "\n",
      "Share images, automate workflows, and more with a free Docker ID:\n",
      " https://hub.docker.com/\n",
      "\n",
      "For more examples and ideas, visit:\n",
      " https://docs.docker.com/get-started/\n",
      "\n"
     ]
    }
   ],
   "source": [
    "docker container run hello-world"
   ]
  },
  {
   "cell_type": "markdown",
   "id": "abdc6b5a-62d1-4ab4-bd60-1222a2a515ca",
   "metadata": {
    "slideshow": {
     "slide_type": "slide"
    },
    "tags": [],
    "user_expressions": []
   },
   "source": [
    "Une commande docker commence par le type d'objet qu'elle manipule (`container`, `image`, ...) suivi d'une sous-commande. Par exemple, il est possible de demander au docker daemon de précharger ou de mettre à jour une image avec la sous-commande `pull`."
   ]
  },
  {
   "cell_type": "markdown",
   "id": "b774458b-2e48-4594-ab22-e7db50b1ef31",
   "metadata": {
    "slideshow": {
     "slide_type": "slide"
    },
    "tags": [],
    "user_expressions": []
   },
   "source": [
    "Pour télécharger ou mettre à jour [Alpine Linux](https://www.alpinelinux.org/) qui est une distribution linux très légère :"
   ]
  },
  {
   "cell_type": "code",
   "execution_count": 3,
   "id": "a60eb51f-98b3-4b31-a82d-27788958e5e1",
   "metadata": {
    "tags": []
   },
   "outputs": [
    {
     "name": "stdout",
     "output_type": "stream",
     "text": [
      "Using default tag: latest\n",
      "latest: Pulling from library/alpine\n",
      "Digest: sha256:69665d02cb32192e52e07644d76bc6f25abeb5410edc1c7a81a10ba3f0efb90a\n",
      "Status: Image is up to date for alpine:latest\n",
      "docker.io/library/alpine:latest\n"
     ]
    }
   ],
   "source": [
    "docker image pull alpine"
   ]
  },
  {
   "cell_type": "markdown",
   "id": "e02ceab6-aebb-4c14-977f-837293751055",
   "metadata": {
    "user_expressions": []
   },
   "source": [
    "Le format du nom d'une image est `[registry_hostname[:port]][path]image_name[:tag]`. Si l'adresse du registry est omise c'est celle de dockerhub qui est utilisé (docker.io). Si l'image est \"officielle\" `path` peut-être omis et vaut `library`, sinon il s'agit généralement du compte de l'utilisateur qui fourni l'image. `tag` permet de différencier les versions d'une image, s'il est omis il vaut `latest`. \n",
    "\n",
    "Ainsi, le nom d'image `alpine` correspond en fait à `docker.io/library/alpine:latest`. La [documentation](https://hub.docker.com/_/alpine/tags) indique les tags existants. En production, pour obtenir des exécutions reproductibles il est conseillé de spécifier la version"
   ]
  },
  {
   "cell_type": "markdown",
   "id": "cae60852-b8d9-4dc7-aaa2-7e4c2e07263b",
   "metadata": {
    "slideshow": {
     "slide_type": "slide"
    },
    "tags": [],
    "user_expressions": []
   },
   "source": [
    "Il est possible de choisir la commande à utiliser au lancement du container en l'indiquant après le nom de l'image. Des variables d'environnement peuvent êtrée crées dans le conteneur avec l'option `--env`."
   ]
  },
  {
   "cell_type": "code",
   "execution_count": 13,
   "id": "0de7e3c9-d947-4d55-a77c-acb36ec308af",
   "metadata": {
    "tags": []
   },
   "outputs": [
    {
     "name": "stdout",
     "output_type": "stream",
     "text": [
      "Unable to find image 'alpine:3.17.2' locally\n",
      "3.17.2: Pulling from library/alpine\n",
      "Digest: sha256:69665d02cb32192e52e07644d76bc6f25abeb5410edc1c7a81a10ba3f0efb90a\n",
      "Status: Downloaded newer image for alpine:3.17.2\n",
      "Linux 440de1438ffa 5.15.49-linuxkit #1 SMP PREEMPT Tue Sep 13 07:51:32 UTC 2022 aarch64 Linux\n"
     ]
    }
   ],
   "source": [
    "docker container run \\\n",
    "    alpine:3.17.2 uname -a"
   ]
  },
  {
   "cell_type": "code",
   "execution_count": 15,
   "id": "3d4c1f13-bd40-4e6d-8978-c10c622fb396",
   "metadata": {
    "tags": []
   },
   "outputs": [
    {
     "name": "stdout",
     "output_type": "stream",
     "text": [
      "PATH=/usr/local/sbin:/usr/local/bin:/usr/sbin:/usr/bin:/sbin:/bin\n",
      "HOSTNAME=60ed99eeaf92\n",
      "NAME=Doe\n",
      "FIRSTNAME=John\n",
      "HOME=/root\n"
     ]
    }
   ],
   "source": [
    "docker container run --env FIRSTNAME=\"John\" --env NAME=\"Doe\" \\\n",
    "    alpine:3.17.2 env"
   ]
  },
  {
   "cell_type": "code",
   "execution_count": 17,
   "id": "d8fe5c5b-c2ae-43bb-9b7c-4b872fbae219",
   "metadata": {
    "slideshow": {
     "slide_type": "subslide"
    },
    "tags": []
   },
   "outputs": [
    {
     "name": "stdout",
     "output_type": "stream",
     "text": [
      "Hi !\n"
     ]
    }
   ],
   "source": [
    "docker container run \\\n",
    "    alpine:3.17.2 sh -c \"echo 'Hi !' > hello.txt ; cat hello.txt\""
   ]
  },
  {
   "cell_type": "markdown",
   "id": "894672bd-1c03-4b67-b2c9-8f84f4b3494d",
   "metadata": {
    "slideshow": {
     "slide_type": "slide"
    },
    "tags": [],
    "user_expressions": []
   },
   "source": [
    "Si la commande est interactive (comme un shell bash par exemple il faut préciser `--interactive` ou `-it`) pour utiliser l'entrée et la sortie standard. \n",
    "\n",
    "Il est aussi possible de donner un nom unique à conteneur qui peut être utilisé à la place de son ID avec l'option `--name`."
   ]
  },
  {
   "cell_type": "code",
   "execution_count": 21,
   "id": "bb87047e-5d98-4cd6-a3aa-8b4ab628ccd9",
   "metadata": {
    "tags": []
   },
   "outputs": [
    {
     "name": "stdout",
     "output_type": "stream",
     "text": [
      "docker: Error response from daemon: Conflict. The container name \"/my-bash\" is already in use by container \"da7801cca6c30759b086a246af843448331c56bbb23e91312ab883cabe5ad5a5\". You have to remove (or rename) that container to be able to reuse that name.\n",
      "See 'docker run --help'.\n"
     ]
    }
   ],
   "source": [
    "(\n",
    "cat <<EOF\n",
    "cd /root\n",
    "ls -al\n",
    "EOF\n",
    ") | docker run --interactive --quiet --name my-bash ubuntu:22.04 bash - "
   ]
  },
  {
   "cell_type": "markdown",
   "id": "8644b62f-ed6f-4c04-8d33-172c5ff3a399",
   "metadata": {
    "user_expressions": []
   },
   "source": [
    "L'exécution d'un conteneur peut être faite tâche de fond avec l'option `--detach` ou `-d`.\n",
    "\n",
    "Par exemple, pour lancer [redis](https://redis.com/), une base de donnée NoSQL de type clé/valeur :"
   ]
  },
  {
   "cell_type": "code",
   "execution_count": 24,
   "id": "b4f43b5e-aca3-4c28-ba83-43942aa22e5c",
   "metadata": {
    "tags": []
   },
   "outputs": [
    {
     "name": "stdout",
     "output_type": "stream",
     "text": [
      "Unable to find image 'redis:7.0.9' locally\n",
      "7.0.9: Pulling from library/redis\n",
      "\n",
      "\u001b[1Bba0fb1b5: Pulling fs layer \n",
      "\u001b[1Babea72ba: Pulling fs layer \n",
      "\u001b[1Bc855d06e: Pulling fs layer \n",
      "\u001b[1B636102fd: Pulling fs layer \n",
      "\u001b[1B9543da32: Pulling fs layer \n",
      "\u001b[1BDigest: sha256:e50c7e23f79ae81351beacb20e004720d4bed657415e68c2b1a2b5557c075ce0\n",
      "Status: Downloaded newer image for redis:7.0.9\n",
      "a7064f3a9a309bb2ccff059dd3cf8a47d5084b6f489e22582e54f4633b22ff22\n"
     ]
    }
   ],
   "source": [
    "docker run --detach --name my-redis redis:7.0.9"
   ]
  },
  {
   "cell_type": "markdown",
   "id": "5aca5941-2114-45b2-9c47-78b48fa37f9d",
   "metadata": {
    "user_expressions": []
   },
   "source": [
    "Les conteneurs produisent généralement le log du service sur la sortie standard. Quand `--detach` est utilisé la commande `logs` permet de le consulter (ajouter `-f` pour un suivi en continu)."
   ]
  },
  {
   "cell_type": "code",
   "execution_count": 26,
   "id": "eb364815-40ae-4b99-a185-852d759513de",
   "metadata": {
    "tags": []
   },
   "outputs": [
    {
     "name": "stdout",
     "output_type": "stream",
     "text": [
      "1:C 13 Mar 2023 07:44:04.119 # oO0OoO0OoO0Oo Redis is starting oO0OoO0OoO0Oo\n",
      "1:C 13 Mar 2023 07:44:04.120 # Redis version=7.0.9, bits=64, commit=00000000, modified=0, pid=1, just started\n",
      "1:C 13 Mar 2023 07:44:04.120 # Warning: no config file specified, using the default config. In order to specify a config file use redis-server /path/to/redis.conf\n",
      "1:M 13 Mar 2023 07:44:04.120 * monotonic clock: POSIX clock_gettime\n",
      "1:M 13 Mar 2023 07:44:04.120 * Running mode=standalone, port=6379.\n",
      "1:M 13 Mar 2023 07:44:04.120 # Server initialized\n",
      "1:M 13 Mar 2023 07:44:04.122 * Ready to accept connections\n"
     ]
    }
   ],
   "source": [
    "docker logs my-redis"
   ]
  },
  {
   "cell_type": "markdown",
   "id": "2b95a46a-a961-4656-a245-f465e3e7c981",
   "metadata": {
    "slideshow": {
     "slide_type": "slide"
    },
    "tags": [],
    "user_expressions": []
   },
   "source": [
    "La sous-commande `ls` permet d'obtenir tous les conteneurs en cours d'exécution."
   ]
  },
  {
   "cell_type": "code",
   "execution_count": 28,
   "id": "5db8b741-b956-491f-aaf8-13ca16710066",
   "metadata": {
    "tags": []
   },
   "outputs": [
    {
     "name": "stdout",
     "output_type": "stream",
     "text": [
      "CONTAINER ID   IMAGE         COMMAND                  CREATED              STATUS              PORTS      NAMES\n",
      "a7064f3a9a30   redis:7.0.9   \"docker-entrypoint.s…\"   About a minute ago   Up About a minute   6379/tcp   my-redis\n"
     ]
    }
   ],
   "source": [
    "docker container ls"
   ]
  },
  {
   "cell_type": "markdown",
   "id": "6391acb7-4ea0-4c36-98fe-888d7c43e256",
   "metadata": {
    "slideshow": {
     "slide_type": "slide"
    },
    "tags": [],
    "user_expressions": []
   },
   "source": [
    "La commande `ls -a` affiche aussi ceux qui se sont arrêtés."
   ]
  },
  {
   "cell_type": "code",
   "execution_count": 30,
   "id": "135baf5c-2e34-4ec1-8d71-2b3495694375",
   "metadata": {
    "slideshow": {
     "slide_type": "subslide"
    },
    "tags": []
   },
   "outputs": [
    {
     "name": "stdout",
     "output_type": "stream",
     "text": [
      "CONTAINER ID   IMAGE           COMMAND                  CREATED              STATUS                     PORTS      NAMES\n",
      "a7064f3a9a30   redis:7.0.9     \"docker-entrypoint.s…\"   About a minute ago   Up About a minute          6379/tcp   my-redis\n",
      "da7801cca6c3   ubuntu          \"bash -\"                 3 minutes ago        Exited (0) 3 minutes ago              my-bash\n",
      "42708530e6a4   alpine:3.17.2   \"sh -c 'echo 'Hi !' …\"   4 minutes ago        Exited (0) 4 minutes ago              dazzling_ptolemy\n",
      "1fee5f5e436e   alpine:3.17.2   \"uname -a alpine: sh…\"   4 minutes ago        Exited (1) 4 minutes ago              awesome_dewdney\n",
      "60ed99eeaf92   alpine:3.17.2   \"env\"                    4 minutes ago        Exited (0) 4 minutes ago              reverent_hypatia\n",
      "90028ea2041c   alpine:3.17.2   \"uname -a alpine: env\"   4 minutes ago        Exited (1) 4 minutes ago              stoic_kilby\n",
      "440de1438ffa   alpine:3.17.2   \"uname -a\"               4 minutes ago        Exited (0) 4 minutes ago              jolly_hertz\n",
      "4d7a6681d325   hello-world     \"/hello\"                 8 minutes ago        Exited (0) 8 minutes ago              silly_pasteur\n",
      "ea44f7979f47   hello-world     \"/hello\"                 9 minutes ago        Exited (0) 9 minutes ago              nice_fermat\n"
     ]
    }
   ],
   "source": [
    "docker container ls -a"
   ]
  },
  {
   "cell_type": "markdown",
   "id": "8212bba8-ca4b-411a-85f8-1c42cf756a69",
   "metadata": {
    "slideshow": {
     "slide_type": "slide"
    },
    "tags": [],
    "user_expressions": []
   },
   "source": [
    "Un conteneur s'arrête quand sa commande termine. Il peut être arrêté manuellement avec la sous-commande `stop`."
   ]
  },
  {
   "cell_type": "code",
   "execution_count": 33,
   "id": "924e5fe4-863c-40e8-b017-4dd3bd134d4d",
   "metadata": {
    "tags": [
     "remove-output"
    ]
   },
   "outputs": [
    {
     "name": "stdout",
     "output_type": "stream",
     "text": [
      "my-redis\n"
     ]
    }
   ],
   "source": [
    "docker container stop my-redis"
   ]
  },
  {
   "cell_type": "markdown",
   "id": "06d456a0-5ed6-4199-a0d7-9bd16a8894cd",
   "metadata": {
    "user_expressions": []
   },
   "source": [
    "Un conteneur arrêté peut être relancé avec les même paramètres avec la commande `start`."
   ]
  },
  {
   "cell_type": "code",
   "execution_count": 35,
   "id": "6d80aea8-21cc-4c7d-b404-e2efa6334216",
   "metadata": {
    "tags": [
     "remove-output"
    ]
   },
   "outputs": [
    {
     "name": "stdout",
     "output_type": "stream",
     "text": [
      "my-redis\n"
     ]
    }
   ],
   "source": [
    "docker container start my-redis"
   ]
  },
  {
   "cell_type": "markdown",
   "id": "d612e2ad-4293-48ce-a0a7-17af34a82d26",
   "metadata": {
    "slideshow": {
     "slide_type": "slide"
    },
    "tags": [],
    "user_expressions": []
   },
   "source": [
    "Un container arrêté peut être détruit avec la commande `rm` en indiquant son Id ou son nom."
   ]
  },
  {
   "cell_type": "code",
   "execution_count": 37,
   "id": "46cfa357-a6b2-43fe-8e85-5b54cd3c2f36",
   "metadata": {
    "tags": [
     "remove-output"
    ]
   },
   "outputs": [
    {
     "name": "stdout",
     "output_type": "stream",
     "text": [
      "my-bash\n"
     ]
    }
   ],
   "source": [
    "docker rm my-bash"
   ]
  },
  {
   "cell_type": "markdown",
   "id": "ab9546c8-133b-4263-9e06-8eb2ed58e3ea",
   "metadata": {
    "user_expressions": []
   },
   "source": [
    "La commande `exec` permet d'exécuter une commande dans un conteneur en fonctionnement. Par exemple, pour utiliser l'interface en ligne de commande de redis depuis le conteneur `my-redis` (qui exécute déjà le serveur) pour ajouter une valeur de clé \"a.b@x.fr\"."
   ]
  },
  {
   "cell_type": "code",
   "execution_count": 40,
   "id": "21d02229-942e-424e-9973-e009ceb580d9",
   "metadata": {
    "tags": []
   },
   "outputs": [
    {
     "name": "stdout",
     "output_type": "stream",
     "text": [
      "OK\n"
     ]
    }
   ],
   "source": [
    "docker exec my-redis redis-cli SET a.b@x.fr \"Pierre,Durand,12\""
   ]
  },
  {
   "cell_type": "markdown",
   "id": "59c1286b-c0ff-44f3-afbc-7a0d281ddb0a",
   "metadata": {
    "slideshow": {
     "slide_type": "slide"
    },
    "tags": [],
    "user_expressions": []
   },
   "source": [
    "L'option `--rm` de la commande `run` provoque la suppression du conteneur dès l'arrêt.\n",
    "\n",
    "On peut alors créer un autre conteneur éphémère pour exécuter la commande de récupération d'une valeur de redis via le réseau (la partie réseau est expliquée plus tard) à partir de l'image du serveur. "
   ]
  },
  {
   "cell_type": "code",
   "execution_count": 42,
   "id": "b1ada824-0e48-4a31-9527-a67f1d06a1c7",
   "metadata": {
    "slideshow": {
     "slide_type": "subslide"
    },
    "tags": []
   },
   "outputs": [
    {
     "name": "stdout",
     "output_type": "stream",
     "text": [
      "Pierre,Durand,12\n"
     ]
    }
   ],
   "source": [
    "docker run --rm --link my-redis redis:7.0.9 redis-cli -h my-redis GET a.b@x.fr"
   ]
  },
  {
   "cell_type": "code",
   "execution_count": 43,
   "id": "0ceaa463-aa96-4159-914d-e7b43082f9d4",
   "metadata": {
    "tags": []
   },
   "outputs": [
    {
     "name": "stdout",
     "output_type": "stream",
     "text": [
      "CONTAINER ID   IMAGE         COMMAND                  CREATED         STATUS          PORTS      NAMES\n",
      "a7064f3a9a30   redis:7.0.9   \"docker-entrypoint.s…\"   2 minutes ago   Up 40 seconds   6379/tcp   my-redis\n"
     ]
    }
   ],
   "source": [
    "docker container ls "
   ]
  },
  {
   "cell_type": "code",
   "execution_count": 44,
   "id": "d49a4bfe-2d51-4aaf-a8ad-7211a4dd93c4",
   "metadata": {
    "tags": [
     "remove-output"
    ],
    "user_expressions": []
   },
   "outputs": [
    {
     "name": "stdout",
     "output_type": "stream",
     "text": [
      "my-redis\n",
      "my-redis\n"
     ]
    }
   ],
   "source": [
    "docker container stop my-redis\n",
    "docker container rm my-redis"
   ]
  },
  {
   "cell_type": "markdown",
   "id": "17f0d4e1-da0f-4d61-8053-f21d79d05d94",
   "metadata": {
    "slideshow": {
     "slide_type": "slide"
    },
    "tags": [],
    "user_expressions": []
   },
   "source": [
    "Tous les containeurs arrêtés peuvent être supprimés avec la commande `container prune`."
   ]
  },
  {
   "cell_type": "code",
   "execution_count": 46,
   "id": "4a4b8200-d3b3-4d78-b9e9-910d147edd40",
   "metadata": {
    "tags": []
   },
   "outputs": [
    {
     "name": "stdout",
     "output_type": "stream",
     "text": [
      "Deleted Containers:\n",
      "42708530e6a42256a02a43b810f9a75864f6a99d30aab8f05740da07a5bb6e85\n",
      "1fee5f5e436e46144ca6143240bade8d6b2e28275cbec3761e9347638a1ddf70\n",
      "60ed99eeaf925c7ddcb628a69583f8de2ecad8af0f3399956ef42858b0e0bbcb\n",
      "90028ea2041cdd3601547b55c71fe0e774168285dfdd10fdb5fc492f1da5e62c\n",
      "440de1438ffa05f3084582145ac841d62cd8f201e9f93383c3792b98ae5add7a\n",
      "4d7a6681d325e73873785701fdf5a2cced0a0c66700f87cc0ff949c9bca67da3\n",
      "ea44f7979f47dc23be3af67b7d8699a19a4a429473a346d3c597e31b26042b8e\n",
      "\n",
      "Total reclaimed space: 5B\n"
     ]
    }
   ],
   "source": [
    "docker container prune --force"
   ]
  },
  {
   "cell_type": "code",
   "execution_count": 47,
   "id": "8c581086-bfcd-46da-af86-17b16ee66704",
   "metadata": {
    "slideshow": {
     "slide_type": "subslide"
    },
    "tags": []
   },
   "outputs": [
    {
     "name": "stdout",
     "output_type": "stream",
     "text": [
      "CONTAINER ID   IMAGE     COMMAND   CREATED   STATUS    PORTS     NAMES\n"
     ]
    }
   ],
   "source": [
    "docker container ls -a"
   ]
  },
  {
   "cell_type": "markdown",
   "id": "693d764b-5ab9-44e6-9777-e185b98aa6e9",
   "metadata": {
    "user_expressions": []
   },
   "source": [
    "### Gérer les images\n",
    "\n",
    "Il est possible de lister ou supprimer les images disponibles localement avec la commande `image` et les sous-commandes `ls` et `rm`."
   ]
  },
  {
   "cell_type": "code",
   "execution_count": 49,
   "id": "a48c4f92-57ac-4496-b7fd-d5b9b41b0dee",
   "metadata": {
    "tags": []
   },
   "outputs": [
    {
     "name": "stdout",
     "output_type": "stream",
     "text": [
      "REPOSITORY        TAG           IMAGE ID       CREATED         SIZE\n",
      "restjpa           latest        d0d3ff53a1a8   2 days ago      281MB\n",
      "redis             7.0.9         edf4b3932692   11 days ago     111MB\n",
      "ubuntu            22.04         730eeb702b69   12 days ago     69.2MB\n",
      "ubuntu            latest        730eeb702b69   12 days ago     69.2MB\n",
      "curlimages/curl   7.88.1        5880c2bc66d5   2 weeks ago     14.4MB\n",
      "postgres          15.2-alpine   68d4a8d9d3d9   4 weeks ago     241MB\n",
      "alpine            3.17.2        d74e625d9115   4 weeks ago     7.46MB\n",
      "alpine            latest        d74e625d9115   4 weeks ago     7.46MB\n",
      "hello-world       latest        46331d942d63   11 months ago   9.14kB\n"
     ]
    }
   ],
   "source": [
    "docker image ls"
   ]
  },
  {
   "cell_type": "code",
   "execution_count": 50,
   "id": "3f001cd8-2375-4ca6-9088-7aba6126e5a3",
   "metadata": {
    "tags": []
   },
   "outputs": [
    {
     "name": "stdout",
     "output_type": "stream",
     "text": [
      "Untagged: hello-world:latest\n",
      "Untagged: hello-world@sha256:6e8b6f026e0b9c419ea0fd02d3905dd0952ad1feea67543f525c73a0a790fefb\n",
      "Deleted: sha256:46331d942d6350436f64e614d75725f6de3bb5c63e266e236e04389820a234c4\n",
      "Deleted: sha256:efb53921da3394806160641b72a2cbd34ca1a9a8345ac670a85a04ad3d0e3507\n",
      "Untagged: redis:7.0.9\n",
      "Untagged: redis@sha256:e50c7e23f79ae81351beacb20e004720d4bed657415e68c2b1a2b5557c075ce0\n",
      "Deleted: sha256:edf4b3932692a4fdbd04e0bdb070e95f9e6ad4b534739a74d9da1b92215314c6\n",
      "Deleted: sha256:91bff5f3e5746daba37a232fb1eb74836b6475ec31bfcb35ac6e0ea4d0bfa3c4\n",
      "Deleted: sha256:2666794cc78a523f303e45aad123e15c751adaff07b958e09c5a19d06b88f5f4\n",
      "Deleted: sha256:1bab36e27e8fec54fe04a4087e4a653b285b5a2ffdf3fc21c51360a9917bd416\n",
      "Deleted: sha256:fabe0a0282bcf61eea2d81ad3a734d7f27d93c22f9893bd70ef68f0c6d98c98c\n",
      "Deleted: sha256:098e5ea0c61165e2bd555c1a9ffaccc2c8cc59d032c253d82903508dbf477b3f\n",
      "Deleted: sha256:ace73ce182d142e2b77b7b617660b45f8a766cc9c5d36174f4a8b686e3af695e\n",
      "Untagged: alpine:latest\n"
     ]
    }
   ],
   "source": [
    "docker image rm hello-world redis:7.0.9 alpine"
   ]
  },
  {
   "cell_type": "code",
   "execution_count": 51,
   "id": "d4d47341-647a-458e-b744-64a361fca823",
   "metadata": {
    "tags": []
   },
   "outputs": [
    {
     "name": "stdout",
     "output_type": "stream",
     "text": [
      "Total reclaimed space: 0B\n"
     ]
    }
   ],
   "source": [
    "docker image prune --force"
   ]
  },
  {
   "cell_type": "markdown",
   "id": "62a417f7-dbe2-4b79-8072-c90b760ecc30",
   "metadata": {
    "user_expressions": []
   },
   "source": [
    "### Volumes\n",
    "\n",
    "Un conteneur est généralement éphémère et sans état pour pouvoir être arrêté et relancé sans perte de données. Les fichiers créés devant être persistants doivent donc l'être en dehors du conteneur. Pour cela, on utilise les montage de systeme d fichiers (bind mount) ou les volumes. \n",
    "\n",
    "Un bind volume, c'est-à-dire un montage du système de fichier de l'hôte vers un répertoire du conteneur, est définit avec l'option `-v <source>:<destination>` de la commande `run` que l'on peut uiliser plusieurs fois. Le chemin doit être absolu mais peut utiliser la variable d'environement `${PWD}` pour simuler un chemin relatif. "
   ]
  },
  {
   "cell_type": "markdown",
   "id": "e34dfc2d-cd5a-4603-a4ba-f3b7d1f38e56",
   "metadata": {
    "user_expressions": []
   },
   "source": [
    "Dans l'exemple suivant, un premier conteneur crée le fichier `text.txt` dans un volume monté de l'hôte (le répertoire `/tmp/mydata`) dans le conteneur (à l'emplacement `/data`). Le conteneur est ensuite détruit.\n",
    "Un second conteneur monte le même répertoire de l'hôte (`/tmp/mydata` dans le nouveau conteneur mais dans `/databis`) et affiche le contenu."
   ]
  },
  {
   "cell_type": "code",
   "execution_count": 7,
   "id": "04d8e116-7c36-4962-a364-deca5d25d850",
   "metadata": {
    "tags": []
   },
   "outputs": [],
   "source": [
    "docker container run --rm \\\n",
    "    -v /tmp/mydata:/data \\\n",
    "    ubuntu:22.04 \\\n",
    "        bash -c \"echo 'hello'>/data/test.txt\""
   ]
  },
  {
   "cell_type": "code",
   "execution_count": 8,
   "id": "6ce36939-71fd-4203-9c17-8692d01698b6",
   "metadata": {
    "tags": []
   },
   "outputs": [
    {
     "name": "stdout",
     "output_type": "stream",
     "text": [
      "hello\n"
     ]
    }
   ],
   "source": [
    "docker container run --rm \\\n",
    "    -v /tmp/mydata:/databis \\\n",
    "    ubuntu:22.04 \\\n",
    "        cat /databis/test.txt"
   ]
  },
  {
   "cell_type": "markdown",
   "id": "0da37b4f-32f8-4bff-9864-b1a39f0e584d",
   "metadata": {
    "user_expressions": []
   },
   "source": [
    "un volume peut aussi être un volume nommé géré par le docker daemon de façon transparente pour l'utilisateur. Il n'est alors plus aussi simple de partager des fichiers entre l'hôte et les conteneurs mais il n'y a plus de problème d'UID du propriétaire ni de droits. Il s'agit de la meilleure solution quand le docker daemon est exécuté sur un cluster et non sur une seule machine car alors le système de fichier peut être distribué.\n",
    "\n",
    "L'exemple suivant exécute une base de données via l'image de [PostgreSQL](https://hub.docker.com/_/postgres) dans un premier conteneur. Le volume nommé `postgres-test-data` est monté dans le répertoire indiqué dans la documentation de l'image pour contenir la base de données (`/var/lib/postgresql/data`). Comme celui-ci est initialement vide, l'image est construite pour créer alors automatiquement une base de données à partir des variables d'environnement fournies. "
   ]
  },
  {
   "cell_type": "code",
   "execution_count": 43,
   "id": "94a1639b-6c1e-44ce-9f81-b315f10d3f73",
   "metadata": {
    "tags": []
   },
   "outputs": [
    {
     "name": "stdout",
     "output_type": "stream",
     "text": [
      "d3b2f0eb2fb46a122756ea7a43f95971b730153b821cfbd23854ce7622079272\n"
     ]
    }
   ],
   "source": [
    "docker run -d --rm \\\n",
    "  --name postgres-test \\\n",
    "  --env POSTGRES_PASSWORD=mysecretpassword \\\n",
    "  -v postgres-test-data:/var/lib/postgresql/data \\\n",
    "  postgres:15.2"
   ]
  },
  {
   "cell_type": "markdown",
   "id": "c69c1dcd-105c-46d2-86d3-edfac08a73ff",
   "metadata": {
    "user_expressions": []
   },
   "source": [
    "Il est possible de monter le même volume et un bind volume dans une autre conteneur par exemple pour faire une sauvegarde. En pratique, on préfère `pg_dump`, mais nous l'illustrons ici avec un simple tar. Dans le cas d'une base de données relationnelles l'arrêt du conteneur (ou un snapshot) est obligatoire pour garder la cohérence. "
   ]
  },
  {
   "cell_type": "code",
   "execution_count": 45,
   "id": "d40cee8b-cda2-46ab-bb7b-be90882af1bb",
   "metadata": {
    "tags": [
     "remove-output"
    ]
   },
   "outputs": [
    {
     "name": "stdout",
     "output_type": "stream",
     "text": [
      "postgres-test\n",
      "tar: Removing leading `/' from member names\n",
      "tar: Removing leading `/' from hard link targets\n"
     ]
    }
   ],
   "source": [
    "docker container stop postgres-test \n",
    "\n",
    "docker run --rm \\\n",
    "    -v postgres-test-data:/var/lib/postgresql/data \\\n",
    "    -v /tmp/backup:/backup \\\n",
    "    ubuntu:22.04 \\\n",
    "    tar zcf --totals /backup/mydb.tar.gz /var/lib/postgresql/data"
   ]
  },
  {
   "cell_type": "code",
   "execution_count": 46,
   "id": "f6e174d2-342c-4f8f-8289-8f685e4ec08c",
   "metadata": {
    "tags": [
     "remove-output"
    ]
   },
   "outputs": [
    {
     "name": "stdout",
     "output_type": "stream",
     "text": [
      "Error response from daemon: No such container: postgres-test\n"
     ]
    }
   ],
   "source": [
    "docker stop postgres-test"
   ]
  },
  {
   "cell_type": "markdown",
   "id": "c554b9c5-1636-4819-9085-6523e6d19a50",
   "metadata": {
    "user_expressions": []
   },
   "source": [
    "Ensuite, un autre conteneur PostgreSQL peut être lancé en utilisant la même base."
   ]
  },
  {
   "cell_type": "code",
   "execution_count": 48,
   "id": "50fa2b8c-6509-4de3-b0a4-1e00f93aa133",
   "metadata": {
    "tags": [
     "remove-output"
    ]
   },
   "outputs": [
    {
     "name": "stdout",
     "output_type": "stream",
     "text": [
      "17b87f14e8f2371ada28cf5f30ebe7974aef2d8c0a99f814ac9e9b5b7cf74194\n"
     ]
    }
   ],
   "source": [
    "docker run -d --rm \\\n",
    "  --name postgres-test \\\n",
    "  --env POSTGRES_PASSWORD=mysecretpassword \\\n",
    "  -v postgres-test-data:/var/lib/postgresql/data \\\n",
    "  postgres:15.2"
   ]
  },
  {
   "cell_type": "code",
   "execution_count": 49,
   "id": "b67e2509-82a9-4cf1-923b-151029cae0ed",
   "metadata": {
    "tags": []
   },
   "outputs": [
    {
     "name": "stdout",
     "output_type": "stream",
     "text": [
      "\n",
      "PostgreSQL Database directory appears to contain a database; Skipping initialization\n",
      "\n",
      "2023-03-13 17:18:21.256 UTC [1] LOG:  starting PostgreSQL 15.2 (Debian 15.2-1.pgdg110+1) on aarch64-unknown-linux-gnu, compiled by gcc (Debian 10.2.1-6) 10.2.1 20210110, 64-bit\n",
      "2023-03-13 17:18:21.257 UTC [1] LOG:  listening on IPv4 address \"0.0.0.0\", port 5432\n",
      "2023-03-13 17:18:21.257 UTC [1] LOG:  listening on IPv6 address \"::\", port 5432\n",
      "2023-03-13 17:18:21.258 UTC [1] LOG:  listening on Unix socket \"/var/run/postgresql/.s.PGSQL.5432\"\n",
      "2023-03-13 17:18:21.264 UTC [29] LOG:  database system was shut down at 2023-03-13 17:17:55 UTC\n",
      "2023-03-13 17:18:21.269 UTC [1] LOG:  database system is ready to accept connections\n"
     ]
    }
   ],
   "source": [
    "docker logs postgres-test"
   ]
  },
  {
   "cell_type": "code",
   "execution_count": 50,
   "id": "8aba49c8-dcf2-4134-ad1d-4fc4f3b81f76",
   "metadata": {
    "tags": [
     "remove-output"
    ]
   },
   "outputs": [
    {
     "name": "stdout",
     "output_type": "stream",
     "text": [
      "postgres-test\n"
     ]
    }
   ],
   "source": [
    "docker stop postgres-test"
   ]
  },
  {
   "cell_type": "markdown",
   "id": "9e5c649a-c95c-47bf-b36d-3011c3628bed",
   "metadata": {
    "user_expressions": []
   },
   "source": [
    "Il est possible de lister et de supprimer les volumes avec les commandes `ls` et `rm`. Les volumes dont les noms sont des hachés appelés volumes anonymes sont présentés plus tard. "
   ]
  },
  {
   "cell_type": "code",
   "execution_count": 52,
   "id": "538271c5-fb9c-4325-857a-9e517c41a505",
   "metadata": {
    "tags": []
   },
   "outputs": [
    {
     "name": "stdout",
     "output_type": "stream",
     "text": [
      "DRIVER    VOLUME NAME\n",
      "local     ad39346c95258ba7e3e9452050a5e30e6c81bfcafdc4fb865ae8795f644d67b5\n",
      "local     postgres-01-data\n",
      "local     postgres-test-data\n"
     ]
    }
   ],
   "source": [
    "docker volume ls"
   ]
  },
  {
   "cell_type": "code",
   "execution_count": 53,
   "id": "66770457-a011-4bb9-98a0-ff68e780849b",
   "metadata": {
    "tags": [
     "hide-output"
    ]
   },
   "outputs": [
    {
     "name": "stdout",
     "output_type": "stream",
     "text": [
      "postgres-test-data\n"
     ]
    }
   ],
   "source": [
    "docker volume rm postgres-test-data"
   ]
  },
  {
   "cell_type": "code",
   "execution_count": 54,
   "id": "7102cb03-5261-4be7-b1fb-5eacb19062f1",
   "metadata": {
    "tags": []
   },
   "outputs": [
    {
     "name": "stdout",
     "output_type": "stream",
     "text": [
      "DRIVER    VOLUME NAME\n",
      "local     ad39346c95258ba7e3e9452050a5e30e6c81bfcafdc4fb865ae8795f644d67b5\n",
      "local     postgres-01-data\n"
     ]
    }
   ],
   "source": [
    "docker volume ls"
   ]
  },
  {
   "cell_type": "markdown",
   "id": "134212e4-6156-4340-bf28-cd900dda531e",
   "metadata": {
    "user_expressions": []
   },
   "source": [
    "### Réseau\n",
    "\n",
    "Chaque conteneur dispose d'une carte réseau virtuelle et d'au moins une adresse IP. Un conteneur peut utiliser le réseau de l'hôte (`--host`) mais généralement il appartient à un ou plusieurs réseau virtuels. Si aucun n'est précisé expliciement, le conteneur appartient à un réseau par défaut. Comme les conteneurs sont éphémères et que les adresses IP changent, elles ne sont généralement pas utilisées directement. \n",
    "\n",
    "Les réseaux peuvent être créés, listés et détruits avec les commandes `network {create, ls, rm}`. "
   ]
  },
  {
   "cell_type": "markdown",
   "id": "ec50bee4-5abe-4c0e-b8ea-bb955518425f",
   "metadata": {
    "user_expressions": []
   },
   "source": [
    "Ainsi deux conteneurs qui exécutent un shell sont sur le réseau par défaut."
   ]
  },
  {
   "cell_type": "code",
   "execution_count": 67,
   "id": "7831e6dc-8693-4000-b5ff-2612b167764e",
   "metadata": {
    "tags": []
   },
   "outputs": [
    {
     "name": "stdout",
     "output_type": "stream",
     "text": [
      "a5c823e506c9d895c4556d9def40dbc065f26a8c394cfb25023fde4f71dd7a59\n",
      "28f17fdef7b951599dbefa26b6840aede5858f653e4744b9368cb507ed270211\n"
     ]
    }
   ],
   "source": [
    " docker run -dit --rm --name alpine1 alpine ash\n",
    " docker run -dit --rm --name alpine2 alpine ash"
   ]
  },
  {
   "cell_type": "code",
   "execution_count": 68,
   "id": "794df988-51b9-4f3a-8003-f0a3099b163d",
   "metadata": {
    "tags": []
   },
   "outputs": [
    {
     "name": "stdout",
     "output_type": "stream",
     "text": [
      "NETWORK ID     NAME      DRIVER    SCOPE\n",
      "3a3f9fe39100   backnet   bridge    local\n",
      "25a6bacef95b   bridge    bridge    local\n",
      "290659c62698   host      host      local\n",
      "e91b5de18bd5   none      null      local\n"
     ]
    }
   ],
   "source": [
    "docker network ls"
   ]
  },
  {
   "cell_type": "markdown",
   "id": "ea601ff2-01db-43af-975d-bc7223fce24d",
   "metadata": {
    "user_expressions": []
   },
   "source": [
    "La commande `docker inspect {container, volume, network} <name|ID>` permet de consulter le détails d'un objet docker. `jq` est un outils pour traiter des documents json."
   ]
  },
  {
   "cell_type": "code",
   "execution_count": 70,
   "id": "daa00b90-ec0d-42c5-ae1c-6b8ff8d84ec9",
   "metadata": {
    "tags": []
   },
   "outputs": [
    {
     "name": "stdout",
     "output_type": "stream",
     "text": [
      "\u001b[1;39m[\n",
      "  \u001b[1;39m{\n",
      "    \u001b[0m\u001b[34;1m\"Name\"\u001b[0m\u001b[1;39m: \u001b[0m\u001b[0;32m\"bridge\"\u001b[0m\u001b[1;39m,\n",
      "    \u001b[0m\u001b[34;1m\"Id\"\u001b[0m\u001b[1;39m: \u001b[0m\u001b[0;32m\"25a6bacef95b3886fdaf288237c40292d019a2f681449e6f82f0659c8a616209\"\u001b[0m\u001b[1;39m,\n",
      "    \u001b[0m\u001b[34;1m\"Created\"\u001b[0m\u001b[1;39m: \u001b[0m\u001b[0;32m\"2023-03-10T15:50:32.692030545Z\"\u001b[0m\u001b[1;39m,\n",
      "    \u001b[0m\u001b[34;1m\"Scope\"\u001b[0m\u001b[1;39m: \u001b[0m\u001b[0;32m\"local\"\u001b[0m\u001b[1;39m,\n",
      "    \u001b[0m\u001b[34;1m\"Driver\"\u001b[0m\u001b[1;39m: \u001b[0m\u001b[0;32m\"bridge\"\u001b[0m\u001b[1;39m,\n",
      "    \u001b[0m\u001b[34;1m\"EnableIPv6\"\u001b[0m\u001b[1;39m: \u001b[0m\u001b[0;39mfalse\u001b[0m\u001b[1;39m,\n",
      "    \u001b[0m\u001b[34;1m\"IPAM\"\u001b[0m\u001b[1;39m: \u001b[0m\u001b[1;39m{\n",
      "      \u001b[0m\u001b[34;1m\"Driver\"\u001b[0m\u001b[1;39m: \u001b[0m\u001b[0;32m\"default\"\u001b[0m\u001b[1;39m,\n",
      "      \u001b[0m\u001b[34;1m\"Options\"\u001b[0m\u001b[1;39m: \u001b[0m\u001b[1;30mnull\u001b[0m\u001b[1;39m,\n",
      "      \u001b[0m\u001b[34;1m\"Config\"\u001b[0m\u001b[1;39m: \u001b[0m\u001b[1;39m[\n",
      "        \u001b[1;39m{\n",
      "          \u001b[0m\u001b[34;1m\"Subnet\"\u001b[0m\u001b[1;39m: \u001b[0m\u001b[0;32m\"172.17.0.0/16\"\u001b[0m\u001b[1;39m\n",
      "        \u001b[1;39m}\u001b[0m\u001b[1;39m\n",
      "      \u001b[1;39m]\u001b[0m\u001b[1;39m\n",
      "    \u001b[1;39m}\u001b[0m\u001b[1;39m,\n",
      "    \u001b[0m\u001b[34;1m\"Internal\"\u001b[0m\u001b[1;39m: \u001b[0m\u001b[0;39mfalse\u001b[0m\u001b[1;39m,\n",
      "    \u001b[0m\u001b[34;1m\"Attachable\"\u001b[0m\u001b[1;39m: \u001b[0m\u001b[0;39mfalse\u001b[0m\u001b[1;39m,\n",
      "    \u001b[0m\u001b[34;1m\"Ingress\"\u001b[0m\u001b[1;39m: \u001b[0m\u001b[0;39mfalse\u001b[0m\u001b[1;39m,\n",
      "    \u001b[0m\u001b[34;1m\"ConfigFrom\"\u001b[0m\u001b[1;39m: \u001b[0m\u001b[1;39m{\n",
      "      \u001b[0m\u001b[34;1m\"Network\"\u001b[0m\u001b[1;39m: \u001b[0m\u001b[0;32m\"\"\u001b[0m\u001b[1;39m\n",
      "    \u001b[1;39m}\u001b[0m\u001b[1;39m,\n",
      "    \u001b[0m\u001b[34;1m\"ConfigOnly\"\u001b[0m\u001b[1;39m: \u001b[0m\u001b[0;39mfalse\u001b[0m\u001b[1;39m,\n",
      "    \u001b[0m\u001b[34;1m\"Containers\"\u001b[0m\u001b[1;39m: \u001b[0m\u001b[1;39m{\n",
      "      \u001b[0m\u001b[34;1m\"28f17fdef7b951599dbefa26b6840aede5858f653e4744b9368cb507ed270211\"\u001b[0m\u001b[1;39m: \u001b[0m\u001b[1;39m{\n",
      "        \u001b[0m\u001b[34;1m\"Name\"\u001b[0m\u001b[1;39m: \u001b[0m\u001b[0;32m\"alpine2\"\u001b[0m\u001b[1;39m,\n",
      "        \u001b[0m\u001b[34;1m\"EndpointID\"\u001b[0m\u001b[1;39m: \u001b[0m\u001b[0;32m\"fc5b045b28a63f50301cd44115f0c00c88fc862e81b9ff94edf8d21701c3f546\"\u001b[0m\u001b[1;39m,\n",
      "        \u001b[0m\u001b[34;1m\"MacAddress\"\u001b[0m\u001b[1;39m: \u001b[0m\u001b[0;32m\"02:42:ac:11:00:03\"\u001b[0m\u001b[1;39m,\n",
      "        \u001b[0m\u001b[34;1m\"IPv4Address\"\u001b[0m\u001b[1;39m: \u001b[0m\u001b[0;32m\"172.17.0.3/16\"\u001b[0m\u001b[1;39m,\n",
      "        \u001b[0m\u001b[34;1m\"IPv6Address\"\u001b[0m\u001b[1;39m: \u001b[0m\u001b[0;32m\"\"\u001b[0m\u001b[1;39m\n",
      "      \u001b[1;39m}\u001b[0m\u001b[1;39m,\n",
      "      \u001b[0m\u001b[34;1m\"a5c823e506c9d895c4556d9def40dbc065f26a8c394cfb25023fde4f71dd7a59\"\u001b[0m\u001b[1;39m: \u001b[0m\u001b[1;39m{\n",
      "        \u001b[0m\u001b[34;1m\"Name\"\u001b[0m\u001b[1;39m: \u001b[0m\u001b[0;32m\"alpine1\"\u001b[0m\u001b[1;39m,\n",
      "        \u001b[0m\u001b[34;1m\"EndpointID\"\u001b[0m\u001b[1;39m: \u001b[0m\u001b[0;32m\"703c99f9b8a46e3edce39df7a287c01401937acbb3b78dc7ae156560812e5732\"\u001b[0m\u001b[1;39m,\n",
      "        \u001b[0m\u001b[34;1m\"MacAddress\"\u001b[0m\u001b[1;39m: \u001b[0m\u001b[0;32m\"02:42:ac:11:00:02\"\u001b[0m\u001b[1;39m,\n",
      "        \u001b[0m\u001b[34;1m\"IPv4Address\"\u001b[0m\u001b[1;39m: \u001b[0m\u001b[0;32m\"172.17.0.2/16\"\u001b[0m\u001b[1;39m,\n",
      "        \u001b[0m\u001b[34;1m\"IPv6Address\"\u001b[0m\u001b[1;39m: \u001b[0m\u001b[0;32m\"\"\u001b[0m\u001b[1;39m\n",
      "      \u001b[1;39m}\u001b[0m\u001b[1;39m\n",
      "    \u001b[1;39m}\u001b[0m\u001b[1;39m,\n",
      "    \u001b[0m\u001b[34;1m\"Options\"\u001b[0m\u001b[1;39m: \u001b[0m\u001b[1;39m{\n",
      "      \u001b[0m\u001b[34;1m\"com.docker.network.bridge.default_bridge\"\u001b[0m\u001b[1;39m: \u001b[0m\u001b[0;32m\"true\"\u001b[0m\u001b[1;39m,\n",
      "      \u001b[0m\u001b[34;1m\"com.docker.network.bridge.enable_icc\"\u001b[0m\u001b[1;39m: \u001b[0m\u001b[0;32m\"true\"\u001b[0m\u001b[1;39m,\n",
      "      \u001b[0m\u001b[34;1m\"com.docker.network.bridge.enable_ip_masquerade\"\u001b[0m\u001b[1;39m: \u001b[0m\u001b[0;32m\"true\"\u001b[0m\u001b[1;39m,\n",
      "      \u001b[0m\u001b[34;1m\"com.docker.network.bridge.host_binding_ipv4\"\u001b[0m\u001b[1;39m: \u001b[0m\u001b[0;32m\"0.0.0.0\"\u001b[0m\u001b[1;39m,\n",
      "      \u001b[0m\u001b[34;1m\"com.docker.network.bridge.name\"\u001b[0m\u001b[1;39m: \u001b[0m\u001b[0;32m\"docker0\"\u001b[0m\u001b[1;39m,\n",
      "      \u001b[0m\u001b[34;1m\"com.docker.network.driver.mtu\"\u001b[0m\u001b[1;39m: \u001b[0m\u001b[0;32m\"1500\"\u001b[0m\u001b[1;39m\n",
      "    \u001b[1;39m}\u001b[0m\u001b[1;39m,\n",
      "    \u001b[0m\u001b[34;1m\"Labels\"\u001b[0m\u001b[1;39m: \u001b[0m\u001b[1;39m{}\u001b[0m\u001b[1;39m\n",
      "  \u001b[1;39m}\u001b[0m\u001b[1;39m\n",
      "\u001b[1;39m]\u001b[0m\n"
     ]
    }
   ],
   "source": [
    "docker network inspect bridge|jq"
   ]
  },
  {
   "cell_type": "markdown",
   "id": "2e0145d5-6395-4e08-8bf3-1a8ea9037281",
   "metadata": {
    "user_expressions": []
   },
   "source": [
    "Avec l'option `--link` lors du `run`un conteneur peut utiliser le nom d'un autre conteneur comme nom d'hôte. Ici on utilise un image qui contient des utilitaires réseaux."
   ]
  },
  {
   "cell_type": "code",
   "execution_count": 78,
   "id": "dbfe7057-9cd6-4184-b4f4-c709a4989df8",
   "metadata": {
    "tags": []
   },
   "outputs": [
    {
     "name": "stdout",
     "output_type": "stream",
     "text": [
      "PING alpine1 (172.17.0.2) 56(84) bytes of data.\n",
      "64 bytes from alpine1 (172.17.0.2): icmp_seq=1 ttl=64 time=0.423 ms\n",
      "\n",
      "--- alpine1 ping statistics ---\n",
      "1 packets transmitted, 1 received, 0% packet loss, time 0ms\n",
      "rtt min/avg/max/mdev = 0.423/0.423/0.423/0.000 ms\n"
     ]
    }
   ],
   "source": [
    "docker run --rm \\\n",
    "    --link alpine1 --link alpine2 \\\n",
    "    nicolaka/netshoot:latest \\\n",
    "        ping -c 1 alpine1 "
   ]
  },
  {
   "cell_type": "code",
   "execution_count": 79,
   "id": "15cf9863-0f75-468b-b519-037a6b620f4d",
   "metadata": {
    "tags": [
     "remove-output"
    ]
   },
   "outputs": [
    {
     "name": "stdout",
     "output_type": "stream",
     "text": [
      "alpine1\n",
      "alpine2\n"
     ]
    }
   ],
   "source": [
    "docker container stop alpine1 alpine2"
   ]
  },
  {
   "cell_type": "markdown",
   "id": "5a45c8dd-ce66-4244-95d4-fcca0ba9c097",
   "metadata": {
    "user_expressions": []
   },
   "source": [
    "#### entre conteneurs\n",
    "\n",
    "Pour que deux conteneurs puissent communiquer simplement, le mieux est qu'ils appartiennent à un même réseau et qu'ils soient nommés. Le nom du conteneur peut alors être utilisé comme un nom d'hôte sur le réseau."
   ]
  },
  {
   "cell_type": "markdown",
   "id": "355381f5-69d7-4e75-9ac1-44e5e94f33f2",
   "metadata": {
    "user_expressions": []
   },
   "source": [
    "si aucun réseau n'est précisé, le conteneur se trouvent dans le réseau par défaut. Il est alors obligatoire d'utiliser l'option `--link` qui est dépréciée. "
   ]
  },
  {
   "cell_type": "code",
   "execution_count": 82,
   "id": "2b6c12a8-4efb-4a34-bad2-000bca709082",
   "metadata": {
    "tags": [
     "remove-output"
    ]
   },
   "outputs": [
    {
     "name": "stdout",
     "output_type": "stream",
     "text": [
      "15d509717a9ef3377d4bb1c363b2b7a04b73613bbfd171b1949351387bb4fb93\n"
     ]
    }
   ],
   "source": [
    "docker network create mynet"
   ]
  },
  {
   "cell_type": "markdown",
   "id": "8292fc26-92ee-4d8b-8fa8-5ca87ab8ccd5",
   "metadata": {
    "user_expressions": []
   },
   "source": [
    "On peut alors exécuter un conteneur nommé `nginx-01` (il fournit un serveur web nginx) sur ce réseau avec l'option `--network`."
   ]
  },
  {
   "cell_type": "code",
   "execution_count": 84,
   "id": "a8aabf7c-3e8d-401d-ace9-e9d902518f5d",
   "metadata": {
    "tags": [
     "remove-output"
    ]
   },
   "outputs": [
    {
     "name": "stdout",
     "output_type": "stream",
     "text": [
      "83741e9033df8a07f68f416c59c349b5162fa95e343a4521476e1541de9bbfce\n"
     ]
    }
   ],
   "source": [
    "docker run --rm -d --name nginx-01 \\\n",
    "           --network mynet \\\n",
    "           nginx:1.23"
   ]
  },
  {
   "cell_type": "code",
   "execution_count": 85,
   "id": "55a9d47a-b902-497b-8c3b-59b31249e65d",
   "metadata": {
    "tags": []
   },
   "outputs": [
    {
     "name": "stdout",
     "output_type": "stream",
     "text": [
      "\u001b[1;39m[\n",
      "  \u001b[1;39m{\n",
      "    \u001b[0m\u001b[34;1m\"Name\"\u001b[0m\u001b[1;39m: \u001b[0m\u001b[0;32m\"mynet\"\u001b[0m\u001b[1;39m,\n",
      "    \u001b[0m\u001b[34;1m\"Id\"\u001b[0m\u001b[1;39m: \u001b[0m\u001b[0;32m\"15d509717a9ef3377d4bb1c363b2b7a04b73613bbfd171b1949351387bb4fb93\"\u001b[0m\u001b[1;39m,\n",
      "    \u001b[0m\u001b[34;1m\"Created\"\u001b[0m\u001b[1;39m: \u001b[0m\u001b[0;32m\"2023-03-13T17:30:10.2379153Z\"\u001b[0m\u001b[1;39m,\n",
      "    \u001b[0m\u001b[34;1m\"Scope\"\u001b[0m\u001b[1;39m: \u001b[0m\u001b[0;32m\"local\"\u001b[0m\u001b[1;39m,\n",
      "    \u001b[0m\u001b[34;1m\"Driver\"\u001b[0m\u001b[1;39m: \u001b[0m\u001b[0;32m\"bridge\"\u001b[0m\u001b[1;39m,\n",
      "    \u001b[0m\u001b[34;1m\"EnableIPv6\"\u001b[0m\u001b[1;39m: \u001b[0m\u001b[0;39mfalse\u001b[0m\u001b[1;39m,\n",
      "    \u001b[0m\u001b[34;1m\"IPAM\"\u001b[0m\u001b[1;39m: \u001b[0m\u001b[1;39m{\n",
      "      \u001b[0m\u001b[34;1m\"Driver\"\u001b[0m\u001b[1;39m: \u001b[0m\u001b[0;32m\"default\"\u001b[0m\u001b[1;39m,\n",
      "      \u001b[0m\u001b[34;1m\"Options\"\u001b[0m\u001b[1;39m: \u001b[0m\u001b[1;39m{}\u001b[0m\u001b[1;39m,\n",
      "      \u001b[0m\u001b[34;1m\"Config\"\u001b[0m\u001b[1;39m: \u001b[0m\u001b[1;39m[\n",
      "        \u001b[1;39m{\n",
      "          \u001b[0m\u001b[34;1m\"Subnet\"\u001b[0m\u001b[1;39m: \u001b[0m\u001b[0;32m\"192.168.0.0/20\"\u001b[0m\u001b[1;39m,\n",
      "          \u001b[0m\u001b[34;1m\"Gateway\"\u001b[0m\u001b[1;39m: \u001b[0m\u001b[0;32m\"192.168.0.1\"\u001b[0m\u001b[1;39m\n",
      "        \u001b[1;39m}\u001b[0m\u001b[1;39m\n",
      "      \u001b[1;39m]\u001b[0m\u001b[1;39m\n",
      "    \u001b[1;39m}\u001b[0m\u001b[1;39m,\n",
      "    \u001b[0m\u001b[34;1m\"Internal\"\u001b[0m\u001b[1;39m: \u001b[0m\u001b[0;39mfalse\u001b[0m\u001b[1;39m,\n",
      "    \u001b[0m\u001b[34;1m\"Attachable\"\u001b[0m\u001b[1;39m: \u001b[0m\u001b[0;39mfalse\u001b[0m\u001b[1;39m,\n",
      "    \u001b[0m\u001b[34;1m\"Ingress\"\u001b[0m\u001b[1;39m: \u001b[0m\u001b[0;39mfalse\u001b[0m\u001b[1;39m,\n",
      "    \u001b[0m\u001b[34;1m\"ConfigFrom\"\u001b[0m\u001b[1;39m: \u001b[0m\u001b[1;39m{\n",
      "      \u001b[0m\u001b[34;1m\"Network\"\u001b[0m\u001b[1;39m: \u001b[0m\u001b[0;32m\"\"\u001b[0m\u001b[1;39m\n",
      "    \u001b[1;39m}\u001b[0m\u001b[1;39m,\n",
      "    \u001b[0m\u001b[34;1m\"ConfigOnly\"\u001b[0m\u001b[1;39m: \u001b[0m\u001b[0;39mfalse\u001b[0m\u001b[1;39m,\n",
      "    \u001b[0m\u001b[34;1m\"Containers\"\u001b[0m\u001b[1;39m: \u001b[0m\u001b[1;39m{\n",
      "      \u001b[0m\u001b[34;1m\"83741e9033df8a07f68f416c59c349b5162fa95e343a4521476e1541de9bbfce\"\u001b[0m\u001b[1;39m: \u001b[0m\u001b[1;39m{\n",
      "        \u001b[0m\u001b[34;1m\"Name\"\u001b[0m\u001b[1;39m: \u001b[0m\u001b[0;32m\"nginx-01\"\u001b[0m\u001b[1;39m,\n",
      "        \u001b[0m\u001b[34;1m\"EndpointID\"\u001b[0m\u001b[1;39m: \u001b[0m\u001b[0;32m\"1fda3db8766adbc5fc7c74b8f834abebd9bd876d1fdda61c5102dc7089054c0d\"\u001b[0m\u001b[1;39m,\n",
      "        \u001b[0m\u001b[34;1m\"MacAddress\"\u001b[0m\u001b[1;39m: \u001b[0m\u001b[0;32m\"02:42:c0:a8:00:02\"\u001b[0m\u001b[1;39m,\n",
      "        \u001b[0m\u001b[34;1m\"IPv4Address\"\u001b[0m\u001b[1;39m: \u001b[0m\u001b[0;32m\"192.168.0.2/20\"\u001b[0m\u001b[1;39m,\n",
      "        \u001b[0m\u001b[34;1m\"IPv6Address\"\u001b[0m\u001b[1;39m: \u001b[0m\u001b[0;32m\"\"\u001b[0m\u001b[1;39m\n",
      "      \u001b[1;39m}\u001b[0m\u001b[1;39m\n",
      "    \u001b[1;39m}\u001b[0m\u001b[1;39m,\n",
      "    \u001b[0m\u001b[34;1m\"Options\"\u001b[0m\u001b[1;39m: \u001b[0m\u001b[1;39m{}\u001b[0m\u001b[1;39m,\n",
      "    \u001b[0m\u001b[34;1m\"Labels\"\u001b[0m\u001b[1;39m: \u001b[0m\u001b[1;39m{}\u001b[0m\u001b[1;39m\n",
      "  \u001b[1;39m}\u001b[0m\u001b[1;39m\n",
      "\u001b[1;39m]\u001b[0m\n"
     ]
    }
   ],
   "source": [
    "docker network inspect mynet|jq"
   ]
  },
  {
   "cell_type": "code",
   "execution_count": 94,
   "id": "68f63224-7e2e-4e2d-a3b4-279cb5d719d3",
   "metadata": {
    "tags": [
     "remove-output",
     "remove"
    ]
   },
   "outputs": [
    {
     "name": "stdout",
     "output_type": "stream",
     "text": [
      "91f87edaca08d83014b2618a0988ac270fcec7f83118cdd50b1bda91df25f85e\n"
     ]
    }
   ],
   "source": [
    "docker run --quiet --detach --rm --name my-tshark \\\n",
    "           --network container:nginx-01 \\\n",
    "           nicolaka/netshoot:v0.9 \\\n",
    "             tshark -w /tmp/capture-output.pcap"
   ]
  },
  {
   "cell_type": "markdown",
   "id": "f77e2b1d-2b56-4e98-9fef-7cec047e26e5",
   "metadata": {
    "tags": [],
    "user_expressions": []
   },
   "source": [
    "ce serveur peut être atteint depuis un autre conteneur sur le même réseau en utilisant son nom. Ici on exécute la commande `pandoc` qui convertit un site web en texte :"
   ]
  },
  {
   "cell_type": "code",
   "execution_count": 96,
   "id": "d614810e-ce19-4767-b885-52d005f7cf45",
   "metadata": {
    "tags": []
   },
   "outputs": [
    {
     "name": "stdout",
     "output_type": "stream",
     "text": [
      "WARNING: The requested image's platform (linux/amd64) does not match the detected host platform (linux/arm64/v8) and no specific platform was requested\n",
      "Welcome to nginx!\n",
      "\n",
      "If you see this page, the nginx web server is successfully installed and\n",
      "working. Further configuration is required.\n",
      "\n",
      "For online documentation and support please refer to nginx.org.\n",
      "Commercial support is available at nginx.com.\n",
      "\n",
      "Thank you for using nginx.\n"
     ]
    }
   ],
   "source": [
    " docker run --network mynet --rm pandoc/core:3.1 --to plain http://nginx-01"
   ]
  },
  {
   "cell_type": "code",
   "execution_count": 97,
   "id": "85ffa0f3-3cd0-4a04-b3cb-fe2fcdebc832",
   "metadata": {
    "tags": [
     "remove"
    ]
   },
   "outputs": [
    {
     "name": "stdout",
     "output_type": "stream",
     "text": [
      "    1 0.000000000 02:42:c0:a8:00:03 → Broadcast    ARP 42 Who has 192.168.0.2? Tell 192.168.0.3\n",
      "    2 0.000017791 02:42:c0:a8:00:02 → 02:42:c0:a8:00:03 ARP 42 192.168.0.2 is at 02:42:c0:a8:00:02\n",
      "    3 0.000039750  192.168.0.3 → 192.168.0.2  TCP 74 47330 → 80 [SYN] Seq=0 Win=64240 Len=0 MSS=1460 SACK_PERM TSval=1857303026 TSecr=0 WS=128\n",
      "    4 0.000055958  192.168.0.2 → 192.168.0.3  TCP 74 80 → 47330 [SYN, ACK] Seq=0 Ack=1 Win=65160 Len=0 MSS=1460 SACK_PERM TSval=2744687250 TSecr=1857303026 WS=128\n",
      "    5 0.000073958  192.168.0.3 → 192.168.0.2  TCP 66 47330 → 80 [ACK] Seq=1 Ack=1 Win=64256 Len=0 TSval=1857303026 TSecr=2744687250\n",
      "    6 0.004066916  192.168.0.3 → 192.168.0.2  HTTP 123 GET / HTTP/1.1 \n",
      "    7 0.004084041  192.168.0.2 → 192.168.0.3  TCP 66 80 → 47330 [ACK] Seq=1 Ack=58 Win=65152 Len=0 TSval=2744687254 TSecr=1857303030\n",
      "    8 0.004339583  192.168.0.2 → 192.168.0.3  TCP 304 HTTP/1.1 200 OK  [TCP segment of a reassembled PDU]\n",
      "    9 0.004356166  192.168.0.3 → 192.168.0.2  TCP 66 47330 → 80 [ACK] Seq=58 Ack=239 Win=64128 Len=0 TSval=1857303030 TSecr=2744687254\n",
      "   10 0.004370666  192.168.0.2 → 192.168.0.3  HTTP 681 HTTP/1.1 200 OK  (text/html)\n",
      "   11 0.004383458  192.168.0.3 → 192.168.0.2  TCP 66 47330 → 80 [ACK] Seq=58 Ack=854 Win=64128 Len=0 TSval=1857303030 TSecr=2744687254\n",
      "   12 0.052462125  192.168.0.3 → 192.168.0.2  TCP 66 47330 → 80 [FIN, ACK] Seq=58 Ack=854 Win=64128 Len=0 TSval=1857303078 TSecr=2744687254\n",
      "   13 0.052636625  192.168.0.2 → 192.168.0.3  TCP 66 80 → 47330 [FIN, ACK] Seq=854 Ack=59 Win=65152 Len=0 TSval=2744687302 TSecr=1857303078\n",
      "   14 0.052687791  192.168.0.3 → 192.168.0.2  TCP 66 47330 → 80 [ACK] Seq=59 Ack=855 Win=64128 Len=0 TSval=1857303078 TSecr=2744687302\n",
      "my-tshark\n"
     ]
    }
   ],
   "source": [
    "docker exec -it my-tshark tshark -r /tmp/capture-output.pcap\n",
    "docker stop my-tshark"
   ]
  },
  {
   "cell_type": "code",
   "execution_count": 98,
   "id": "bd76a2ad-d5eb-4310-967d-290d7e3cb9f4",
   "metadata": {
    "tags": []
   },
   "outputs": [
    {
     "name": "stdout",
     "output_type": "stream",
     "text": [
      "NETWORK ID     NAME      DRIVER    SCOPE\n",
      "3a3f9fe39100   backnet   bridge    local\n",
      "25a6bacef95b   bridge    bridge    local\n",
      "290659c62698   host      host      local\n",
      "15d509717a9e   mynet     bridge    local\n",
      "e91b5de18bd5   none      null      local\n"
     ]
    }
   ],
   "source": [
    "docker network ls"
   ]
  },
  {
   "cell_type": "code",
   "execution_count": 100,
   "id": "482ad61c-d38f-4b4a-ac53-7356966d3bdb",
   "metadata": {
    "tags": [
     "remove-output"
    ]
   },
   "outputs": [
    {
     "name": "stdout",
     "output_type": "stream",
     "text": [
      "Error response from daemon: No such container: nginx-01\n",
      "Error response from daemon: network mynet not found\n"
     ]
    }
   ],
   "source": [
    "docker stop nginx-01\n",
    "docker network rm mynet"
   ]
  },
  {
   "cell_type": "markdown",
   "id": "d67903e9-8007-4959-8ec6-3ddc311a0cbc",
   "metadata": {
    "user_expressions": []
   },
   "source": [
    "#### entre l'hôte et les conteneurs\n",
    "\n",
    "Il est possible de mettre en place une redirection de ports entre l'hôte et les conteneurs avec l'option `-p <port hote>:<port conteneur>` à la création. Cela permet d'accéder aux services docker depuis l'hôte ou le réseau local. "
   ]
  },
  {
   "cell_type": "markdown",
   "id": "e3720051-6cf8-44f1-959a-7e2c70d2f2b9",
   "metadata": {},
   "source": [
    "On peut donc lancer deux serveur nginx de deux versions différents qui écoutent chacun sur le port 80 de leur conteneur respectif mais qui sont accessibles depuis les port 8081 et 8082 de l'hôte."
   ]
  },
  {
   "cell_type": "code",
   "execution_count": 121,
   "id": "f1bf24bd-afdf-44d0-84af-2c004b1d6fe9",
   "metadata": {
    "tags": [
     "remove-output"
    ]
   },
   "outputs": [
    {
     "name": "stdout",
     "output_type": "stream",
     "text": [
      "879095a27359a005393beedac39652b0d3a22f3a87abf4be110bc69e060517b6\n",
      "a441e69c2e25e72f8f466528fcead02f1d9b993de8fea7490ad93a8cd6072294\n"
     ]
    }
   ],
   "source": [
    "docker run --rm -d --name nginx-01 -p 8081:80 nginx:1.22\n",
    "docker run --rm -d --name nginx-02 -p 8082:80 nginx:1.23"
   ]
  },
  {
   "cell_type": "markdown",
   "id": "0a91afc8-2835-4ab1-be13-0a011103e3c9",
   "metadata": {
    "user_expressions": []
   },
   "source": [
    "On utilise ici une technique pour accéder à l'hôte depuis les conteneurs."
   ]
  },
  {
   "cell_type": "code",
   "execution_count": 124,
   "id": "28c8910c-63e6-4216-b082-347a9c25fdc5",
   "metadata": {
    "tags": []
   },
   "outputs": [
    {
     "name": "stdout",
     "output_type": "stream",
     "text": [
      "HTTP/1.1 200 OK\n",
      "Server: nginx/1.22.1\n",
      "HTTP/1.1 200 OK\n",
      "Server: nginx/1.23.3\n"
     ]
    }
   ],
   "source": [
    "docker run --rm \\\n",
    "    --add-host=host.docker.internal:host-gateway \\\n",
    "    curlimages/curl:7.88.1 --silent --head host.docker.internal:8081|head -n 2\n",
    "    \n",
    "docker run --rm \\\n",
    "    --add-host=host.docker.internal:host-gateway \\\n",
    "    curlimages/curl:7.88.1 --silent --head host.docker.internal:8082|head -n 2"
   ]
  },
  {
   "cell_type": "code",
   "execution_count": 125,
   "id": "2c5e95c6-f5ac-4253-b978-ab9eb783e581",
   "metadata": {
    "tags": [
     "remove-output"
    ]
   },
   "outputs": [
    {
     "name": "stdout",
     "output_type": "stream",
     "text": [
      "nginx-01\n",
      "nginx-02\n"
     ]
    }
   ],
   "source": [
    "docker stop nginx-01 nginx-02"
   ]
  },
  {
   "cell_type": "markdown",
   "id": "50b156b9-fa4c-45cf-a503-243180dcf383",
   "metadata": {
    "tags": [],
    "user_expressions": []
   },
   "source": [
    "### Illustration avec une base de données relationnelles\n",
    "\n",
    "Pour illustrer les concepts précédents, nous allons créer une base de données Postgresql à partir de l'[image officielle](https://hub.docker.com/_/postgres) dans un sous-réseau `backnet` et dont les données seront persistées dans un volume nommé `postgres-01-data`."
   ]
  },
  {
   "cell_type": "code",
   "execution_count": 126,
   "id": "3c84ecd0-98ef-43e4-ba65-8981f0143953",
   "metadata": {
    "tags": [
     "remove-output"
    ]
   },
   "outputs": [
    {
     "name": "stdout",
     "output_type": "stream",
     "text": [
      "Error response from daemon: network with name backnet already exists\n"
     ]
    }
   ],
   "source": [
    "docker network create backnet"
   ]
  },
  {
   "cell_type": "code",
   "execution_count": 127,
   "id": "ee7e2bca-289b-43ef-bad3-45d35f19f1af",
   "metadata": {
    "tags": [
     "remove-output"
    ]
   },
   "outputs": [
    {
     "name": "stdout",
     "output_type": "stream",
     "text": [
      "docker: Error response from daemon: Conflict. The container name \"/postgres-01\" is already in use by container \"899dee12389ab75dd6283a2d7cc1e10a130877bc9d822f4513ce82c9a4a4fef8\". You have to remove (or rename) that container to be able to reuse that name.\n",
      "See 'docker run --help'.\n"
     ]
    }
   ],
   "source": [
    "docker run -d --rm \\\n",
    "  --name postgres-01 \\\n",
    "  --network backnet \\\n",
    "  --env POSTGRES_USER=dba \\\n",
    "  --env POSTGRES_PASSWORD=mysecretpassword \\\n",
    "  --env POSTGRES_DB=mydb \\\n",
    "  -v postgres-01-data:/var/lib/postgresql/data \\\n",
    "  postgres:15.2"
   ]
  },
  {
   "cell_type": "markdown",
   "id": "734ff9b8-2d05-4a29-a467-e383a52d7175",
   "metadata": {
    "user_expressions": []
   },
   "source": [
    "Il est ensuite possible d'interroger cette base de données avec la commande `psql` exécutée dans un autre conteneur ephémère. "
   ]
  },
  {
   "cell_type": "code",
   "execution_count": 129,
   "id": "2ed5562a-61f3-4114-aefe-5d7966360074",
   "metadata": {
    "tags": []
   },
   "outputs": [
    {
     "name": "stdout",
     "output_type": "stream",
     "text": [
      "NOTICE:  relation \"person\" already exists, skipping\n",
      "CREATE TABLE\n",
      "INSERT 0 1\n",
      "INSERT 0 1\n"
     ]
    }
   ],
   "source": [
    "sleep 2 \n",
    "\n",
    "docker run --rm \\\n",
    "    --network backnet \\\n",
    "    --env PGPASSWORD=mysecretpassword \\\n",
    "    postgres:15.2 \\\n",
    "        psql -h postgres-01 -U dba mydb -c \\\n",
    "            \"CREATE TABLE IF NOT EXISTS \n",
    "                    PERSON(ID serial PRIMARY KEY,NAME VARCHAR NOT NULL);\n",
    "            INSERT INTO PERSON (NAME) VALUES ('Pierre');\n",
    "            INSERT INTO PERSON (NAME) VALUES ('Marie');\""
   ]
  },
  {
   "cell_type": "markdown",
   "id": "3519655c-52c8-4be8-b968-e3f1a072fb11",
   "metadata": {
    "user_expressions": []
   },
   "source": [
    "Le conteneur de la base de donnée peut être détruit (cf --rm) et un autre créé avec le même volume donc sans perte de données. "
   ]
  },
  {
   "cell_type": "code",
   "execution_count": 29,
   "id": "685a655f-41bf-43da-ae4b-9038232cac4a",
   "metadata": {
    "tags": [
     "remove-output"
    ]
   },
   "outputs": [
    {
     "name": "stdout",
     "output_type": "stream",
     "text": [
      "postgres-01\n",
      "899dee12389ab75dd6283a2d7cc1e10a130877bc9d822f4513ce82c9a4a4fef8\n"
     ]
    }
   ],
   "source": [
    "docker stop postgres-01\n",
    "\n",
    "docker run -d --rm \\\n",
    "  --name postgres-01 \\\n",
    "  --network backnet \\\n",
    "  --env POSTGRES_USER=dba \\\n",
    "  --env POSTGRES_PASSWORD=mysecretpassword \\\n",
    "  --env POSTGRES_DB=mydb \\\n",
    "  -v postgres-01-data:/var/lib/postgresql/data \\\n",
    "  postgres:15.2"
   ]
  },
  {
   "cell_type": "code",
   "execution_count": 30,
   "id": "5e3ce1d1-c404-4ebd-aa80-3502f72bfab3",
   "metadata": {
    "tags": []
   },
   "outputs": [
    {
     "name": "stdout",
     "output_type": "stream",
     "text": [
      " id |  name  \n",
      "----+--------\n",
      "  1 | Pierre\n",
      "  2 | Marie\n",
      "(2 rows)\n",
      "\n"
     ]
    }
   ],
   "source": [
    "sleep 2 \n",
    "\n",
    "docker run --rm \\\n",
    "    --network backnet \\\n",
    "    --env PGPASSWORD=mysecretpassword \\\n",
    "    postgres:15.2 \\\n",
    "        psql -h postgres-01 -U dba mydb -c \\\n",
    "            \"SELECT * FROM PERSON;\""
   ]
  },
  {
   "cell_type": "markdown",
   "id": "70d8dcad-34c8-4b67-9e55-52fd874a62b4",
   "metadata": {
    "user_expressions": []
   },
   "source": [
    "On peut aussi utiliser un bind volume pour faire une sauvegarde sur l'hôte."
   ]
  },
  {
   "cell_type": "code",
   "execution_count": 132,
   "id": "5d162ac8-2650-4f4c-a02f-26d5e88cd7a4",
   "metadata": {
    "tags": []
   },
   "outputs": [],
   "source": [
    "docker run --rm \\\n",
    "    -v /tmp/backup:/backup \\\n",
    "    --network backnet \\\n",
    "    --env PGPASSWORD=mysecretpassword \\\n",
    "    postgres:15.2 \\\n",
    "        sh -c \"pg_dumpall -h postgres-01 -U dba|gzip > \\\n",
    "               /backup/pg01-$(date +'%Y%m%d_%H%M%S').backup.gz\""
   ]
  },
  {
   "cell_type": "markdown",
   "id": "bf747d7d-be11-41dc-b3bd-ab7a43879254",
   "metadata": {
    "user_expressions": []
   },
   "source": [
    "Pour finir, le conteneur postgres-01 est arrêté et donc détruit, ainsi que le réseau.\\\n",
    "Dans notre exemple, le volume postgres-01-data est aussi détruit mais ***attention les données perdues***. "
   ]
  },
  {
   "cell_type": "code",
   "execution_count": 134,
   "id": "a36bc77e-b847-4cfe-8c00-2a8da58c4a9c",
   "metadata": {
    "tags": [
     "remove-output"
    ]
   },
   "outputs": [
    {
     "name": "stdout",
     "output_type": "stream",
     "text": [
      "postgres-01\n",
      "backnet\n",
      "postgres-01-data\n"
     ]
    }
   ],
   "source": [
    "docker stop postgres-01\n",
    "docker network rm backnet\n",
    "docker volume rm postgres-01-data"
   ]
  },
  {
   "cell_type": "code",
   "execution_count": null,
   "id": "b7e9a562-9430-4027-be05-0e999851439f",
   "metadata": {},
   "outputs": [],
   "source": []
  }
 ],
 "metadata": {
  "kernelspec": {
   "display_name": "Z shell",
   "language": "zsh",
   "name": "zsh"
  },
  "language_info": {
   "codemirror_mode": "shell",
   "file_extension": ".zsh",
   "mimetype": "text/x-zsh",
   "name": "zsh",
   "pygments_lexer": "shell",
   "version": "5.7.1"
  }
 },
 "nbformat": 4,
 "nbformat_minor": 5
}
