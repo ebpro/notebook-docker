{
 "cells": [
  {
   "cell_type": "markdown",
   "id": "fc5dee8c-7359-4446-b6c4-4bac7d7e7118",
   "metadata": {
    "tags": [],
    "user_expressions": []
   },
   "source": [
    "## Notions de base\n",
    "\n",
    "### Vocabulaire\n",
    "\n",
    "Conteneur \n",
    ": Un conteneur est une sorte de bac à sable (sandbox) qui isole un ensemble de processus du système en utilisant les namespaces du noyau linux et leur associe une carte réseau virtuelle. Un conteneur est l'instance d'une image. Généralement, un conteneur fournit un et un seul service.\n",
    "\n",
    "Image\n",
    ": Une image est système de fichier isolé qui contient tout ce qui est nécessaire pour l'exécution d'un conteneur. Elle contient aussi d'autres informations comme des metadonnées, des variables d'environnement ou la commande par défaut à executer. Souvent une image s'appuie sur une autre image à laquelle elle apporte des modificiations.\n",
    "\n",
    "Docker Daemon\n",
    ": Le docker daemon est un serveur qui gère les images, les conteneurs, les réseaux et les volumes de stockage. Il peut communiquer avec d'autres docker daemons et offre une API standard.\n",
    "\n",
    "Docker Client\n",
    ": Le docker client est un outils en ligne de commande pour envoyer des commandes à un ou plusieurs docker daemons locaux ou distants. \n",
    "\n",
    "\n",
    "> Par exemple, le docker client peut demander au docker daemon d'exécuter une image ce qui produit un conteneur. Si l'image n'est pas disponible localement, elle est téléchargée par le docker daemon depuis un registry.\n",
    "\n",
    "### Installation\n",
    "\n",
    "Docker peut être installé directement sous linux, il partage alors le noyau de l'hôte. Il peut aussi être installé dans une machine virtuelle Linux (sous Linux, Windows et MacOs) par exemple via [Docker Desktop](https://docs.docker.com/get-docker/)."
   ]
  },
  {
   "cell_type": "markdown",
   "id": "b4f86918-a9ab-4ca9-a535-c26d6ee9bdae",
   "metadata": {
    "slideshow": {
     "slide_type": "slide"
    },
    "tags": [],
    "user_expressions": []
   },
   "source": [
    "### Exécuter un conteneur\n",
    "\n",
    "La commande `docker container run` permet d'executer la commande par défaut d'une image dans un espace isolé. Si l'image n'est pas disponible pour le docker daemon, elle est téléchargée à partir d'un registry (par défaut [Docker Hub](http://hub.docker.com)). Il peut aussi être utilisé à distance depuis le cloud."
   ]
  },
  {
   "cell_type": "markdown",
   "id": "c9ac6806-7b30-429e-ae44-a88ccabf0f95",
   "metadata": {
    "user_expressions": []
   },
   "source": [
    "Comme premier exemple, exécutons l'image [hello-world](https://hub.docker.com/_/hello-world) qui illustre ce fonctionnement :"
   ]
  },
  {
   "cell_type": "code",
   "execution_count": 6,
   "id": "dbbf1f93-d830-455f-93a3-6e60413a2b0b",
   "metadata": {
    "tags": []
   },
   "outputs": [
    {
     "name": "stdout",
     "output_type": "stream",
     "text": [
      "Unable to find image 'hello-world:latest' locally\n",
      "latest: Pulling from library/hello-world\n",
      "\n",
      "\u001b[1BDigest: sha256:6e8b6f026e0b9c419ea0fd02d3905dd0952ad1feea67543f525c73a0a790fefb\n",
      "Status: Downloaded newer image for hello-world:latest\n",
      "\n",
      "Hello from Docker!\n",
      "This message shows that your installation appears to be working correctly.\n",
      "\n",
      "To generate this message, Docker took the following steps:\n",
      " 1. The Docker client contacted the Docker daemon.\n",
      " 2. The Docker daemon pulled the \"hello-world\" image from the Docker Hub.\n",
      "    (arm64v8)\n",
      " 3. The Docker daemon created a new container from that image which runs the\n",
      "    executable that produces the output you are currently reading.\n",
      " 4. The Docker daemon streamed that output to the Docker client, which sent it\n",
      "    to your terminal.\n",
      "\n",
      "To try something more ambitious, you can run an Ubuntu container with:\n",
      " $ docker run -it ubuntu bash\n",
      "\n",
      "Share images, automate workflows, and more with a free Docker ID:\n",
      " https://hub.docker.com/\n",
      "\n",
      "For more examples and ideas, visit:\n",
      " https://docs.docker.com/get-started/\n",
      "\n"
     ]
    }
   ],
   "source": [
    "docker container run hello-world"
   ]
  },
  {
   "cell_type": "markdown",
   "id": "abdc6b5a-62d1-4ab4-bd60-1222a2a515ca",
   "metadata": {
    "slideshow": {
     "slide_type": "slide"
    },
    "tags": [],
    "user_expressions": []
   },
   "source": [
    "Une commande docker commencent par le type d'objet qu'elle manipule (`container`, `image`, ...) suivi d'une sous-commande. Par exempke, il est possible de précharger ou de mettre à jour une image avec la sous-commande `pull`."
   ]
  },
  {
   "cell_type": "markdown",
   "id": "b774458b-2e48-4594-ab22-e7db50b1ef31",
   "metadata": {
    "slideshow": {
     "slide_type": "slide"
    },
    "tags": [],
    "user_expressions": []
   },
   "source": [
    "Pour télécharger ou mettre à jour [Alpine Linux](https://www.alpinelinux.org/) qui est une distribution linux très légère :"
   ]
  },
  {
   "cell_type": "code",
   "execution_count": 13,
   "id": "a60eb51f-98b3-4b31-a82d-27788958e5e1",
   "metadata": {
    "tags": []
   },
   "outputs": [
    {
     "name": "stdout",
     "output_type": "stream",
     "text": [
      "Using default tag: latest\n",
      "latest: Pulling from library/alpine\n",
      "Digest: sha256:69665d02cb32192e52e07644d76bc6f25abeb5410edc1c7a81a10ba3f0efb90a\n",
      "Status: Image is up to date for alpine:latest\n",
      "docker.io/library/alpine:latest\n"
     ]
    }
   ],
   "source": [
    "docker image pull alpine"
   ]
  },
  {
   "cell_type": "markdown",
   "id": "e02ceab6-aebb-4c14-977f-837293751055",
   "metadata": {
    "user_expressions": []
   },
   "source": [
    "Le format du nom d'une image est `[registry_hostname[:port]][path]image_name[:tag]`.\n",
    "\n",
    "si l'adresse du registry est omise c'est celle de dockerhub qui est utilisé (docker.io). \n",
    "\n",
    "Si l'image est \"officielle\" `path` peut-être omis et vaut `library`, sinon il s'agit généralement du compte de l'utilisateur qui fourni l'image. \n",
    "\n",
    "`tag` permet de différencier les versions d'une image, s'il est omis il vaut `latest`. \n",
    "\n",
    "Ainsi, le nom d'image `alpine` correspond en fait à `docker.io/library/alpine:latest`. La [documentation](https://hub.docker.com/_/alpine/tags) indique les tags existants."
   ]
  },
  {
   "cell_type": "markdown",
   "id": "cae60852-b8d9-4dc7-aaa2-7e4c2e07263b",
   "metadata": {
    "slideshow": {
     "slide_type": "slide"
    },
    "tags": [],
    "user_expressions": []
   },
   "source": [
    "Il est possible de choisir la commande à utiliser au lancement du container en l'indiquant après le nom de l'image. Des variables d'environnement peuvent êtrée crées dans le conteneur avec l'option `--env`."
   ]
  },
  {
   "cell_type": "code",
   "execution_count": 72,
   "id": "0de7e3c9-d947-4d55-a77c-acb36ec308af",
   "metadata": {
    "tags": []
   },
   "outputs": [
    {
     "name": "stdout",
     "output_type": "stream",
     "text": [
      "Linux 04d572f58590 5.15.49-linuxkit #1 SMP PREEMPT Tue Sep 13 07:51:32 UTC 2022 aarch64 Linux\n"
     ]
    }
   ],
   "source": [
    "docker container run \\\n",
    "    alpine uname -a"
   ]
  },
  {
   "cell_type": "code",
   "execution_count": 73,
   "id": "3d4c1f13-bd40-4e6d-8978-c10c622fb396",
   "metadata": {
    "tags": []
   },
   "outputs": [
    {
     "name": "stdout",
     "output_type": "stream",
     "text": [
      "PATH=/usr/local/sbin:/usr/local/bin:/usr/sbin:/usr/bin:/sbin:/bin\n",
      "HOSTNAME=24c10da3673b\n",
      "FIRSTNAME=John\n",
      "NAME=Doe\n",
      "HOME=/root\n"
     ]
    }
   ],
   "source": [
    "docker container run --env FIRSTNAME=\"John\" --env NAME=\"Doe\" \\\n",
    "    alpine env"
   ]
  },
  {
   "cell_type": "code",
   "execution_count": 20,
   "id": "d8fe5c5b-c2ae-43bb-9b7c-4b872fbae219",
   "metadata": {
    "slideshow": {
     "slide_type": "subslide"
    },
    "tags": []
   },
   "outputs": [
    {
     "name": "stdout",
     "output_type": "stream",
     "text": [
      "Hi !\n"
     ]
    }
   ],
   "source": [
    "docker container run \\\n",
    "    alpine sh -c \"echo 'Hi !' > hello.txt ; cat hello.txt\""
   ]
  },
  {
   "cell_type": "markdown",
   "id": "894672bd-1c03-4b67-b2c9-8f84f4b3494d",
   "metadata": {
    "slideshow": {
     "slide_type": "slide"
    },
    "tags": [],
    "user_expressions": []
   },
   "source": [
    "Si la commande est interactive (comme un shell bash par exemple il faut préciser `--interactive` ou `-it`) pour utiliser l'entrée et la sortie standard. \n",
    "\n",
    "Il est aussi possible de donner un nom unique à conteneur qui peut être utilisé à la place de son ID avec l'option `--name`."
   ]
  },
  {
   "cell_type": "code",
   "execution_count": 74,
   "id": "bb87047e-5d98-4cd6-a3aa-8b4ab628ccd9",
   "metadata": {
    "tags": []
   },
   "outputs": [
    {
     "name": "stdout",
     "output_type": "stream",
     "text": [
      "total 16\n",
      "drwx------ 2 root root 4096 Mar  1 02:16 .\n",
      "drwxr-xr-x 1 root root 4096 Mar 10 08:32 ..\n",
      "-rw-r--r-- 1 root root 3106 Oct 15  2021 .bashrc\n",
      "-rw-r--r-- 1 root root  161 Jul  9  2019 .profile\n"
     ]
    }
   ],
   "source": [
    "(\n",
    "cat <<EOF\n",
    "cd /root\n",
    "ls -al\n",
    "EOF\n",
    ") | docker run --interactive --quiet --name my-bash ubuntu bash - "
   ]
  },
  {
   "cell_type": "code",
   "execution_count": 83,
   "id": "d930d2f6-5545-42cc-9b3e-526ec5d55d41",
   "metadata": {
    "tags": []
   },
   "outputs": [
    {
     "name": "stdout",
     "output_type": "stream",
     "text": [
      "Error response from daemon: No such container: my-redis\n",
      "Error response from daemon: No such container: my-redis\n",
      "Error response from daemon: No such image: redis:7.0.9\n",
      "Total reclaimed space: 0B\n"
     ]
    }
   ],
   "source": [
    "docker stop my-redis\n",
    "docker rm my-redis\n",
    "\n",
    "\n",
    "docker rmi redis:7.0.9\n",
    "docker image prune --force"
   ]
  },
  {
   "cell_type": "markdown",
   "id": "8644b62f-ed6f-4c04-8d33-172c5ff3a399",
   "metadata": {
    "user_expressions": []
   },
   "source": [
    "L'exécution d'un conteneur peut être faite tâche de fond avec l'option `--detach` ou `-d`.\n",
    "\n",
    "Par exemple, pour lancer [redis](https://redis.com/), une base de donnée NoSQL de type clé/valeur :"
   ]
  },
  {
   "cell_type": "code",
   "execution_count": 85,
   "id": "b4f43b5e-aca3-4c28-ba83-43942aa22e5c",
   "metadata": {
    "tags": []
   },
   "outputs": [
    {
     "name": "stdout",
     "output_type": "stream",
     "text": [
      "Unable to find image 'redis:7.0.9' locally\n",
      "7.0.9: Pulling from library/redis\n",
      "\n",
      "\u001b[1Bba0fb1b5: Already exists \n",
      "\u001b[1Babea72ba: Pulling fs layer \n",
      "\u001b[1Bc855d06e: Pulling fs layer \n",
      "\u001b[1B636102fd: Pulling fs layer \n",
      "\u001b[1B9543da32: Pulling fs layer \n",
      "\u001b[1BDigest: sha256:e50c7e23f79ae81351beacb20e004720d4bed657415e68c2b1a2b5557c075ce0\n",
      "Status: Downloaded newer image for redis:7.0.9\n",
      "87f4b196a0754c6b71eb54d92dd74024b91e9626e33803fe1577fec08d182241\n"
     ]
    }
   ],
   "source": [
    "docker run --detach --name my-redis redis:7.0.9"
   ]
  },
  {
   "cell_type": "markdown",
   "id": "5aca5941-2114-45b2-9c47-78b48fa37f9d",
   "metadata": {
    "user_expressions": []
   },
   "source": [
    "Les conteneurs produisent généralement le log du service sur la sortie standard. Quand `--detach` est utilisé la commande `logs` permet de le consulter (ajouter `-f` pour un suivi en continu)."
   ]
  },
  {
   "cell_type": "code",
   "execution_count": 25,
   "id": "eb364815-40ae-4b99-a185-852d759513de",
   "metadata": {
    "tags": []
   },
   "outputs": [
    {
     "name": "stdout",
     "output_type": "stream",
     "text": [
      "1:C 09 Mar 2023 11:08:25.491 # oO0OoO0OoO0Oo Redis is starting oO0OoO0OoO0Oo\n",
      "1:C 09 Mar 2023 11:08:25.491 # Redis version=7.0.9, bits=64, commit=00000000, modified=0, pid=1, just started\n",
      "1:C 09 Mar 2023 11:08:25.491 # Warning: no config file specified, using the default config. In order to specify a config file use redis-server /path/to/redis.conf\n",
      "1:M 09 Mar 2023 11:08:25.491 * monotonic clock: POSIX clock_gettime\n",
      "1:M 09 Mar 2023 11:08:25.492 * Running mode=standalone, port=6379.\n",
      "1:M 09 Mar 2023 11:08:25.492 # Server initialized\n",
      "1:M 09 Mar 2023 11:08:25.493 * Ready to accept connections\n",
      "1:signal-handler (1678360274) Received SIGTERM scheduling shutdown...\n",
      "1:M 09 Mar 2023 11:11:14.757 # User requested shutdown...\n",
      "1:M 09 Mar 2023 11:11:14.757 * Saving the final RDB snapshot before exiting.\n",
      "1:M 09 Mar 2023 11:11:14.759 * DB saved on disk\n",
      "1:M 09 Mar 2023 11:11:14.759 # Redis is now ready to exit, bye bye...\n",
      "1:C 09 Mar 2023 11:11:16.528 # oO0OoO0OoO0Oo Redis is starting oO0OoO0OoO0Oo\n",
      "1:C 09 Mar 2023 11:11:16.528 # Redis version=7.0.9, bits=64, commit=00000000, modified=0, pid=1, just started\n",
      "1:C 09 Mar 2023 11:11:16.528 # Warning: no config file specified, using the default config. In order to specify a config file use redis-server /path/to/redis.conf\n",
      "1:M 09 Mar 2023 11:11:16.528 * monotonic clock: POSIX clock_gettime\n",
      "1:M 09 Mar 2023 11:11:16.529 * Running mode=standalone, port=6379.\n",
      "1:M 09 Mar 2023 11:11:16.529 # Server initialized\n",
      "1:M 09 Mar 2023 11:11:16.531 * Loading RDB produced by version 7.0.9\n",
      "1:M 09 Mar 2023 11:11:16.531 * RDB age 2 seconds\n",
      "1:M 09 Mar 2023 11:11:16.531 * RDB memory usage when created 0.85 Mb\n",
      "1:M 09 Mar 2023 11:11:16.531 * Done loading RDB, keys loaded: 0, keys expired: 0.\n",
      "1:M 09 Mar 2023 11:11:16.531 * DB loaded from disk: 0.000 seconds\n",
      "1:M 09 Mar 2023 11:11:16.531 * Ready to accept connections\n"
     ]
    }
   ],
   "source": [
    "docker logs my-redis"
   ]
  },
  {
   "cell_type": "markdown",
   "id": "2b95a46a-a961-4656-a245-f465e3e7c981",
   "metadata": {
    "slideshow": {
     "slide_type": "slide"
    },
    "tags": [],
    "user_expressions": []
   },
   "source": [
    "La sous-commande `ls` permet d'obtenir tous les conteneurs en cours d'exécution."
   ]
  },
  {
   "cell_type": "code",
   "execution_count": 27,
   "id": "5db8b741-b956-491f-aaf8-13ca16710066",
   "metadata": {
    "tags": []
   },
   "outputs": [
    {
     "name": "stdout",
     "output_type": "stream",
     "text": [
      "CONTAINER ID   IMAGE                  COMMAND                  CREATED        STATUS        PORTS                    NAMES\n",
      "939f81ab9801   restjpa:latest         \"java -jar /myapp.jar\"   10 hours ago   Up 10 hours   0.0.0.0:8088->8080/tcp   restjpa-app-1\n",
      "15799e339c0d   postgres:15.2-alpine   \"docker-entrypoint.s…\"   10 hours ago   Up 10 hours   5432/tcp                 restjpa-db-1\n",
      "63a371adc615   sonatype/nexus3        \"/opt/sonatype/nexus…\"   17 hours ago   Up 17 hours   0.0.0.0:8081->8081/tcp   nexus\n",
      "ffa36b13f439   redis:7.0.9            \"docker-entrypoint.s…\"   21 hours ago   Up 21 hours   6379/tcp                 my-redis\n"
     ]
    }
   ],
   "source": [
    "docker container ls"
   ]
  },
  {
   "cell_type": "markdown",
   "id": "6391acb7-4ea0-4c36-98fe-888d7c43e256",
   "metadata": {
    "slideshow": {
     "slide_type": "slide"
    },
    "tags": [],
    "user_expressions": []
   },
   "source": [
    "La commande `ls -a` affiche aussi ceux qui se sont arrêtés."
   ]
  },
  {
   "cell_type": "code",
   "execution_count": 29,
   "id": "135baf5c-2e34-4ec1-8d71-2b3495694375",
   "metadata": {
    "slideshow": {
     "slide_type": "subslide"
    },
    "tags": []
   },
   "outputs": [
    {
     "name": "stdout",
     "output_type": "stream",
     "text": [
      "CONTAINER ID   IMAGE                     COMMAND                  CREATED              STATUS                          PORTS                    NAMES\n",
      "4b293186f542   alpine                    \"sh -c 'echo 'Hi !' …\"   About a minute ago   Exited (0) About a minute ago                            intelligent_jemison\n",
      "9b4520fbaed9   alpine                    \"env\"                    About a minute ago   Exited (0) About a minute ago                            eloquent_thompson\n",
      "090327d4720f   alpine                    \"uname -a\"               About a minute ago   Exited (0) About a minute ago                            trusting_burnell\n",
      "d517d72e1445   hello-world               \"/hello\"                 7 minutes ago        Exited (0) 7 minutes ago                                 stoic_grothendieck\n",
      "939f81ab9801   restjpa:latest            \"java -jar /myapp.jar\"   10 hours ago         Up 10 hours                     0.0.0.0:8088->8080/tcp   restjpa-app-1\n",
      "15799e339c0d   postgres:15.2-alpine      \"docker-entrypoint.s…\"   10 hours ago         Up 10 hours                     5432/tcp                 restjpa-db-1\n",
      "547c6b4e77e6   brunoe/helloworld_c:0.1   \"/helloworld\"            14 hours ago         Exited (0) 14 hours ago                                  bold_buck\n",
      "b212f9a84f18   828a10c39ba2              \"/helloworld\"            14 hours ago         Exited (0) 14 hours ago                                  relaxed_curran\n",
      "83d5991d1a72   82ac2438f336              \"/helloworld\"            14 hours ago         Exited (0) 14 hours ago                                  xenodochial_boyd\n",
      "3e4ceaf1c88e   33e2cf137f4d              \"/helloworld\"            14 hours ago         Exited (0) 14 hours ago                                  nostalgic_bartik\n",
      "6668f54ca765   33e2cf137f4d              \"/helloworld\"            14 hours ago         Exited (0) 14 hours ago                                  crazy_sammet\n",
      "03172e24ff77   33e2cf137f4d              \"/helloworld\"            14 hours ago         Exited (0) 14 hours ago                                  flamboyant_spence\n",
      "cd1b59c57563   33e2cf137f4d              \"/helloworld\"            14 hours ago         Exited (0) 14 hours ago                                  youthful_einstein\n",
      "c10305ffb274   cae4461f4a1b              \"/helloworld\"            14 hours ago         Exited (1) 14 hours ago                                  gracious_blackwell\n",
      "d3572fbfe588   cae4461f4a1b              \"/helloworld\"            14 hours ago         Exited (1) 14 hours ago                                  optimistic_beaver\n",
      "9b488ef0d53c   cae4461f4a1b              \"/helloworld\"            15 hours ago         Exited (1) 15 hours ago                                  suspicious_euclid\n",
      "de389ee139cc   cae4461f4a1b              \"/helloworld\"            15 hours ago         Exited (1) 15 hours ago                                  agitated_saha\n",
      "70432dc91792   b9d642650ab9              \"helloworld\"             15 hours ago         Created                                                  elated_diffie\n",
      "7aa4851c0b04   b9d642650ab9              \"helloworld\"             15 hours ago         Created                                                  jovial_cori\n",
      "f77fcfb80dce   b9d642650ab9              \"helloworld\"             15 hours ago         Created                                                  serene_cohen\n",
      "63a371adc615   sonatype/nexus3           \"/opt/sonatype/nexus…\"   17 hours ago         Up 17 hours                     0.0.0.0:8081->8081/tcp   nexus\n",
      "0bf4b7869cde   ubuntu:jammy              \"bash -\"                 18 hours ago         Exited (0) 18 hours ago                                  my-ubuntu\n",
      "417774a3826d   ubuntu:jammy              \"bash -\"                 18 hours ago         Exited (0) 18 hours ago                                  blissful_mcnulty\n",
      "708a557c412e   ubuntu:jammy              \"bash -\"                 18 hours ago         Exited (0) 18 hours ago                                  loving_jang\n",
      "2049734bee46   ubuntu:jammy              \"bash -\"                 18 hours ago         Exited (0) 18 hours ago                                  agitated_colden\n",
      "60d9eb659a3b   ubuntu:jammy              \"bash -\"                 18 hours ago         Exited (0) 18 hours ago                                  musing_ritchie\n",
      "01c99de55c85   ubuntu:jammy              \"bash -\"                 18 hours ago         Exited (0) 18 hours ago                                  determined_diffie\n",
      "f159f2e179c0   ubuntu:jammy              \"bash -\"                 18 hours ago         Exited (0) 18 hours ago                                  pedantic_franklin\n",
      "400dd10438c0   ubuntu:jammy              \"bash -\"                 18 hours ago         Exited (0) 18 hours ago                                  gifted_robinson\n",
      "90d8640e53f4   ubuntu:jammy              \"bash -\"                 18 hours ago         Exited (0) 18 hours ago                                  priceless_perlman\n",
      "d1830922276e   ubuntu:jammy              \"bash -\"                 18 hours ago         Exited (0) 18 hours ago                                  festive_jepsen\n",
      "0a232a29622d   ubuntu:jammy              \"bash -\"                 18 hours ago         Exited (0) 18 hours ago                                  my-bash\n",
      "9472c92e410f   wbitt/network-multitool   \"/bin/sh /docker/ent…\"   21 hours ago         Exited (0) 21 hours ago                                  vibrant_cray\n",
      "8fff24885ddb   wbitt/network-multitool   \"/bin/sh /docker/ent…\"   21 hours ago         Exited (0) 21 hours ago                                  keen_hoover\n",
      "a56510a09117   wbitt/network-multitool   \"/bin/sh /docker/ent…\"   21 hours ago         Exited (0) 21 hours ago                                  jolly_wozniak\n",
      "ffa36b13f439   redis:7.0.9               \"docker-entrypoint.s…\"   21 hours ago         Up 21 hours                     6379/tcp                 my-redis\n",
      "3c23b7838349   alpine                    \"sh -c 'echo 'Hi !' …\"   21 hours ago         Exited (0) 21 hours ago                                  eloquent_ellis\n",
      "21992072f593   alpine                    \"env\"                    21 hours ago         Exited (0) 21 hours ago                                  confident_bhabha\n",
      "464325d22f70   alpine                    \"set\"                    21 hours ago         Created                                                  nervous_wozniak\n",
      "5e055984fd44   alpine                    \"uname -a\"               21 hours ago         Exited (0) 21 hours ago                                  ecstatic_jackson\n",
      "a390bb84bed3   alpine                    \"uname -a\"               21 hours ago         Exited (0) 21 hours ago                                  adoring_wilson\n",
      "77d4cb95f8e5   alpine                    \"sh -c 'echo 'Hi !' …\"   21 hours ago         Exited (0) 21 hours ago                                  nifty_antonelli\n",
      "54472e9b6e6b   alpine                    \"uname -a\"               21 hours ago         Exited (0) 21 hours ago                                  strange_brown\n",
      "699b3285299d   alpine                    \"uname -a\"               21 hours ago         Exited (0) 21 hours ago                                  compassionate_pare\n",
      "5abc5edaad0e   alpine                    \"sh -c 'echo 'Hi !' …\"   21 hours ago         Exited (0) 21 hours ago                                  trusting_sinoussi\n"
     ]
    }
   ],
   "source": [
    "docker container ls -a"
   ]
  },
  {
   "cell_type": "markdown",
   "id": "8212bba8-ca4b-411a-85f8-1c42cf756a69",
   "metadata": {
    "slideshow": {
     "slide_type": "slide"
    },
    "tags": [],
    "user_expressions": []
   },
   "source": [
    "Un conteneur s'arrête quand sa commande termine. Il peut être arrêté avec la sous-commande `stop`."
   ]
  },
  {
   "cell_type": "code",
   "execution_count": 31,
   "id": "924e5fe4-863c-40e8-b017-4dd3bd134d4d",
   "metadata": {
    "tags": []
   },
   "outputs": [
    {
     "name": "stdout",
     "output_type": "stream",
     "text": [
      "my-redis\n"
     ]
    }
   ],
   "source": [
    "docker container stop my-redis"
   ]
  },
  {
   "cell_type": "markdown",
   "id": "06d456a0-5ed6-4199-a0d7-9bd16a8894cd",
   "metadata": {
    "user_expressions": []
   },
   "source": [
    "Un conteneur arrêté peut être relancé avec les même paramètres avec la commande `start`."
   ]
  },
  {
   "cell_type": "code",
   "execution_count": 33,
   "id": "6d80aea8-21cc-4c7d-b404-e2efa6334216",
   "metadata": {
    "tags": [
     "hide-output"
    ]
   },
   "outputs": [
    {
     "name": "stdout",
     "output_type": "stream",
     "text": [
      "my-redis\n"
     ]
    }
   ],
   "source": [
    "docker container start my-redis"
   ]
  },
  {
   "cell_type": "markdown",
   "id": "d612e2ad-4293-48ce-a0a7-17af34a82d26",
   "metadata": {
    "slideshow": {
     "slide_type": "slide"
    },
    "tags": [],
    "user_expressions": []
   },
   "source": [
    "Un container arrêté peut être détruit avec la commande `rm` en indiquant son Id ou son nom."
   ]
  },
  {
   "cell_type": "code",
   "execution_count": 35,
   "id": "46cfa357-a6b2-43fe-8e85-5b54cd3c2f36",
   "metadata": {
    "tags": []
   },
   "outputs": [
    {
     "name": "stdout",
     "output_type": "stream",
     "text": [
      "my-bash\n"
     ]
    }
   ],
   "source": [
    "docker rm my-bash"
   ]
  },
  {
   "cell_type": "markdown",
   "id": "ab9546c8-133b-4263-9e06-8eb2ed58e3ea",
   "metadata": {
    "user_expressions": []
   },
   "source": [
    "La commande `exec` permet d'executer une commande dans un conteneur en fonctionnement. Par exemple, pour utiliser l'interface en ligne de commande de redis depuis le conteneur `my-redis` (qui exécute déjà le serveur) pour ajouter une valeur de clé \"a.b@x.fr\"."
   ]
  },
  {
   "cell_type": "code",
   "execution_count": 37,
   "id": "21d02229-942e-424e-9973-e009ceb580d9",
   "metadata": {
    "tags": []
   },
   "outputs": [
    {
     "name": "stdout",
     "output_type": "stream",
     "text": [
      "OK\n"
     ]
    }
   ],
   "source": [
    "docker exec my-redis redis-cli SET a.b@x.fr \"Pierre,Durand,12\""
   ]
  },
  {
   "cell_type": "markdown",
   "id": "59c1286b-c0ff-44f3-afbc-7a0d281ddb0a",
   "metadata": {
    "slideshow": {
     "slide_type": "slide"
    },
    "tags": [],
    "user_expressions": []
   },
   "source": [
    "L'option `--rm` de la commande `run` provoque la suppression du conteneur dès l'arrêt.\n",
    "\n",
    "On peut alors créer un autre conteneur éphémère pour exécuter la commande de récupération d'une valeur de redis via le réseau (la partie réseau est expliquée plus tard) à partir de l'image du serveur. "
   ]
  },
  {
   "cell_type": "code",
   "execution_count": 39,
   "id": "b1ada824-0e48-4a31-9527-a67f1d06a1c7",
   "metadata": {
    "slideshow": {
     "slide_type": "subslide"
    },
    "tags": []
   },
   "outputs": [
    {
     "name": "stdout",
     "output_type": "stream",
     "text": [
      "Pierre,Durand,12\n"
     ]
    }
   ],
   "source": [
    "docker run --rm --link my-redis redis:7.0.9 redis-cli -h my-redis GET a.b@x.fr"
   ]
  },
  {
   "cell_type": "code",
   "execution_count": 41,
   "id": "0ceaa463-aa96-4159-914d-e7b43082f9d4",
   "metadata": {
    "tags": []
   },
   "outputs": [
    {
     "name": "stdout",
     "output_type": "stream",
     "text": [
      "CONTAINER ID   IMAGE                  COMMAND                  CREATED        STATUS              PORTS                    NAMES\n",
      "939f81ab9801   restjpa:latest         \"java -jar /myapp.jar\"   10 hours ago   Up 10 hours         0.0.0.0:8088->8080/tcp   restjpa-app-1\n",
      "15799e339c0d   postgres:15.2-alpine   \"docker-entrypoint.s…\"   10 hours ago   Up 10 hours         5432/tcp                 restjpa-db-1\n",
      "63a371adc615   sonatype/nexus3        \"/opt/sonatype/nexus…\"   17 hours ago   Up 17 hours         0.0.0.0:8081->8081/tcp   nexus\n",
      "ffa36b13f439   redis:7.0.9            \"docker-entrypoint.s…\"   21 hours ago   Up About a minute   6379/tcp                 my-redis\n"
     ]
    }
   ],
   "source": [
    "docker container ls "
   ]
  },
  {
   "cell_type": "code",
   "execution_count": 42,
   "id": "d49a4bfe-2d51-4aaf-a8ad-7211a4dd93c4",
   "metadata": {
    "tags": [
     "hide-output"
    ],
    "user_expressions": []
   },
   "outputs": [
    {
     "name": "stdout",
     "output_type": "stream",
     "text": [
      "my-redis\n",
      "my-redis\n"
     ]
    }
   ],
   "source": [
    "docker container stop my-redis\n",
    "\n",
    "docker container rm my-redis"
   ]
  },
  {
   "cell_type": "markdown",
   "id": "17f0d4e1-da0f-4d61-8053-f21d79d05d94",
   "metadata": {
    "slideshow": {
     "slide_type": "slide"
    },
    "tags": [],
    "user_expressions": []
   },
   "source": [
    "Tous les containeurs arrêtés peuvent être supprimés avec la commande `container prune`."
   ]
  },
  {
   "cell_type": "code",
   "execution_count": 44,
   "id": "4a4b8200-d3b3-4d78-b9e9-910d147edd40",
   "metadata": {
    "tags": []
   },
   "outputs": [
    {
     "name": "stdout",
     "output_type": "stream",
     "text": [
      "Deleted Containers:\n",
      "4b293186f54222c03ea87db74890f7ab81f332bc63c155e40b29440dcc3f6a62\n",
      "9b4520fbaed95b83ec5fe8dfe29684a38bd03c49083524ec39c9c8d1479138d7\n",
      "090327d4720f6cedba602f6de2118aafd3b486243dec03f951131503a0cb5523\n",
      "d517d72e14457827b7de8036a85f5595831393bcd7815e501e50fbfb08056d0c\n",
      "547c6b4e77e68a245ae3d05b5291dc71634650a90863b8e13f6712341f65ba4a\n",
      "b212f9a84f18fb6ff0a1e7fa7252ac6abfb593956455beebef419a93b0418495\n",
      "83d5991d1a72c2ea28344ae2f04aa6ffc136e2a702a913aa2e3cb0f61bb9f39d\n",
      "3e4ceaf1c88e17945b695134fc4fb80813aba581450b66c86371cfb942ce7fdb\n",
      "6668f54ca7655b169a591a226083f3f90cc8e8b6854749c3b7bb7b15b4b2d0a6\n",
      "03172e24ff77733e2fc0375ff12ec7a7e23b99a3d7e811609e6ade72a632ec3f\n",
      "cd1b59c575636338f41b936674a101b611b9cef165359c658fc0ac92608bad5a\n",
      "c10305ffb274cadb7204b1db5bc7bce02770d1f04e814ebd9ffd9e959edfc71a\n",
      "d3572fbfe588d4075db329c5e83e86b1f66fd7628b13934fc3d2324b3dd69222\n",
      "9b488ef0d53c24ab2b95c84798546c9f1c97692cd19455dcf67edff32b240521\n",
      "de389ee139cc16881877e2c52c459712ce1187dcb1dea21fb8a29a5fafdac065\n",
      "70432dc91792ba983cb8fea326ca84b16dafd9dc5e56467494946295a7a698ca\n",
      "7aa4851c0b04a71c783dbae210fa0ee04f047bc6b9e12d3c405a2b0e6b653b83\n",
      "f77fcfb80dce15bafa8b18598aae79c0af5f8b06bd02f983316eedb2c601f534\n",
      "0bf4b7869cde0645eb1493b9e5830719b3f03a35576e328e370df96157c8bbac\n",
      "417774a3826de43ba1079b0aad453772d41af773f7196303b12bd752f26141e6\n",
      "708a557c412e4e7140135bebf3cb216352bddaff9d82627262b5f11c50696da8\n",
      "2049734bee4605b495a4d5de583e7082707a36d9963ae111003ec5a6712ba24c\n",
      "60d9eb659a3b5c687c2957ea76e1cc8576077c00b15dd8fbcc503e1c1d90e389\n",
      "01c99de55c8504bc20879b218c7595c7d33d4baf24294134b0f62eebfaa7d916\n",
      "f159f2e179c03a208fe817054c934ef28a7065f374a0b742008ca9336867ceba\n",
      "400dd10438c0a22f5ce1c1466cca6f7ed617978678946e31153e83bec285a4ab\n",
      "90d8640e53f4d130ff1896fab1cea71fa2b389e8858fdd10fdcae9224a2ae16f\n",
      "d1830922276eeeaee4c694d2b8b10e284ebae24c394a8947686d48bf1c07b3f6\n",
      "9472c92e410fb579582b6443b232c753a1b54f3499eb151249cdd6a5380969ef\n",
      "8fff24885ddb246300d2a3b02e47f14b6d6ace76fee71f0785f4f7450274d283\n",
      "a56510a091175289c9b305e3f089b828b23e9d651638c36a190512b89d3f955d\n",
      "3c23b783834974f9e6e9da4f24bdd60dfdec7d4ebea42cde91078b02e02e663c\n",
      "21992072f593da03823c5732315682bb9312c551ff877736289b830fb1b85f15\n",
      "464325d22f70bbd0a2f8758f85c01cc00f85847fb5aac0e05e9b981210b94187\n",
      "5e055984fd4459bb49be216fbda61e06ce57f904cf3753e772f6668042ffbfce\n",
      "a390bb84bed368916bb5ea3927bf8eaa7297f131601ff9d493d976c87c226509\n",
      "77d4cb95f8e5eb702501665a82e25f8e7a8c1d1db674ea52986f248014ad9b79\n",
      "54472e9b6e6b8da61869b4f3b7c9877e0d9f326d8448a397d133eca44f6f8caa\n",
      "699b3285299d83077ed2430b6489bb961ca6ee62e699a280ff4f2fb9c18011ae\n",
      "5abc5edaad0e03906894d7cfb4a283be1615ea3a265b425da7e519d3b4ddbf53\n",
      "\n",
      "Total reclaimed space: 1.029GB\n"
     ]
    }
   ],
   "source": [
    "docker container prune --force"
   ]
  },
  {
   "cell_type": "code",
   "execution_count": 46,
   "id": "8c581086-bfcd-46da-af86-17b16ee66704",
   "metadata": {
    "slideshow": {
     "slide_type": "subslide"
    },
    "tags": []
   },
   "outputs": [
    {
     "name": "stdout",
     "output_type": "stream",
     "text": [
      "CONTAINER ID   IMAGE                  COMMAND                  CREATED        STATUS        PORTS                    NAMES\n",
      "939f81ab9801   restjpa:latest         \"java -jar /myapp.jar\"   10 hours ago   Up 10 hours   0.0.0.0:8088->8080/tcp   restjpa-app-1\n",
      "15799e339c0d   postgres:15.2-alpine   \"docker-entrypoint.s…\"   10 hours ago   Up 10 hours   5432/tcp                 restjpa-db-1\n",
      "63a371adc615   sonatype/nexus3        \"/opt/sonatype/nexus…\"   17 hours ago   Up 17 hours   0.0.0.0:8081->8081/tcp   nexus\n"
     ]
    }
   ],
   "source": [
    "docker container ls -a"
   ]
  },
  {
   "cell_type": "markdown",
   "id": "693d764b-5ab9-44e6-9777-e185b98aa6e9",
   "metadata": {
    "user_expressions": []
   },
   "source": [
    "### Gérer les images\n",
    "\n",
    "Il est possible de lister ou supprimer les images disponibles localement avec la commande `image` et les sous-commandes `ls` et `rm`."
   ]
  },
  {
   "cell_type": "code",
   "execution_count": 48,
   "id": "a48c4f92-57ac-4496-b7fd-d5b9b41b0dee",
   "metadata": {
    "tags": []
   },
   "outputs": [
    {
     "name": "stdout",
     "output_type": "stream",
     "text": [
      "REPOSITORY                 TAG               IMAGE ID       CREATED         SIZE\n",
      "restjpa                    latest            4b8a8b55ddbb   10 hours ago    281MB\n",
      "<none>                     <none>            1400205ad3f3   10 hours ago    281MB\n",
      "<none>                     <none>            a4473206e9ae   10 hours ago    281MB\n",
      "javahello                  scratch           bd4891efcdd4   11 hours ago    262MB\n",
      "javahello                  wrapper           4febce8b3a54   11 hours ago    262MB\n",
      "javahello                  cache             ce8587c00465   11 hours ago    262MB\n",
      "javahello                  mavenimagestage   0987f84ebd57   11 hours ago    262MB\n",
      "javahello                  mavenimage        dd60669ea7ed   11 hours ago    573MB\n",
      "<none>                     <none>            f595c6f0dfd7   11 hours ago    9.87MB\n",
      "<none>                     <none>            d7f95a92d9a1   11 hours ago    9.87MB\n",
      "<none>                     <none>            749b6079beda   11 hours ago    9.87MB\n",
      "<none>                     <none>            f208e63cbde9   11 hours ago    9.87MB\n",
      "<none>                     <none>            86a536d8ba2a   11 hours ago    9.87MB\n",
      "<none>                     <none>            a14aea2de419   11 hours ago    9.87MB\n",
      "<none>                     <none>            1fdd72701a19   11 hours ago    9.87MB\n",
      "sqlite                     latest            d05825d9126d   11 hours ago    9.87MB\n",
      "<none>                     <none>            7b23ac26e3f2   11 hours ago    9.87MB\n",
      "<none>                     <none>            7672ab4857bf   11 hours ago    12.8MB\n",
      "<none>                     <none>            26862ac15032   12 hours ago    12.8MB\n",
      "psql                       latest            30813025a524   12 hours ago    12.8MB\n",
      "postgresql-client          latest            a09022c9d076   12 hours ago    9.92MB\n",
      "<none>                     <none>            9dfbbf51443b   12 hours ago    9.92MB\n",
      "mycurl                     latest            9054c5f111c0   12 hours ago    9.92MB\n",
      "<none>                     <none>            2304b849d12c   12 hours ago    9.92MB\n",
      "<none>                     <none>            c4b6373999c0   12 hours ago    9.92MB\n",
      "mycurl                     0.1               9e7e92beafc1   12 hours ago    9.92MB\n",
      "brunoe/helloworld_c        0.1               c9c51acabeda   14 hours ago    74.3MB\n",
      "<none>                     <none>            828a10c39ba2   14 hours ago    74.3MB\n",
      "<none>                     <none>            82ac2438f336   14 hours ago    74.3MB\n",
      "<none>                     <none>            33e2cf137f4d   14 hours ago    74.3MB\n",
      "brunoe/helloworld_python   0.1               b2c58167fa9f   15 hours ago    290MB\n",
      "<none>                     <none>            70b9e49c68fb   15 hours ago    290MB\n",
      "<none>                     <none>            b9d642650ab9   15 hours ago    7.47MB\n",
      "<none>                     <none>            cae4461f4a1b   15 hours ago    7.47MB\n",
      "brunoe/helloworld_python   0                 dee32cbd7470   15 hours ago    290MB\n",
      "brunoe/helloworld_python   latest            dee32cbd7470   15 hours ago    290MB\n",
      "<none>                     <none>            6d2d54d84753   17 hours ago    290MB\n",
      "my_python_app              0.1               b434ca1dd48e   17 hours ago    290MB\n",
      "<none>                     <none>            0423dcc18c50   17 hours ago    290MB\n",
      "<none>                     <none>            bf040d87ceb6   18 hours ago    133MB\n",
      "<none>                     <none>            58ed10696b3d   18 hours ago    69.2MB\n",
      "<none>                     <none>            91a7271b5993   18 hours ago    172MB\n",
      "sonatype/nexus3            latest            22694ce7a98a   3 days ago      546MB\n",
      "pandoc/core                latest            85f93f2efdc5   3 days ago      228MB\n",
      "redis                      7.0.9             edf4b3932692   8 days ago      111MB\n",
      "redis                      latest            edf4b3932692   8 days ago      111MB\n",
      "postgres                   15.2              61d0571c2f7b   8 days ago      360MB\n",
      "nginx                      latest            114aa6a9f203   9 days ago      135MB\n",
      "ubuntu                     jammy             730eeb702b69   9 days ago      69.2MB\n",
      "ubuntu                     latest            730eeb702b69   9 days ago      69.2MB\n",
      "curlimages/curl            7.88.1            5880c2bc66d5   2 weeks ago     14.4MB\n",
      "traefik                    v2.9.8            e4616f42b3ac   3 weeks ago     131MB\n",
      "postgres                   15.2-alpine       68d4a8d9d3d9   3 weeks ago     241MB\n",
      "alpine                     latest            d74e625d9115   3 weeks ago     7.46MB\n",
      "nicolaka/netshoot          latest            8dd0ad9d832b   4 weeks ago     578MB\n",
      "hello-world                latest            46331d942d63   11 months ago   9.14kB\n",
      "wbitt/network-multitool    latest            424ef64cceca   14 months ago   66.6MB\n"
     ]
    }
   ],
   "source": [
    "docker image ls"
   ]
  },
  {
   "cell_type": "code",
   "execution_count": 49,
   "id": "3f001cd8-2375-4ca6-9088-7aba6126e5a3",
   "metadata": {
    "tags": []
   },
   "outputs": [
    {
     "name": "stdout",
     "output_type": "stream",
     "text": [
      "Untagged: hello-world:latest\n",
      "Untagged: hello-world@sha256:6e8b6f026e0b9c419ea0fd02d3905dd0952ad1feea67543f525c73a0a790fefb\n",
      "Deleted: sha256:46331d942d6350436f64e614d75725f6de3bb5c63e266e236e04389820a234c4\n",
      "Deleted: sha256:efb53921da3394806160641b72a2cbd34ca1a9a8345ac670a85a04ad3d0e3507\n",
      "Untagged: redis:7.0.9\n",
      "Untagged: alpine:latest\n",
      "Untagged: alpine@sha256:69665d02cb32192e52e07644d76bc6f25abeb5410edc1c7a81a10ba3f0efb90a\n",
      "Deleted: sha256:d74e625d91152966d38fe8a62c60daadb96d4b94c1a366de01fab5f334806239\n"
     ]
    }
   ],
   "source": [
    "docker image rm hello-world redis:7.0.9 alpine"
   ]
  },
  {
   "cell_type": "code",
   "execution_count": 50,
   "id": "d4d47341-647a-458e-b744-64a361fca823",
   "metadata": {
    "tags": []
   },
   "outputs": [
    {
     "name": "stdout",
     "output_type": "stream",
     "text": [
      "Deleted Images:\n",
      "deleted: sha256:a4473206e9ae8dee8acf9be5de3c82e40185f0fdb78ca9eaaaf08733ff11f981\n",
      "deleted: sha256:7b23ac26e3f2cde18a9541049c3fe1daa01e953276604afc97d909d55c798261\n",
      "deleted: sha256:7672ab4857bfbc7eccc5b4e16349b2ce4518d8d830ee202f376866d788b94923\n",
      "deleted: sha256:0423dcc18c501ebace218e2b50b530882877b76908add51bf73655de83a28aab\n",
      "deleted: sha256:b9d642650ab980fcd4eb99f73f8d3c3fb1001472ee918d31ea2a9fd481c4e8fe\n",
      "deleted: sha256:1400205ad3f399e05c5da65ab65c511fa18a50914f7e62b7c8b6e29802850e6f\n",
      "deleted: sha256:f208e63cbde91a079b983a848ad08d68bbc56cd9a17c17ddbf03a191877e229b\n",
      "deleted: sha256:86a536d8ba2a8fa88949bb04cc1751a1049aed244ea1d2dc7a502530ee266280\n",
      "deleted: sha256:6d2d54d8475324357d654399191612287d5614e945922c75413e57415a53ee1a\n",
      "deleted: sha256:c4b6373999c0e282ea9357981d9e662bc700aca1b33dbfceab0e51ef5c1e76eb\n",
      "deleted: sha256:828a10c39ba2017659a0f0d62512ab890350e66da503ba37c54c89935061980a\n",
      "deleted: sha256:bf040d87ceb6bfc096a39ff97d252073bc160c71ceca80e2f951ed092aec1ee7\n",
      "deleted: sha256:316e393791858348dbcbc028554924bef156dcd98fe3015ff83b7bbd955a1506\n",
      "deleted: sha256:82ac2438f336a200d4d49de260a60d3fcb0c96f72816a00036e46aa71174ae4d\n",
      "deleted: sha256:33e2cf137f4d503752e2e5391cd9f3718c257b007ed16b1b092f57ff403858c9\n",
      "deleted: sha256:cae4461f4a1b083240fd60bb7e20f0f7370373c70ad50d3cc449da83479ed5e6\n",
      "deleted: sha256:2304b849d12cc431c88075d21a59c9f04d23b45801c527a78c2f9ac3aa5b925c\n",
      "deleted: sha256:58ed10696b3d4c7d176e775908fd0e687eb6dedadd71e1c77562b8c640882d92\n",
      "deleted: sha256:16707488c760b46e8cd60b151b85dcb1b59466070dc917d88604e0afcb5ea385\n",
      "deleted: sha256:d7f95a92d9a1a8a67ff46dac3b749c97f436affff149ba99b5a13a423b3c4452\n",
      "deleted: sha256:91a7271b599373581786ec07c926150e9214c4655512d63007b7ff3deaf2da2f\n",
      "deleted: sha256:f3c4d8c8ad34872ccc6ec67e676221eaaa75a882e1b2b99592b3d0e5d5057b79\n",
      "deleted: sha256:26862ac150320cef280b04f1fb87227bed4c127b65fc90207d2325663ca685a6\n",
      "deleted: sha256:f595c6f0dfd7f4a1c152a5aa91a95ab33706d2635ae921cd98ab7ef47d55792c\n",
      "deleted: sha256:1fdd72701a19a21b71ed17ad181eceaca31fbccba14c765bcbe563a73cdadb40\n",
      "deleted: sha256:749b6079bedac99665cb0f8d0a592e3068477f9468571380473ce17e5393382c\n",
      "deleted: sha256:70b9e49c68fbec40b430b23cfe0ef23cb0925fae3e417339ecc1488bb9202206\n",
      "deleted: sha256:a14aea2de4193053543b05a7d1a57d5e560d069d78ae96b118c389f343e41ffb\n",
      "deleted: sha256:9dfbbf51443bd28bdbde02a842fecb236d9f4d3d020ee7d80e83117ec53f9253\n",
      "\n",
      "Total reclaimed space: 166.9MB\n"
     ]
    }
   ],
   "source": [
    "docker image prune --force"
   ]
  },
  {
   "cell_type": "markdown",
   "id": "7980f748-d0af-486d-a36a-c86099aa7598",
   "metadata": {
    "user_expressions": []
   },
   "source": [
    "### Volumes\n",
    "\n",
    "Un conteneur est généralement éphémère et sans état pour pouvoir être arrêtés et relancés sans perte de données. Les fichiers créés devant être persistants doivent donc l'être en dehors du conteneur. Pour cela, on utilise les volumes. \n",
    "\n",
    "Un volume peut être un bind volume c'est-à-dire un montage du système de fichier de l'hôte vers un répertoire du conteneur). \n",
    "Ils sont définis avec l'option `-v <source>:<destination>` de la commande `run` que l'on peut uiliser plusieurs fois. Le chemin doit être absolu mais peut utiliser la variable d'environement `${PWD}` pour simuler un chemin relatif. \n",
    "\n",
    "Dans l'exemple suivant, un premier conteneur crée le fichier `text.txt` dans un volume monté de l'hôte (le répertoire `/tmp/mydata`) dans le conteneur (à l'emplacement `/data`). Le conteneur est ensuite détruit.\n",
    "Un second conteneur monte le même répertoire de l'hôte (mais dans le nouveau conteneur dans `/databis`) et affiche le contenu."
   ]
  },
  {
   "cell_type": "code",
   "execution_count": 57,
   "id": "04d8e116-7c36-4962-a364-deca5d25d850",
   "metadata": {
    "tags": []
   },
   "outputs": [],
   "source": [
    "docker container run --rm -v /tmp/mydata:/data ubuntu bash -c \"echo 'hello'>/data/test.txt\""
   ]
  },
  {
   "cell_type": "code",
   "execution_count": 58,
   "id": "6ce36939-71fd-4203-9c17-8692d01698b6",
   "metadata": {
    "tags": []
   },
   "outputs": [
    {
     "name": "stdout",
     "output_type": "stream",
     "text": [
      "hello\n"
     ]
    }
   ],
   "source": [
    "docker container run --rm -v /tmp/mydata:/databis ubuntu cat /databis/test.txt"
   ]
  },
  {
   "cell_type": "markdown",
   "id": "0da37b4f-32f8-4bff-9864-b1a39f0e584d",
   "metadata": {
    "user_expressions": []
   },
   "source": [
    "un volume peut aussi être un volume nommé géré par le docker daemon dans un système de fichiers virtuel de façon transparente pour l'utilisateur. Il n'est alors plus aussi simple de partager des fichiers entre l'hôte et les conteneurs mais il n'y a plus de problème d'UID du propriétaire ni de droits. Il s'agit de la meilleure solution quand le docker daemon est exécuté sur un cluster et non sur une seule machine car alors le système de fichier peut être distribué.\n",
    "\n",
    "L'exemple suivant exécute une base de données via l'image de [PostgreSQL](https://hub.docker.com/_/postgres) dans un premier conteneur. Le volume nommé `postgres-test-data` est monté dans le répertoire indiqué dans la documentation de l'image pour contenir la base de données (`/var/lib/postgresql/data`). Comme celui-ci est initialement vide, l'image est construite pour créer alors automatiquement une base de données à partir des variables d'environnement fournies. "
   ]
  },
  {
   "cell_type": "code",
   "execution_count": 62,
   "id": "94a1639b-6c1e-44ce-9f81-b315f10d3f73",
   "metadata": {
    "tags": []
   },
   "outputs": [
    {
     "name": "stdout",
     "output_type": "stream",
     "text": [
      "docker: Error response from daemon: Conflict. The container name \"/postgres-test\" is already in use by container \"1ca417bd0ac5fcce44846ce8b79e55e08ad1b5b26357d0d19b38dacbfc1f2428\". You have to remove (or rename) that container to be able to reuse that name.\n",
      "See 'docker run --help'.\n"
     ]
    }
   ],
   "source": [
    "docker run -d --rm \\\n",
    "  --name postgres-test \\\n",
    "  --env POSTGRES_PASSWORD=mysecretpassword \\\n",
    "  -v postgres-test-data:/var/lib/postgresql/data \\\n",
    "  postgres:15.2"
   ]
  },
  {
   "cell_type": "markdown",
   "id": "c69c1dcd-105c-46d2-86d3-edfac08a73ff",
   "metadata": {
    "user_expressions": []
   },
   "source": [
    "Il est possible de monter le même volume et un bind volume dans une autre conteneur par exemple pour faire une sauvegarde. En pratique, on préfère `pg_dump`, mais nous l'illustrons ici avec un simple tar. Dans le cas d'une base de données relationnelles l'arrêt du conteneur obligatoire pour garder la cohérence. "
   ]
  },
  {
   "cell_type": "code",
   "execution_count": 65,
   "id": "f6e174d2-342c-4f8f-8289-8f685e4ec08c",
   "metadata": {
    "tags": []
   },
   "outputs": [
    {
     "name": "stdout",
     "output_type": "stream",
     "text": [
      "postgres-test\n"
     ]
    }
   ],
   "source": [
    "docker stop postgres-test"
   ]
  },
  {
   "cell_type": "code",
   "execution_count": 70,
   "id": "d40cee8b-cda2-46ab-bb7b-be90882af1bb",
   "metadata": {
    "tags": []
   },
   "outputs": [
    {
     "name": "stdout",
     "output_type": "stream",
     "text": [
      "tar: Removing leading `/' from member names\n"
     ]
    }
   ],
   "source": [
    "docker run --rm \\\n",
    "    -v postgres-test-data:/var/lib/postgresql/data \\\n",
    "    -v /tmp/backup:/backup \\\n",
    "    ubuntu:jammy \\\n",
    "    tar zcf /backup/mydb.tar.gz /var/lib/postgresql/data"
   ]
  },
  {
   "cell_type": "markdown",
   "id": "c554b9c5-1636-4819-9085-6523e6d19a50",
   "metadata": {},
   "source": [
    "Ensuite, un autre conteneur PostgreSQL peut être lancé en utilisant la même base."
   ]
  },
  {
   "cell_type": "code",
   "execution_count": 142,
   "id": "50fa2b8c-6509-4de3-b0a4-1e00f93aa133",
   "metadata": {
    "tags": []
   },
   "outputs": [
    {
     "name": "stdout",
     "output_type": "stream",
     "text": [
      "78cd390a4c7f8fa2e1996e8964a2d70dc2d6ae0c047b748f65b5c7412632319c\n"
     ]
    }
   ],
   "source": [
    "docker run -d --rm \\\n",
    "  --name postgres-test \\\n",
    "  --env POSTGRES_PASSWORD=mysecretpassword \\\n",
    "  -v postgres-test-data:/var/lib/postgresql/data \\\n",
    "  postgres:15.2"
   ]
  },
  {
   "cell_type": "code",
   "execution_count": 143,
   "id": "b67e2509-82a9-4cf1-923b-151029cae0ed",
   "metadata": {
    "tags": []
   },
   "outputs": [
    {
     "name": "stdout",
     "output_type": "stream",
     "text": [
      "\n",
      "PostgreSQL Database directory appears to contain a database; Skipping initialization\n",
      "\n",
      "2023-03-09 11:20:39.144 UTC [1] LOG:  starting PostgreSQL 15.2 (Debian 15.2-1.pgdg110+1) on aarch64-unknown-linux-gnu, compiled by gcc (Debian 10.2.1-6) 10.2.1 20210110, 64-bit\n",
      "2023-03-09 11:20:39.144 UTC [1] LOG:  listening on IPv4 address \"0.0.0.0\", port 5432\n",
      "2023-03-09 11:20:39.144 UTC [1] LOG:  listening on IPv6 address \"::\", port 5432\n",
      "2023-03-09 11:20:39.145 UTC [1] LOG:  listening on Unix socket \"/var/run/postgresql/.s.PGSQL.5432\"\n",
      "2023-03-09 11:20:39.148 UTC [29] LOG:  database system was interrupted; last known up at 2023-03-09 11:20:26 UTC\n",
      "2023-03-09 11:20:39.192 UTC [29] LOG:  database system was not properly shut down; automatic recovery in progress\n",
      "2023-03-09 11:20:39.193 UTC [29] LOG:  invalid record length at 0/14FE140: wanted 24, got 0\n",
      "2023-03-09 11:20:39.193 UTC [29] LOG:  redo is not required\n",
      "2023-03-09 11:20:39.195 UTC [27] LOG:  checkpoint starting: end-of-recovery immediate wait\n",
      "2023-03-09 11:20:39.199 UTC [27] LOG:  checkpoint complete: wrote 3 buffers (0.0%); 0 WAL file(s) added, 0 removed, 0 recycled; write=0.002 s, sync=0.001 s, total=0.005 s; sync files=2, longest=0.001 s, average=0.001 s; distance=0 kB, estimate=0 kB\n",
      "2023-03-09 11:20:39.203 UTC [1] LOG:  database system is ready to accept connections\n"
     ]
    }
   ],
   "source": [
    "docker logs postgres-test"
   ]
  },
  {
   "cell_type": "code",
   "execution_count": 144,
   "id": "8aba49c8-dcf2-4134-ad1d-4fc4f3b81f76",
   "metadata": {
    "tags": []
   },
   "outputs": [
    {
     "name": "stdout",
     "output_type": "stream",
     "text": [
      "postgres-test\n"
     ]
    }
   ],
   "source": [
    "docker stop postgres-test"
   ]
  },
  {
   "cell_type": "markdown",
   "id": "9e5c649a-c95c-47bf-b36d-3011c3628bed",
   "metadata": {
    "user_expressions": []
   },
   "source": [
    "Il est possible de lister et de supprimer les volumes avec les commandes `ls` et `rm`. Les volumes dont les noms sont des hachés appelés volumes anonymes sont présentés plus tard. "
   ]
  },
  {
   "cell_type": "code",
   "execution_count": 146,
   "id": "538271c5-fb9c-4325-857a-9e517c41a505",
   "metadata": {
    "tags": []
   },
   "outputs": [
    {
     "name": "stdout",
     "output_type": "stream",
     "text": [
      "DRIVER    VOLUME NAME\n",
      "local     1f4f163806788759219ccfa0cdeb44d832ce7757766ea84a20ee1ac7e397e33a\n",
      "local     36da887f0cd82ce378026d48cf9f629c83b1363dcffb521110b716e43de4bd09\n",
      "local     759dab63ce06f80a2b542fca70c4bda0b58b292506a68ed0f25d2a69c9ce94df\n",
      "local     postgres-test-data\n"
     ]
    }
   ],
   "source": [
    "docker volume ls"
   ]
  },
  {
   "cell_type": "code",
   "execution_count": 147,
   "id": "66770457-a011-4bb9-98a0-ff68e780849b",
   "metadata": {
    "tags": [
     "hide-output"
    ]
   },
   "outputs": [
    {
     "name": "stdout",
     "output_type": "stream",
     "text": [
      "postgres-test-data\n"
     ]
    }
   ],
   "source": [
    "docker volume rm postgres-test-data"
   ]
  },
  {
   "cell_type": "markdown",
   "id": "c15ecdb8-200f-4012-84a1-dd107d9931da",
   "metadata": {
    "user_expressions": []
   },
   "source": [
    "### Réseau\n",
    "\n",
    "Chaque conteneur dipose d'une carte réseau virtuelle et d'au moins une adresse IP. Ils peuvent appartenir à un ou plusieurs réseau virtuels et si aucun n'est précisé ils appartiennent à un réseau par défaut. Comme les conteneurs sont éphémères et que les adresses IP changent, elles ne sont généralement pas utilisées directement. "
   ]
  },
  {
   "cell_type": "code",
   "execution_count": 157,
   "id": "769cc880-d021-4563-9215-513fb16cdce1",
   "metadata": {
    "tags": []
   },
   "outputs": [
    {
     "name": "stdout",
     "output_type": "stream",
     "text": [
      "1: lo: <LOOPBACK,UP,LOWER_UP> mtu 65536 qdisc noqueue state UNKNOWN group default qlen 1000\n",
      "    link/loopback 00:00:00:00:00:00 brd 00:00:00:00:00:00\n",
      "    inet 127.0.0.1/8 scope host lo\n",
      "       valid_lft forever preferred_lft forever\n",
      "2: tunl0@NONE: <NOARP> mtu 1480 qdisc noop state DOWN group default qlen 1000\n",
      "    link/ipip 0.0.0.0 brd 0.0.0.0\n",
      "3: ip6tnl0@NONE: <NOARP> mtu 1452 qdisc noop state DOWN group default qlen 1000\n",
      "    link/tunnel6 :: brd :: permaddr ee71:c6d0:82a1::\n",
      "97: eth0@if98: <BROADCAST,MULTICAST,UP,LOWER_UP> mtu 1500 qdisc noqueue state UP group default \n",
      "    link/ether 02:42:ac:11:00:02 brd ff:ff:ff:ff:ff:ff link-netnsid 0\n",
      "    inet 172.17.0.2/16 brd 172.17.255.255 scope global eth0\n",
      "       valid_lft forever preferred_lft forever\n"
     ]
    }
   ],
   "source": [
    "docker run --quiet --rm nicolaka/netshoot ip addr show "
   ]
  },
  {
   "cell_type": "markdown",
   "id": "5a45c8dd-ce66-4244-95d4-fcca0ba9c097",
   "metadata": {
    "user_expressions": []
   },
   "source": [
    "#### entre conteneurs\n",
    "\n",
    "Pour que deux conteneurs puissent communiquer, il suffit qu'ils appartiennent à un même réseau et qu'ils soient nommés. Le nom du conteneur peut alors être utilisé comme un nom d'hôte sur le réseau.\n",
    "\n",
    "Les réseaux peuvent être créés, listés et détruits avec les commandes `network {create, ls, rm}`."
   ]
  },
  {
   "cell_type": "code",
   "execution_count": 151,
   "id": "2b6c12a8-4efb-4a34-bad2-000bca709082",
   "metadata": {
    "tags": [
     "hide-output"
    ]
   },
   "outputs": [
    {
     "name": "stdout",
     "output_type": "stream",
     "text": [
      "5e36367498cd151fac5e00f5525d647644cfe701a96e7e89f6eb9ab68802f687\n"
     ]
    }
   ],
   "source": [
    "docker network create mynet"
   ]
  },
  {
   "cell_type": "markdown",
   "id": "8292fc26-92ee-4d8b-8fa8-5ca87ab8ccd5",
   "metadata": {
    "user_expressions": []
   },
   "source": [
    "On peut alors exécuter un conteneur nommé `nginx-01` (il fournit un serveur web nginx) sur ce réseau avec l'option `--network`."
   ]
  },
  {
   "cell_type": "code",
   "execution_count": 160,
   "id": "a8aabf7c-3e8d-401d-ace9-e9d902518f5d",
   "metadata": {
    "tags": []
   },
   "outputs": [
    {
     "name": "stdout",
     "output_type": "stream",
     "text": [
      "docker: Error response from daemon: Conflict. The container name \"/nginx-01\" is already in use by container \"7b3a041efe1de8eda3aa7f233ace02d514a2507ebddc34d908f75cad3b03c378\". You have to remove (or rename) that container to be able to reuse that name.\n",
      "See 'docker run --help'.\n"
     ]
    }
   ],
   "source": [
    "docker run --rm -d --name nginx-01 --network mynet nginx"
   ]
  },
  {
   "cell_type": "markdown",
   "id": "f77e2b1d-2b56-4e98-9fef-7cec047e26e5",
   "metadata": {
    "tags": [],
    "user_expressions": []
   },
   "source": [
    "ce serveur peut être atteint depuis un autre conteneur sur le même réseau en utilisant son nom. Ici on exécute la commande `pandoc` qui convertit un site web en texte :"
   ]
  },
  {
   "cell_type": "code",
   "execution_count": 164,
   "id": "d614810e-ce19-4767-b885-52d005f7cf45",
   "metadata": {
    "tags": []
   },
   "outputs": [
    {
     "name": "stdout",
     "output_type": "stream",
     "text": [
      "WARNING: The requested image's platform (linux/amd64) does not match the detected host platform (linux/arm64/v8) and no specific platform was requested\n",
      "Welcome to nginx!\n",
      "\n",
      "If you see this page, the nginx web server is successfully installed and\n",
      "working. Further configuration is required.\n",
      "\n",
      "For online documentation and support please refer to nginx.org.\n",
      "Commercial support is available at nginx.com.\n",
      "\n",
      "Thank you for using nginx.\n"
     ]
    }
   ],
   "source": [
    " docker run --network mynet --rm pandoc/core --to plain http://nginx-01"
   ]
  },
  {
   "cell_type": "code",
   "execution_count": 165,
   "id": "bd76a2ad-d5eb-4310-967d-290d7e3cb9f4",
   "metadata": {
    "tags": []
   },
   "outputs": [
    {
     "name": "stdout",
     "output_type": "stream",
     "text": [
      "NETWORK ID     NAME      DRIVER    SCOPE\n",
      "7c502d512020   bridge    bridge    local\n",
      "c159decad2bd   host      host      local\n",
      "5e36367498cd   mynet     bridge    local\n",
      "55fd093a79df   none      null      local\n"
     ]
    }
   ],
   "source": [
    "docker network ls"
   ]
  },
  {
   "cell_type": "code",
   "execution_count": 166,
   "id": "482ad61c-d38f-4b4a-ac53-7356966d3bdb",
   "metadata": {
    "tags": [
     "hide-output"
    ]
   },
   "outputs": [
    {
     "name": "stdout",
     "output_type": "stream",
     "text": [
      "nginx-01\n",
      "mynet\n"
     ]
    }
   ],
   "source": [
    "docker stop nginx-01\n",
    "docker network rm mynet"
   ]
  },
  {
   "cell_type": "markdown",
   "id": "ee82b51c-aef3-4a5a-acfb-dcb566436e31",
   "metadata": {},
   "source": [
    "si aucun réseau n'est précisé, le conteneur se trouvent dans le réseau par défaut. Il est alors obligatoire d'utiliser l'option `--link` qui est dépréciée. "
   ]
  },
  {
   "cell_type": "markdown",
   "id": "d67903e9-8007-4959-8ec6-3ddc311a0cbc",
   "metadata": {
    "user_expressions": []
   },
   "source": [
    "#### entre l'hôte et les conteneurs\n",
    "\n",
    "Il est possible de mettre en place une redirection de ports entre l'hôte et les conteneur avec l'option `-p <port hote>:<port conteneur>` à la création."
   ]
  },
  {
   "cell_type": "code",
   "execution_count": 32,
   "id": "4bcfd08e-46ed-4afe-b404-2eafa68b88bc",
   "metadata": {
    "tags": [
     "hide-output"
    ]
   },
   "outputs": [
    {
     "name": "stdout",
     "output_type": "stream",
     "text": [
      "bb4df4b1d7e7bfd7a369565daf4cb86f6970bc70def5d0e933da4ced0da273bd\n",
      "014731b3219a645872a2f553b38aee6862c1f8d4903961e209eae243eb480610\n",
      "nginx-01\n",
      "nginx-02\n"
     ]
    }
   ],
   "source": [
    "docker run --rm -d --name nginx-01 -p 8081:80 nginx\n",
    "docker run --rm -d --name nginx-02 -p 8082:80 nginx\n",
    "\n",
    "docker stop nginx-01 nginx-02"
   ]
  },
  {
   "cell_type": "markdown",
   "id": "50b156b9-fa4c-45cf-a503-243180dcf383",
   "metadata": {
    "tags": [],
    "user_expressions": []
   },
   "source": [
    "### Illustration avec une base de données relationnelles\n",
    "\n",
    "Pour illustrer les concepts précédents, nous allons créer une base de données Postgresql à partir de l'[image officielle](https://hub.docker.com/_/postgres) dans un sous-réseau `backnet` et dont les données seront persistées dans un volume nommé `postgres-01-data`."
   ]
  },
  {
   "cell_type": "code",
   "execution_count": 168,
   "id": "3c84ecd0-98ef-43e4-ba65-8981f0143953",
   "metadata": {
    "tags": []
   },
   "outputs": [
    {
     "name": "stdout",
     "output_type": "stream",
     "text": [
      "50b8445835d8871ce9d6e604bce02a1f55c3ddd4918b16637cbb9a16e00addb9\n"
     ]
    }
   ],
   "source": [
    "docker network create backnet"
   ]
  },
  {
   "cell_type": "code",
   "execution_count": 169,
   "id": "ee7e2bca-289b-43ef-bad3-45d35f19f1af",
   "metadata": {
    "tags": []
   },
   "outputs": [
    {
     "name": "stdout",
     "output_type": "stream",
     "text": [
      "ef2450b46e7694753ed3f504bfd98b14146c686f95d73aad76a24a65a1557d3e\n"
     ]
    }
   ],
   "source": [
    "docker run -d --rm \\\n",
    "  --name postgres-01 \\\n",
    "  --network backnet \\\n",
    "  --env POSTGRES_USER=dba \\\n",
    "  --env POSTGRES_PASSWORD=mysecretpassword \\\n",
    "  --env POSTGRES_DB=mydb \\\n",
    "  -v postgres-01-data:/var/lib/postgresql/data \\\n",
    "  postgres:15.2"
   ]
  },
  {
   "cell_type": "markdown",
   "id": "734ff9b8-2d05-4a29-a467-e383a52d7175",
   "metadata": {
    "user_expressions": []
   },
   "source": [
    "Il est ensuite possible d'interroger cette base de données avec la commande `psql` exécutée dans un autre conteneur ephémère. "
   ]
  },
  {
   "cell_type": "code",
   "execution_count": 171,
   "id": "2ed5562a-61f3-4114-aefe-5d7966360074",
   "metadata": {
    "tags": []
   },
   "outputs": [
    {
     "name": "stdout",
     "output_type": "stream",
     "text": [
      "CREATE TABLE\n",
      "INSERT 0 1\n",
      "INSERT 0 1\n"
     ]
    }
   ],
   "source": [
    "sleep 2 \n",
    "\n",
    "docker run --rm \\\n",
    "    --network backnet \\\n",
    "    --env PGPASSWORD=mysecretpassword \\\n",
    "    postgres:15.2 \\\n",
    "        psql -h postgres-01 -U dba mydb -c \\\n",
    "            \"CREATE TABLE IF NOT EXISTS PERSON(ID serial PRIMARY KEY,NAME VARCHAR NOT NULL);\n",
    "            INSERT INTO PERSON (NAME) VALUES ('Pierre');\n",
    "            INSERT INTO PERSON (NAME) VALUES ('Marie');\""
   ]
  },
  {
   "cell_type": "markdown",
   "id": "3519655c-52c8-4be8-b968-e3f1a072fb11",
   "metadata": {
    "user_expressions": []
   },
   "source": [
    "Le conteneur de la base de donnée peut être détruit (cf --rm) et une autre créé avec le même volume donc sans perte de données. "
   ]
  },
  {
   "cell_type": "code",
   "execution_count": 173,
   "id": "685a655f-41bf-43da-ae4b-9038232cac4a",
   "metadata": {
    "tags": []
   },
   "outputs": [
    {
     "name": "stdout",
     "output_type": "stream",
     "text": [
      "postgres-01\n",
      "aaf670709ca34dfc04d44c9bf20038a69563709c4d0faafc74e402ac57774bba\n"
     ]
    }
   ],
   "source": [
    "docker stop postgres-01\n",
    "\n",
    "docker run -d --rm \\\n",
    "  --name postgres-01 \\\n",
    "  --network backnet \\\n",
    "  --env POSTGRES_USER=dba \\\n",
    "  --env POSTGRES_PASSWORD=mysecretpassword \\\n",
    "  --env POSTGRES_DB=mydb \\\n",
    "  -v postgres-01-data:/var/lib/postgresql/data \\\n",
    "  postgres:15.2"
   ]
  },
  {
   "cell_type": "code",
   "execution_count": 174,
   "id": "5e3ce1d1-c404-4ebd-aa80-3502f72bfab3",
   "metadata": {
    "tags": []
   },
   "outputs": [
    {
     "name": "stdout",
     "output_type": "stream",
     "text": [
      " id |  name  \n",
      "----+--------\n",
      "  1 | Pierre\n",
      "  2 | Marie\n",
      "(2 rows)\n",
      "\n"
     ]
    }
   ],
   "source": [
    "sleep 2 \n",
    "\n",
    "docker run --rm \\\n",
    "    --network backnet \\\n",
    "    --env PGPASSWORD=mysecretpassword \\\n",
    "    postgres:15.2 \\\n",
    "        psql -h postgres-01 -U dba mydb -c \\\n",
    "            \"SELECT * FROM PERSON;\""
   ]
  },
  {
   "cell_type": "markdown",
   "id": "bf747d7d-be11-41dc-b3bd-ab7a43879254",
   "metadata": {
    "user_expressions": []
   },
   "source": [
    "Pour finir, le conteneur postgres-01 est arrêté et donc détruit, ainsi que le réseau.\\\n",
    "Dans notre exemple, le volume postgres-01-data est aussi détruit mais ***attention les données perdues***. "
   ]
  },
  {
   "cell_type": "code",
   "execution_count": 176,
   "id": "a36bc77e-b847-4cfe-8c00-2a8da58c4a9c",
   "metadata": {
    "tags": [
     "hide-output"
    ]
   },
   "outputs": [
    {
     "name": "stdout",
     "output_type": "stream",
     "text": [
      "postgres-01\n",
      "backnet\n",
      "postgres-01-data\n"
     ]
    }
   ],
   "source": [
    "docker stop postgres-01\n",
    "docker network rm backnet\n",
    "docker volume rm postgres-01-data"
   ]
  }
 ],
 "metadata": {
  "kernelspec": {
   "display_name": "Z shell",
   "language": "zsh",
   "name": "zsh"
  },
  "language_info": {
   "codemirror_mode": "shell",
   "file_extension": ".zsh",
   "mimetype": "text/x-zsh",
   "name": "zsh",
   "pygments_lexer": "shell",
   "version": "5.7.1"
  }
 },
 "nbformat": 4,
 "nbformat_minor": 5
}
