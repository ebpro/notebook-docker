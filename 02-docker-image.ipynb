{
 "cells": [
  {
   "cell_type": "markdown",
   "id": "d777e3dc-0b71-44d7-b335-047a65b9819a",
   "metadata": {
    "tags": [],
    "user_expressions": []
   },
   "source": [
    "## Création d'une image\n",
    "\n",
    "Le format d'une image est défini par un [standard ouvert]( https://github.com/opencontainers/image-spec/blob/main/spec.md). En plus de différentes métadonnées comme la command par défaut, une image est composée d'un ensemble de couches qui indiquent les changements effectués à partir de la couche précédente. Cela permet de partager efficacement des bases communes entre images mais demande quelques précautions.\n",
    "\n",
    "### Manuellement\n",
    "\n",
    "La commande `history` montre les couches qui composent une image."
   ]
  },
  {
   "cell_type": "code",
   "execution_count": 53,
   "id": "90ed0345-3017-4f89-8835-5b207e803fa2",
   "metadata": {
    "tags": []
   },
   "outputs": [
    {
     "name": "stdout",
     "output_type": "stream",
     "text": [
      "IMAGE          CREATED      CREATED BY                                      SIZE      COMMENT\n",
      "730eeb702b69   8 days ago   /bin/sh -c #(nop)  CMD [\"/bin/bash\"]            0B        \n",
      "<missing>      8 days ago   /bin/sh -c #(nop) ADD file:cf91de9ab30abab11…   69.2MB    \n",
      "<missing>      8 days ago   /bin/sh -c #(nop)  LABEL org.opencontainers.…   0B        \n",
      "<missing>      8 days ago   /bin/sh -c #(nop)  LABEL org.opencontainers.…   0B        \n",
      "<missing>      8 days ago   /bin/sh -c #(nop)  ARG LAUNCHPAD_BUILD_ARCH     0B        \n",
      "<missing>      8 days ago   /bin/sh -c #(nop)  ARG RELEASE                  0B        \n"
     ]
    }
   ],
   "source": [
    "docker history ubuntu:jammy"
   ]
  },
  {
   "cell_type": "markdown",
   "id": "685060e5-47ca-464e-9f5b-da43fcf33a99",
   "metadata": {
    "tags": [],
    "user_expressions": []
   },
   "source": [
    "Pour créer une image, il est possible d'exécuter un conteneur, de faire de faire des modifications manuelles puis de les valider. ce qui provoque la création d'une nouvelle couche dans le système de fichier et donc d'une nouvelle image. Cette approche est déconseillée car difficile à maintenir. "
   ]
  },
  {
   "cell_type": "code",
   "execution_count": 60,
   "id": "023c9e24-e68d-429e-a559-6d1995008b2b",
   "metadata": {
    "tags": []
   },
   "outputs": [],
   "source": [
    "docker run --name my-ubuntu-container --interactive ubuntu:jammy bash -  <<EOF\n",
    "apt-get update &> /dev/null\n",
    "apt-get install --yes --no-install-recommends &> /dev/null \\\n",
    "    git \n",
    "apt-get clean autoclean &> /dev/null\n",
    "apt-get autoremove --yes &> /dev/null\n",
    "rm -rf /var/lib/apt/lists/*\n",
    "EOF"
   ]
  },
  {
   "cell_type": "code",
   "execution_count": 61,
   "id": "15c87985-6cbe-4901-bf60-c68b0ce21d55",
   "metadata": {
    "tags": []
   },
   "outputs": [
    {
     "name": "stdout",
     "output_type": "stream",
     "text": [
      "sha256:97b65dfa4d8ea43427008d42157ef55ae8202beb7058d90988f3301454fdf4b6\n"
     ]
    }
   ],
   "source": [
    "docker commit my-ubuntu-container mygit:latest"
   ]
  },
  {
   "cell_type": "code",
   "execution_count": 62,
   "id": "c6165506-ad41-438c-991b-0c82ec3752f5",
   "metadata": {
    "tags": []
   },
   "outputs": [
    {
     "name": "stdout",
     "output_type": "stream",
     "text": [
      "git version 2.34.1\n"
     ]
    }
   ],
   "source": [
    "docker run --rm mygit git --version"
   ]
  },
  {
   "cell_type": "markdown",
   "id": "e6d3565b-39b7-4283-89fb-bd9f3612fa90",
   "metadata": {
    "user_expressions": []
   },
   "source": [
    "Nous pouvons voir que l'ID de l'avant-dernière couche est celui de la dernière de l'image d'ubuntu et qu'une nouvelle couche qui contient les modifications faite par les commandes précédentes a été ajoutée."
   ]
  },
  {
   "cell_type": "code",
   "execution_count": 65,
   "id": "ae931c96-6866-4543-9118-eeafea11f94c",
   "metadata": {
    "tags": []
   },
   "outputs": [
    {
     "name": "stdout",
     "output_type": "stream",
     "text": [
      "IMAGE          CREATED              CREATED BY                                      SIZE      COMMENT\n",
      "97b65dfa4d8e   About a minute ago   bash -                                          64MB      \n",
      "730eeb702b69   8 days ago           /bin/sh -c #(nop)  CMD [\"/bin/bash\"]            0B        \n",
      "<missing>      8 days ago           /bin/sh -c #(nop) ADD file:cf91de9ab30abab11…   69.2MB    \n",
      "<missing>      8 days ago           /bin/sh -c #(nop)  LABEL org.opencontainers.…   0B        \n",
      "<missing>      8 days ago           /bin/sh -c #(nop)  LABEL org.opencontainers.…   0B        \n",
      "<missing>      8 days ago           /bin/sh -c #(nop)  ARG LAUNCHPAD_BUILD_ARCH     0B        \n",
      "<missing>      8 days ago           /bin/sh -c #(nop)  ARG RELEASE                  0B        \n"
     ]
    }
   ],
   "source": [
    "docker history mygit"
   ]
  },
  {
   "cell_type": "code",
   "execution_count": 66,
   "id": "0921eaa2-a64b-40b0-af9d-704f460cf560",
   "metadata": {
    "tags": []
   },
   "outputs": [
    {
     "name": "stdout",
     "output_type": "stream",
     "text": [
      "my-ubuntu-container\n",
      "Untagged: mygit:latest\n",
      "Deleted: sha256:97b65dfa4d8ea43427008d42157ef55ae8202beb7058d90988f3301454fdf4b6\n",
      "Deleted: sha256:c0821dc1dcbf52ae76f896bc2487dbead9cae93e77a6d1d71885d0c9564b97ca\n"
     ]
    }
   ],
   "source": [
    "docker container rm my-ubuntu-container\n",
    "docker image rm mygit"
   ]
  },
  {
   "cell_type": "markdown",
   "id": "3205d614-3548-41cf-827a-e624a92c0730",
   "metadata": {
    "tags": [],
    "user_expressions": []
   },
   "source": [
    "### Dockerfile\n",
    "\n",
    "L'approche recommandée est de créer un fichier `Dockerfile` (cf. https://docs.docker.com/engine/reference/builder/) pour automatiser la création d'une image. Ce fichier peut être édité lors des mises à jour et versionné avec git pour gérer un historique de l'infrastructure ainsi que des versions parallèles."
   ]
  },
  {
   "cell_type": "markdown",
   "id": "f46aec3d-345f-4417-ad2f-8f549bd87221",
   "metadata": {
    "user_expressions": []
   },
   "source": [
    "#### Structure de base\n",
    "\n",
    "Le fichier `Dockerfile` suivant il les concepts de base. Il s'appuie sur l'image `python:3.11-slim-bullseye` (`FROM`), ajoute les fichiers de l'application depuis le contexte (`COPY`), exécute les commandes nécessaire à la construction de l'image (`RUN`) et défini la commande par défaut de l'image (`CMD`)."
   ]
  },
  {
   "cell_type": "markdown",
   "id": "a8bd3108-28ee-4d14-9904-23cc344fefb6",
   "metadata": {
    "user_expressions": []
   },
   "source": [
    "```{literalinclude} sample-python/helloworld/Dockerfile\n",
    ":language: dockerfile\n",
    ":caption: sample-python/helloworld/Dockerfile\n",
    ":name: sample-python/helloworld/Dockerfile\n",
    "```"
   ]
  },
  {
   "cell_type": "markdown",
   "id": "c7b42c89-2862-4995-8d46-283cb86a235a",
   "metadata": {
    "tags": [],
    "user_expressions": []
   },
   "source": [
    "La commande suivante construit une image tagguée à partir du Dockerfile contenu dans le répertoire courant (indiqué par le `.` à la fin).\n",
    "C'est ce dernier paramètre qui est le contexte. Les options `--build-arg` permettre de fixer les `ARG` du Dockerfile."
   ]
  },
  {
   "cell_type": "code",
   "execution_count": 167,
   "id": "c0096e1a-afa4-4181-8cca-58ee241fac75",
   "metadata": {
    "tags": [
     "hide-output"
    ]
   },
   "outputs": [
    {
     "name": "stdout",
     "output_type": "stream",
     "text": [
      "sha256:b2c58167fa9fc542c6d74d6659465539328e8351400f049a3b7b4e1a542bc40b\n"
     ]
    }
   ],
   "source": [
    "( cd sample-python/helloworld && \\\n",
    " docker image build \\\n",
    "     --quiet \\\n",
    "     --build-arg BUILD_DATE=$(date -u +'%Y-%m-%dT%H:%M:%SZ')\\\n",
    "     --tag brunoe/helloworld_python:0.1 \\\n",
    "     . \n",
    ")"
   ]
  },
  {
   "cell_type": "markdown",
   "id": "5a3f5cd6-c770-4d81-b38c-2f7b4046df3f",
   "metadata": {},
   "source": [
    "d'autres tags peuvent être appliqués pour facilier l'usage de l'image, généralement des versions plus génériques (1.2.3 et 1.2 et 1) et/ou des informations sur l'image de base avec des variantes (1.2.3-ubuntu, 1.2.3-debian, ...) et/ou des variantes de constructions de l'image elle-même et toujours `latest`."
   ]
  },
  {
   "cell_type": "code",
   "execution_count": null,
   "id": "4377fdeb-e02e-445c-85dd-819475a249da",
   "metadata": {
    "tags": []
   },
   "outputs": [],
   "source": [
    "docker tag brunoe/helloworld_python:0.1 brunoe/helloworld_python:0\n",
    "docker tag brunoe/helloworld_python:0.1 brunoe/helloworld_python:latest"
   ]
  },
  {
   "cell_type": "markdown",
   "id": "f1ce054a-ff2c-476e-9de9-f1c106dcc273",
   "metadata": {
    "user_expressions": []
   },
   "source": [
    "Cette image peut alors être utilisée localement."
   ]
  },
  {
   "cell_type": "code",
   "execution_count": 142,
   "id": "79254328-af15-440b-bf03-dc8240c1e406",
   "metadata": {
    "tags": []
   },
   "outputs": [
    {
     "name": "stdout",
     "output_type": "stream",
     "text": [
      "WARNING:root:Hello John Doe,  I'm Python in a container !\n"
     ]
    }
   ],
   "source": [
    "docker run --rm brunoe/helloworld_python:0.1"
   ]
  },
  {
   "cell_type": "code",
   "execution_count": 143,
   "id": "fdefc9b8-57ec-4184-8281-127e9e463f01",
   "metadata": {
    "tags": []
   },
   "outputs": [
    {
     "name": "stdout",
     "output_type": "stream",
     "text": [
      "WARNING:root:Hello Pierre,  I'm Python in a container !\n"
     ]
    }
   ],
   "source": [
    "docker run --env NAME=\"Pierre\" --rm brunoe/helloworld_python:0.1"
   ]
  },
  {
   "cell_type": "markdown",
   "id": "2b34db56-5222-4d50-816b-463f602a4491",
   "metadata": {
    "user_expressions": []
   },
   "source": [
    "Il est intéressant de connaitre la taille d'une image et le détail des couches qui la compose. "
   ]
  },
  {
   "cell_type": "code",
   "execution_count": 147,
   "id": "5ae80786-9248-4c7c-8fdf-5479b8ff095d",
   "metadata": {
    "tags": [
     "hide-output"
    ]
   },
   "outputs": [
    {
     "name": "stdout",
     "output_type": "stream",
     "text": [
      "brunoe/helloworld_python 0 dee32cbd7470 7 minutes ago 290MB\n",
      "brunoe/helloworld_python 0.1 dee32cbd7470 7 minutes ago 290MB\n",
      "brunoe/helloworld_python latest dee32cbd7470 7 minutes ago 290MB\n"
     ]
    }
   ],
   "source": [
    "docker image ls|grep brunoe/helloworld_python|tr -s ' '"
   ]
  },
  {
   "cell_type": "code",
   "execution_count": 148,
   "id": "05352db7-ad2d-4041-82de-c0c5c84b7d24",
   "metadata": {
    "tags": []
   },
   "outputs": [
    {
     "name": "stdout",
     "output_type": "stream",
     "text": [
      "IMAGE          CREATED         CREATED BY                                      SIZE      COMMENT\n",
      "dee32cbd7470   7 minutes ago   CMD [\"/bin/sh\" \"-c\" \"python ${WORKDIR}/hello…   0B        buildkit.dockerfile.v0\n",
      "<missing>      7 minutes ago   COPY hello.py ./ # buildkit                     254B      buildkit.dockerfile.v0\n",
      "<missing>      7 minutes ago   RUN |1 BUILD_DATE=2023-03-09T16:49:26Z /bin/…   169MB     buildkit.dockerfile.v0\n",
      "<missing>      2 hours ago     COPY requirements.txt ./ # buildkit             13B       buildkit.dockerfile.v0\n",
      "<missing>      2 hours ago     WORKDIR /                                       0B        buildkit.dockerfile.v0\n",
      "<missing>      2 hours ago     ENV NAME=John Doe                               0B        buildkit.dockerfile.v0\n",
      "<missing>      2 hours ago     LABEL org.label-schema.build-date=2023-03-09…   0B        buildkit.dockerfile.v0\n",
      "<missing>      2 hours ago     LABEL maintainer=emmanuel.bruno@univ-tln.fr     0B        buildkit.dockerfile.v0\n",
      "<missing>      2 hours ago     ARG BUILD_DATE                                  0B        buildkit.dockerfile.v0\n",
      "<missing>      8 days ago      /bin/sh -c #(nop)  CMD [\"python3\"]              0B        \n",
      "<missing>      8 days ago      /bin/sh -c set -eux;   savedAptMark=\"$(apt-m…   12.1MB    \n",
      "<missing>      8 days ago      /bin/sh -c #(nop)  ENV PYTHON_GET_PIP_SHA256…   0B        \n",
      "<missing>      8 days ago      /bin/sh -c #(nop)  ENV PYTHON_GET_PIP_URL=ht…   0B        \n",
      "<missing>      8 days ago      /bin/sh -c #(nop)  ENV PYTHON_SETUPTOOLS_VER…   0B        \n",
      "<missing>      8 days ago      /bin/sh -c #(nop)  ENV PYTHON_PIP_VERSION=22…   0B        \n",
      "<missing>      8 days ago      /bin/sh -c set -eux;  for src in idle3 pydoc…   32B       \n",
      "<missing>      8 days ago      /bin/sh -c set -eux;   savedAptMark=\"$(apt-m…   31.6MB    \n",
      "<missing>      8 days ago      /bin/sh -c #(nop)  ENV PYTHON_VERSION=3.11.2    0B        \n",
      "<missing>      8 days ago      /bin/sh -c #(nop)  ENV GPG_KEY=A035C8C19219B…   0B        \n",
      "<missing>      8 days ago      /bin/sh -c set -eux;  apt-get update;  apt-g…   3.09MB    \n",
      "<missing>      8 days ago      /bin/sh -c #(nop)  ENV LANG=C.UTF-8             0B        \n",
      "<missing>      8 days ago      /bin/sh -c #(nop)  ENV PATH=/usr/local/bin:/…   0B        \n",
      "<missing>      8 days ago      /bin/sh -c #(nop)  CMD [\"bash\"]                 0B        \n",
      "<missing>      8 days ago      /bin/sh -c #(nop) ADD file:9dc5c6fb6431df801…   74.3MB    \n"
     ]
    }
   ],
   "source": [
    "docker history brunoe/helloworld_python:0.1"
   ]
  },
  {
   "cell_type": "markdown",
   "id": "1b726a3e-c961-4770-89a8-4b960e31e71c",
   "metadata": {
    "user_expressions": []
   },
   "source": [
    "### Partage de l'image"
   ]
  },
  {
   "cell_type": "markdown",
   "id": "1b8ffa29-fccd-4134-80d2-931c0a307004",
   "metadata": {
    "user_expressions": []
   },
   "source": [
    "Une image peut ensuite être partagée sur un registry (dockerhub ou un autre qui peut être public ou privé). Pour cela le docker client doit s'authentifier (`docker login`) puis pousser les différents tags de l'image (`docker push <image_name>`). Attention, le nom de l'image doit généralement préciser le compte sur le repository.\n",
    "\n",
    "```bash\n",
    "docker push brunoe/helloworld_python:0.1\n",
    "docker push brunoe/helloworld_python:latest\n",
    "```"
   ]
  },
  {
   "cell_type": "markdown",
   "id": "72c8d51c-54e3-41ae-840d-7457a51c0c76",
   "metadata": {
    "user_expressions": []
   },
   "source": [
    "### Entrypoint"
   ]
  },
  {
   "cell_type": "markdown",
   "id": "358d3552-44f5-4a06-a696-5ca315eabc52",
   "metadata": {
    "user_expressions": []
   },
   "source": [
    "La directive `ENTRYPOINT` prend en paramètre une commande permet que l'image docker se comporte comme cette commande en acceptant directement les paramètres lors d'un `run`. La commande exécutée est la concaténation de `ENTRYPOINT` et des paramètre de `run` ou de `CMD`. `CMD` correspond donc aux options par défaut que l'on souhaite si aucun paramètre n'est donné. "
   ]
  },
  {
   "cell_type": "markdown",
   "id": "0218a1d5-be05-476a-8000-e214b109553b",
   "metadata": {
    "user_expressions": []
   },
   "source": [
    "L'exemple suivant montre comment construire une commande qui crée une base de donnée sqlite dans repertoire courant."
   ]
  },
  {
   "cell_type": "code",
   "execution_count": 297,
   "id": "4154bfd3-f64d-486c-9a2b-ae9081a2cf0c",
   "metadata": {
    "tags": []
   },
   "outputs": [
    {
     "name": "stdout",
     "output_type": "stream",
     "text": [
      "sha256:d05825d9126d36c9e034fb4122221b7bbe3fae3dd0ac796e76e8eeeea754687c\n"
     ]
    }
   ],
   "source": [
    "docker build --quiet --tag sqlite - <<EOF\n",
    "FROM alpine\n",
    "VOLUME /workdir\n",
    "WORKDIR /workdir\n",
    "RUN apk --no-cache add sqlite\n",
    "ENTRYPOINT [\"sqlite3\",\"-box\",\"local.db\"]\n",
    "CMD [\"--version\"]\n",
    "EOF"
   ]
  },
  {
   "cell_type": "code",
   "execution_count": 290,
   "id": "e38d1793-164f-4447-8e33-6fbcf93ea901",
   "metadata": {
    "tags": []
   },
   "outputs": [
    {
     "name": "stdout",
     "output_type": "stream",
     "text": [
      "3.40.1 2022-12-28 14:03:47 df5c253c0b3dd24916e4ec7cf77d3db5294cc9fd45ae7b9c5e82ad8197f38a24\n"
     ]
    }
   ],
   "source": [
    "docker run --rm sqlite"
   ]
  },
  {
   "cell_type": "code",
   "execution_count": 291,
   "id": "1de9f91b-1567-4cdd-87d4-248e3182fe44",
   "metadata": {
    "tags": []
   },
   "outputs": [
    {
     "name": "stdout",
     "output_type": "stream",
     "text": [
      "┌─────┬───────┐\n",
      "│ key │ value │\n",
      "├─────┼───────┤\n",
      "│ A   │ 10    │\n",
      "│ B   │ 20    │\n",
      "└─────┴───────┘\n"
     ]
    }
   ],
   "source": [
    "alias sqlite='docker run -it -v ${PWD}:/workdir --rm sqlite'\n",
    "sqlite \"DROP TABLE IF EXISTS data;\"\n",
    "sqlite \"CREATE TABLE IF NOT EXISTS data (key TEXT PRIMARY KEY,value TEXT NOT NULL);\"\n",
    "sqlite \"INSERT INTO data values('A','10');INSERT INTO data values('B','20');\"\n",
    "sqlite \"SELECT * FROM data;\""
   ]
  },
  {
   "cell_type": "markdown",
   "id": "a7ff321d-64ee-43d2-9c83-b891d1bbe053",
   "metadata": {
    "user_expressions": []
   },
   "source": [
    "### Multistage\n",
    "\n",
    "Un Dockerfile dit `multistage` utilise plusieurs `FROM`. Chacun définit une image mais seule la dernière sera le résultat final. Les images précédentes peuvent être utilisées pour produire des fichiers qui seront copiés dans une étape (stage) suivant. \n",
    "\n",
    "Pour cela, chaque `FROM` peut ête nommé avec `AS` pour qu'une étape suivante puisse accéder à son système de fichier avec `COPY --from=<stage_name> <source> <destination>`. \n",
    "\n",
    "L'utilisation la plus classique est d'avoir deux stages : (1) compilation et (2) exécution. La première étape contient l'environnement de développement (gcc pour le C, JDK+Maven pour Java, ...) et les sources,  elle produit l'exécutable (un binaire pour le C, du bytecode ou un jar pour Java, ...). La seconde étape ne contient que l'environnement d'exécution (éventuelles librairies dynamiques pour le C, JRE pour Java, ...) et l'exécutable."
   ]
  },
  {
   "cell_type": "markdown",
   "id": "672a68db-2ada-4202-9e92-98ffd78a5431",
   "metadata": {
    "tags": []
   },
   "source": [
    "```{literalinclude} sample-c/helloworld/Dockerfile\n",
    ":language: dockerfile\n",
    ":caption: sample-c/helloworld/Dockerfile\n",
    ":name: sample-c/helloworld/Dockerfile\n",
    "```"
   ]
  },
  {
   "cell_type": "code",
   "execution_count": null,
   "id": "484ecf37-dffa-4698-950c-c4d6708cce90",
   "metadata": {
    "tags": []
   },
   "outputs": [],
   "source": [
    "( cd sample-c/helloworld/ && \\\n",
    " docker image build \\\n",
    "     --quiet \\\n",
    "     --tag brunoe/helloworld_c:0.1 \\\n",
    "     . )"
   ]
  },
  {
   "cell_type": "code",
   "execution_count": null,
   "id": "b2cce8cc-ffda-4096-a88f-1ceca4a84101",
   "metadata": {
    "tags": []
   },
   "outputs": [],
   "source": [
    "docker run brunoe/helloworld_c:0.1"
   ]
  },
  {
   "cell_type": "markdown",
   "id": "1daf0d22-6755-406a-94a2-2489c3b0f022",
   "metadata": {},
   "source": [
    "#### Volumes et réseaux\n",
    "\n",
    "EXPOSE et VOLUME"
   ]
  },
  {
   "cell_type": "code",
   "execution_count": null,
   "id": "7b953903-2a45-4176-9451-878cb5f538ef",
   "metadata": {},
   "outputs": [],
   "source": []
  }
 ],
 "metadata": {
  "kernelspec": {
   "display_name": "Z shell",
   "language": "zsh",
   "name": "zsh"
  },
  "language_info": {
   "codemirror_mode": "shell",
   "file_extension": ".zsh",
   "mimetype": "text/x-zsh",
   "name": "zsh",
   "pygments_lexer": "shell",
   "version": "5.7.1"
  }
 },
 "nbformat": 4,
 "nbformat_minor": 5
}
