{
 "cells": [
  {
   "cell_type": "markdown",
   "id": "35fb8261-28e9-4fa3-a350-09ef195fc7b1",
   "metadata": {
    "user_expressions": []
   },
   "source": [
    "## Orchestration\n",
    "\n",
    "Une application utilisant des conteneurs demande d'en coordonner plusieurs c'est que l'on appelle l'orchestration.\n",
    "L'outil classique est [kubernetes](https://kubernetes.io/) de Google. Il s'agit d'un outils complexe. Une alternative simple est [docker compose](https://docs.docker.com/compose/).  \n",
    "\n",
    "Docker compose permet de manipuler une architecture logicielle basée sur des conteneurs en décrivant des `services` dans un fichier YAML (`docker-compose.yml`). Les volumes et réseaux sont aussi gérés.\n",
    "Docker Compose reprend les options des commandes de docker client. Docker compose est un simple plugin de docker client à [installer](https://docs.docker.com/compose/install/)."
   ]
  },
  {
   "cell_type": "markdown",
   "id": "a8d60f39-bc92-4809-bde2-958e6c3d70ee",
   "metadata": {
    "user_expressions": []
   },
   "source": [
    "### Un exemple simple\n",
    "\n",
    "Dans l'exemple suivant une application est composée de deux services (1) `db` une base de données relationnelles et (2) `app` une application JPA/REST écrit en Java.\n",
    "\n",
    "Le service `app` s'appuie sur l'exécution d'une image docker de PostgreSQL en lui fixant des variables d'environnements, des volumes et une configuration réseau. \n",
    "Il faut noter que les volumes et les réseaux doivent externes définis globalement (dans le cas d'une utilisation avancée il est possible de les contrôler finement). "
   ]
  },
  {
   "cell_type": "markdown",
   "id": "210dea84-9558-43a4-9059-d9acd242b168",
   "metadata": {
    "user_expressions": []
   },
   "source": [
    "```{literalinclude} sample-java/restjpa/Docker-compose.yml\n",
    ":language: docker-compose\n",
    ":caption: sample-java/restjpa/Docker-compose.yml\n",
    ":name: sample-java/restjpa/Docker-compose.yml\n",
    "```"
   ]
  },
  {
   "cell_type": "code",
   "execution_count": 71,
   "id": "03b683c9-aece-40e3-ba2b-fa20a47b8442",
   "metadata": {
    "tags": [
     "remove"
    ]
   },
   "outputs": [
    {
     "name": "stdout",
     "output_type": "stream",
     "text": [
      "\u001b[1A\u001b[1B\u001b[0G\u001b[?25l[+] Running 0/0\n",
      "\u001b[37m ⠋ Container restjpa-app-1  Stopping                                       0.0s\n",
      "\u001b[0m\u001b[?25h\u001b[1A\u001b[1A\u001b[0G\u001b[?25l[+] Running 0/1\n",
      "\u001b[37m ⠙ Container restjpa-app-1  Stopping                                       0.1s\n",
      "\u001b[0m\u001b[?25h\u001b[1A\u001b[1A\u001b[0G\u001b[?25l[+] Running 0/1\n",
      "\u001b[37m ⠹ Container restjpa-app-1  Stopping                                       0.2s\n",
      "\u001b[0m\u001b[?25h\u001b[1A\u001b[1A\u001b[0G\u001b[?25l[+] Running 0/1\n",
      "\u001b[37m ⠸ Container restjpa-app-1  Stopping                                       0.3s\n",
      "\u001b[0m\u001b[?25h\u001b[1A\u001b[1A\u001b[0G\u001b[?25l[+] Running 0/1\n",
      "\u001b[37m ⠼ Container restjpa-app-1  Stopping                                       0.4s\n",
      "\u001b[0m\u001b[?25h\u001b[1A\u001b[1A\u001b[0G\u001b[?25l[+] Running 0/1\n",
      "\u001b[37m ⠴ Container restjpa-app-1  Stopping                                       0.5s\n",
      "\u001b[0m\u001b[?25h\u001b[1A\u001b[1A\u001b[0G\u001b[?25l\u001b[34m[+] Running 1/1\u001b[0m\n",
      "\u001b[34m ⠿ Container restjpa-app-1  Removed                                        0.6s\n",
      "\u001b[0m\u001b[37m ⠋ Container restjpa-db-1   Stopping                                       0.0s\n",
      "\u001b[0m\u001b[?25h\u001b[1A\u001b[1A\u001b[1A\u001b[0G\u001b[?25l\u001b[34m[+] Running 2/2\u001b[0m\n",
      "\u001b[34m ⠿ Container restjpa-app-1         Removed                                 0.6s\n",
      "\u001b[0m\u001b[34m ⠿ Container restjpa-db-1          Removed                                 0.1s\n",
      "\u001b[0m\u001b[37m ⠋ Volume restjpa_restjpa-pg-data  Rem...                                  0.0s\n",
      "\u001b[0m\u001b[?25h\u001b[1A\u001b[1A\u001b[1A\u001b[1A\u001b[0G\u001b[?25l[+] Running 4/3\n",
      "\u001b[34m ⠿ Container restjpa-app-1         Removed                                 0.6s\n",
      "\u001b[0m\u001b[34m ⠿ Container restjpa-db-1          Removed                                 0.1s\n",
      "\u001b[0m\u001b[34m ⠿ Volume restjpa_restjpa-pg-data  Rem...                                  0.0s\n",
      "\u001b[0m\u001b[34m ⠿ Network restjpa_frontend        Removed                                 0.1s\n",
      "\u001b[0m\u001b[37m ⠋ Network restjpa_backend         Removing                                0.1s\n",
      "\u001b[0m\u001b[?25h\u001b[1A\u001b[1A\u001b[1A\u001b[1A\u001b[1A\u001b[1A\u001b[0G\u001b[?25l\u001b[34m[+] Running 5/5\u001b[0m\n",
      "\u001b[34m ⠿ Container restjpa-app-1         Removed                                 0.6s\n",
      "\u001b[0m\u001b[34m ⠿ Container restjpa-db-1          Removed                                 0.1s\n",
      "\u001b[0m\u001b[34m ⠿ Volume restjpa_restjpa-pg-data  Rem...                                  0.0s\n",
      "\u001b[0m\u001b[34m ⠿ Network restjpa_frontend        Removed                                 0.1s\n",
      "\u001b[0m\u001b[34m ⠿ Network restjpa_backend         Removed                                 0.1s\n",
      "\u001b[0m\u001b[?25hdone\n"
     ]
    }
   ],
   "source": [
    "( cd sample-java/restjpa && docker compose down --volumes --remove-orphans )"
   ]
  },
  {
   "cell_type": "markdown",
   "id": "fe70165b-ce20-4d37-b8d5-1f34491be21c",
   "metadata": {
    "user_expressions": []
   },
   "source": [
    "Il est possible de lancer explicitement un service avec la commande `docker compose up` depuis le répertoire qui contient le  l'option `-d` permet de le détacher."
   ]
  },
  {
   "cell_type": "code",
   "execution_count": 74,
   "id": "8377abbc-24af-4608-baa6-e27c0c44ffe0",
   "metadata": {
    "tags": [
     "remove-output"
    ]
   },
   "outputs": [],
   "source": [
    "( cd sample-java/restjpa && docker compose up --detach db )"
   ]
  },
  {
   "cell_type": "markdown",
   "id": "a60cc1da-9a1e-4055-8425-9a7bc9263311",
   "metadata": {
    "user_expressions": []
   },
   "source": [
    "la commande `ls` liste les projets en cours d'exécution."
   ]
  },
  {
   "cell_type": "code",
   "execution_count": 76,
   "id": "ea10a3b9-4c1c-4f16-b929-88ea2036fb61",
   "metadata": {
    "tags": []
   },
   "outputs": [
    {
     "name": "stdout",
     "output_type": "stream",
     "text": [
      "NAME                STATUS              CONFIG FILES\n",
      "restjpa             running(1)          /home/jovyan/work/notebook-docker/sample-java/restjpa/docker-compose.yml\n"
     ]
    }
   ],
   "source": [
    "docker compose ls -a"
   ]
  },
  {
   "cell_type": "markdown",
   "id": "9ffb7ca9-3b9a-4249-acf5-99178359103b",
   "metadata": {
    "user_expressions": []
   },
   "source": [
    "la commande `ps` liste les conteneurs du projet courant, noter que compose nomme automatiquement le conteneur (`<nom_repertoire_parent>-<service>-<id>`). \n",
    "Il est donc simple de lancer plusieurs fois le même projet depuis des répertoires différents ou plusieurs fois le même service sans risque de conflit à condition de ne pas utiliser de bind volumes ni de mapper des ports de l'hôte. "
   ]
  },
  {
   "cell_type": "code",
   "execution_count": 78,
   "id": "cc7968ac-83cd-491a-9a6c-5f7b9a55c5c9",
   "metadata": {
    "tags": []
   },
   "outputs": [
    {
     "name": "stdout",
     "output_type": "stream",
     "text": [
      "NAME                IMAGE                  COMMAND                  SERVICE             CREATED             STATUS              PORTS\n",
      "restjpa-db-1        postgres:15.2-alpine   \"docker-entrypoint.s…\"   db                  15 seconds ago      Up 15 seconds       5432/tcp\n"
     ]
    }
   ],
   "source": [
    "( cd sample-java/restjpa && docker compose ps -a)"
   ]
  },
  {
   "cell_type": "markdown",
   "id": "4c1d2397-d374-40bf-8ff9-030459a13557",
   "metadata": {
    "user_expressions": []
   },
   "source": [
    "On remarque que docker compose prend en charge la création et le nommage des réseaux et des volumes en les préfixant du nom du répertoire parent (le projet)."
   ]
  },
  {
   "cell_type": "code",
   "execution_count": 79,
   "id": "5bb3436e-d585-47da-a730-a4e27cda851c",
   "metadata": {
    "tags": []
   },
   "outputs": [
    {
     "name": "stdout",
     "output_type": "stream",
     "text": [
      "NETWORK ID     NAME               DRIVER    SCOPE\n",
      "25a6bacef95b   bridge             bridge    local\n",
      "290659c62698   host               host      local\n",
      "e91b5de18bd5   none               null      local\n",
      "e5221d449c6d   restjpa_backend    bridge    local\n",
      "982774aa1614   restjpa_frontend   bridge    local\n"
     ]
    }
   ],
   "source": [
    "docker network ls"
   ]
  },
  {
   "cell_type": "code",
   "execution_count": 80,
   "id": "64e34cee-c8c8-472e-bc73-8a06df9dd34d",
   "metadata": {
    "tags": []
   },
   "outputs": [
    {
     "name": "stdout",
     "output_type": "stream",
     "text": [
      "DRIVER    VOLUME NAME\n",
      "local     restjpa_restjpa-pg-data\n"
     ]
    }
   ],
   "source": [
    "docker volume ls"
   ]
  },
  {
   "cell_type": "markdown",
   "id": "f3d918b8-94f1-4112-b8ad-ce52e6e535b6",
   "metadata": {
    "user_expressions": []
   },
   "source": [
    "L'affichage de log d'un service ou de tous les services se fait la commande `logs` (ici limité à 5 lignes)."
   ]
  },
  {
   "cell_type": "code",
   "execution_count": 83,
   "id": "1ccee648-a7b7-4a3b-b917-08f3a3b50db9",
   "metadata": {
    "tags": []
   },
   "outputs": [
    {
     "name": "stdout",
     "output_type": "stream",
     "text": [
      "\u001b[36mrestjpa-db-1  | \u001b[0m2023-03-10 16:52:31.337 UTC [1] LOG:  listening on Unix socket \"/var/run/postgresql/.s.PGSQL.5432\"\n",
      "\u001b[36mrestjpa-db-1  | \u001b[0m2023-03-10 16:52:31.340 UTC [52] LOG:  database system was shut down at 2023-03-10 16:52:31 UTC\n",
      "\u001b[36mrestjpa-db-1  | \u001b[0m2023-03-10 16:52:31.343 UTC [1] LOG:  database system is ready to accept connections\n",
      "\u001b[36mrestjpa-db-1  | \u001b[0m2023-03-10 16:57:31.373 UTC [50] LOG:  checkpoint starting: time\n",
      "\u001b[36mrestjpa-db-1  | \u001b[0m2023-03-10 16:57:35.601 UTC [50] LOG:  checkpoint complete: wrote 44 buffers (0.3%); 0 WAL file(s) added, 0 removed, 0 recycled; write=4.211 s, sync=0.007 s, total=4.229 s; sync files=12, longest=0.005 s, average=0.001 s; distance=252 kB, estimate=252 kB\n"
     ]
    }
   ],
   "source": [
    "( cd sample-java/restjpa && docker compose logs --tail 5)"
   ]
  },
  {
   "cell_type": "markdown",
   "id": "f576aca9-597b-4794-b1c3-4d3d1378806b",
   "metadata": {
    "user_expressions": []
   },
   "source": [
    "On peut stopper, détruite ou relancer un service avec `stop`, `rm` et `restart`. \n",
    "La commande `down` détruit tous les containeurs et les réseaux. Attention, l'option `-v` supprime les volumes associés nommés ou non. "
   ]
  },
  {
   "cell_type": "code",
   "execution_count": null,
   "id": "0caf4e88-0f1f-466f-98f0-dabd1dcccf9a",
   "metadata": {
    "tags": []
   },
   "outputs": [
    {
     "name": "stdout",
     "output_type": "stream",
     "text": [
      "\u001b[1A\u001b[1B\u001b[0G\u001b[?25l[+] Running 0/0\n",
      "\u001b[37m ⠋ Container restjpa-db-1  Stopping                                        0.0s\n",
      "\u001b[0m\u001b[?25h\u001b[1A\u001b[1A\u001b[0G\u001b[?25l[+] Running 0/1\n",
      "\u001b[37m ⠙ Container restjpa-db-1  Stopping                                        0.1s\n",
      "\u001b[0m\u001b[?25h\u001b[1A\u001b[1A\u001b[0G\u001b[?25l\u001b[34m[+] Running 1/1\u001b[0m\n",
      "\u001b[34m ⠿ Container restjpa-db-1          Removed                                 0.2s\n",
      "\u001b[0m\u001b[37m ⠋ Volume restjpa_restjpa-pg-data  Rem...                                  0.1s\n",
      "\u001b[0m\u001b[37m ⠋ Network restjpa_backend         Removing                                0.1s\n",
      "\u001b[0m\u001b[37m ⠋ Network restjpa_frontend        Removing                                0.1s\n",
      "\u001b[0m\u001b[?25h\u001b[1A\u001b[1A\u001b[1A\u001b[1A\u001b[1A\u001b[0G\u001b[?25l\u001b[34m[+] Running 4/4\u001b[0m\n",
      "\u001b[34m ⠿ Container restjpa-db-1          Removed                                 0.2s\n",
      "\u001b[0m\u001b[34m ⠿ Volume restjpa_restjpa-pg-data  Rem...                                  0.1s\n",
      "\u001b[0m\u001b[34m ⠿ Network restjpa_backend         Removed                                 0.1s\n",
      "\u001b[0m\u001b[34m ⠿ Network restjpa_frontend        Removed                                 0.1s\n"
     ]
    }
   ],
   "source": [
    "( cd sample-java/restjpa && docker compose down -v )"
   ]
  },
  {
   "cell_type": "markdown",
   "id": "0c64c395-831c-4348-8e8a-a34178930e9e",
   "metadata": {
    "user_expressions": []
   },
   "source": [
    "L'autre service `app` est une application JPA/REST Java dont l'image docker est produite par `sample-java/restjpa/Dockerfile`.\n",
    "L'option `build` dans `docker-compose.yml` indique qu'il faut fabriquer l'image à partir du contexte courant (`image` sera alors son tag).\n",
    "La fabrication de l'image sera automatique au démarrage au besoin elle peut être faite manuellement avec `docker compose build`. "
   ]
  },
  {
   "cell_type": "code",
   "execution_count": null,
   "id": "80df8627-a502-403f-b047-314d23cd40d3",
   "metadata": {
    "tags": []
   },
   "outputs": [],
   "source": [
    "( cd sample-java/restjpa && \\\n",
    "  docker compose build --progress=quiet && \\\n",
    "  docker compose up --quiet-pull --detach )"
   ]
  },
  {
   "cell_type": "markdown",
   "id": "28d40154-e24a-430d-9ac4-48ee4aec4e11",
   "metadata": {},
   "source": [
    "Il est possible de contrôler l'ordre d'exécution des conteneurs avec la directive `depends_on` dans `docker-compose.yml` pour indiquer quels services doivent être démarrés avant un service. Dans l'exemple, la base de données doit être démarrée avant l'application."
   ]
  },
  {
   "cell_type": "code",
   "execution_count": 4,
   "id": "735420c7-c5b8-429b-98a1-3da1006bf58f",
   "metadata": {
    "tags": []
   },
   "outputs": [
    {
     "name": "stdout",
     "output_type": "stream",
     "text": [
      "Unable to find image 'curlimages/curl:7.88.1' locally\n",
      "7.88.1: Pulling from curlimages/curl\n",
      "\n",
      "\u001b[1Be9b68314: Pulling fs layer \n",
      "\u001b[1B07850c51: Pulling fs layer \n",
      "\u001b[1B0a9d908e: Pulling fs layer \n",
      "\u001b[1B6a508d84: Pulling fs layer \n",
      "\u001b[1Bee6e30cf: Pulling fs layer \n",
      "\u001b[1B69f78515: Pulling fs layer \n",
      "\u001b[1B9ae18b39: Pulling fs layer \n",
      "\u001b[1B4804c88f: Pulling fs layer \n",
      "\u001b[1B6a1158e3: Pulling fs layer \n",
      "\u001b[1B7cececd7: Pulling fs layer \n",
      "\u001b[1BDigest: sha256:48318407b8d98e8c7d5bd4741c88e8e1a5442de660b47f63ba656e5c910bc3da\n",
      "Status: Downloaded newer image for curlimages/curl:7.88.1\n",
      "*   Trying 172.18.0.2:8080...\n",
      "* Connected to restjpa-app-1 (172.18.0.2) port 8080 (#0)\n",
      "> GET /restjpa/persons HTTP/1.1\n",
      "> Host: restjpa-app-1:8080\n",
      "> User-Agent: curl/7.88.1-DEV\n",
      "> Accept: application/json\n",
      "> \n",
      "< HTTP/1.1 200 OK\n",
      "< Content-Type: application/json\n",
      "< Content-Length: 187\n",
      "< \n",
      "{ [187 bytes data]\n",
      "* Connection #0 to host restjpa-app-1 left intact\n",
      "[{\"email\":\"a.b@ici.fr\",\"firstname\":\"a\",\"id\":1,\"lastname\":\"b\"},{\"email\":\"c.d@la.fr\",\"firstname\":\"c\",\"id\":2,\"lastname\":\"d\"},{\"email\":\"e.f@encore.com\",\"firstname\":\"e\",\"id\":3,\"lastname\":\"f\"}]"
     ]
    }
   ],
   "source": [
    "docker run --network restjpa_frontend \\\n",
    "           --rm curlimages/curl:7.88.1 \\\n",
    "               curl --verbose --silent \\\n",
    "                 -H \"Accept: application/json\" \\\n",
    "                 http://restjpa-app-1:8080/restjpa/persons"
   ]
  },
  {
   "cell_type": "markdown",
   "id": "72a5b3c4-7a74-4e02-a449-64e937d83250",
   "metadata": {},
   "source": [
    "### Un exemple avancé"
   ]
  },
  {
   "cell_type": "markdown",
   "id": "ff9e8bcf-fb23-4252-b01d-24ec4186782a",
   "metadata": {},
   "source": [
    "L'exemple ci-dessous présente un exemple un peu plus avancé en ajoutant un reverse proxy (https://traefik.io) pour gérer les points d'entrées de l'application (sécurité, répartition de charges, ...)."
   ]
  },
  {
   "cell_type": "markdown",
   "id": "dba00b7e-e8b9-4fb2-b9f6-e362de059a82",
   "metadata": {
    "user_expressions": []
   },
   "source": [
    "```{literalinclude} sample-java/restjpa/Docker-compose-proxy.yml\n",
    ":language: docker-compose\n",
    ":caption: sample-java/restjpa/Docker-compose-proxy.yml\n",
    ":name: sample-java/restjpa/Docker-compose-proxy.yml\n",
    "```"
   ]
  },
  {
   "cell_type": "markdown",
   "id": "542f45af-df58-4279-af40-7c4d927307b9",
   "metadata": {},
   "source": [
    "La directive `healthcheck` de docker compose (qui existe dans le client) permet d'indique une commande à exécuter pour vérifier l'état de santé du conteneur (s'il fonctionne correctement et pas seulement s'il a démarré). Cela peut être utilisé comme condition pour `depends_on`pour ne pas simple lancer un autre service mais attendre qu'il soit fonctionnel."
   ]
  },
  {
   "cell_type": "code",
   "execution_count": null,
   "id": "0e011aa2-9fdf-4140-9487-eb9bfd2ffc6a",
   "metadata": {
    "tags": []
   },
   "outputs": [],
   "source": [
    "( cd sample-java/restjpa && \\\n",
    "  docker compose --file Docker-compose.yml up --quiet-pull --detach )"
   ]
  },
  {
   "cell_type": "code",
   "execution_count": null,
   "id": "5b87512b-4f97-4c4c-a36a-f22a964d2285",
   "metadata": {},
   "outputs": [],
   "source": []
  }
 ],
 "metadata": {
  "kernelspec": {
   "display_name": "Z shell",
   "language": "zsh",
   "name": "zsh"
  },
  "language_info": {
   "codemirror_mode": "shell",
   "file_extension": ".zsh",
   "mimetype": "text/x-zsh",
   "name": "zsh",
   "pygments_lexer": "shell",
   "version": "5.7.1"
  }
 },
 "nbformat": 4,
 "nbformat_minor": 5
}
