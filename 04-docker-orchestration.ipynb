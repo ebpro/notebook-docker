{
 "cells": [
  {
   "cell_type": "markdown",
   "id": "a5e7b5b4-e9ae-4ac8-823b-3681d3b9b58f",
   "metadata": {
    "user_expressions": []
   },
   "source": [
    "## Orchestration\n",
    "\n",
    "Rapidement une application utilisant des conteneurs demande d'en coordonner plusieurs c'est que l'on appelle l'orchestration.\n",
    "L'outil classique est [kubernetes](https://kubernetes.io/) de Google. Il s'agit d'un outils complexe. Une alternative simple est [docker compose](https://docs.docker.com/compose/).  "
   ]
  },
  {
   "cell_type": "markdown",
   "id": "210dea84-9558-43a4-9059-d9acd242b168",
   "metadata": {
    "user_expressions": []
   },
   "source": [
    "```{literalinclude} sample-java/restjpa/Docker-compose.yml\n",
    ":language: docker-compose\n",
    ":caption: sample-java/restjpa/Docker-compose.yml\n",
    ":name: sample-java/restjpa/Docker-compose.yml\n",
    "```"
   ]
  },
  {
   "cell_type": "code",
   "execution_count": 25,
   "id": "03b683c9-aece-40e3-ba2b-fa20a47b8442",
   "metadata": {
    "tags": []
   },
   "outputs": [
    {
     "name": "stdout",
     "output_type": "stream",
     "text": [
      "\u001b[1A\u001b[1B\u001b[0G\u001b[?25l[+] Running 0/0\n",
      "\u001b[37m ⠋ Container restjpa-app-1  Stopping                                       0.0s\n",
      "\u001b[0m\u001b[?25h\u001b[1A\u001b[1A\u001b[0G\u001b[?25l[+] Running 0/1\n",
      "\u001b[37m ⠙ Container restjpa-app-1  Stopping                                       0.1s\n",
      "\u001b[0m\u001b[?25h\u001b[1A\u001b[1A\u001b[0G\u001b[?25l[+] Running 0/1\n",
      "\u001b[37m ⠹ Container restjpa-app-1  Stopping                                       0.2s\n",
      "\u001b[0m\u001b[?25h\u001b[1A\u001b[1A\u001b[0G\u001b[?25l[+] Running 0/1\n",
      "\u001b[37m ⠸ Container restjpa-app-1  Stopping                                       0.3s\n",
      "\u001b[0m\u001b[?25h\u001b[1A\u001b[1A\u001b[0G\u001b[?25l[+] Running 0/1\n",
      "\u001b[37m ⠼ Container restjpa-app-1  Stopping                                       0.4s\n",
      "\u001b[0m\u001b[?25h\u001b[1A\u001b[1A\u001b[0G\u001b[?25l[+] Running 0/1\n",
      "\u001b[37m ⠴ Container restjpa-app-1  Stopping                                       0.5s\n",
      "\u001b[0m\u001b[?25h\u001b[1A\u001b[1A\u001b[0G\u001b[?25l[+] Running 0/1\n",
      "\u001b[37m ⠦ Container restjpa-app-1  Stopping                                       0.6s\n",
      "\u001b[0m\u001b[?25h\u001b[1A\u001b[1A\u001b[0G\u001b[?25l[+] Running 0/1\n",
      "\u001b[37m ⠧ Container restjpa-app-1  Stopping                                       0.7s\n",
      "\u001b[0m\u001b[?25h\u001b[1A\u001b[1A\u001b[0G\u001b[?25l\u001b[34m[+] Running 1/1\u001b[0m\n",
      "\u001b[34m ⠿ Container restjpa-app-1  Removed                                        0.8s\n",
      "\u001b[0m\u001b[37m ⠋ Container restjpa-db-1   Stopping                                       0.0s\n",
      "\u001b[0m\u001b[?25h\u001b[1A\u001b[1A\u001b[1A\u001b[0G\u001b[?25l[+] Running 1/2\n",
      "\u001b[34m ⠿ Container restjpa-app-1  Removed                                        0.8s\n",
      "\u001b[0m\u001b[37m ⠙ Container restjpa-db-1   Stopping                                       0.1s\n",
      "\u001b[0m\u001b[?25h\u001b[1A\u001b[1A\u001b[1A\u001b[0G\u001b[?25l[+] Running 3/2\n",
      "\u001b[34m ⠿ Container restjpa-app-1         Removed                                 0.8s\n",
      "\u001b[0m\u001b[34m ⠿ Container restjpa-db-1          Removed                                 0.1s\n",
      "\u001b[0m\u001b[34m ⠿ Container restjpa-traefik-1     Remove...                               0.0s\n",
      "\u001b[0m\u001b[37m ⠋ Volume restjpa_restjpa-pg-data  Rem...                                  0.1s\n",
      "\u001b[0m\u001b[37m ⠋ Network restjpa_backend         Removing                                0.0s\n",
      "\u001b[0m\u001b[?25h\u001b[1A\u001b[1A\u001b[1A\u001b[1A\u001b[1A\u001b[1A\u001b[0G\u001b[?25l\u001b[34m[+] Running 5/5\u001b[0m\n",
      "\u001b[34m ⠿ Container restjpa-app-1         Removed                                 0.8s\n",
      "\u001b[0m\u001b[34m ⠿ Container restjpa-db-1          Removed                                 0.1s\n",
      "\u001b[0m\u001b[34m ⠿ Container restjpa-traefik-1     Remove...                               0.0s\n",
      "\u001b[0m\u001b[34m ⠿ Volume restjpa_restjpa-pg-data  Rem...                                  0.1s\n",
      "\u001b[0m\u001b[34m ⠿ Network restjpa_backend         Removed                                 0.1s\n",
      "\u001b[0m\u001b[?25hdone\n"
     ]
    }
   ],
   "source": [
    "( cd sample-java/restjpa && docker compose down --volumes --remove-orphans && echo done )"
   ]
  },
  {
   "cell_type": "code",
   "execution_count": 26,
   "id": "5e2339d1-5e79-4f9d-95b5-382e8cb8b037",
   "metadata": {
    "tags": []
   },
   "outputs": [
    {
     "name": "stdout",
     "output_type": "stream",
     "text": [
      "Error response from daemon: network with name restjpa_frontend already exists\n"
     ]
    }
   ],
   "source": [
    "docker network create restjpa_frontend"
   ]
  },
  {
   "cell_type": "code",
   "execution_count": 27,
   "id": "80df8627-a502-403f-b047-314d23cd40d3",
   "metadata": {
    "tags": []
   },
   "outputs": [
    {
     "name": "stdout",
     "output_type": "stream",
     "text": [
      "\u001b[1A\u001b[1B\u001b[0G\u001b[?25l[+] Running 2/0\n",
      "\u001b[34m ⠿ Network restjpa_backend           Created                               0.0s\n",
      "\u001b[0m\u001b[34m ⠿ Volume \"restjpa_restjpa-pg-data\"  Created                               0.0s\n",
      "\u001b[0m\u001b[37m ⠋ Container restjpa-db-1            Creating                              0.0s\n",
      "\u001b[0m\u001b[?25h\u001b[1A\u001b[1A\u001b[1A\u001b[1A\u001b[0G\u001b[?25l\u001b[34m[+] Running 3/3\u001b[0m\n",
      "\u001b[34m ⠿ Network restjpa_backend           Created                               0.0s\n",
      "\u001b[0m\u001b[34m ⠿ Volume \"restjpa_restjpa-pg-data\"  Created                               0.0s\n",
      "\u001b[0m\u001b[37m ⠿ Container restjpa-db-1            Starting                              0.1s\n",
      "\u001b[0m\u001b[34m ⠿ Container restjpa-app-1           Created                               0.0s\n",
      "\u001b[0m\u001b[?25h\u001b[1A\u001b[1A\u001b[1A\u001b[1A\u001b[1A\u001b[0G\u001b[?25l[+] Running 3/4\n",
      "\u001b[34m ⠿ Network restjpa_backend           Created                               0.0s\n",
      "\u001b[0m\u001b[34m ⠿ Volume \"restjpa_restjpa-pg-data\"  Created                               0.0s\n",
      "\u001b[0m\u001b[37m ⠿ Container restjpa-db-1            Starting                              0.2s\n",
      "\u001b[0m\u001b[34m ⠿ Container restjpa-app-1           Created                               0.0s\n",
      "\u001b[0m\u001b[?25h\u001b[1A\u001b[1A\u001b[1A\u001b[1A\u001b[1A\u001b[0G\u001b[?25l[+] Running 3/4\n",
      "\u001b[34m ⠿ Network restjpa_backend           Created                               0.0s\n",
      "\u001b[0m\u001b[34m ⠿ Volume \"restjpa_restjpa-pg-data\"  Created                               0.0s\n",
      "\u001b[0m\u001b[34m ⠿ Container restjpa-db-1            Started                               0.3s\n",
      "\u001b[0m\u001b[37m ⠿ Container restjpa-app-1           Starting                              0.3s\n",
      "\u001b[0m\u001b[?25h\u001b[1A\u001b[1A\u001b[1A\u001b[1A\u001b[1A\u001b[0G\u001b[?25l[+] Running 3/4\n",
      "\u001b[34m ⠿ Network restjpa_backend           Created                               0.0s\n",
      "\u001b[0m\u001b[34m ⠿ Volume \"restjpa_restjpa-pg-data\"  Created                               0.0s\n",
      "\u001b[0m\u001b[34m ⠿ Container restjpa-db-1            Started                               0.3s\n",
      "\u001b[0m\u001b[37m ⠿ Container restjpa-app-1           Starting                              0.4s\n",
      "\u001b[0m\u001b[?25h\u001b[1A\u001b[1A\u001b[1A\u001b[1A\u001b[1A\u001b[0G\u001b[?25l[+] Running 3/4\n",
      "\u001b[34m ⠿ Network restjpa_backend           Created                               0.0s\n",
      "\u001b[0m\u001b[34m ⠿ Volume \"restjpa_restjpa-pg-data\"  Created                               0.0s\n",
      "\u001b[0m\u001b[34m ⠿ Container restjpa-db-1            Started                               0.3s\n",
      "\u001b[0m\u001b[37m ⠿ Container restjpa-app-1           Starting                              0.5s\n",
      "\u001b[0m\u001b[?25h\u001b[1A\u001b[1A\u001b[1A\u001b[1A\u001b[1A\u001b[0G\u001b[?25l\u001b[34m[+] Running 4/4\u001b[0m\n",
      "\u001b[34m ⠿ Network restjpa_backend           Created                               0.0s\n",
      "\u001b[0m\u001b[34m ⠿ Volume \"restjpa_restjpa-pg-data\"  Created                               0.0s\n",
      "\u001b[0m\u001b[34m ⠿ Container restjpa-db-1            Started                               0.3s\n",
      "\u001b[0m\u001b[34m ⠿ Container restjpa-app-1           Started                               0.5s\n",
      "\u001b[0m\u001b[?25hdone\n"
     ]
    }
   ],
   "source": [
    "( cd sample-java/restjpa && \\\n",
    "  docker compose build --progress=quiet && \\\n",
    "  docker compose up --quiet-pull --detach && echo \"done\" )"
   ]
  },
  {
   "cell_type": "code",
   "execution_count": 28,
   "id": "9a8a4e4b-1a8a-4070-b63c-bbfc7a2963d7",
   "metadata": {
    "tags": []
   },
   "outputs": [
    {
     "name": "stdout",
     "output_type": "stream",
     "text": [
      "\u001b[36mrestjpa-db-1  | \u001b[0mThe files belonging to this database system will be owned by user \"postgres\".\n",
      "\u001b[36mrestjpa-db-1  | \u001b[0mThis user must also own the server process.\n",
      "\u001b[36mrestjpa-db-1  | \u001b[0m\n",
      "\u001b[36mrestjpa-db-1  | \u001b[0mThe database cluster will be initialized with locale \"en_US.utf8\".\n",
      "\u001b[36mrestjpa-db-1  | \u001b[0mThe default database encoding has accordingly been set to \"UTF8\".\n",
      "\u001b[36mrestjpa-db-1  | \u001b[0mThe default text search configuration will be set to \"english\".\n",
      "\u001b[36mrestjpa-db-1  | \u001b[0m\n",
      "\u001b[36mrestjpa-db-1  | \u001b[0mData page checksums are disabled.\n",
      "\u001b[36mrestjpa-db-1  | \u001b[0m\n",
      "\u001b[36mrestjpa-db-1  | \u001b[0mfixing permissions on existing directory /var/lib/postgresql/data ... ok\n",
      "\u001b[36mrestjpa-db-1  | \u001b[0mcreating subdirectories ... ok\n",
      "\u001b[36mrestjpa-db-1  | \u001b[0mselecting dynamic shared memory implementation ... posix\n",
      "\u001b[36mrestjpa-db-1  | \u001b[0mselecting default max_connections ... 100\n",
      "\u001b[36mrestjpa-db-1  | \u001b[0mselecting default shared_buffers ... 128MB\n",
      "\u001b[36mrestjpa-db-1  | \u001b[0mselecting default time zone ... UTC\n",
      "\u001b[36mrestjpa-db-1  | \u001b[0mcreating configuration files ... ok\n",
      "\u001b[36mrestjpa-db-1  | \u001b[0mrunning bootstrap script ... ok\n",
      "\u001b[36mrestjpa-db-1  | \u001b[0msh: locale: not found\n",
      "\u001b[36mrestjpa-db-1  | \u001b[0m2023-03-09 21:59:14.284 UTC [29] WARNING:  no usable system locales were found\n",
      "\u001b[36mrestjpa-db-1  | \u001b[0mperforming post-bootstrap initialization ... ok\n",
      "\u001b[36mrestjpa-db-1  | \u001b[0msyncing data to disk ... ok\n",
      "\u001b[36mrestjpa-db-1  | \u001b[0m\n",
      "\u001b[36mrestjpa-db-1  | \u001b[0minitdb: warning: enabling \"trust\" authentication for local connections\n",
      "\u001b[36mrestjpa-db-1  | \u001b[0minitdb: hint: You can change this by editing pg_hba.conf or using the option -A, or --auth-local and --auth-host, the next time you run initdb.\n",
      "\u001b[36mrestjpa-db-1  | \u001b[0m\n",
      "\u001b[36mrestjpa-db-1  | \u001b[0mSuccess. You can now start the database server using:\n",
      "\u001b[36mrestjpa-db-1  | \u001b[0m\n",
      "\u001b[36mrestjpa-db-1  | \u001b[0m    pg_ctl -D /var/lib/postgresql/data -l logfile start\n",
      "\u001b[36mrestjpa-db-1  | \u001b[0m\n",
      "\u001b[36mrestjpa-db-1  | \u001b[0mwaiting for server to start....2023-03-09 21:59:14.738 UTC [35] LOG:  starting PostgreSQL 15.2 on aarch64-unknown-linux-musl, compiled by gcc (Alpine 12.2.1_git20220924-r4) 12.2.1 20220924, 64-bit\n",
      "\u001b[36mrestjpa-db-1  | \u001b[0m2023-03-09 21:59:14.739 UTC [35] LOG:  listening on Unix socket \"/var/run/postgresql/.s.PGSQL.5432\"\n",
      "\u001b[36mrestjpa-db-1  | \u001b[0m2023-03-09 21:59:14.744 UTC [38] LOG:  database system was shut down at 2023-03-09 21:59:14 UTC\n",
      "\u001b[36mrestjpa-db-1  | \u001b[0m2023-03-09 21:59:14.749 UTC [35] LOG:  database system is ready to accept connections\n",
      "\u001b[36mrestjpa-db-1  | \u001b[0m done\n",
      "\u001b[36mrestjpa-db-1  | \u001b[0mserver started\n",
      "\u001b[36mrestjpa-db-1  | \u001b[0mCREATE DATABASE\n",
      "\u001b[36mrestjpa-db-1  | \u001b[0m\n",
      "\u001b[36mrestjpa-db-1  | \u001b[0m\n",
      "\u001b[36mrestjpa-db-1  | \u001b[0m/usr/local/bin/docker-entrypoint.sh: ignoring /docker-entrypoint-initdb.d/*\n",
      "\u001b[36mrestjpa-db-1  | \u001b[0m\n",
      "\u001b[36mrestjpa-db-1  | \u001b[0m2023-03-09 21:59:14.890 UTC [35] LOG:  received fast shutdown request\n",
      "\u001b[36mrestjpa-db-1  | \u001b[0mwaiting for server to shut down....2023-03-09 21:59:14.891 UTC [35] LOG:  aborting any active transactions\n",
      "\u001b[36mrestjpa-db-1  | \u001b[0m2023-03-09 21:59:14.896 UTC [35] LOG:  background worker \"logical replication launcher\" (PID 41) exited with exit code 1\n",
      "\u001b[36mrestjpa-db-1  | \u001b[0m2023-03-09 21:59:14.897 UTC [36] LOG:  shutting down\n",
      "\u001b[36mrestjpa-db-1  | \u001b[0m2023-03-09 21:59:14.898 UTC [36] LOG:  checkpoint starting: shutdown immediate\n",
      "\u001b[36mrestjpa-db-1  | \u001b[0m2023-03-09 21:59:14.939 UTC [36] LOG:  checkpoint complete: wrote 918 buffers (5.6%); 0 WAL file(s) added, 0 removed, 0 recycled; write=0.019 s, sync=0.020 s, total=0.042 s; sync files=250, longest=0.005 s, average=0.001 s; distance=4222 kB, estimate=4222 kB\n",
      "\u001b[36mrestjpa-db-1  | \u001b[0m2023-03-09 21:59:14.949 UTC [35] LOG:  database system is shut down\n",
      "\u001b[36mrestjpa-db-1  | \u001b[0m done\n",
      "\u001b[36mrestjpa-db-1  | \u001b[0mserver stopped\n",
      "\u001b[36mrestjpa-db-1  | \u001b[0m\n",
      "\u001b[36mrestjpa-db-1  | \u001b[0mPostgreSQL init process complete; ready for start up.\n",
      "\u001b[36mrestjpa-db-1  | \u001b[0m\n",
      "\u001b[36mrestjpa-db-1  | \u001b[0m2023-03-09 21:59:15.010 UTC [1] LOG:  starting PostgreSQL 15.2 on aarch64-unknown-linux-musl, compiled by gcc (Alpine 12.2.1_git20220924-r4) 12.2.1 20220924, 64-bit\n",
      "\u001b[36mrestjpa-db-1  | \u001b[0m2023-03-09 21:59:15.010 UTC [1] LOG:  listening on IPv4 address \"0.0.0.0\", port 5432\n",
      "\u001b[36mrestjpa-db-1  | \u001b[0m2023-03-09 21:59:15.010 UTC [1] LOG:  listening on IPv6 address \"::\", port 5432\n",
      "\u001b[36mrestjpa-db-1  | \u001b[0m2023-03-09 21:59:15.012 UTC [1] LOG:  listening on Unix socket \"/var/run/postgresql/.s.PGSQL.5432\"\n",
      "\u001b[36mrestjpa-db-1  | \u001b[0m2023-03-09 21:59:15.015 UTC [51] LOG:  database system was shut down at 2023-03-09 21:59:14 UTC\n",
      "\u001b[36mrestjpa-db-1  | \u001b[0m2023-03-09 21:59:15.019 UTC [1] LOG:  database system is ready to accept connections\n",
      "\u001b[33mrestjpa-app-1  | \u001b[0mMar 09, 2023 9:59:14 PM fr.univtln.bruno.demos.docker.Main <clinit>\n",
      "\u001b[33mrestjpa-app-1  | \u001b[0mINFO: Override with env. var. :DATASOURCE_USERNAME\n",
      "\u001b[33mrestjpa-app-1  | \u001b[0mMar 09, 2023 9:59:14 PM fr.univtln.bruno.demos.docker.Main <clinit>\n",
      "\u001b[33mrestjpa-app-1  | \u001b[0mINFO: Override with env. var. :DATASOURCE_URL\n",
      "\u001b[33mrestjpa-app-1  | \u001b[0mMar 09, 2023 9:59:14 PM fr.univtln.bruno.demos.docker.Main <clinit>\n",
      "\u001b[33mrestjpa-app-1  | \u001b[0mINFO: Override with env. var. :DATASOURCE_PASSWORD\n"
     ]
    }
   ],
   "source": [
    "( cd sample-java/restjpa && docker compose logs )"
   ]
  },
  {
   "cell_type": "code",
   "execution_count": null,
   "id": "735420c7-c5b8-429b-98a1-3da1006bf58f",
   "metadata": {
    "tags": []
   },
   "outputs": [
    {
     "name": "stdout",
     "output_type": "stream",
     "text": [
      "*   Trying 172.23.0.2:8080...\n",
      "* Connected to restjpa-app-1 (172.23.0.2) port 8080 (#0)\n",
      "> GET /restjpa/persons HTTP/1.1\n",
      "> Host: restjpa-app-1:8080\n",
      "> User-Agent: curl/7.88.1-DEV\n",
      "> Accept: application/json\n",
      "> \n",
      "< HTTP/1.1 200 OK\n",
      "< Content-Type: application/json\n",
      "< Content-Length: 187\n",
      "< \n",
      "{ [187 bytes data]\n",
      "* Connection #0 to host restjpa-app-1 left intact\n"
     ]
    }
   ],
   "source": [
    "docker run --network restjpa_frontend \\\n",
    "           --rm curlimages/curl:7.88.1 \\\n",
    "               curl --verbose --silent \\\n",
    "                 -H \"Accept: application/json\" \\\n",
    "                 http://restjpa-app-1:8080/restjpa/persons"
   ]
  },
  {
   "cell_type": "code",
   "execution_count": null,
   "id": "013e4051-18e7-4994-892e-496c86baf09d",
   "metadata": {},
   "outputs": [],
   "source": []
  }
 ],
 "metadata": {
  "kernelspec": {
   "display_name": "Z shell",
   "language": "zsh",
   "name": "zsh"
  },
  "language_info": {
   "codemirror_mode": "shell",
   "file_extension": ".zsh",
   "mimetype": "text/x-zsh",
   "name": "zsh",
   "pygments_lexer": "shell",
   "version": "5.7.1"
  }
 },
 "nbformat": 4,
 "nbformat_minor": 5
}
